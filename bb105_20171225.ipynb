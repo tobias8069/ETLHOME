{
 "cells": [
  {
   "cell_type": "markdown",
   "metadata": {},
   "source": [
    "ubuntu安裝中文輸入法\n",
    "\n",
    "1. https://hyperrate.com/thread.php?tid=28044\n",
    "1. https://gist.github.com/tanyuan/c0d4ee15cf0c9c93da28cc1cf0ff87b3"
   ]
  },
  {
   "cell_type": "code",
   "execution_count": 13,
   "metadata": {},
   "outputs": [
    {
     "data": {
      "text/plain": [
       "'\\nI am also a comment\\n\\nHi I can be multiline too\\n'"
      ]
     },
     "execution_count": 13,
     "metadata": {},
     "output_type": "execute_result"
    }
   ],
   "source": [
    "# I am a comment\n",
    "\"\"\"\n",
    "I am also a comment\n",
    "\n",
    "Hi I can be multiline too\n",
    "\"\"\""
   ]
  },
  {
   "cell_type": "markdown",
   "metadata": {},
   "source": [
    "# Primitives\n",
    "\n",
    "1. String\n",
    "1. Integer\n",
    "1. Float\n",
    "1. Boolean"
   ]
  },
  {
   "cell_type": "code",
   "execution_count": 17,
   "metadata": {},
   "outputs": [
    {
     "data": {
      "text/plain": [
       "'\\n\\nHi am a \\na\\nstring\\n\\n'"
      ]
     },
     "execution_count": 17,
     "metadata": {},
     "output_type": "execute_result"
    }
   ],
   "source": [
    "# Single line strings\n",
    "\"str1\"\n",
    "'str2'\n",
    "\n",
    "\"I am \\\"COOL\\\"\"\n",
    "\n",
    "\"I'am cool\"\n",
    "\n",
    "\"\"\"I'm a COOL GUY\"\"\"\"\n",
    "\n",
    "# Multi line strings\n",
    "\"\"\"str3\"\"\"\n",
    "'''str4'''\n",
    "\"\"\"\n",
    "\n",
    "Hi am a \n",
    "a\n",
    "string\n",
    "\n",
    "\"\"\""
   ]
  },
  {
   "cell_type": "code",
   "execution_count": 18,
   "metadata": {},
   "outputs": [
    {
     "data": {
      "text/plain": [
       "'I am \"COOL\"'"
      ]
     },
     "execution_count": 18,
     "metadata": {},
     "output_type": "execute_result"
    }
   ],
   "source": [
    "\"I am \\\"COOL\\\"\""
   ]
  },
  {
   "cell_type": "code",
   "execution_count": 22,
   "metadata": {},
   "outputs": [
    {
     "data": {
      "text/plain": [
       "1"
      ]
     },
     "execution_count": 22,
     "metadata": {},
     "output_type": "execute_result"
    }
   ],
   "source": [
    "# Integer\n",
    "1\n",
    "2\n",
    "3\n",
    "1 + 1\n",
    "2 - 1\n",
    "2 * 2\n",
    "4 / 2\n",
    "\n",
    "2 ** 3\n",
    "13 % 2"
   ]
  },
  {
   "cell_type": "code",
   "execution_count": 25,
   "metadata": {},
   "outputs": [
    {
     "data": {
      "text/plain": [
       "1.5"
      ]
     },
     "execution_count": 25,
     "metadata": {},
     "output_type": "execute_result"
    }
   ],
   "source": [
    "3/2"
   ]
  },
  {
   "cell_type": "code",
   "execution_count": 27,
   "metadata": {},
   "outputs": [
    {
     "data": {
      "text/plain": [
       "2.2"
      ]
     },
     "execution_count": 27,
     "metadata": {},
     "output_type": "execute_result"
    }
   ],
   "source": [
    "1.2 + 1.0"
   ]
  },
  {
   "cell_type": "code",
   "execution_count": 36,
   "metadata": {},
   "outputs": [
    {
     "data": {
      "text/plain": [
       "False"
      ]
     },
     "execution_count": 36,
     "metadata": {},
     "output_type": "execute_result"
    }
   ],
   "source": [
    "# Boolean\n",
    "True\n",
    "False\n",
    "\n",
    "True or False\n",
    "True and False\n",
    "\n",
    "not True"
   ]
  },
  {
   "cell_type": "code",
   "execution_count": 66,
   "metadata": {},
   "outputs": [
    {
     "name": "stdout",
     "output_type": "stream",
     "text": [
      "True\n",
      "True\n"
     ]
    }
   ],
   "source": [
    "print(3 > 1)\n",
    "print(1 < 3)"
   ]
  },
  {
   "cell_type": "code",
   "execution_count": 44,
   "metadata": {},
   "outputs": [
    {
     "data": {
      "text/plain": [
       "False"
      ]
     },
     "execution_count": 44,
     "metadata": {},
     "output_type": "execute_result"
    }
   ],
   "source": [
    "3 == 3\n",
    "'Ian' == \"Ian\"\n",
    "3 == \"3\""
   ]
  },
  {
   "cell_type": "code",
   "execution_count": 65,
   "metadata": {},
   "outputs": [
    {
     "data": {
      "text/plain": [
       "21"
      ]
     },
     "execution_count": 65,
     "metadata": {},
     "output_type": "execute_result"
    }
   ],
   "source": [
    "# Increment a int\n",
    "x += 1\n",
    "x"
   ]
  },
  {
   "cell_type": "markdown",
   "metadata": {},
   "source": [
    "## String cont."
   ]
  },
  {
   "cell_type": "code",
   "execution_count": 67,
   "metadata": {},
   "outputs": [
    {
     "data": {
      "text/plain": [
       "'吹風機'"
      ]
     },
     "execution_count": 67,
     "metadata": {},
     "output_type": "execute_result"
    }
   ],
   "source": [
    "\"吹風機\""
   ]
  },
  {
   "cell_type": "code",
   "execution_count": 68,
   "metadata": {},
   "outputs": [
    {
     "data": {
      "text/plain": [
       "'耶誕禮物'"
      ]
     },
     "execution_count": 68,
     "metadata": {},
     "output_type": "execute_result"
    }
   ],
   "source": [
    "\"耶誕禮物\""
   ]
  },
  {
   "cell_type": "code",
   "execution_count": 69,
   "metadata": {},
   "outputs": [
    {
     "data": {
      "text/plain": [
       "'耶誕禮物吹風機'"
      ]
     },
     "execution_count": 69,
     "metadata": {},
     "output_type": "execute_result"
    }
   ],
   "source": [
    "\"耶誕禮物\" + \"吹風機\""
   ]
  },
  {
   "cell_type": "code",
   "execution_count": 70,
   "metadata": {},
   "outputs": [
    {
     "data": {
      "text/plain": [
       "'我想要吹風機當耶誕禮物'"
      ]
     },
     "execution_count": 70,
     "metadata": {},
     "output_type": "execute_result"
    }
   ],
   "source": [
    "\"我想要\" + \"吹風機\" + \"當耶誕禮物\""
   ]
  },
  {
   "cell_type": "code",
   "execution_count": 77,
   "metadata": {},
   "outputs": [
    {
     "data": {
      "text/plain": [
       "'我想要Python當耶誕禮物'"
      ]
     },
     "execution_count": 77,
     "metadata": {},
     "output_type": "execute_result"
    }
   ],
   "source": [
    "present = \"Python\"\n",
    "\"我想要\" + present + \"當耶誕禮物\""
   ]
  },
  {
   "cell_type": "code",
   "execution_count": 78,
   "metadata": {},
   "outputs": [
    {
     "data": {
      "text/plain": [
       "'我想要超強伺服器當耶誕禮物'"
      ]
     },
     "execution_count": 78,
     "metadata": {},
     "output_type": "execute_result"
    }
   ],
   "source": [
    "\"我想要{}當耶誕禮物\".format(\"超強伺服器\")"
   ]
  },
  {
   "cell_type": "code",
   "execution_count": 79,
   "metadata": {},
   "outputs": [
    {
     "data": {
      "text/plain": [
       "'我想要吹風機當耶誕禮物'"
      ]
     },
     "execution_count": 79,
     "metadata": {},
     "output_type": "execute_result"
    }
   ],
   "source": [
    "\"我想要{}當耶誕禮物\".format(\"吹風機\")"
   ]
  },
  {
   "cell_type": "code",
   "execution_count": 81,
   "metadata": {},
   "outputs": [
    {
     "data": {
      "text/plain": [
       "'我想要Candy當耶誕禮物'"
      ]
     },
     "execution_count": 81,
     "metadata": {},
     "output_type": "execute_result"
    }
   ],
   "source": [
    "present = \"Candy\"\n",
    "\"我想要{}當耶誕禮物\".format(present)"
   ]
  },
  {
   "cell_type": "code",
   "execution_count": 95,
   "metadata": {},
   "outputs": [
    {
     "data": {
      "text/plain": [
       "'我想要Candy當耶誕禮物, HI Candy Candy'"
      ]
     },
     "execution_count": 95,
     "metadata": {},
     "output_type": "execute_result"
    }
   ],
   "source": [
    "present = \"Candy\"\n",
    "\"我想要{0}當耶誕禮物, {1} {0} {0}\".format(present, \"HI\")"
   ]
  },
  {
   "cell_type": "code",
   "execution_count": 86,
   "metadata": {},
   "outputs": [
    {
     "name": "stdout",
     "output_type": "stream",
     "text": [
      "我想要Macbook當耶誕禮物,\n",
      "結果他送我Macbook,\n",
      "我好happy\n"
     ]
    }
   ],
   "source": [
    "sent = \"\"\"我想要{item_name}當耶誕禮物,\n",
    "結果他送我{item_name},\n",
    "我好{emotion}\"\"\".format(item_name='Macbook',\n",
    "                     emotion=\"happy\")\n",
    "\n",
    "print(sent)"
   ]
  },
  {
   "cell_type": "code",
   "execution_count": 88,
   "metadata": {},
   "outputs": [
    {
     "name": "stdout",
     "output_type": "stream",
     "text": [
      "[INFO][123123123]Starting job 1\n"
     ]
    }
   ],
   "source": [
    "print(\"[INFO][{}]Starting job {}\".format(123123123, 1))"
   ]
  },
  {
   "cell_type": "code",
   "execution_count": 97,
   "metadata": {},
   "outputs": [
    {
     "name": "stdout",
     "output_type": "stream",
     "text": [
      "[INFO] Starting job 123\n",
      "[INFO][123123213] Starting job 123\n"
     ]
    }
   ],
   "source": [
    "# 舊式c style寫法\n",
    "print(\"[INFO] Starting job %s\"%123)\n",
    "print(\"[INFO][%s] Starting job %s\"%(123123213, 123))"
   ]
  },
  {
   "cell_type": "code",
   "execution_count": 92,
   "metadata": {},
   "outputs": [
    {
     "data": {
      "text/plain": [
       "3"
      ]
     },
     "execution_count": 92,
     "metadata": {},
     "output_type": "execute_result"
    }
   ],
   "source": [
    "present = \"伺服器\"\n",
    "len(present)"
   ]
  },
  {
   "cell_type": "code",
   "execution_count": 103,
   "metadata": {},
   "outputs": [
    {
     "data": {
      "text/plain": [
       "['I', 'have', 'a', 'cool', 'dog.', 'he', 'is', 'awesome']"
      ]
     },
     "execution_count": 103,
     "metadata": {},
     "output_type": "execute_result"
    }
   ],
   "source": [
    "dog = \"I have a cool dog. he is awesome\"\n",
    "dog.split()"
   ]
  },
  {
   "cell_type": "code",
   "execution_count": 104,
   "metadata": {},
   "outputs": [
    {
     "data": {
      "text/plain": [
       "['I have a cool dog', ' he is awesome']"
      ]
     },
     "execution_count": 104,
     "metadata": {},
     "output_type": "execute_result"
    }
   ],
   "source": [
    "dog = \"I have a cool dog. he is awesome\"\n",
    "dog.split('.')"
   ]
  },
  {
   "cell_type": "code",
   "execution_count": 107,
   "metadata": {},
   "outputs": [
    {
     "data": {
      "text/plain": [
       "'I have a cool dog!!!! he is awesome'"
      ]
     },
     "execution_count": 107,
     "metadata": {},
     "output_type": "execute_result"
    }
   ],
   "source": [
    "dog_split = ['I have a cool dog', ' he is awesome']\n",
    "\"!!!!\".join(dog_split)"
   ]
  },
  {
   "cell_type": "markdown",
   "metadata": {},
   "source": [
    "## Collections\n",
    "\n",
    "1. List\n",
    "1. Dictionary\n",
    "1. Set\n",
    "1. Tuple"
   ]
  },
  {
   "cell_type": "code",
   "execution_count": 127,
   "metadata": {},
   "outputs": [],
   "source": [
    "xmas_presents = []\n",
    "#xmas_presents = ['程式碼', \"賓士\", \"無人機\"]"
   ]
  },
  {
   "cell_type": "code",
   "execution_count": 128,
   "metadata": {},
   "outputs": [
    {
     "data": {
      "text/plain": [
       "[]"
      ]
     },
     "execution_count": 128,
     "metadata": {},
     "output_type": "execute_result"
    }
   ],
   "source": [
    "xmas_presents"
   ]
  },
  {
   "cell_type": "code",
   "execution_count": 129,
   "metadata": {},
   "outputs": [],
   "source": [
    "# 新增\n",
    "xmas_presents.append('Macbook pro')"
   ]
  },
  {
   "cell_type": "code",
   "execution_count": 130,
   "metadata": {},
   "outputs": [
    {
     "data": {
      "text/plain": [
       "['Macbook pro']"
      ]
     },
     "execution_count": 130,
     "metadata": {},
     "output_type": "execute_result"
    }
   ],
   "source": [
    "xmas_presents"
   ]
  },
  {
   "cell_type": "code",
   "execution_count": 131,
   "metadata": {},
   "outputs": [],
   "source": [
    "xmas_presents.append('無人機')"
   ]
  },
  {
   "cell_type": "code",
   "execution_count": 132,
   "metadata": {},
   "outputs": [
    {
     "data": {
      "text/plain": [
       "['Macbook pro', '無人機']"
      ]
     },
     "execution_count": 132,
     "metadata": {},
     "output_type": "execute_result"
    }
   ],
   "source": [
    "xmas_presents"
   ]
  },
  {
   "cell_type": "code",
   "execution_count": 133,
   "metadata": {},
   "outputs": [],
   "source": [
    "xmas_presents.append('吹風機')"
   ]
  },
  {
   "cell_type": "code",
   "execution_count": 134,
   "metadata": {},
   "outputs": [
    {
     "data": {
      "text/plain": [
       "['Macbook pro', '無人機', '吹風機']"
      ]
     },
     "execution_count": 134,
     "metadata": {},
     "output_type": "execute_result"
    }
   ],
   "source": [
    "xmas_presents"
   ]
  },
  {
   "cell_type": "code",
   "execution_count": 135,
   "metadata": {},
   "outputs": [],
   "source": [
    "xmas_presents.insert(0,\"糖果\")"
   ]
  },
  {
   "cell_type": "code",
   "execution_count": 136,
   "metadata": {},
   "outputs": [
    {
     "data": {
      "text/plain": [
       "['糖果', 'Macbook pro', '無人機', '吹風機']"
      ]
     },
     "execution_count": 136,
     "metadata": {},
     "output_type": "execute_result"
    }
   ],
   "source": [
    "xmas_presents"
   ]
  },
  {
   "cell_type": "code",
   "execution_count": 137,
   "metadata": {},
   "outputs": [
    {
     "data": {
      "text/plain": [
       "'吹風機'"
      ]
     },
     "execution_count": 137,
     "metadata": {},
     "output_type": "execute_result"
    }
   ],
   "source": [
    "# 刪除\n",
    "xmas_presents.pop()"
   ]
  },
  {
   "cell_type": "code",
   "execution_count": 138,
   "metadata": {},
   "outputs": [
    {
     "data": {
      "text/plain": [
       "['糖果', 'Macbook pro', '無人機']"
      ]
     },
     "execution_count": 138,
     "metadata": {},
     "output_type": "execute_result"
    }
   ],
   "source": [
    "xmas_presents"
   ]
  },
  {
   "cell_type": "code",
   "execution_count": 139,
   "metadata": {},
   "outputs": [],
   "source": [
    "del xmas_presents[0]"
   ]
  },
  {
   "cell_type": "code",
   "execution_count": 140,
   "metadata": {},
   "outputs": [
    {
     "data": {
      "text/plain": [
       "['Macbook pro', '無人機']"
      ]
     },
     "execution_count": 140,
     "metadata": {},
     "output_type": "execute_result"
    }
   ],
   "source": [
    "xmas_presents"
   ]
  },
  {
   "cell_type": "code",
   "execution_count": 141,
   "metadata": {},
   "outputs": [],
   "source": [
    "xmas_presents[0] = \"鋼筆\""
   ]
  },
  {
   "cell_type": "code",
   "execution_count": 142,
   "metadata": {},
   "outputs": [
    {
     "data": {
      "text/plain": [
       "['鋼筆', '無人機']"
      ]
     },
     "execution_count": 142,
     "metadata": {},
     "output_type": "execute_result"
    }
   ],
   "source": [
    "xmas_presents"
   ]
  },
  {
   "cell_type": "code",
   "execution_count": 143,
   "metadata": {},
   "outputs": [
    {
     "data": {
      "text/plain": [
       "'鋼筆'"
      ]
     },
     "execution_count": 143,
     "metadata": {},
     "output_type": "execute_result"
    }
   ],
   "source": [
    "xmas_presents[0]"
   ]
  },
  {
   "cell_type": "code",
   "execution_count": 144,
   "metadata": {},
   "outputs": [
    {
     "data": {
      "text/plain": [
       "'無人機'"
      ]
     },
     "execution_count": 144,
     "metadata": {},
     "output_type": "execute_result"
    }
   ],
   "source": [
    "xmas_presents[1]"
   ]
  },
  {
   "cell_type": "code",
   "execution_count": 147,
   "metadata": {},
   "outputs": [],
   "source": [
    "xmas_presents.append(\"Car\")"
   ]
  },
  {
   "cell_type": "code",
   "execution_count": 148,
   "metadata": {},
   "outputs": [],
   "source": [
    "xmas_presents.append('Jet')"
   ]
  },
  {
   "cell_type": "code",
   "execution_count": 149,
   "metadata": {},
   "outputs": [
    {
     "data": {
      "text/plain": [
       "['鋼筆', '無人機', 'Car', 'Jet']"
      ]
     },
     "execution_count": 149,
     "metadata": {},
     "output_type": "execute_result"
    }
   ],
   "source": [
    "xmas_presents"
   ]
  },
  {
   "cell_type": "code",
   "execution_count": 153,
   "metadata": {},
   "outputs": [
    {
     "data": {
      "text/plain": [
       "['無人機']"
      ]
     },
     "execution_count": 153,
     "metadata": {},
     "output_type": "execute_result"
    }
   ],
   "source": [
    "# list[start:end:step]\n",
    "xmas_presents[1:3:2]"
   ]
  },
  {
   "cell_type": "code",
   "execution_count": 162,
   "metadata": {},
   "outputs": [
    {
     "data": {
      "text/plain": [
       "[2, 4]"
      ]
     },
     "execution_count": 162,
     "metadata": {},
     "output_type": "execute_result"
    }
   ],
   "source": [
    "num_list = [0, 1, 2, 3, 4, 5, 6, 7, 8, 9]\n",
    "num_list[2:6:2]"
   ]
  },
  {
   "cell_type": "code",
   "execution_count": 160,
   "metadata": {},
   "outputs": [
    {
     "data": {
      "text/plain": [
       "[9, 8, 7, 6, 5, 4, 3, 2, 1, 0]"
      ]
     },
     "execution_count": 160,
     "metadata": {},
     "output_type": "execute_result"
    }
   ],
   "source": [
    "num_list = [0, 1, 2, 3, 4, 5, 6, 7, 8, 9]\n",
    "num_list[::-1]"
   ]
  },
  {
   "cell_type": "code",
   "execution_count": 163,
   "metadata": {},
   "outputs": [],
   "source": [
    "num_list.reverse()"
   ]
  },
  {
   "cell_type": "code",
   "execution_count": 164,
   "metadata": {},
   "outputs": [
    {
     "data": {
      "text/plain": [
       "[9, 8, 7, 6, 5, 4, 3, 2, 1, 0]"
      ]
     },
     "execution_count": 164,
     "metadata": {},
     "output_type": "execute_result"
    }
   ],
   "source": [
    "num_list"
   ]
  },
  {
   "cell_type": "code",
   "execution_count": 166,
   "metadata": {},
   "outputs": [
    {
     "data": {
      "text/plain": [
       "['a', 'b', 'c', 'd', 'e']"
      ]
     },
     "execution_count": 166,
     "metadata": {},
     "output_type": "execute_result"
    }
   ],
   "source": [
    "# 合併\n",
    "['a','b','c'] + ['d', 'e']"
   ]
  },
  {
   "cell_type": "code",
   "execution_count": 168,
   "metadata": {},
   "outputs": [],
   "source": [
    "alphabet = ['a', 'b', 'c']\n",
    "alphabet.extend(['d', 'e'])"
   ]
  },
  {
   "cell_type": "code",
   "execution_count": 169,
   "metadata": {},
   "outputs": [
    {
     "data": {
      "text/plain": [
       "['a', 'b', 'c', 'd', 'e']"
      ]
     },
     "execution_count": 169,
     "metadata": {},
     "output_type": "execute_result"
    }
   ],
   "source": [
    "alphabet"
   ]
  },
  {
   "cell_type": "code",
   "execution_count": 171,
   "metadata": {},
   "outputs": [
    {
     "data": {
      "text/plain": [
       "'cdefghijklmn'"
      ]
     },
     "execution_count": 171,
     "metadata": {},
     "output_type": "execute_result"
    }
   ],
   "source": [
    "# More strings....\n",
    "'abcdefghijkbmnopqrstuvwxyz'[2:14]"
   ]
  },
  {
   "cell_type": "code",
   "execution_count": 175,
   "metadata": {},
   "outputs": [
    {
     "data": {
      "text/plain": [
       "'a'"
      ]
     },
     "execution_count": 175,
     "metadata": {},
     "output_type": "execute_result"
    }
   ],
   "source": [
    "'aaaaaa'[0]"
   ]
  },
  {
   "cell_type": "code",
   "execution_count": 177,
   "metadata": {},
   "outputs": [
    {
     "data": {
      "text/plain": [
       "'bb'"
      ]
     },
     "execution_count": 177,
     "metadata": {},
     "output_type": "execute_result"
    }
   ],
   "source": [
    "'bbbbbb'[:2]"
   ]
  },
  {
   "cell_type": "code",
   "execution_count": 173,
   "metadata": {},
   "outputs": [
    {
     "data": {
      "text/plain": [
       "'zyxwvutsrqponmlkjihgfedcba'"
      ]
     },
     "execution_count": 173,
     "metadata": {},
     "output_type": "execute_result"
    }
   ],
   "source": [
    "'abcdefghijklmnopqrstuvwxyz'[::-1]"
   ]
  },
  {
   "cell_type": "code",
   "execution_count": 178,
   "metadata": {},
   "outputs": [
    {
     "data": {
      "text/plain": [
       "'aa'"
      ]
     },
     "execution_count": 178,
     "metadata": {},
     "output_type": "execute_result"
    }
   ],
   "source": [
    "'a' + 'a'"
   ]
  },
  {
   "cell_type": "code",
   "execution_count": 180,
   "metadata": {},
   "outputs": [],
   "source": [
    "# Dictionary\n",
    "item = {\n",
    "    \"name\": \"吹風機\",\n",
    "    \"price\": 2000\n",
    "}"
   ]
  },
  {
   "cell_type": "code",
   "execution_count": 181,
   "metadata": {},
   "outputs": [
    {
     "data": {
      "text/plain": [
       "{'name': '吹風機', 'price': 2000}"
      ]
     },
     "execution_count": 181,
     "metadata": {},
     "output_type": "execute_result"
    }
   ],
   "source": [
    "item"
   ]
  },
  {
   "cell_type": "code",
   "execution_count": 182,
   "metadata": {},
   "outputs": [
    {
     "data": {
      "text/plain": [
       "'吹風機'"
      ]
     },
     "execution_count": 182,
     "metadata": {},
     "output_type": "execute_result"
    }
   ],
   "source": [
    "# 查詢\n",
    "item['name']"
   ]
  },
  {
   "cell_type": "code",
   "execution_count": 183,
   "metadata": {},
   "outputs": [
    {
     "data": {
      "text/plain": [
       "2000"
      ]
     },
     "execution_count": 183,
     "metadata": {},
     "output_type": "execute_result"
    }
   ],
   "source": [
    "item['price']"
   ]
  },
  {
   "cell_type": "code",
   "execution_count": 190,
   "metadata": {},
   "outputs": [],
   "source": [
    "# 改\n",
    "item['price'] = 1600"
   ]
  },
  {
   "cell_type": "code",
   "execution_count": 185,
   "metadata": {},
   "outputs": [
    {
     "data": {
      "text/plain": [
       "{'name': '吹風機', 'price': 1600}"
      ]
     },
     "execution_count": 185,
     "metadata": {},
     "output_type": "execute_result"
    }
   ],
   "source": [
    "item"
   ]
  },
  {
   "cell_type": "code",
   "execution_count": 191,
   "metadata": {},
   "outputs": [],
   "source": [
    "# 刪\n",
    "del item['price']"
   ]
  },
  {
   "cell_type": "code",
   "execution_count": 194,
   "metadata": {},
   "outputs": [
    {
     "data": {
      "text/plain": [
       "{'fullname': '飛利浦高級沙龍吹風機', 'name': '吹風機'}"
      ]
     },
     "execution_count": 194,
     "metadata": {},
     "output_type": "execute_result"
    }
   ],
   "source": [
    "item"
   ]
  },
  {
   "cell_type": "code",
   "execution_count": 199,
   "metadata": {},
   "outputs": [],
   "source": [
    "# 新增\n",
    "item['price'] = 1799"
   ]
  },
  {
   "cell_type": "code",
   "execution_count": 200,
   "metadata": {},
   "outputs": [
    {
     "data": {
      "text/plain": [
       "{'fullname': '飛利浦高級沙龍吹風機', 'name': '吹風機', 'price': 1799}"
      ]
     },
     "execution_count": 200,
     "metadata": {},
     "output_type": "execute_result"
    }
   ],
   "source": [
    "item"
   ]
  },
  {
   "cell_type": "code",
   "execution_count": 201,
   "metadata": {},
   "outputs": [],
   "source": [
    "item['fullname'] = \"飛利浦高級沙龍吹風機\""
   ]
  },
  {
   "cell_type": "code",
   "execution_count": 202,
   "metadata": {},
   "outputs": [
    {
     "data": {
      "text/plain": [
       "{'fullname': '飛利浦高級沙龍吹風機', 'name': '吹風機', 'price': 1799}"
      ]
     },
     "execution_count": 202,
     "metadata": {},
     "output_type": "execute_result"
    }
   ],
   "source": [
    "item"
   ]
  },
  {
   "cell_type": "code",
   "execution_count": 203,
   "metadata": {},
   "outputs": [],
   "source": [
    "# other methods"
   ]
  },
  {
   "cell_type": "code",
   "execution_count": 207,
   "metadata": {},
   "outputs": [
    {
     "data": {
      "text/plain": [
       "dict_keys(['name', 'fullname', 'price'])"
      ]
     },
     "execution_count": 207,
     "metadata": {},
     "output_type": "execute_result"
    }
   ],
   "source": [
    "item.keys()"
   ]
  },
  {
   "cell_type": "code",
   "execution_count": 208,
   "metadata": {},
   "outputs": [
    {
     "data": {
      "text/plain": [
       "dict_values(['吹風機', '飛利浦高級沙龍吹風機', 1799])"
      ]
     },
     "execution_count": 208,
     "metadata": {},
     "output_type": "execute_result"
    }
   ],
   "source": [
    "item.values()"
   ]
  },
  {
   "cell_type": "code",
   "execution_count": 209,
   "metadata": {},
   "outputs": [
    {
     "data": {
      "text/plain": [
       "dict_items([('name', '吹風機'), ('fullname', '飛利浦高級沙龍吹風機'), ('price', 1799)])"
      ]
     },
     "execution_count": 209,
     "metadata": {},
     "output_type": "execute_result"
    }
   ],
   "source": [
    "item.items()"
   ]
  },
  {
   "cell_type": "code",
   "execution_count": 213,
   "metadata": {},
   "outputs": [
    {
     "ename": "KeyError",
     "evalue": "'description'",
     "output_type": "error",
     "traceback": [
      "\u001b[0;31m----------------------------------\u001b[0m",
      "\u001b[0;31mKeyError\u001b[0mTraceback (most recent call last)",
      "\u001b[0;32m<ipython-input-213-73eb4752cee8>\u001b[0m in \u001b[0;36m<module>\u001b[0;34m()\u001b[0m\n\u001b[1;32m      1\u001b[0m \u001b[0;31m# 查詢不存在的key\u001b[0m\u001b[0;34m\u001b[0m\u001b[0;34m\u001b[0m\u001b[0m\n\u001b[0;32m----> 2\u001b[0;31m \u001b[0mitem\u001b[0m\u001b[0;34m[\u001b[0m\u001b[0;34m'description'\u001b[0m\u001b[0;34m]\u001b[0m\u001b[0;34m\u001b[0m\u001b[0m\n\u001b[0m",
      "\u001b[0;31mKeyError\u001b[0m: 'description'"
     ]
    }
   ],
   "source": [
    "# 查詢不存在的key\n",
    "item['description']"
   ]
  },
  {
   "cell_type": "code",
   "execution_count": 243,
   "metadata": {},
   "outputs": [],
   "source": [
    "# None\n",
    "item.get('description')"
   ]
  },
  {
   "cell_type": "code",
   "execution_count": 230,
   "metadata": {},
   "outputs": [
    {
     "data": {
      "text/plain": [
       "'吹風機'"
      ]
     },
     "execution_count": 230,
     "metadata": {},
     "output_type": "execute_result"
    }
   ],
   "source": [
    "item.get('name')"
   ]
  },
  {
   "cell_type": "code",
   "execution_count": 242,
   "metadata": {},
   "outputs": [
    {
     "data": {
      "text/plain": [
       "'no data'"
      ]
     },
     "execution_count": 242,
     "metadata": {},
     "output_type": "execute_result"
    }
   ],
   "source": [
    "item.get('description', 'no data')"
   ]
  },
  {
   "cell_type": "code",
   "execution_count": 240,
   "metadata": {},
   "outputs": [
    {
     "data": {
      "text/plain": [
       "'吹風機'"
      ]
     },
     "execution_count": 240,
     "metadata": {},
     "output_type": "execute_result"
    }
   ],
   "source": [
    "item.get('name', 'no data')"
   ]
  },
  {
   "cell_type": "code",
   "execution_count": 246,
   "metadata": {},
   "outputs": [
    {
     "data": {
      "text/plain": [
       "{'fullname': '飛利浦高級沙龍吹風機', 'name': '吹風機', 'price': 1799}"
      ]
     },
     "execution_count": 246,
     "metadata": {},
     "output_type": "execute_result"
    }
   ],
   "source": [
    "item"
   ]
  },
  {
   "cell_type": "code",
   "execution_count": 211,
   "metadata": {},
   "outputs": [
    {
     "data": {
      "text/plain": [
       "('nice', 'computer')"
      ]
     },
     "execution_count": 211,
     "metadata": {},
     "output_type": "execute_result"
    }
   ],
   "source": [
    "# This is a tuple\n",
    "('nice', 'computer')"
   ]
  },
  {
   "cell_type": "code",
   "execution_count": 244,
   "metadata": {},
   "outputs": [
    {
     "data": {
      "text/plain": [
       "{1, 2, 3, 4}"
      ]
     },
     "execution_count": 244,
     "metadata": {},
     "output_type": "execute_result"
    }
   ],
   "source": [
    "# Set\n",
    "{1,2,3,3,4}"
   ]
  },
  {
   "cell_type": "markdown",
   "metadata": {},
   "source": [
    "## Control Flow"
   ]
  },
  {
   "cell_type": "code",
   "execution_count": 247,
   "metadata": {},
   "outputs": [],
   "source": [
    "item = {'fullname': '飛利浦高級沙龍吹風機', 'name': '吹風機', 'price': 1799}"
   ]
  },
  {
   "cell_type": "code",
   "execution_count": 248,
   "metadata": {},
   "outputs": [
    {
     "data": {
      "text/plain": [
       "{'fullname': '飛利浦高級沙龍吹風機', 'name': '吹風機', 'price': 1799}"
      ]
     },
     "execution_count": 248,
     "metadata": {},
     "output_type": "execute_result"
    }
   ],
   "source": [
    "item"
   ]
  },
  {
   "cell_type": "code",
   "execution_count": 251,
   "metadata": {},
   "outputs": [
    {
     "data": {
      "text/plain": [
       "1799"
      ]
     },
     "execution_count": 251,
     "metadata": {},
     "output_type": "execute_result"
    }
   ],
   "source": [
    "item['price']"
   ]
  },
  {
   "cell_type": "code",
   "execution_count": 253,
   "metadata": {},
   "outputs": [
    {
     "name": "stdout",
     "output_type": "stream",
     "text": [
      "太貴了\n"
     ]
    }
   ],
   "source": [
    "if item['price'] > 500:\n",
    "    print(\"太貴了\")\n",
    "else:\n",
    "    print(\"OK\")"
   ]
  },
  {
   "cell_type": "code",
   "execution_count": 254,
   "metadata": {},
   "outputs": [],
   "source": [
    "item['price'] = 499"
   ]
  },
  {
   "cell_type": "code",
   "execution_count": 255,
   "metadata": {},
   "outputs": [
    {
     "name": "stdout",
     "output_type": "stream",
     "text": [
      "OK\n"
     ]
    }
   ],
   "source": [
    "if item['price'] > 500:\n",
    "    print(\"太貴了\")\n",
    "else:\n",
    "    print(\"OK\")"
   ]
  },
  {
   "cell_type": "code",
   "execution_count": 256,
   "metadata": {},
   "outputs": [
    {
     "name": "stdout",
     "output_type": "stream",
     "text": [
      "還OK\n"
     ]
    }
   ],
   "source": [
    "if item['price'] > 500:\n",
    "    print(\"太貴了\")\n",
    "elif item['price'] > 200:\n",
    "    print(\"還OK\")\n",
    "else:\n",
    "    print(\"NO\")"
   ]
  },
  {
   "cell_type": "code",
   "execution_count": 259,
   "metadata": {},
   "outputs": [
    {
     "data": {
      "text/plain": [
       "['吹風機', '電視', 'Gogoro', '飛機']"
      ]
     },
     "execution_count": 259,
     "metadata": {},
     "output_type": "execute_result"
    }
   ],
   "source": [
    "gifts = ['吹風機', '電視', 'Gogoro', '飛機']\n",
    "gifts"
   ]
  },
  {
   "cell_type": "code",
   "execution_count": 261,
   "metadata": {},
   "outputs": [
    {
     "data": {
      "text/plain": [
       "'\\nfor (i=0, i < len(gifts), i++) {\\n    print(gifts[i])\\n}\\n\\n'"
      ]
     },
     "execution_count": 261,
     "metadata": {},
     "output_type": "execute_result"
    }
   ],
   "source": [
    "\"\"\"\n",
    "for (i=0, i < len(gifts), i++) {\n",
    "    print(gifts[i])\n",
    "}\n",
    "\n",
    "\"\"\""
   ]
  },
  {
   "cell_type": "code",
   "execution_count": 262,
   "metadata": {},
   "outputs": [
    {
     "name": "stdout",
     "output_type": "stream",
     "text": [
      "我想要吹風機當聖誕禮物\n",
      "我想要電視當聖誕禮物\n",
      "我想要Gogoro當聖誕禮物\n",
      "我想要飛機當聖誕禮物\n"
     ]
    }
   ],
   "source": [
    "for item in gifts:\n",
    "    print(\"我想要%s當聖誕禮物\"%item)"
   ]
  },
  {
   "cell_type": "code",
   "execution_count": 263,
   "metadata": {},
   "outputs": [
    {
     "name": "stdout",
     "output_type": "stream",
     "text": [
      "我想要吹風機當聖誕禮物\n",
      "我想要電視當聖誕禮物\n",
      "我想要Gogoro當聖誕禮物\n",
      "我想要飛機當聖誕禮物\n"
     ]
    }
   ],
   "source": [
    "for item in ['吹風機', '電視', 'Gogoro', '飛機']:\n",
    "    print(\"我想要%s當聖誕禮物\"%item)"
   ]
  },
  {
   "cell_type": "code",
   "execution_count": 267,
   "metadata": {},
   "outputs": [
    {
     "name": "stdout",
     "output_type": "stream",
     "text": [
      "1600\n",
      "3200\n",
      "79\n",
      "8888\n"
     ]
    }
   ],
   "source": [
    "for item_prices in [2000,4000,99,11111]:\n",
    "    print(int(item_prices*0.8))"
   ]
  },
  {
   "cell_type": "code",
   "execution_count": 268,
   "metadata": {},
   "outputs": [
    {
     "data": {
      "text/plain": [
       "range(0, 10)"
      ]
     },
     "execution_count": 268,
     "metadata": {},
     "output_type": "execute_result"
    }
   ],
   "source": [
    "range(10)"
   ]
  },
  {
   "cell_type": "code",
   "execution_count": 269,
   "metadata": {},
   "outputs": [
    {
     "name": "stdout",
     "output_type": "stream",
     "text": [
      "0\n",
      "1\n",
      "2\n",
      "3\n",
      "4\n",
      "5\n",
      "6\n",
      "7\n",
      "8\n",
      "9\n"
     ]
    }
   ],
   "source": [
    "for num in range(10):\n",
    "    print(num)"
   ]
  },
  {
   "cell_type": "code",
   "execution_count": 270,
   "metadata": {},
   "outputs": [
    {
     "name": "stdout",
     "output_type": "stream",
     "text": [
      "1\n",
      "2\n",
      "3\n",
      "4\n",
      "5\n",
      "6\n",
      "7\n",
      "8\n",
      "9\n",
      "10\n"
     ]
    }
   ],
   "source": [
    "for num in range(1,11):\n",
    "    print(num)"
   ]
  },
  {
   "cell_type": "code",
   "execution_count": 271,
   "metadata": {},
   "outputs": [
    {
     "name": "stdout",
     "output_type": "stream",
     "text": [
      "[INFO] cnt is 0\n",
      "[INFO] cnt is 1\n",
      "[INFO] cnt is 2\n",
      "[INFO] cnt is 3\n",
      "[INFO] cnt is 4\n",
      "[INFO] cnt is 5\n",
      "[INFO] cnt is 6\n",
      "[INFO] cnt is 7\n",
      "[INFO] cnt is 8\n",
      "[INFO] cnt is 9\n",
      "[INFO] cnt is 10\n"
     ]
    }
   ],
   "source": [
    "cnt = 0\n",
    "while cnt < 11:\n",
    "    print(\"[INFO] cnt is %s\"%cnt)\n",
    "    cnt += 1"
   ]
  },
  {
   "cell_type": "code",
   "execution_count": 272,
   "metadata": {},
   "outputs": [
    {
     "ename": "TypeError",
     "evalue": "unsupported operand type(s) for +: 'int' and 'str'",
     "output_type": "error",
     "traceback": [
      "\u001b[0;31m----------------------------------\u001b[0m",
      "\u001b[0;31mTypeError\u001b[0mTraceback (most recent call last)",
      "\u001b[0;32m<ipython-input-272-a11677f986f5>\u001b[0m in \u001b[0;36m<module>\u001b[0;34m()\u001b[0m\n\u001b[0;32m----> 1\u001b[0;31m \u001b[0;36m1\u001b[0m \u001b[0;34m+\u001b[0m \u001b[0;34m'2'\u001b[0m\u001b[0;34m\u001b[0m\u001b[0m\n\u001b[0m",
      "\u001b[0;31mTypeError\u001b[0m: unsupported operand type(s) for +: 'int' and 'str'"
     ]
    }
   ],
   "source": [
    "1 + '2'"
   ]
  },
  {
   "cell_type": "code",
   "execution_count": 274,
   "metadata": {},
   "outputs": [
    {
     "name": "stdout",
     "output_type": "stream",
     "text": [
      "Something bad happended\n",
      "Hey, it's over...\n"
     ]
    }
   ],
   "source": [
    "try:\n",
    "    1 + '2'\n",
    "except TypeError:\n",
    "    print(\"Something bad happended\")\n",
    "else:\n",
    "    print(\"Nothing bad happended\")\n",
    "finally:\n",
    "    print(\"Hey, it's over...\")"
   ]
  },
  {
   "cell_type": "code",
   "execution_count": 275,
   "metadata": {},
   "outputs": [
    {
     "name": "stdout",
     "output_type": "stream",
     "text": [
      "Nothing bad happended\n",
      "Hey, it's over...\n"
     ]
    }
   ],
   "source": [
    "try:\n",
    "    1 + 1\n",
    "except TypeError:\n",
    "    print(\"Something bad happended\")\n",
    "else:\n",
    "    print(\"Nothing bad happended\")\n",
    "finally:\n",
    "    print(\"Hey, it's over...\")"
   ]
  },
  {
   "cell_type": "markdown",
   "metadata": {},
   "source": [
    "## Functions"
   ]
  },
  {
   "cell_type": "code",
   "execution_count": 276,
   "metadata": {},
   "outputs": [],
   "source": [
    "def add_one(num):\n",
    "    return num + 1"
   ]
  },
  {
   "cell_type": "code",
   "execution_count": 277,
   "metadata": {},
   "outputs": [
    {
     "data": {
      "text/plain": [
       "3"
      ]
     },
     "execution_count": 277,
     "metadata": {},
     "output_type": "execute_result"
    }
   ],
   "source": [
    "add_one(2)"
   ]
  },
  {
   "cell_type": "code",
   "execution_count": 278,
   "metadata": {},
   "outputs": [],
   "source": [
    "def add(num1, num2):\n",
    "    return num1 + num2"
   ]
  },
  {
   "cell_type": "code",
   "execution_count": 279,
   "metadata": {},
   "outputs": [
    {
     "data": {
      "text/plain": [
       "2"
      ]
     },
     "execution_count": 279,
     "metadata": {},
     "output_type": "execute_result"
    }
   ],
   "source": [
    "add(1,1)"
   ]
  },
  {
   "cell_type": "code",
   "execution_count": 280,
   "metadata": {},
   "outputs": [],
   "source": [
    "def sub(num1, num2):\n",
    "    return num1 - num2"
   ]
  },
  {
   "cell_type": "code",
   "execution_count": 281,
   "metadata": {},
   "outputs": [
    {
     "data": {
      "text/plain": [
       "1"
      ]
     },
     "execution_count": 281,
     "metadata": {},
     "output_type": "execute_result"
    }
   ],
   "source": [
    "sub(2,1)"
   ]
  },
  {
   "cell_type": "code",
   "execution_count": 282,
   "metadata": {},
   "outputs": [
    {
     "data": {
      "text/plain": [
       "-1"
      ]
     },
     "execution_count": 282,
     "metadata": {},
     "output_type": "execute_result"
    }
   ],
   "source": [
    "sub(1,2)"
   ]
  },
  {
   "cell_type": "code",
   "execution_count": 283,
   "metadata": {},
   "outputs": [
    {
     "data": {
      "text/plain": [
       "2"
      ]
     },
     "execution_count": 283,
     "metadata": {},
     "output_type": "execute_result"
    }
   ],
   "source": [
    "sub(num2=1, num1=3)"
   ]
  },
  {
   "cell_type": "code",
   "execution_count": 296,
   "metadata": {},
   "outputs": [],
   "source": [
    "def _sum(*args):\n",
    "    print(sum(args))"
   ]
  },
  {
   "cell_type": "code",
   "execution_count": 297,
   "metadata": {},
   "outputs": [
    {
     "name": "stdout",
     "output_type": "stream",
     "text": [
      "28\n"
     ]
    }
   ],
   "source": [
    "_sum(1,2,3,4,5,6,7)"
   ]
  },
  {
   "cell_type": "code",
   "execution_count": 298,
   "metadata": {},
   "outputs": [],
   "source": [
    "def _kwarg(**kwargs):\n",
    "    print(kwargs)"
   ]
  },
  {
   "cell_type": "code",
   "execution_count": 299,
   "metadata": {},
   "outputs": [
    {
     "name": "stdout",
     "output_type": "stream",
     "text": [
      "{'name': 'Car', 'price': 200}\n"
     ]
    }
   ],
   "source": [
    "_kwarg(name=\"Car\", price=200)"
   ]
  },
  {
   "cell_type": "code",
   "execution_count": 300,
   "metadata": {},
   "outputs": [],
   "source": [
    "def _coolfunc(*args,**kwargs):\n",
    "    print(args)\n",
    "    print(kwargs)"
   ]
  },
  {
   "cell_type": "code",
   "execution_count": 301,
   "metadata": {},
   "outputs": [
    {
     "name": "stdout",
     "output_type": "stream",
     "text": [
      "(1, 2, 3)\n",
      "{'name': 'ket'}\n"
     ]
    }
   ],
   "source": [
    "_coolfunc(1,2,3, name=\"ket\")"
   ]
  },
  {
   "cell_type": "code",
   "execution_count": 307,
   "metadata": {},
   "outputs": [],
   "source": [
    "def add(x):\n",
    "    to_add = 1\n",
    "    return x + to_add"
   ]
  },
  {
   "cell_type": "code",
   "execution_count": 308,
   "metadata": {},
   "outputs": [
    {
     "data": {
      "text/plain": [
       "3"
      ]
     },
     "execution_count": 308,
     "metadata": {},
     "output_type": "execute_result"
    }
   ],
   "source": [
    "add(2)"
   ]
  },
  {
   "cell_type": "code",
   "execution_count": 309,
   "metadata": {},
   "outputs": [],
   "source": [
    "to_add = 2"
   ]
  },
  {
   "cell_type": "code",
   "execution_count": 310,
   "metadata": {},
   "outputs": [
    {
     "data": {
      "text/plain": [
       "3"
      ]
     },
     "execution_count": 310,
     "metadata": {},
     "output_type": "execute_result"
    }
   ],
   "source": [
    "add(2)"
   ]
  },
  {
   "cell_type": "code",
   "execution_count": 312,
   "metadata": {},
   "outputs": [],
   "source": [
    "def say_hi(words):\n",
    "    x = 100\n",
    "    print(x)\n",
    "    return words"
   ]
  },
  {
   "cell_type": "code",
   "execution_count": 313,
   "metadata": {},
   "outputs": [
    {
     "name": "stdout",
     "output_type": "stream",
     "text": [
      "100\n"
     ]
    },
    {
     "data": {
      "text/plain": [
       "1"
      ]
     },
     "execution_count": 313,
     "metadata": {},
     "output_type": "execute_result"
    }
   ],
   "source": [
    "say_hi(1)"
   ]
  },
  {
   "cell_type": "code",
   "execution_count": 314,
   "metadata": {},
   "outputs": [],
   "source": [
    "x = 1"
   ]
  },
  {
   "cell_type": "code",
   "execution_count": 315,
   "metadata": {},
   "outputs": [
    {
     "name": "stdout",
     "output_type": "stream",
     "text": [
      "100\n"
     ]
    },
    {
     "data": {
      "text/plain": [
       "1"
      ]
     },
     "execution_count": 315,
     "metadata": {},
     "output_type": "execute_result"
    }
   ],
   "source": [
    "say_hi(1)"
   ]
  },
  {
   "cell_type": "code",
   "execution_count": 316,
   "metadata": {},
   "outputs": [
    {
     "data": {
      "text/plain": [
       "1"
      ]
     },
     "execution_count": 316,
     "metadata": {},
     "output_type": "execute_result"
    }
   ],
   "source": [
    "x"
   ]
  },
  {
   "cell_type": "code",
   "execution_count": 318,
   "metadata": {},
   "outputs": [],
   "source": [
    "def hihihi():\n",
    "    print(x,y)\n",
    "    return \"HI\""
   ]
  },
  {
   "cell_type": "code",
   "execution_count": 319,
   "metadata": {},
   "outputs": [],
   "source": [
    "x = \"hi\"\n",
    "y = \"ian\""
   ]
  },
  {
   "cell_type": "code",
   "execution_count": 320,
   "metadata": {
    "scrolled": true
   },
   "outputs": [
    {
     "name": "stdout",
     "output_type": "stream",
     "text": [
      "hi ian\n"
     ]
    },
    {
     "data": {
      "text/plain": [
       "'HI'"
      ]
     },
     "execution_count": 320,
     "metadata": {},
     "output_type": "execute_result"
    }
   ],
   "source": [
    "hihihi()"
   ]
  },
  {
   "cell_type": "code",
   "execution_count": 5,
   "metadata": {},
   "outputs": [
    {
     "name": "stdout",
     "output_type": "stream",
     "text": [
      "  % Total    % Received % Xferd  Average Speed   Time    Time     Time  Current\n",
      "                                 Dload  Upload   Total   Spent    Left  Speed\n",
      "100 22554  100 22554    0     0  21925      0  0:00:01  0:00:01 --:--:-- 21918\n"
     ]
    }
   ],
   "source": [
    "!curl https://raw.githubusercontent.com/ianchen06/pythonetl/master/bb103/trump_interview.txt > /tmp/trump.txt"
   ]
  },
  {
   "cell_type": "code",
   "execution_count": 6,
   "metadata": {},
   "outputs": [],
   "source": [
    "with open('/tmp/trump.txt') as f:\n",
    "    trump_text = f.read()"
   ]
  },
  {
   "cell_type": "code",
   "execution_count": 355,
   "metadata": {},
   "outputs": [
    {
     "data": {
      "text/plain": [
       "\"PRESIDENT TRUMP: Hello, everybody. Great to be back in New York with all of our friends and some great friends outside the building, I must tell you.\\n\\nI want to thank all of our distinguished guests who are with us today, including members of our cabinet: Treasury secretary Stephen Mnuchin, OMB Director Mick Mulvaney and, of course, our Transportation Secretary who is doing a fabulous job, Elaine Chao.\\n\\nThank you all for doing a really incredible and creative job on what we're going to be discussing today, which is infrastructure. We've just had a great set of briefings upstairs on our infrastructure agenda. My administration is working every day to deliver the world class infrastructure that our people deserve, and frankly our country deserves. That’s why I just signed a new Executive Order to dramatically reform the nation's badly broken infrastructure permitting process. Just blocks away is the Empire State Building. It took 11 months to build the Empire State Building. But today it can take as long as a decade, and much more than that. Many, many stories where it takes 20 and 25 years just to get approvals to start construction of a fairly routine highway. Highway builders must get up to 16 different approvals involving nine different federal agencies, governed by 29 different statutes. One agency alone can stall a project for many, many years and even decades.\\n\\n\\nNot only does this cost our economy billions of dollars, but it also denies our citizens the safe and modern infrastructure they deserve. This overregulated permitting process is a massive self-inflicted wound on our country. It’s disgraceful. Denying our people much needed investments in their community, and I just want to show you this, because it was just shown to me, and I said, I think I'm going to show it to the media – both real and fake media by the way.\\n\\nThis is what it takes to get something approved today. Elaine, you see that? So this is what it takes. Permitting process flow chart, that's a flow chart. So that can go out to about 20 years, this shows about 10. But that can go out to about 20 years to get something approved. This is for a highway. I’ve seen a highway recently in a certain state – I won’t mention its name, it’s 17 years. I could have built it for $4 million, $5 million without the permitting process. It costs hundreds of millions of dollars, but it took 17 years to get it approved, and many, many, many, many pages of environmental impact studies.\\n\\nThis is what we will bring it down to. This is less than two years. This is going to happen quickly, that's what I'm signing today. This will be less than two years for a highway. So it's going to be quick, it's going to be a very streamlined process, and by the way, if it doesn't meet environmental safeguards, we are not going to approve it. Very simple, we’re not going to approve it. So this is – maybe this one will say, let's throw the other one away. Would anybody like it from the media? Would anybody like that long, beautiful chart, you can have it.\\n\\n\\nSo my executive order also requires agencies to work together efficiently by requiring one lead agency for each major infrastructure project. It also holds agencies accountable if they fail to streamline their review process, so each agency is accountable. We're going to get infrastructure built quickly, inexpensively, relatively speaking, and the permitting process will go very, very quickly. No longer will we tolerate one job killing delay after another. No longer will we accept a broken system that benefits consultants and lobbyists at the expense of hardworking Americans.\\n\\nNow, I knew the process very well, probably better than anybody. I had to get permits for this building and many of the buildings I built. All of the buildings I built in Manhattan and many other places, and I will tell you that the consultants are rich people. They go around making it very difficult. They lobby congress, they lobby state government, city governments to make it very difficult so that you have to hire consultants and that you have to take years and pay them a fortune, so we’re streamlining the process, and we won't be having so much of that anymore.\\n\\nNo longer will we allow the infrastructure of our magnificent country to crumble and decay, while protecting the environment we will build gleaming new roads, bridges, railways, waterways, tunnels and highways. We will rebuild our country with American workers, American iron, American aluminum, American steel. We will create millions of new jobs and make millions of American dreams come true.\\n\\n\\nOur infrastructure will again be the best in the world. We used to have the greatest infrastructure anywhere in the world, and today, we are like a third-world country. We are literally like a third-world country. Our infrastructure will again be the best, and we will restore the pride in our communities, our nation, and all over the United States, we will be proud again.\\n\\nSo I want to thank everybody for being here. God bless you, God bless the United States. If you have any questions, Mick, you could come up here please, come on up. Mick Mulvaney. If you have any questions, please feel free to ask.\\n\\nREPORTER: Mr. President, why is it that are CEOs are leaving your manufacturing council?\\n\\nTRUMP: Because they're not taking their jobs seriously as it pertains to this country. We want jobs, manufacturing in this country. If you look at some of those people that you’re talking about, they’re outside of the country, they’re having a lot of their product made outside, if you look at Merck as an example.\\n\\n(chatter)\\n\\nExcuse me, excuse me. Take a look at where their product is made. It’s made outside of our country. We want products made in the country. Now I have to tell you, some of the folks that will leave, they’re leaving out of embarrassment, because they make their products outside, and I’ve been lecturing them, including the gentleman you’ve been referring to, about, you have to bring it back to this country. You can’t do it, necessarily, in Ireland, and all of these other places. You have to bring this work back to this country. That’s what I want – I want manufacturing to be back into the United States so that American workers can benefit.\\n\\n(chatter)\\n\\nReporter: Mr. President, why did you wait so long to blast neo-Nazis?\\n\\nTRUMP: I didn’t wait long. I didn’t wait long. I wanted to make sure, unlike most politicians, that what I said was correct – not make a quick statement. The statement I made on Saturday, the first statement, was a fine statement. But you don’t make statements that direct unless you know the facts. It takes a little while to get the facts. You still don’t know the facts. And it’s a very, very important process to me and it’s an important statement. So I don’t want to go quickly, and just make a statement for the sake of making a political statement. I want to know the facts. If you go back to my – in fact, I brought it. I brought it. I brought it.\\n\\nAs I said on, remember, Saturday, “We condemn in the strongest possible terms this egregious display of hatred, bigotry and violence. It has no place in America.” And then I went on from there.\\n\\nNow, here’s the thing.\\n\\n(chatter)\\n\\nExcuse me, excuse me. Take it nice and easy.\\n\\nHere’s the thing. When I make a statement, I like to be correct. I want the facts. This event just happened. In fact, a lot of it didn’t even happen yet, as we were speaking. This event just happened. Before I make a statement, I need the facts. I don’t want to rush into a statement, so making the statement when I made it was excellent.\\n\\nIn fact, the young woman, who I hear is a fantastic young woman, her mother wrote me, and said, through I guess Twitter, social media, the nicest things, and I very much appreciated that. I hear she was a fine, really actually an incredible young woman. But her mother, on Twitter, thanked me for what I said, and honestly, if the press were not fake, and it was honest, the press would have said what I said was very nice.\\n\\n(chatter)\\n\\nExcuse me. But unlike you, and unlike the media – before I make a statement, I like to know the facts.\\n\\n(chatter)\\n\\nThey don’t. They don’t.\\n\\nHow about a couple of infrastructure questions.\\n\\nReporter: The CEO of Walmart said you missed a critical moment to bring the country together. Did you?\\n\\nTRUMP: Not at all. Look, you take a look. I’ve created over a million jobs since I’m president. The country is booming, the stock market is setting records, we have the highest unemployment we’ve ever had in the history of our country, we’re doing record business, we have the highest levels of enthusiasm, so the head of Walmart, who I know – he’s a very nice guy – was making a political statement. I mean, ask him how his – they do it the same way, and you know why? Because I want to make sure, when I make the statement, that the statement was correct. There’s no way, there was no way of making a correct statement that early. I had to see the facts, unlike a lot of reporters, unlike a lot of reporters.\\n\\nI didn’t know David Duke was there. I wanted to see the facts, and the facts, as they started coming out, were very well stated. In fact, everybody said, “his statement was beautiful. If he would have made it sooner, that would have been good.” I couldn’t have made it sooner because I didn’t know all of the facts. Frankly, people still don’t know all of the facts. It was very important –\\n\\n(chatter)\\n\\nExcuse me, excuse me. It was very important to me to get the facts out, and correctly. Because if I would have made a fast statement – and the first statement was made without knowing much other than what we were seeing. The second statement was made after – with knowledge, with great knowledge. There’s still things – excuse me – there’s still things that people don’t know. I want to make a statement with knowledge, I wanted to know the facts. Okay.\\n\\nReporter: Two questions – was this terrorism? And can you tell us how you’re feeling about your chief strategist, Stephen Bannon?\\n\\nTRUMP: Well, I think the driver of the car is a disgrace to himself, his family and this country, and that is – you can call it terrorism, you can call it murder, you can call it whatever you want. I would just call it as the fastest one to come up with a good verdict, that’s what I’d call it, because there is a question, is it murder? Is it terrorism? And then you get into legal semantics.\\n\\nThe driver of the car is a murderer, and what he did is a horrible, horrible, inexcusable thing.\\n\\nReporter: Can you tell us how you feel about your chief strategist, Mr. Bannon?\\n\\nTRUMP: I never spoke to Mr. Bannon about it.\\n\\nReporter: But can you tell us broadly what your, do you still have confidence in Steve?\\n\\nTRUMP: Well, let’s see. Look, look, I like Mr. Bannon, he’s a friend of mine. But Mr. Bannon came on very late, you know that. I went through 17 senators, governors, and I won all the primaries. Mr. Bannon came on very much later than that, and I like him. He’s a good man. He’s not a racist, I can tell you that. He’s a good person. He actually gets a very unfair press in that regard. But, we’ll see what happens with Mr. Bannon. But he’s a good person, and I think the press treats him, frankly, very unfairly.\\n\\nReporter: McCain has called on you to defend your national security adviser, H.R. McMaster, against attacks.\\n\\nTRUMP: I’ve already done that, I did it the last time.\\n\\nReporter: And he called on it again,\\n\\nTRUMP: Senator McCain, you mean the one who voted against Obamacare? You mean Senator McCain, who voted against us getting good health care?\\n\\nReporter: Senator McCain said that the alt-right is behind these attacks, and he linked that same group to those who perpetrated the attack against Charlottesville.\\n\\nTRUMP: Well, I don’t know, I can’t tell you. I’m sure Senator McCain must know what he’s talking about. But when you say the alt-right, define alt-right to me. You define it to me. Define it for me, go ahead.\\n\\nReporter: Senator McCain defined it as the same group –\\n\\nTrump: Okay, what about the alt-left that came charging at ‘em. Excuse me, what about the alt-left that came charging at, as you say the alt-right? Do they have any semblance of guilt?\\n\\n(chatter)\\n\\nTRUMP: Let me ask you this – what about the fact they came charging, that they came charging with clubs in their hands, swinging clubs? Do they have any problem? I think they do. So, you know, as far as I’m concerned, that was a horrible, horrible day. Wait a minute – I’m not finished, fake news. That was a horrible day.\\n\\n(chatter)\\n\\nTRUMP: I will tell you something. I watched those very closely, much more closely than you people watched it, and you have, you had a group on one side that was bad, and you had a group on the other side that was also very violent. And nobody wants to say that, but I’ll say it right now. You had a group on the other side that came charging in, without a permit, and they were very, very violent.\\n\\n(chatter)\\n\\nReporter: Do you think that what you call the alt-left is the same as neo-Nazis?\\n\\nTRUMP: Those people, all of those people, excuse me. I’ve condemned neo-Nazis. I’ve condemned many different groups. But not all of those people were neo-Nazis, believe me. Not all of those people were white supremacists, by any stretch. Those people were also there because they wanted to protest the taking down of a statue of Robert E. Lee.\\n\\nQ Should that statue be taken down?\\n\\nTHE PRESIDENT: Excuse me. If you take a look at some of the groups, and you see – and you'd know it if you were honest reporters, which in many cases you're not – but many of those people were there to protest the taking down of the statue of Robert E. Lee. So this week it's Robert E. Lee. I noticed that Stonewall Jackson is coming down. I wonder, is it George Washington next week? And is it Thomas Jefferson the week after? You know, you really do have to ask yourself, where does it stop?\\n\\nBut they were there to protest -- excuse me, if you take a look, the night before they were there to protest the taking down of the statue of Robert E. Lee. Infrastructure question. Go ahead.\\n\\nReporter: Should the statues of Robert E. Lee stay up?\\n\\nTRUMP: I would say that's up to a local town, community, or the federal government, depending on where it is located.\\n\\nReporter: How concerned are you about race relations in America, and do you think things have gotten worse or better since you took office?\\n\\nTRUMP: I think they've gotten better or the same. Look, they've been frayed for a long time. And you can ask President Obama about that, because he'd make speeches about it. But I believe that the fact that I brought in -- it will be soon -- millions of jobs -- you see where companies are moving back into our country -- I think that's going to have a tremendous, positive impact on race relations. We have companies coming back into our country. We have two car companies that just announced. We have Foxconn in Wisconsin just announced. We have many companies, I say, pouring back into the country. I think that's going to have a huge, positive impact on race relations.\\n\\nYou know why? It's jobs. What people want now, they want jobs. They want great jobs with good pay, and when they have that, you watch how race relations will be. And I’ll tell you, we’re spending a lot of money on the inner cities. We’re fixing the inner cities. We’re doing far more than anybody has done with respect to the inner cities. It’s a priority for me, and it’s very important.\\n\\nReporter: Mr. President, are you putting what you’re calling the alt-left and white supremacists on the same moral plane?\\n\\nTRUMP: I’m not putting anybody on a moral plane. What I’m saying is this: You had a group on one side and you had a group on the other, and they came at each other with clubs -- and it was vicious and it was horrible. And it was a horrible thing to watch. But there is another side. There was a group on this side. You can call them the left -- you just called them the left -- that came violently attacking the other group. So you can say what you want, but that’s the way it is.\\n\\nReporter: You said there was hatred, there was violence on both sides. Are the –\\n\\nTHE PRESIDENT: Yes, I think there’s blame on both sides. If you look at both sides -- I think there’s blame on both sides. And I have no doubt about it, and you don’t have any doubt about it either. And if you reported it accurately, you would say.\\n\\nReporter: The neo-Nazis started this. They showed up in Charlottesville to protest –\\n\\nTRUMP: Excuse me, excuse me. They didn’t put themselves -- and you had some very bad people in that group, but you also had people that were very fine people, on both sides. You had people in that group.\\n\\n(chatter)\\n\\nPRESIDENT: Excuse me, excuse me. I saw the same pictures as you did. You had people in that group that were there to protest the taking down of, to them, a very, very important statue and the renaming of a park from Robert E. Lee to another name.\\n\\nReporter: George Washington and Robert E. Lee are not the same.\\n\\nTRUMP: George Washington was a slave owner. Was George Washington a slave owner? So will George Washington now lose his status? Are we going to take down -- Excuse me, are we going to take down statues to George Washington? How about Thomas Jefferson? What do you think of Thomas Jefferson? You like him?\\n\\nReporter: I do love Thomas Jefferson.\\n\\nTRUMP: Okay, good. Are we going to take down the statue? Because he was a major slave owner. Now, are we going to take down his statue? So you know what, it’s fine. You’re changing history. You’re changing culture. And you had people -- and I’m not talking about the neo-Nazis and the white nationalists -- because they should be condemned totally. But you had many people in that group other than neo-Nazis and white nationalists. Okay? And the press has treated them absolutely unfairly. Now, in the other group also, you had some fine people. But you also had troublemakers, and you see them come with the black outfits and with the helmets, and with the baseball bats. You had a lot of bad people in the other group.\\n\\nReporter: Who are the good people? Sir, I just didn’t understand what you were saying. You were saying the press has treated white nationalists unfairly? I just don’t understand what you were saying.\\n\\nTRUMP: No, no. There were people in that rally -- and I looked the night before -- if you look, there were people protesting very quietly the taking down of the statue of Robert E. Lee. I’m sure in that group there were some bad ones. The following day it looked like they had some rough, bad people -- neo-Nazis, white nationalists, whatever you want to call them. But you had a lot of people in that group that were there to innocently protest, and very legally protest -- because I don’t know if you know, they had a permit. The other group didn’t have a permit. So I only tell you this: There are two sides to a story. I thought what took place was a horrible moment for our country -- a horrible moment. But there are two sides to the country. Does anybody have a final –\\n\\nReporter: I have an infrastructure question.\\n\\nTRUMP: You have an infrastructure –\\n\\nReporter: What makes you think you can get an infrastructure bill? You didn’t get healthcare –\\n\\nTRUMP: Well, you know, I’ll tell you. We came very close with healthcare. Unfortunately, John McCain decided to vote against it at the last minute. You’ll have to ask John McCain why he did that. But we came very close to healthcare. We will end up getting healthcare. But we’ll get the infrastructure. And actually, infrastructure is something that I think we’ll have bipartisan support on. I actually think Democrats will go along with the infrastructure.\\n\\nReporter: Mr. President, have you spoken to the family of the victim of the car attack?\\n\\nTRUMP: No, I’ll be reaching out. I’ll be reaching out.\\n\\nReporter: When will you be reaching out?\\n\\nTRUMP: I thought that the statement put out -- the mother’s statement I thought was a beautiful statement. I will tell you, it was something that I really appreciated. I thought it was terrific. And, really, under the kind of stress that she’s under and the heartache that she’s under, I thought putting out that statement, to me, was really something. I won’t forget it. Thank you, all, very much. Thank you. Thank you.\\n\\nReporter: Will you go to Charlottesville? Will you go to check out what happened?\\n\\nTRUMP: I own a house in Charlottesville. Does anyone know I own a house in Charlottesville?\\n\\nReporter: Where is it?\\n\\nTRUMP: Oh boy, it’s going to be –\\n\\nReporter: Where is it?\\n\\nTRUMP: It's in Charlottesville. You'll see.\\n\\nReporter: Is it a winery or something?\\n\\nTRUMP: It is the winery. I mean, I know a lot about Charlottesville. Charlottesville is a great place that's been very badly hurt over the last couple of days.\\n\\n(chatter)\\n\\nTRUMP: I own, actually, one of the largest wineries in the United States. It's in Charlottesville.\\n\\nReporter: Do you believe your words are helping to heal this country right now? What do you think needs to be done to overcome the racial divides in this country?\\n\\nsubscribe\\nThe story must be told.\\nYour subscription supports journalism that matters.\\nTry 1 month for 99¢\\nTRUMP: Well, I think jobs can have a big impact. I think if we continue to create jobs -- over a million, substantially more than a million. And you see just the other day, the car companies coming in with Foxconn. I think if we continue to create jobs at levels that I’m creating jobs, I think that’s going to have a tremendous impact -- positive impact on race relations.\\n\\nReporter: Your remarks today, how do you think that will impact the racial, sort of conflict, today?\\n\\nTRUMP: The people are going to be working, they’re going to be making a lot of money – much more money than they ever thought possible. But that’s going to happen.\\n\\nReporter: Your remarks today–\\n\\nTRUMP: And the other thing – very important – I believe wages will start going up. They haven’t gone up for a long time. I believe wages now – because the economy is doing so well with respect to employment and unemployment, I believe wages will start to go up. I think that will have a tremendously positive impact on race relations.\\n\""
      ]
     },
     "execution_count": 355,
     "metadata": {},
     "output_type": "execute_result"
    }
   ],
   "source": [
    "trump_text"
   ]
  },
  {
   "cell_type": "code",
   "execution_count": 356,
   "metadata": {},
   "outputs": [
    {
     "data": {
      "text/plain": [
       "'\\n(\"America\", 100),\\n(\"great\", 99),\\n(\"again\", 33)\\n'"
      ]
     },
     "execution_count": 356,
     "metadata": {},
     "output_type": "execute_result"
    }
   ],
   "source": [
    "\"\"\"\n",
    "(\"America\", 100),\n",
    "(\"great\", 99),\n",
    "(\"again\", 33)\n",
    "\"\"\""
   ]
  },
  {
   "cell_type": "code",
   "execution_count": 357,
   "metadata": {},
   "outputs": [
    {
     "data": {
      "text/plain": [
       "'america'"
      ]
     },
     "execution_count": 357,
     "metadata": {},
     "output_type": "execute_result"
    }
   ],
   "source": [
    "\"AMERICA\".lower()"
   ]
  },
  {
   "cell_type": "code",
   "execution_count": 5,
   "metadata": {},
   "outputs": [
    {
     "data": {
      "text/plain": [
       "\"PRESIDENT TRUMP: Hello, everybody. Great to be back in New York with all of our friends and some great friends outside the building, I must tell you.\\n\\nI want to thank all of our distinguished guests who are with us today, including members of our cabinet: Treasury secretary Stephen Mnuchin, OMB Director Mick Mulvaney and, of course, our Transportation Secretary who is doing a fabulous job, Elaine Chao.\\n\\nThank you all for doing a really incredible and creative job on what we're going to be discussing today, which is infrastructure. We've just had a great set of briefings upstairs on our infrastructure agenda. My administration is working every day to deliver the world class infrastructure that our people deserve, and frankly our country deserves. That’s why I just signed a new Executive Order to dramatically reform the nation's badly broken infrastructure permitting process. Just blocks away is the Empire State Building. It took 11 months to build the Empire State Building. But today it can take as long as a decade, and much more than that. Many, many stories where it takes 20 and 25 years just to get approvals to start construction of a fairly routine highway. Highway builders must get up to 16 different approvals involving nine different federal agencies, governed by 29 different statutes. One agency alone can stall a project for many, many years and even decades.\\n\\n\\nNot only does this cost our economy billions of dollars, but it also denies our citizens the safe and modern infrastructure they deserve. This overregulated permitting process is a massive self-inflicted wound on our country. It’s disgraceful. Denying our people much needed investments in their community, and I just want to show you this, because it was just shown to me, and I said, I think I'm going to show it to the media – both real and fake media by the way.\\n\\nThis is what it takes to get something approved today. Elaine, you see that? So this is what it takes. Permitting process flow chart, that's a flow chart. So that can go out to about 20 years, this shows about 10. But that can go out to about 20 years to get something approved. This is for a highway. I’ve seen a highway recently in a certain state – I won’t mention its name, it’s 17 years. I could have built it for $4 million, $5 million without the permitting process. It costs hundreds of millions of dollars, but it took 17 years to get it approved, and many, many, many, many pages of environmental impact studies.\\n\\nThis is what we will bring it down to. This is less than two years. This is going to happen quickly, that's what I'm signing today. This will be less than two years for a highway. So it's going to be quick, it's going to be a very streamlined process, and by the way, if it doesn't meet environmental safeguards, we are not going to approve it. Very simple, we’re not going to approve it. So this is – maybe this one will say, let's throw the other one away. Would anybody like it from the media? Would anybody like that long, beautiful chart, you can have it.\\n\\n\\nSo my executive order also requires agencies to work together efficiently by requiring one lead agency for each major infrastructure project. It also holds agencies accountable if they fail to streamline their review process, so each agency is accountable. We're going to get infrastructure built quickly, inexpensively, relatively speaking, and the permitting process will go very, very quickly. No longer will we tolerate one job killing delay after another. No longer will we accept a broken system that benefits consultants and lobbyists at the expense of hardworking Americans.\\n\\nNow, I knew the process very well, probably better than anybody. I had to get permits for this building and many of the buildings I built. All of the buildings I built in Manhattan and many other places, and I will tell you that the consultants are rich people. They go around making it very difficult. They lobby congress, they lobby state government, city governments to make it very difficult so that you have to hire consultants and that you have to take years and pay them a fortune, so we’re streamlining the process, and we won't be having so much of that anymore.\\n\\nNo longer will we allow the infrastructure of our magnificent country to crumble and decay, while protecting the environment we will build gleaming new roads, bridges, railways, waterways, tunnels and highways. We will rebuild our country with American workers, American iron, American aluminum, American steel. We will create millions of new jobs and make millions of American dreams come true.\\n\\n\\nOur infrastructure will again be the best in the world. We used to have the greatest infrastructure anywhere in the world, and today, we are like a third-world country. We are literally like a third-world country. Our infrastructure will again be the best, and we will restore the pride in our communities, our nation, and all over the United States, we will be proud again.\\n\\nSo I want to thank everybody for being here. God bless you, God bless the United States. If you have any questions, Mick, you could come up here please, come on up. Mick Mulvaney. If you have any questions, please feel free to ask.\\n\\nREPORTER: Mr. President, why is it that are CEOs are leaving your manufacturing council?\\n\\nTRUMP: Because they're not taking their jobs seriously as it pertains to this country. We want jobs, manufacturing in this country. If you look at some of those people that you’re talking about, they’re outside of the country, they’re having a lot of their product made outside, if you look at Merck as an example.\\n\\n(chatter)\\n\\nExcuse me, excuse me. Take a look at where their product is made. It’s made outside of our country. We want products made in the country. Now I have to tell you, some of the folks that will leave, they’re leaving out of embarrassment, because they make their products outside, and I’ve been lecturing them, including the gentleman you’ve been referring to, about, you have to bring it back to this country. You can’t do it, necessarily, in Ireland, and all of these other places. You have to bring this work back to this country. That’s what I want – I want manufacturing to be back into the United States so that American workers can benefit.\\n\\n(chatter)\\n\\nReporter: Mr. President, why did you wait so long to blast neo-Nazis?\\n\\nTRUMP: I didn’t wait long. I didn’t wait long. I wanted to make sure, unlike most politicians, that what I said was correct – not make a quick statement. The statement I made on Saturday, the first statement, was a fine statement. But you don’t make statements that direct unless you know the facts. It takes a little while to get the facts. You still don’t know the facts. And it’s a very, very important process to me and it’s an important statement. So I don’t want to go quickly, and just make a statement for the sake of making a political statement. I want to know the facts. If you go back to my – in fact, I brought it. I brought it. I brought it.\\n\\nAs I said on, remember, Saturday, “We condemn in the strongest possible terms this egregious display of hatred, bigotry and violence. It has no place in America.” And then I went on from there.\\n\\nNow, here’s the thing.\\n\\n(chatter)\\n\\nExcuse me, excuse me. Take it nice and easy.\\n\\nHere’s the thing. When I make a statement, I like to be correct. I want the facts. This event just happened. In fact, a lot of it didn’t even happen yet, as we were speaking. This event just happened. Before I make a statement, I need the facts. I don’t want to rush into a statement, so making the statement when I made it was excellent.\\n\\nIn fact, the young woman, who I hear is a fantastic young woman, her mother wrote me, and said, through I guess Twitter, social media, the nicest things, and I very much appreciated that. I hear she was a fine, really actually an incredible young woman. But her mother, on Twitter, thanked me for what I said, and honestly, if the press were not fake, and it was honest, the press would have said what I said was very nice.\\n\\n(chatter)\\n\\nExcuse me. But unlike you, and unlike the media – before I make a statement, I like to know the facts.\\n\\n(chatter)\\n\\nThey don’t. They don’t.\\n\\nHow about a couple of infrastructure questions.\\n\\nReporter: The CEO of Walmart said you missed a critical moment to bring the country together. Did you?\\n\\nTRUMP: Not at all. Look, you take a look. I’ve created over a million jobs since I’m president. The country is booming, the stock market is setting records, we have the highest unemployment we’ve ever had in the history of our country, we’re doing record business, we have the highest levels of enthusiasm, so the head of Walmart, who I know – he’s a very nice guy – was making a political statement. I mean, ask him how his – they do it the same way, and you know why? Because I want to make sure, when I make the statement, that the statement was correct. There’s no way, there was no way of making a correct statement that early. I had to see the facts, unlike a lot of reporters, unlike a lot of reporters.\\n\\nI didn’t know David Duke was there. I wanted to see the facts, and the facts, as they started coming out, were very well stated. In fact, everybody said, “his statement was beautiful. If he would have made it sooner, that would have been good.” I couldn’t have made it sooner because I didn’t know all of the facts. Frankly, people still don’t know all of the facts. It was very important –\\n\\n(chatter)\\n\\nExcuse me, excuse me. It was very important to me to get the facts out, and correctly. Because if I would have made a fast statement – and the first statement was made without knowing much other than what we were seeing. The second statement was made after – with knowledge, with great knowledge. There’s still things – excuse me – there’s still things that people don’t know. I want to make a statement with knowledge, I wanted to know the facts. Okay.\\n\\nReporter: Two questions – was this terrorism? And can you tell us how you’re feeling about your chief strategist, Stephen Bannon?\\n\\nTRUMP: Well, I think the driver of the car is a disgrace to himself, his family and this country, and that is – you can call it terrorism, you can call it murder, you can call it whatever you want. I would just call it as the fastest one to come up with a good verdict, that’s what I’d call it, because there is a question, is it murder? Is it terrorism? And then you get into legal semantics.\\n\\nThe driver of the car is a murderer, and what he did is a horrible, horrible, inexcusable thing.\\n\\nReporter: Can you tell us how you feel about your chief strategist, Mr. Bannon?\\n\\nTRUMP: I never spoke to Mr. Bannon about it.\\n\\nReporter: But can you tell us broadly what your, do you still have confidence in Steve?\\n\\nTRUMP: Well, let’s see. Look, look, I like Mr. Bannon, he’s a friend of mine. But Mr. Bannon came on very late, you know that. I went through 17 senators, governors, and I won all the primaries. Mr. Bannon came on very much later than that, and I like him. He’s a good man. He’s not a racist, I can tell you that. He’s a good person. He actually gets a very unfair press in that regard. But, we’ll see what happens with Mr. Bannon. But he’s a good person, and I think the press treats him, frankly, very unfairly.\\n\\nReporter: McCain has called on you to defend your national security adviser, H.R. McMaster, against attacks.\\n\\nTRUMP: I’ve already done that, I did it the last time.\\n\\nReporter: And he called on it again,\\n\\nTRUMP: Senator McCain, you mean the one who voted against Obamacare? You mean Senator McCain, who voted against us getting good health care?\\n\\nReporter: Senator McCain said that the alt-right is behind these attacks, and he linked that same group to those who perpetrated the attack against Charlottesville.\\n\\nTRUMP: Well, I don’t know, I can’t tell you. I’m sure Senator McCain must know what he’s talking about. But when you say the alt-right, define alt-right to me. You define it to me. Define it for me, go ahead.\\n\\nReporter: Senator McCain defined it as the same group –\\n\\nTrump: Okay, what about the alt-left that came charging at ‘em. Excuse me, what about the alt-left that came charging at, as you say the alt-right? Do they have any semblance of guilt?\\n\\n(chatter)\\n\\nTRUMP: Let me ask you this – what about the fact they came charging, that they came charging with clubs in their hands, swinging clubs? Do they have any problem? I think they do. So, you know, as far as I’m concerned, that was a horrible, horrible day. Wait a minute – I’m not finished, fake news. That was a horrible day.\\n\\n(chatter)\\n\\nTRUMP: I will tell you something. I watched those very closely, much more closely than you people watched it, and you have, you had a group on one side that was bad, and you had a group on the other side that was also very violent. And nobody wants to say that, but I’ll say it right now. You had a group on the other side that came charging in, without a permit, and they were very, very violent.\\n\\n(chatter)\\n\\nReporter: Do you think that what you call the alt-left is the same as neo-Nazis?\\n\\nTRUMP: Those people, all of those people, excuse me. I’ve condemned neo-Nazis. I’ve condemned many different groups. But not all of those people were neo-Nazis, believe me. Not all of those people were white supremacists, by any stretch. Those people were also there because they wanted to protest the taking down of a statue of Robert E. Lee.\\n\\nQ Should that statue be taken down?\\n\\nTHE PRESIDENT: Excuse me. If you take a look at some of the groups, and you see – and you'd know it if you were honest reporters, which in many cases you're not – but many of those people were there to protest the taking down of the statue of Robert E. Lee. So this week it's Robert E. Lee. I noticed that Stonewall Jackson is coming down. I wonder, is it George Washington next week? And is it Thomas Jefferson the week after? You know, you really do have to ask yourself, where does it stop?\\n\\nBut they were there to protest -- excuse me, if you take a look, the night before they were there to protest the taking down of the statue of Robert E. Lee. Infrastructure question. Go ahead.\\n\\nReporter: Should the statues of Robert E. Lee stay up?\\n\\nTRUMP: I would say that's up to a local town, community, or the federal government, depending on where it is located.\\n\\nReporter: How concerned are you about race relations in America, and do you think things have gotten worse or better since you took office?\\n\\nTRUMP: I think they've gotten better or the same. Look, they've been frayed for a long time. And you can ask President Obama about that, because he'd make speeches about it. But I believe that the fact that I brought in -- it will be soon -- millions of jobs -- you see where companies are moving back into our country -- I think that's going to have a tremendous, positive impact on race relations. We have companies coming back into our country. We have two car companies that just announced. We have Foxconn in Wisconsin just announced. We have many companies, I say, pouring back into the country. I think that's going to have a huge, positive impact on race relations.\\n\\nYou know why? It's jobs. What people want now, they want jobs. They want great jobs with good pay, and when they have that, you watch how race relations will be. And I’ll tell you, we’re spending a lot of money on the inner cities. We’re fixing the inner cities. We’re doing far more than anybody has done with respect to the inner cities. It’s a priority for me, and it’s very important.\\n\\nReporter: Mr. President, are you putting what you’re calling the alt-left and white supremacists on the same moral plane?\\n\\nTRUMP: I’m not putting anybody on a moral plane. What I’m saying is this: You had a group on one side and you had a group on the other, and they came at each other with clubs -- and it was vicious and it was horrible. And it was a horrible thing to watch. But there is another side. There was a group on this side. You can call them the left -- you just called them the left -- that came violently attacking the other group. So you can say what you want, but that’s the way it is.\\n\\nReporter: You said there was hatred, there was violence on both sides. Are the –\\n\\nTHE PRESIDENT: Yes, I think there’s blame on both sides. If you look at both sides -- I think there’s blame on both sides. And I have no doubt about it, and you don’t have any doubt about it either. And if you reported it accurately, you would say.\\n\\nReporter: The neo-Nazis started this. They showed up in Charlottesville to protest –\\n\\nTRUMP: Excuse me, excuse me. They didn’t put themselves -- and you had some very bad people in that group, but you also had people that were very fine people, on both sides. You had people in that group.\\n\\n(chatter)\\n\\nPRESIDENT: Excuse me, excuse me. I saw the same pictures as you did. You had people in that group that were there to protest the taking down of, to them, a very, very important statue and the renaming of a park from Robert E. Lee to another name.\\n\\nReporter: George Washington and Robert E. Lee are not the same.\\n\\nTRUMP: George Washington was a slave owner. Was George Washington a slave owner? So will George Washington now lose his status? Are we going to take down -- Excuse me, are we going to take down statues to George Washington? How about Thomas Jefferson? What do you think of Thomas Jefferson? You like him?\\n\\nReporter: I do love Thomas Jefferson.\\n\\nTRUMP: Okay, good. Are we going to take down the statue? Because he was a major slave owner. Now, are we going to take down his statue? So you know what, it’s fine. You’re changing history. You’re changing culture. And you had people -- and I’m not talking about the neo-Nazis and the white nationalists -- because they should be condemned totally. But you had many people in that group other than neo-Nazis and white nationalists. Okay? And the press has treated them absolutely unfairly. Now, in the other group also, you had some fine people. But you also had troublemakers, and you see them come with the black outfits and with the helmets, and with the baseball bats. You had a lot of bad people in the other group.\\n\\nReporter: Who are the good people? Sir, I just didn’t understand what you were saying. You were saying the press has treated white nationalists unfairly? I just don’t understand what you were saying.\\n\\nTRUMP: No, no. There were people in that rally -- and I looked the night before -- if you look, there were people protesting very quietly the taking down of the statue of Robert E. Lee. I’m sure in that group there were some bad ones. The following day it looked like they had some rough, bad people -- neo-Nazis, white nationalists, whatever you want to call them. But you had a lot of people in that group that were there to innocently protest, and very legally protest -- because I don’t know if you know, they had a permit. The other group didn’t have a permit. So I only tell you this: There are two sides to a story. I thought what took place was a horrible moment for our country -- a horrible moment. But there are two sides to the country. Does anybody have a final –\\n\\nReporter: I have an infrastructure question.\\n\\nTRUMP: You have an infrastructure –\\n\\nReporter: What makes you think you can get an infrastructure bill? You didn’t get healthcare –\\n\\nTRUMP: Well, you know, I’ll tell you. We came very close with healthcare. Unfortunately, John McCain decided to vote against it at the last minute. You’ll have to ask John McCain why he did that. But we came very close to healthcare. We will end up getting healthcare. But we’ll get the infrastructure. And actually, infrastructure is something that I think we’ll have bipartisan support on. I actually think Democrats will go along with the infrastructure.\\n\\nReporter: Mr. President, have you spoken to the family of the victim of the car attack?\\n\\nTRUMP: No, I’ll be reaching out. I’ll be reaching out.\\n\\nReporter: When will you be reaching out?\\n\\nTRUMP: I thought that the statement put out -- the mother’s statement I thought was a beautiful statement. I will tell you, it was something that I really appreciated. I thought it was terrific. And, really, under the kind of stress that she’s under and the heartache that she’s under, I thought putting out that statement, to me, was really something. I won’t forget it. Thank you, all, very much. Thank you. Thank you.\\n\\nReporter: Will you go to Charlottesville? Will you go to check out what happened?\\n\\nTRUMP: I own a house in Charlottesville. Does anyone know I own a house in Charlottesville?\\n\\nReporter: Where is it?\\n\\nTRUMP: Oh boy, it’s going to be –\\n\\nReporter: Where is it?\\n\\nTRUMP: It's in Charlottesville. You'll see.\\n\\nReporter: Is it a winery or something?\\n\\nTRUMP: It is the winery. I mean, I know a lot about Charlottesville. Charlottesville is a great place that's been very badly hurt over the last couple of days.\\n\\n(chatter)\\n\\nTRUMP: I own, actually, one of the largest wineries in the United States. It's in Charlottesville.\\n\\nReporter: Do you believe your words are helping to heal this country right now? What do you think needs to be done to overcome the racial divides in this country?\\n\\nsubscribe\\nThe story must be told.\\nYour subscription supports journalism that matters.\\nTry 1 month for 99¢\\nTRUMP: Well, I think jobs can have a big impact. I think if we continue to create jobs -- over a million, substantially more than a million. And you see just the other day, the car companies coming in with Foxconn. I think if we continue to create jobs at levels that I’m creating jobs, I think that’s going to have a tremendous impact -- positive impact on race relations.\\n\\nReporter: Your remarks today, how do you think that will impact the racial, sort of conflict, today?\\n\\nTRUMP: The people are going to be working, they’re going to be making a lot of money – much more money than they ever thought possible. But that’s going to happen.\\n\\nReporter: Your remarks today–\\n\\nTRUMP: And the other thing – very important – I believe wages will start going up. They haven’t gone up for a long time. I believe wages now – because the economy is doing so well with respect to employment and unemployment, I believe wages will start to go up. I think that will have a tremendously positive impact on race relations.\\n\""
      ]
     },
     "execution_count": 5,
     "metadata": {},
     "output_type": "execute_result"
    }
   ],
   "source": [
    "trump_text"
   ]
  },
  {
   "cell_type": "code",
   "execution_count": 7,
   "metadata": {},
   "outputs": [
    {
     "data": {
      "text/plain": [
       "['PRESIDENT TRUMP: Hello, everybody',\n",
       " ' Great to be back in New York with all of our friends and some great friends outside the building, I must tell you',\n",
       " '\\n\\nI want to thank all of our distinguished guests who are with us today, including members of our cabinet: Treasury secretary Stephen Mnuchin, OMB Director Mick Mulvaney and, of course, our Transportation Secretary who is doing a fabulous job, Elaine Chao',\n",
       " \"\\n\\nThank you all for doing a really incredible and creative job on what we're going to be discussing today, which is infrastructure\",\n",
       " \" We've just had a great set of briefings upstairs on our infrastructure agenda\",\n",
       " ' My administration is working every day to deliver the world class infrastructure that our people deserve, and frankly our country deserves',\n",
       " \" That’s why I just signed a new Executive Order to dramatically reform the nation's badly broken infrastructure permitting process\",\n",
       " ' Just blocks away is the Empire State Building',\n",
       " ' It took 11 months to build the Empire State Building',\n",
       " ' But today it can take as long as a decade, and much more than that',\n",
       " ' Many, many stories where it takes 20 and 25 years just to get approvals to start construction of a fairly routine highway',\n",
       " ' Highway builders must get up to 16 different approvals involving nine different federal agencies, governed by 29 different statutes',\n",
       " ' One agency alone can stall a project for many, many years and even decades',\n",
       " '\\n\\n\\nNot only does this cost our economy billions of dollars, but it also denies our citizens the safe and modern infrastructure they deserve',\n",
       " ' This overregulated permitting process is a massive self-inflicted wound on our country',\n",
       " ' It’s disgraceful',\n",
       " \" Denying our people much needed investments in their community, and I just want to show you this, because it was just shown to me, and I said, I think I'm going to show it to the media – both real and fake media by the way\",\n",
       " '\\n\\nThis is what it takes to get something approved today',\n",
       " ' Elaine, you see that? So this is what it takes',\n",
       " \" Permitting process flow chart, that's a flow chart\",\n",
       " ' So that can go out to about 20 years, this shows about 10',\n",
       " ' But that can go out to about 20 years to get something approved',\n",
       " ' This is for a highway',\n",
       " ' I’ve seen a highway recently in a certain state – I won’t mention its name, it’s 17 years',\n",
       " ' I could have built it for $4 million, $5 million without the permitting process',\n",
       " ' It costs hundreds of millions of dollars, but it took 17 years to get it approved, and many, many, many, many pages of environmental impact studies',\n",
       " '\\n\\nThis is what we will bring it down to',\n",
       " ' This is less than two years',\n",
       " \" This is going to happen quickly, that's what I'm signing today\",\n",
       " ' This will be less than two years for a highway',\n",
       " \" So it's going to be quick, it's going to be a very streamlined process, and by the way, if it doesn't meet environmental safeguards, we are not going to approve it\",\n",
       " ' Very simple, we’re not going to approve it',\n",
       " \" So this is – maybe this one will say, let's throw the other one away\",\n",
       " ' Would anybody like it from the media? Would anybody like that long, beautiful chart, you can have it',\n",
       " '\\n\\n\\nSo my executive order also requires agencies to work together efficiently by requiring one lead agency for each major infrastructure project',\n",
       " ' It also holds agencies accountable if they fail to streamline their review process, so each agency is accountable',\n",
       " \" We're going to get infrastructure built quickly, inexpensively, relatively speaking, and the permitting process will go very, very quickly\",\n",
       " ' No longer will we tolerate one job killing delay after another',\n",
       " ' No longer will we accept a broken system that benefits consultants and lobbyists at the expense of hardworking Americans',\n",
       " '\\n\\nNow, I knew the process very well, probably better than anybody',\n",
       " ' I had to get permits for this building and many of the buildings I built',\n",
       " ' All of the buildings I built in Manhattan and many other places, and I will tell you that the consultants are rich people',\n",
       " ' They go around making it very difficult',\n",
       " \" They lobby congress, they lobby state government, city governments to make it very difficult so that you have to hire consultants and that you have to take years and pay them a fortune, so we’re streamlining the process, and we won't be having so much of that anymore\",\n",
       " '\\n\\nNo longer will we allow the infrastructure of our magnificent country to crumble and decay, while protecting the environment we will build gleaming new roads, bridges, railways, waterways, tunnels and highways',\n",
       " ' We will rebuild our country with American workers, American iron, American aluminum, American steel',\n",
       " ' We will create millions of new jobs and make millions of American dreams come true',\n",
       " '\\n\\n\\nOur infrastructure will again be the best in the world',\n",
       " ' We used to have the greatest infrastructure anywhere in the world, and today, we are like a third-world country',\n",
       " ' We are literally like a third-world country',\n",
       " ' Our infrastructure will again be the best, and we will restore the pride in our communities, our nation, and all over the United States, we will be proud again',\n",
       " '\\n\\nSo I want to thank everybody for being here',\n",
       " ' God bless you, God bless the United States',\n",
       " ' If you have any questions, Mick, you could come up here please, come on up',\n",
       " ' Mick Mulvaney',\n",
       " ' If you have any questions, please feel free to ask',\n",
       " '\\n\\nREPORTER: Mr',\n",
       " \" President, why is it that are CEOs are leaving your manufacturing council?\\n\\nTRUMP: Because they're not taking their jobs seriously as it pertains to this country\",\n",
       " ' We want jobs, manufacturing in this country',\n",
       " ' If you look at some of those people that you’re talking about, they’re outside of the country, they’re having a lot of their product made outside, if you look at Merck as an example',\n",
       " '\\n\\n(chatter)\\n\\nExcuse me, excuse me',\n",
       " ' Take a look at where their product is made',\n",
       " ' It’s made outside of our country',\n",
       " ' We want products made in the country',\n",
       " ' Now I have to tell you, some of the folks that will leave, they’re leaving out of embarrassment, because they make their products outside, and I’ve been lecturing them, including the gentleman you’ve been referring to, about, you have to bring it back to this country',\n",
       " ' You can’t do it, necessarily, in Ireland, and all of these other places',\n",
       " ' You have to bring this work back to this country',\n",
       " ' That’s what I want – I want manufacturing to be back into the United States so that American workers can benefit',\n",
       " '\\n\\n(chatter)\\n\\nReporter: Mr',\n",
       " ' President, why did you wait so long to blast neo-Nazis?\\n\\nTRUMP: I didn’t wait long',\n",
       " ' I didn’t wait long',\n",
       " ' I wanted to make sure, unlike most politicians, that what I said was correct – not make a quick statement',\n",
       " ' The statement I made on Saturday, the first statement, was a fine statement',\n",
       " ' But you don’t make statements that direct unless you know the facts',\n",
       " ' It takes a little while to get the facts',\n",
       " ' You still don’t know the facts',\n",
       " ' And it’s a very, very important process to me and it’s an important statement',\n",
       " ' So I don’t want to go quickly, and just make a statement for the sake of making a political statement',\n",
       " ' I want to know the facts',\n",
       " ' If you go back to my – in fact, I brought it',\n",
       " ' I brought it',\n",
       " ' I brought it',\n",
       " '\\n\\nAs I said on, remember, Saturday, “We condemn in the strongest possible terms this egregious display of hatred, bigotry and violence',\n",
       " ' It has no place in America',\n",
       " '” And then I went on from there',\n",
       " '\\n\\nNow, here’s the thing',\n",
       " '\\n\\n(chatter)\\n\\nExcuse me, excuse me',\n",
       " ' Take it nice and easy',\n",
       " '\\n\\nHere’s the thing',\n",
       " ' When I make a statement, I like to be correct',\n",
       " ' I want the facts',\n",
       " ' This event just happened',\n",
       " ' In fact, a lot of it didn’t even happen yet, as we were speaking',\n",
       " ' This event just happened',\n",
       " ' Before I make a statement, I need the facts',\n",
       " ' I don’t want to rush into a statement, so making the statement when I made it was excellent',\n",
       " '\\n\\nIn fact, the young woman, who I hear is a fantastic young woman, her mother wrote me, and said, through I guess Twitter, social media, the nicest things, and I very much appreciated that',\n",
       " ' I hear she was a fine, really actually an incredible young woman',\n",
       " ' But her mother, on Twitter, thanked me for what I said, and honestly, if the press were not fake, and it was honest, the press would have said what I said was very nice',\n",
       " '\\n\\n(chatter)\\n\\nExcuse me',\n",
       " ' But unlike you, and unlike the media – before I make a statement, I like to know the facts',\n",
       " '\\n\\n(chatter)\\n\\nThey don’t',\n",
       " ' They don’t',\n",
       " '\\n\\nHow about a couple of infrastructure questions',\n",
       " '\\n\\nReporter: The CEO of Walmart said you missed a critical moment to bring the country together',\n",
       " ' Did you?\\n\\nTRUMP: Not at all',\n",
       " ' Look, you take a look',\n",
       " ' I’ve created over a million jobs since I’m president',\n",
       " ' The country is booming, the stock market is setting records, we have the highest unemployment we’ve ever had in the history of our country, we’re doing record business, we have the highest levels of enthusiasm, so the head of Walmart, who I know – he’s a very nice guy – was making a political statement',\n",
       " ' I mean, ask him how his – they do it the same way, and you know why? Because I want to make sure, when I make the statement, that the statement was correct',\n",
       " ' There’s no way, there was no way of making a correct statement that early',\n",
       " ' I had to see the facts, unlike a lot of reporters, unlike a lot of reporters',\n",
       " '\\n\\nI didn’t know David Duke was there',\n",
       " ' I wanted to see the facts, and the facts, as they started coming out, were very well stated',\n",
       " ' In fact, everybody said, “his statement was beautiful',\n",
       " ' If he would have made it sooner, that would have been good',\n",
       " '” I couldn’t have made it sooner because I didn’t know all of the facts',\n",
       " ' Frankly, people still don’t know all of the facts',\n",
       " ' It was very important –\\n\\n(chatter)\\n\\nExcuse me, excuse me',\n",
       " ' It was very important to me to get the facts out, and correctly',\n",
       " ' Because if I would have made a fast statement – and the first statement was made without knowing much other than what we were seeing',\n",
       " ' The second statement was made after – with knowledge, with great knowledge',\n",
       " ' There’s still things – excuse me – there’s still things that people don’t know',\n",
       " ' I want to make a statement with knowledge, I wanted to know the facts',\n",
       " ' Okay',\n",
       " '\\n\\nReporter: Two questions – was this terrorism? And can you tell us how you’re feeling about your chief strategist, Stephen Bannon?\\n\\nTRUMP: Well, I think the driver of the car is a disgrace to himself, his family and this country, and that is – you can call it terrorism, you can call it murder, you can call it whatever you want',\n",
       " ' I would just call it as the fastest one to come up with a good verdict, that’s what I’d call it, because there is a question, is it murder? Is it terrorism? And then you get into legal semantics',\n",
       " '\\n\\nThe driver of the car is a murderer, and what he did is a horrible, horrible, inexcusable thing',\n",
       " '\\n\\nReporter: Can you tell us how you feel about your chief strategist, Mr',\n",
       " ' Bannon?\\n\\nTRUMP: I never spoke to Mr',\n",
       " ' Bannon about it',\n",
       " '\\n\\nReporter: But can you tell us broadly what your, do you still have confidence in Steve?\\n\\nTRUMP: Well, let’s see',\n",
       " ' Look, look, I like Mr',\n",
       " ' Bannon, he’s a friend of mine',\n",
       " ' But Mr',\n",
       " ' Bannon came on very late, you know that',\n",
       " ' I went through 17 senators, governors, and I won all the primaries',\n",
       " ' Mr',\n",
       " ' Bannon came on very much later than that, and I like him',\n",
       " ' He’s a good man',\n",
       " ' He’s not a racist, I can tell you that',\n",
       " ' He’s a good person',\n",
       " ' He actually gets a very unfair press in that regard',\n",
       " ' But, we’ll see what happens with Mr',\n",
       " ' Bannon',\n",
       " ' But he’s a good person, and I think the press treats him, frankly, very unfairly',\n",
       " '\\n\\nReporter: McCain has called on you to defend your national security adviser, H',\n",
       " 'R',\n",
       " ' McMaster, against attacks',\n",
       " '\\n\\nTRUMP: I’ve already done that, I did it the last time',\n",
       " '\\n\\nReporter: And he called on it again,\\n\\nTRUMP: Senator McCain, you mean the one who voted against Obamacare? You mean Senator McCain, who voted against us getting good health care?\\n\\nReporter: Senator McCain said that the alt-right is behind these attacks, and he linked that same group to those who perpetrated the attack against Charlottesville',\n",
       " '\\n\\nTRUMP: Well, I don’t know, I can’t tell you',\n",
       " ' I’m sure Senator McCain must know what he’s talking about',\n",
       " ' But when you say the alt-right, define alt-right to me',\n",
       " ' You define it to me',\n",
       " ' Define it for me, go ahead',\n",
       " '\\n\\nReporter: Senator McCain defined it as the same group –\\n\\nTrump: Okay, what about the alt-left that came charging at ‘em',\n",
       " ' Excuse me, what about the alt-left that came charging at, as you say the alt-right? Do they have any semblance of guilt?\\n\\n(chatter)\\n\\nTRUMP: Let me ask you this – what about the fact they came charging, that they came charging with clubs in their hands, swinging clubs? Do they have any problem? I think they do',\n",
       " ' So, you know, as far as I’m concerned, that was a horrible, horrible day',\n",
       " ' Wait a minute – I’m not finished, fake news',\n",
       " ' That was a horrible day',\n",
       " '\\n\\n(chatter)\\n\\nTRUMP: I will tell you something',\n",
       " ' I watched those very closely, much more closely than you people watched it, and you have, you had a group on one side that was bad, and you had a group on the other side that was also very violent',\n",
       " ' And nobody wants to say that, but I’ll say it right now',\n",
       " ' You had a group on the other side that came charging in, without a permit, and they were very, very violent',\n",
       " '\\n\\n(chatter)\\n\\nReporter: Do you think that what you call the alt-left is the same as neo-Nazis?\\n\\nTRUMP: Those people, all of those people, excuse me',\n",
       " ' I’ve condemned neo-Nazis',\n",
       " ' I’ve condemned many different groups',\n",
       " ' But not all of those people were neo-Nazis, believe me',\n",
       " ' Not all of those people were white supremacists, by any stretch',\n",
       " ' Those people were also there because they wanted to protest the taking down of a statue of Robert E',\n",
       " ' Lee',\n",
       " '\\n\\nQ Should that statue be taken down?\\n\\nTHE PRESIDENT: Excuse me',\n",
       " \" If you take a look at some of the groups, and you see – and you'd know it if you were honest reporters, which in many cases you're not – but many of those people were there to protest the taking down of the statue of Robert E\",\n",
       " ' Lee',\n",
       " \" So this week it's Robert E\",\n",
       " ' Lee',\n",
       " ' I noticed that Stonewall Jackson is coming down',\n",
       " ' I wonder, is it George Washington next week? And is it Thomas Jefferson the week after? You know, you really do have to ask yourself, where does it stop?\\n\\nBut they were there to protest -- excuse me, if you take a look, the night before they were there to protest the taking down of the statue of Robert E',\n",
       " ' Lee',\n",
       " ' Infrastructure question',\n",
       " ' Go ahead',\n",
       " '\\n\\nReporter: Should the statues of Robert E',\n",
       " \" Lee stay up?\\n\\nTRUMP: I would say that's up to a local town, community, or the federal government, depending on where it is located\",\n",
       " \"\\n\\nReporter: How concerned are you about race relations in America, and do you think things have gotten worse or better since you took office?\\n\\nTRUMP: I think they've gotten better or the same\",\n",
       " \" Look, they've been frayed for a long time\",\n",
       " \" And you can ask President Obama about that, because he'd make speeches about it\",\n",
       " \" But I believe that the fact that I brought in -- it will be soon -- millions of jobs -- you see where companies are moving back into our country -- I think that's going to have a tremendous, positive impact on race relations\",\n",
       " ' We have companies coming back into our country',\n",
       " ' We have two car companies that just announced',\n",
       " ' We have Foxconn in Wisconsin just announced',\n",
       " ' We have many companies, I say, pouring back into the country',\n",
       " \" I think that's going to have a huge, positive impact on race relations\",\n",
       " \"\\n\\nYou know why? It's jobs\",\n",
       " ' What people want now, they want jobs',\n",
       " ' They want great jobs with good pay, and when they have that, you watch how race relations will be',\n",
       " ' And I’ll tell you, we’re spending a lot of money on the inner cities',\n",
       " ' We’re fixing the inner cities',\n",
       " ' We’re doing far more than anybody has done with respect to the inner cities',\n",
       " ' It’s a priority for me, and it’s very important',\n",
       " '\\n\\nReporter: Mr',\n",
       " ' President, are you putting what you’re calling the alt-left and white supremacists on the same moral plane?\\n\\nTRUMP: I’m not putting anybody on a moral plane',\n",
       " ' What I’m saying is this: You had a group on one side and you had a group on the other, and they came at each other with clubs -- and it was vicious and it was horrible',\n",
       " ' And it was a horrible thing to watch',\n",
       " ' But there is another side',\n",
       " ' There was a group on this side',\n",
       " ' You can call them the left -- you just called them the left -- that came violently attacking the other group',\n",
       " ' So you can say what you want, but that’s the way it is',\n",
       " '\\n\\nReporter: You said there was hatred, there was violence on both sides',\n",
       " ' Are the –\\n\\nTHE PRESIDENT: Yes, I think there’s blame on both sides',\n",
       " ' If you look at both sides -- I think there’s blame on both sides',\n",
       " ' And I have no doubt about it, and you don’t have any doubt about it either',\n",
       " ' And if you reported it accurately, you would say',\n",
       " '\\n\\nReporter: The neo-Nazis started this',\n",
       " ' They showed up in Charlottesville to protest –\\n\\nTRUMP: Excuse me, excuse me',\n",
       " ' They didn’t put themselves -- and you had some very bad people in that group, but you also had people that were very fine people, on both sides',\n",
       " ' You had people in that group',\n",
       " '\\n\\n(chatter)\\n\\nPRESIDENT: Excuse me, excuse me',\n",
       " ' I saw the same pictures as you did',\n",
       " ' You had people in that group that were there to protest the taking down of, to them, a very, very important statue and the renaming of a park from Robert E',\n",
       " ' Lee to another name',\n",
       " '\\n\\nReporter: George Washington and Robert E',\n",
       " ' Lee are not the same',\n",
       " '\\n\\nTRUMP: George Washington was a slave owner',\n",
       " ' Was George Washington a slave owner? So will George Washington now lose his status? Are we going to take down -- Excuse me, are we going to take down statues to George Washington? How about Thomas Jefferson? What do you think of Thomas Jefferson? You like him?\\n\\nReporter: I do love Thomas Jefferson',\n",
       " '\\n\\nTRUMP: Okay, good',\n",
       " ' Are we going to take down the statue? Because he was a major slave owner',\n",
       " ' Now, are we going to take down his statue? So you know what, it’s fine',\n",
       " ' You’re changing history',\n",
       " ' You’re changing culture',\n",
       " ' And you had people -- and I’m not talking about the neo-Nazis and the white nationalists -- because they should be condemned totally',\n",
       " ' But you had many people in that group other than neo-Nazis and white nationalists',\n",
       " ' Okay? And the press has treated them absolutely unfairly',\n",
       " ' Now, in the other group also, you had some fine people',\n",
       " ' But you also had troublemakers, and you see them come with the black outfits and with the helmets, and with the baseball bats',\n",
       " ' You had a lot of bad people in the other group',\n",
       " '\\n\\nReporter: Who are the good people? Sir, I just didn’t understand what you were saying',\n",
       " ' You were saying the press has treated white nationalists unfairly? I just don’t understand what you were saying',\n",
       " '\\n\\nTRUMP: No, no',\n",
       " ' There were people in that rally -- and I looked the night before -- if you look, there were people protesting very quietly the taking down of the statue of Robert E',\n",
       " ' Lee',\n",
       " ' I’m sure in that group there were some bad ones',\n",
       " ' The following day it looked like they had some rough, bad people -- neo-Nazis, white nationalists, whatever you want to call them',\n",
       " ' But you had a lot of people in that group that were there to innocently protest, and very legally protest -- because I don’t know if you know, they had a permit',\n",
       " ' The other group didn’t have a permit',\n",
       " ' So I only tell you this: There are two sides to a story',\n",
       " ' I thought what took place was a horrible moment for our country -- a horrible moment',\n",
       " ' But there are two sides to the country',\n",
       " ' Does anybody have a final –\\n\\nReporter: I have an infrastructure question',\n",
       " '\\n\\nTRUMP: You have an infrastructure –\\n\\nReporter: What makes you think you can get an infrastructure bill? You didn’t get healthcare –\\n\\nTRUMP: Well, you know, I’ll tell you',\n",
       " ' We came very close with healthcare',\n",
       " ' Unfortunately, John McCain decided to vote against it at the last minute',\n",
       " ' You’ll have to ask John McCain why he did that',\n",
       " ' But we came very close to healthcare',\n",
       " ' We will end up getting healthcare',\n",
       " ' But we’ll get the infrastructure',\n",
       " ' And actually, infrastructure is something that I think we’ll have bipartisan support on',\n",
       " ' I actually think Democrats will go along with the infrastructure',\n",
       " '\\n\\nReporter: Mr',\n",
       " ' President, have you spoken to the family of the victim of the car attack?\\n\\nTRUMP: No, I’ll be reaching out',\n",
       " ' I’ll be reaching out',\n",
       " '\\n\\nReporter: When will you be reaching out?\\n\\nTRUMP: I thought that the statement put out -- the mother’s statement I thought was a beautiful statement',\n",
       " ' I will tell you, it was something that I really appreciated',\n",
       " ' I thought it was terrific',\n",
       " ' And, really, under the kind of stress that she’s under and the heartache that she’s under, I thought putting out that statement, to me, was really something',\n",
       " ' I won’t forget it',\n",
       " ' Thank you, all, very much',\n",
       " ' Thank you',\n",
       " ' Thank you',\n",
       " '\\n\\nReporter: Will you go to Charlottesville? Will you go to check out what happened?\\n\\nTRUMP: I own a house in Charlottesville',\n",
       " \" Does anyone know I own a house in Charlottesville?\\n\\nReporter: Where is it?\\n\\nTRUMP: Oh boy, it’s going to be –\\n\\nReporter: Where is it?\\n\\nTRUMP: It's in Charlottesville\",\n",
       " \" You'll see\",\n",
       " '\\n\\nReporter: Is it a winery or something?\\n\\nTRUMP: It is the winery',\n",
       " ' I mean, I know a lot about Charlottesville',\n",
       " \" Charlottesville is a great place that's been very badly hurt over the last couple of days\",\n",
       " '\\n\\n(chatter)\\n\\nTRUMP: I own, actually, one of the largest wineries in the United States',\n",
       " \" It's in Charlottesville\",\n",
       " '\\n\\nReporter: Do you believe your words are helping to heal this country right now? What do you think needs to be done to overcome the racial divides in this country?\\n\\nsubscribe\\nThe story must be told',\n",
       " '\\nYour subscription supports journalism that matters',\n",
       " '\\nTry 1 month for 99¢\\nTRUMP: Well, I think jobs can have a big impact',\n",
       " ' I think if we continue to create jobs -- over a million, substantially more than a million',\n",
       " ' And you see just the other day, the car companies coming in with Foxconn',\n",
       " ' I think if we continue to create jobs at levels that I’m creating jobs, I think that’s going to have a tremendous impact -- positive impact on race relations',\n",
       " '\\n\\nReporter: Your remarks today, how do you think that will impact the racial, sort of conflict, today?\\n\\nTRUMP: The people are going to be working, they’re going to be making a lot of money – much more money than they ever thought possible',\n",
       " ' But that’s going to happen',\n",
       " '\\n\\nReporter: Your remarks today–\\n\\nTRUMP: And the other thing – very important – I believe wages will start going up',\n",
       " ' They haven’t gone up for a long time',\n",
       " ' I believe wages now – because the economy is doing so well with respect to employment and unemployment, I believe wages will start to go up',\n",
       " ' I think that will have a tremendously positive impact on race relations',\n",
       " '\\n']"
      ]
     },
     "execution_count": 7,
     "metadata": {},
     "output_type": "execute_result"
    }
   ],
   "source": [
    "trump_text.split('.')"
   ]
  },
  {
   "cell_type": "code",
   "execution_count": 8,
   "metadata": {},
   "outputs": [
    {
     "data": {
      "text/plain": [
       "\"PRESIDENT TRUMP: Hello, everybody. Great to be back in New York with all of our friends and some great friends outside the building, I must tell you.\\n\\nI want to thank all of our distinguished guests who are with us today, including members of our cabinet: Treasury secretary Stephen Mnuchin, OMB Director Mick Mulvaney and, of course, our Transportation Secretary who is doing a fabulous job, Elaine Chao.\\n\\nThank you all for doing a really incredible and creative job on what we're going to be discussing today, which is infrastructure. We've just had a great set of briefings upstairs on our infrastructure agenda. My administration is working every day to deliver the world class infrastructure that our people deserve, and frankly our country deserves. That’s why I just signed a new Executive Order to dramatically reform the nation's badly broken infrastructure permitting process. Just blocks away is the Empire State Building. It took 11 months to build the Empire State Building. But today it can take as long as a decade, and much more than that. Many, many stories where it takes 20 and 25 years just to get approvals to start construction of a fairly routine highway. Highway builders must get up to 16 different approvals involving nine different federal agencies, governed by 29 different statutes. One agency alone can stall a project for many, many years and even decades.\\n\\n\\nNot only does this cost our economy billions of dollars, but it also denies our citizens the safe and modern infrastructure they deserve. This overregulated permitting process is a massive self-inflicted wound on our country. It’s disgraceful. Denying our people much needed investments in their community, and I just want to show you this, because it was just shown to me, and I said, I think I'm going to show it to the media – both real and fake media by the way.\\n\\nThis is what it takes to get something approved today. Elaine, you see that? So this is what it takes. Permitting process flow chart, that's a flow chart. So that can go out to about 20 years, this shows about 10. But that can go out to about 20 years to get something approved. This is for a highway. I’ve seen a highway recently in a certain state – I won’t mention its name, it’s 17 years. I could have built it for $4 million, $5 million without the permitting process. It costs hundreds of millions of dollars, but it took 17 years to get it approved, and many, many, many, many pages of environmental impact studies.\\n\\nThis is what we will bring it down to. This is less than two years. This is going to happen quickly, that's what I'm signing today. This will be less than two years for a highway. So it's going to be quick, it's going to be a very streamlined process, and by the way, if it doesn't meet environmental safeguards, we are not going to approve it. Very simple, we’re not going to approve it. So this is – maybe this one will say, let's throw the other one away. Would anybody like it from the media? Would anybody like that long, beautiful chart, you can have it.\\n\\n\\nSo my executive order also requires agencies to work together efficiently by requiring one lead agency for each major infrastructure project. It also holds agencies accountable if they fail to streamline their review process, so each agency is accountable. We're going to get infrastructure built quickly, inexpensively, relatively speaking, and the permitting process will go very, very quickly. No longer will we tolerate one job killing delay after another. No longer will we accept a broken system that benefits consultants and lobbyists at the expense of hardworking Americans.\\n\\nNow, I knew the process very well, probably better than anybody. I had to get permits for this building and many of the buildings I built. All of the buildings I built in Manhattan and many other places, and I will tell you that the consultants are rich people. They go around making it very difficult. They lobby congress, they lobby state government, city governments to make it very difficult so that you have to hire consultants and that you have to take years and pay them a fortune, so we’re streamlining the process, and we won't be having so much of that anymore.\\n\\nNo longer will we allow the infrastructure of our magnificent country to crumble and decay, while protecting the environment we will build gleaming new roads, bridges, railways, waterways, tunnels and highways. We will rebuild our country with American workers, American iron, American aluminum, American steel. We will create millions of new jobs and make millions of American dreams come true.\\n\\n\\nOur infrastructure will again be the best in the world. We used to have the greatest infrastructure anywhere in the world, and today, we are like a third-world country. We are literally like a third-world country. Our infrastructure will again be the best, and we will restore the pride in our communities, our nation, and all over the United States, we will be proud again.\\n\\nSo I want to thank everybody for being here. God bless you, God bless the United States. If you have any questions, Mick, you could come up here please, come on up. Mick Mulvaney. If you have any questions, please feel free to ask.\\n\\nREPORTER: Mr. President, why is it that are CEOs are leaving your manufacturing council?\\n\\nTRUMP: Because they're not taking their jobs seriously as it pertains to this country. We want jobs, manufacturing in this country. If you look at some of those people that you’re talking about, they’re outside of the country, they’re having a lot of their product made outside, if you look at Merck as an example.\\n\\n(chatter)\\n\\nExcuse me, excuse me. Take a look at where their product is made. It’s made outside of our country. We want products made in the country. Now I have to tell you, some of the folks that will leave, they’re leaving out of embarrassment, because they make their products outside, and I’ve been lecturing them, including the gentleman you’ve been referring to, about, you have to bring it back to this country. You can’t do it, necessarily, in Ireland, and all of these other places. You have to bring this work back to this country. That’s what I want – I want manufacturing to be back into the United States so that American workers can benefit.\\n\\n(chatter)\\n\\nReporter: Mr. President, why did you wait so long to blast neo-Nazis?\\n\\nTRUMP: I didn’t wait long. I didn’t wait long. I wanted to make sure, unlike most politicians, that what I said was correct – not make a quick statement. The statement I made on Saturday, the first statement, was a fine statement. But you don’t make statements that direct unless you know the facts. It takes a little while to get the facts. You still don’t know the facts. And it’s a very, very important process to me and it’s an important statement. So I don’t want to go quickly, and just make a statement for the sake of making a political statement. I want to know the facts. If you go back to my – in fact, I brought it. I brought it. I brought it.\\n\\nAs I said on, remember, Saturday, “We condemn in the strongest possible terms this egregious display of hatred, bigotry and violence. It has no place in America.” And then I went on from there.\\n\\nNow, here’s the thing.\\n\\n(chatter)\\n\\nExcuse me, excuse me. Take it nice and easy.\\n\\nHere’s the thing. When I make a statement, I like to be correct. I want the facts. This event just happened. In fact, a lot of it didn’t even happen yet, as we were speaking. This event just happened. Before I make a statement, I need the facts. I don’t want to rush into a statement, so making the statement when I made it was excellent.\\n\\nIn fact, the young woman, who I hear is a fantastic young woman, her mother wrote me, and said, through I guess Twitter, social media, the nicest things, and I very much appreciated that. I hear she was a fine, really actually an incredible young woman. But her mother, on Twitter, thanked me for what I said, and honestly, if the press were not fake, and it was honest, the press would have said what I said was very nice.\\n\\n(chatter)\\n\\nExcuse me. But unlike you, and unlike the media – before I make a statement, I like to know the facts.\\n\\n(chatter)\\n\\nThey don’t. They don’t.\\n\\nHow about a couple of infrastructure questions.\\n\\nReporter: The CEO of Walmart said you missed a critical moment to bring the country together. Did you?\\n\\nTRUMP: Not at all. Look, you take a look. I’ve created over a million jobs since I’m president. The country is booming, the stock market is setting records, we have the highest unemployment we’ve ever had in the history of our country, we’re doing record business, we have the highest levels of enthusiasm, so the head of Walmart, who I know – he’s a very nice guy – was making a political statement. I mean, ask him how his – they do it the same way, and you know why? Because I want to make sure, when I make the statement, that the statement was correct. There’s no way, there was no way of making a correct statement that early. I had to see the facts, unlike a lot of reporters, unlike a lot of reporters.\\n\\nI didn’t know David Duke was there. I wanted to see the facts, and the facts, as they started coming out, were very well stated. In fact, everybody said, “his statement was beautiful. If he would have made it sooner, that would have been good.” I couldn’t have made it sooner because I didn’t know all of the facts. Frankly, people still don’t know all of the facts. It was very important –\\n\\n(chatter)\\n\\nExcuse me, excuse me. It was very important to me to get the facts out, and correctly. Because if I would have made a fast statement – and the first statement was made without knowing much other than what we were seeing. The second statement was made after – with knowledge, with great knowledge. There’s still things – excuse me – there’s still things that people don’t know. I want to make a statement with knowledge, I wanted to know the facts. Okay.\\n\\nReporter: Two questions – was this terrorism? And can you tell us how you’re feeling about your chief strategist, Stephen Bannon?\\n\\nTRUMP: Well, I think the driver of the car is a disgrace to himself, his family and this country, and that is – you can call it terrorism, you can call it murder, you can call it whatever you want. I would just call it as the fastest one to come up with a good verdict, that’s what I’d call it, because there is a question, is it murder? Is it terrorism? And then you get into legal semantics.\\n\\nThe driver of the car is a murderer, and what he did is a horrible, horrible, inexcusable thing.\\n\\nReporter: Can you tell us how you feel about your chief strategist, Mr. Bannon?\\n\\nTRUMP: I never spoke to Mr. Bannon about it.\\n\\nReporter: But can you tell us broadly what your, do you still have confidence in Steve?\\n\\nTRUMP: Well, let’s see. Look, look, I like Mr. Bannon, he’s a friend of mine. But Mr. Bannon came on very late, you know that. I went through 17 senators, governors, and I won all the primaries. Mr. Bannon came on very much later than that, and I like him. He’s a good man. He’s not a racist, I can tell you that. He’s a good person. He actually gets a very unfair press in that regard. But, we’ll see what happens with Mr. Bannon. But he’s a good person, and I think the press treats him, frankly, very unfairly.\\n\\nReporter: McCain has called on you to defend your national security adviser, H.R. McMaster, against attacks.\\n\\nTRUMP: I’ve already done that, I did it the last time.\\n\\nReporter: And he called on it again,\\n\\nTRUMP: Senator McCain, you mean the one who voted against Obamacare? You mean Senator McCain, who voted against us getting good health care?\\n\\nReporter: Senator McCain said that the alt-right is behind these attacks, and he linked that same group to those who perpetrated the attack against Charlottesville.\\n\\nTRUMP: Well, I don’t know, I can’t tell you. I’m sure Senator McCain must know what he’s talking about. But when you say the alt-right, define alt-right to me. You define it to me. Define it for me, go ahead.\\n\\nReporter: Senator McCain defined it as the same group –\\n\\nTrump: Okay, what about the alt-left that came charging at ‘em. Excuse me, what about the alt-left that came charging at, as you say the alt-right? Do they have any semblance of guilt?\\n\\n(chatter)\\n\\nTRUMP: Let me ask you this – what about the fact they came charging, that they came charging with clubs in their hands, swinging clubs? Do they have any problem? I think they do. So, you know, as far as I’m concerned, that was a horrible, horrible day. Wait a minute – I’m not finished, fake news. That was a horrible day.\\n\\n(chatter)\\n\\nTRUMP: I will tell you something. I watched those very closely, much more closely than you people watched it, and you have, you had a group on one side that was bad, and you had a group on the other side that was also very violent. And nobody wants to say that, but I’ll say it right now. You had a group on the other side that came charging in, without a permit, and they were very, very violent.\\n\\n(chatter)\\n\\nReporter: Do you think that what you call the alt-left is the same as neo-Nazis?\\n\\nTRUMP: Those people, all of those people, excuse me. I’ve condemned neo-Nazis. I’ve condemned many different groups. But not all of those people were neo-Nazis, believe me. Not all of those people were white supremacists, by any stretch. Those people were also there because they wanted to protest the taking down of a statue of Robert E. Lee.\\n\\nQ Should that statue be taken down?\\n\\nTHE PRESIDENT: Excuse me. If you take a look at some of the groups, and you see – and you'd know it if you were honest reporters, which in many cases you're not – but many of those people were there to protest the taking down of the statue of Robert E. Lee. So this week it's Robert E. Lee. I noticed that Stonewall Jackson is coming down. I wonder, is it George Washington next week? And is it Thomas Jefferson the week after? You know, you really do have to ask yourself, where does it stop?\\n\\nBut they were there to protest -- excuse me, if you take a look, the night before they were there to protest the taking down of the statue of Robert E. Lee. Infrastructure question. Go ahead.\\n\\nReporter: Should the statues of Robert E. Lee stay up?\\n\\nTRUMP: I would say that's up to a local town, community, or the federal government, depending on where it is located.\\n\\nReporter: How concerned are you about race relations in America, and do you think things have gotten worse or better since you took office?\\n\\nTRUMP: I think they've gotten better or the same. Look, they've been frayed for a long time. And you can ask President Obama about that, because he'd make speeches about it. But I believe that the fact that I brought in -- it will be soon -- millions of jobs -- you see where companies are moving back into our country -- I think that's going to have a tremendous, positive impact on race relations. We have companies coming back into our country. We have two car companies that just announced. We have Foxconn in Wisconsin just announced. We have many companies, I say, pouring back into the country. I think that's going to have a huge, positive impact on race relations.\\n\\nYou know why? It's jobs. What people want now, they want jobs. They want great jobs with good pay, and when they have that, you watch how race relations will be. And I’ll tell you, we’re spending a lot of money on the inner cities. We’re fixing the inner cities. We’re doing far more than anybody has done with respect to the inner cities. It’s a priority for me, and it’s very important.\\n\\nReporter: Mr. President, are you putting what you’re calling the alt-left and white supremacists on the same moral plane?\\n\\nTRUMP: I’m not putting anybody on a moral plane. What I’m saying is this: You had a group on one side and you had a group on the other, and they came at each other with clubs -- and it was vicious and it was horrible. And it was a horrible thing to watch. But there is another side. There was a group on this side. You can call them the left -- you just called them the left -- that came violently attacking the other group. So you can say what you want, but that’s the way it is.\\n\\nReporter: You said there was hatred, there was violence on both sides. Are the –\\n\\nTHE PRESIDENT: Yes, I think there’s blame on both sides. If you look at both sides -- I think there’s blame on both sides. And I have no doubt about it, and you don’t have any doubt about it either. And if you reported it accurately, you would say.\\n\\nReporter: The neo-Nazis started this. They showed up in Charlottesville to protest –\\n\\nTRUMP: Excuse me, excuse me. They didn’t put themselves -- and you had some very bad people in that group, but you also had people that were very fine people, on both sides. You had people in that group.\\n\\n(chatter)\\n\\nPRESIDENT: Excuse me, excuse me. I saw the same pictures as you did. You had people in that group that were there to protest the taking down of, to them, a very, very important statue and the renaming of a park from Robert E. Lee to another name.\\n\\nReporter: George Washington and Robert E. Lee are not the same.\\n\\nTRUMP: George Washington was a slave owner. Was George Washington a slave owner? So will George Washington now lose his status? Are we going to take down -- Excuse me, are we going to take down statues to George Washington? How about Thomas Jefferson? What do you think of Thomas Jefferson? You like him?\\n\\nReporter: I do love Thomas Jefferson.\\n\\nTRUMP: Okay, good. Are we going to take down the statue? Because he was a major slave owner. Now, are we going to take down his statue? So you know what, it’s fine. You’re changing history. You’re changing culture. And you had people -- and I’m not talking about the neo-Nazis and the white nationalists -- because they should be condemned totally. But you had many people in that group other than neo-Nazis and white nationalists. Okay? And the press has treated them absolutely unfairly. Now, in the other group also, you had some fine people. But you also had troublemakers, and you see them come with the black outfits and with the helmets, and with the baseball bats. You had a lot of bad people in the other group.\\n\\nReporter: Who are the good people? Sir, I just didn’t understand what you were saying. You were saying the press has treated white nationalists unfairly? I just don’t understand what you were saying.\\n\\nTRUMP: No, no. There were people in that rally -- and I looked the night before -- if you look, there were people protesting very quietly the taking down of the statue of Robert E. Lee. I’m sure in that group there were some bad ones. The following day it looked like they had some rough, bad people -- neo-Nazis, white nationalists, whatever you want to call them. But you had a lot of people in that group that were there to innocently protest, and very legally protest -- because I don’t know if you know, they had a permit. The other group didn’t have a permit. So I only tell you this: There are two sides to a story. I thought what took place was a horrible moment for our country -- a horrible moment. But there are two sides to the country. Does anybody have a final –\\n\\nReporter: I have an infrastructure question.\\n\\nTRUMP: You have an infrastructure –\\n\\nReporter: What makes you think you can get an infrastructure bill? You didn’t get healthcare –\\n\\nTRUMP: Well, you know, I’ll tell you. We came very close with healthcare. Unfortunately, John McCain decided to vote against it at the last minute. You’ll have to ask John McCain why he did that. But we came very close to healthcare. We will end up getting healthcare. But we’ll get the infrastructure. And actually, infrastructure is something that I think we’ll have bipartisan support on. I actually think Democrats will go along with the infrastructure.\\n\\nReporter: Mr. President, have you spoken to the family of the victim of the car attack?\\n\\nTRUMP: No, I’ll be reaching out. I’ll be reaching out.\\n\\nReporter: When will you be reaching out?\\n\\nTRUMP: I thought that the statement put out -- the mother’s statement I thought was a beautiful statement. I will tell you, it was something that I really appreciated. I thought it was terrific. And, really, under the kind of stress that she’s under and the heartache that she’s under, I thought putting out that statement, to me, was really something. I won’t forget it. Thank you, all, very much. Thank you. Thank you.\\n\\nReporter: Will you go to Charlottesville? Will you go to check out what happened?\\n\\nTRUMP: I own a house in Charlottesville. Does anyone know I own a house in Charlottesville?\\n\\nReporter: Where is it?\\n\\nTRUMP: Oh boy, it’s going to be –\\n\\nReporter: Where is it?\\n\\nTRUMP: It's in Charlottesville. You'll see.\\n\\nReporter: Is it a winery or something?\\n\\nTRUMP: It is the winery. I mean, I know a lot about Charlottesville. Charlottesville is a great place that's been very badly hurt over the last couple of days.\\n\\n(chatter)\\n\\nTRUMP: I own, actually, one of the largest wineries in the United States. It's in Charlottesville.\\n\\nReporter: Do you believe your words are helping to heal this country right now? What do you think needs to be done to overcome the racial divides in this country?\\n\\nsubscribe\\nThe story must be told.\\nYour subscription supports journalism that matters.\\nTry 1 month for 99¢\\nTRUMP: Well, I think jobs can have a big impact. I think if we continue to create jobs -- over a million, substantially more than a million. And you see just the other day, the car companies coming in with Foxconn. I think if we continue to create jobs at levels that I’m creating jobs, I think that’s going to have a tremendous impact -- positive impact on race relations.\\n\\nReporter: Your remarks today, how do you think that will impact the racial, sort of conflict, today?\\n\\nTRUMP: The people are going to be working, they’re going to be making a lot of money – much more money than they ever thought possible. But that’s going to happen.\\n\\nReporter: Your remarks today–\\n\\nTRUMP: And the other thing – very important – I believe wages will start going up. They haven’t gone up for a long time. I believe wages now – because the economy is doing so well with respect to employment and unemployment, I believe wages will start to go up. I think that will have a tremendously positive impact on race relations.\\n\""
      ]
     },
     "execution_count": 8,
     "metadata": {},
     "output_type": "execute_result"
    }
   ],
   "source": [
    "trump_text"
   ]
  },
  {
   "cell_type": "markdown",
   "metadata": {},
   "source": [
    "## Count letter hw"
   ]
  }
 ],
 "metadata": {
  "kernelspec": {
   "display_name": "Python 3",
   "language": "python",
   "name": "python3"
  },
  "language_info": {
   "codemirror_mode": {
    "name": "ipython",
    "version": 3
   },
   "file_extension": ".py",
   "mimetype": "text/x-python",
   "name": "python",
   "nbconvert_exporter": "python",
   "pygments_lexer": "ipython3",
   "version": "3.6.1"
  }
 },
 "nbformat": 4,
 "nbformat_minor": 2
}
