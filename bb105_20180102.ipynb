{
 "cells": [
  {
   "cell_type": "markdown",
   "metadata": {},
   "source": [
    "# 爬蟲複習"
   ]
  },
  {
   "cell_type": "code",
   "execution_count": 72,
   "metadata": {
    "scrolled": true
   },
   "outputs": [
    {
     "data": {
      "text/plain": [
       "['ConnectTimeout',\n",
       " 'ConnectionError',\n",
       " 'DependencyWarning',\n",
       " 'FileModeWarning',\n",
       " 'HTTPError',\n",
       " 'NullHandler',\n",
       " 'PreparedRequest',\n",
       " 'ReadTimeout',\n",
       " 'Request',\n",
       " 'RequestException',\n",
       " 'RequestsDependencyWarning',\n",
       " 'Response',\n",
       " 'Session',\n",
       " 'Timeout',\n",
       " 'TooManyRedirects',\n",
       " 'URLRequired',\n",
       " '__author__',\n",
       " '__author_email__',\n",
       " '__build__',\n",
       " '__builtins__',\n",
       " '__cached__',\n",
       " '__cake__',\n",
       " '__copyright__',\n",
       " '__description__',\n",
       " '__doc__',\n",
       " '__file__',\n",
       " '__license__',\n",
       " '__loader__',\n",
       " '__name__',\n",
       " '__package__',\n",
       " '__path__',\n",
       " '__spec__',\n",
       " '__title__',\n",
       " '__url__',\n",
       " '__version__',\n",
       " '_internal_utils',\n",
       " 'adapters',\n",
       " 'api',\n",
       " 'auth',\n",
       " 'certs',\n",
       " 'chardet',\n",
       " 'check_compatibility',\n",
       " 'codes',\n",
       " 'compat',\n",
       " 'cookies',\n",
       " 'delete',\n",
       " 'exceptions',\n",
       " 'get',\n",
       " 'head',\n",
       " 'hooks',\n",
       " 'logging',\n",
       " 'models',\n",
       " 'options',\n",
       " 'packages',\n",
       " 'patch',\n",
       " 'post',\n",
       " 'put',\n",
       " 'request',\n",
       " 'session',\n",
       " 'sessions',\n",
       " 'status_codes',\n",
       " 'structures',\n",
       " 'urllib3',\n",
       " 'utils',\n",
       " 'warnings']"
      ]
     },
     "execution_count": 72,
     "metadata": {},
     "output_type": "execute_result"
    }
   ],
   "source": [
    "import requests\n",
    "\n",
    "dir(requests)"
   ]
  },
  {
   "cell_type": "code",
   "execution_count": 73,
   "metadata": {},
   "outputs": [
    {
     "data": {
      "text/plain": [
       "<Response [200]>"
      ]
     },
     "execution_count": 73,
     "metadata": {},
     "output_type": "execute_result"
    }
   ],
   "source": [
    "# shift-tab #看函數的用法解釋 有docstring\n",
    "# 看doc string #__doc__ 看物件的說明\n",
    "# requests.options() 傳一個option的requests, 傳回一個response的物件 <Response [200]> \n",
    "# 200為OK, 300為redir 轉址, 400為user , 500 server\n",
    "requests.options(\"https://www.ptt.cc/bbs/Gossiping/index.html\")\n",
    "\n"
   ]
  },
  {
   "cell_type": "code",
   "execution_count": 74,
   "metadata": {},
   "outputs": [
    {
     "data": {
      "text/plain": [
       "'<!DOCTYPE html>\\n<html>\\n\\t<head>\\n\\t\\t<meta charset=\"utf-8\">\\n\\t\\t\\n\\n<meta name=\"viewport\" content=\"width=device-width, initial-scale=1\">\\n\\n<title>批踢踢實業坊</title>\\n\\n<link rel=\"stylesheet\" type=\"text/css\" href=\"//images.ptt.cc/bbs/v2.22/bbs-common.css\">\\n<link rel=\"stylesheet\" type=\"text/css\" href=\"//images.ptt.cc/bbs/v2.22/bbs-base.css\" media=\"screen\">\\n<link rel=\"stylesheet\" type=\"text/css\" href=\"//images.ptt.cc/bbs/v2.22/bbs-custom.css\">\\n<link rel=\"stylesheet\" type=\"text/css\" href=\"//images.ptt.cc/bbs/v2.22/pushstream.css\" media=\"screen\">\\n<link rel=\"stylesheet\" type=\"text/css\" href=\"//images.ptt.cc/bbs/v2.22/bbs-print.css\" media=\"print\">\\n\\n\\n\\n\\n\\t</head>\\n    <body>\\n\\t\\t\\n<div class=\"bbs-screen bbs-content\">\\n    <div class=\"over18-notice\">\\n        <p>本網站已依網站內容分級規定處理</p>\\n\\n        <p>警告︰您即將進入之看板內容需滿十八歲方可瀏覽。</p>\\n\\n        <p>若您尚未年滿十八歲，請點選離開。若您已滿十八歲，亦不可將本區之內容派發、傳閱、出售、出租、交給或借予年齡未滿18歲的人士瀏覽，或將本網站內容向該人士出示、播放或放映。</p>\\n    </div>\\n</div>\\n\\n<div class=\"bbs-screen bbs-content center clear\">\\n    <form action=\"/ask/over18\" method=\"post\">\\n        <input type=\"hidden\" name=\"from\" value=\"/bbs/Gossiping/index.html\">\\n        <div class=\"over18-button-container\">\\n            <button class=\"btn-big\" type=\"submit\" name=\"yes\" value=\"yes\">我同意，我已年滿十八歲<br><small>進入</small></button>\\n        </div>\\n        <div class=\"over18-button-container\">\\n            <button class=\"btn-big\" type=\"submit\" name=\"no\" value=\"no\">未滿十八歲或不同意本條款<br><small>離開</small></button>\\n        </div>\\n    </form>\\n</div>\\n\\n\\t\\t\\n\\n<script>\\n  (function(i,s,o,g,r,a,m){i[\\'GoogleAnalyticsObject\\']=r;i[r]=i[r]||function(){\\n  (i[r].q=i[r].q||[]).push(arguments)},i[r].l=1*new Date();a=s.createElement(o),\\n  m=s.getElementsByTagName(o)[0];a.async=1;a.src=g;m.parentNode.insertBefore(a,m)\\n  })(window,document,\\'script\\',\\'https://www.google-analytics.com/analytics.js\\',\\'ga\\');\\n\\n  ga(\\'create\\', \\'UA-32365737-1\\', {\\n    cookieDomain: \\'ptt.cc\\',\\n    legacyCookieDomain: \\'ptt.cc\\'\\n  });\\n  ga(\\'send\\', \\'pageview\\');\\n</script>\\n\\n\\n\\t\\t\\n<script src=\"//ajax.googleapis.com/ajax/libs/jquery/2.1.1/jquery.min.js\"></script>\\n<script src=\"//images.ptt.cc/bbs/v2.22/bbs.js\"></script>\\n\\n    </body>\\n</html>\\n'"
      ]
     },
     "execution_count": 74,
     "metadata": {},
     "output_type": "execute_result"
    }
   ],
   "source": [
    "import requests\n",
    "\n",
    "URL = \"https://www.ptt.cc/bbs/Gossiping/index.html\"\n",
    "\n",
    "resp = requests.get(URL)\n",
    "resp.text"
   ]
  },
  {
   "cell_type": "markdown",
   "metadata": {},
   "source": [
    "## 仔細觀察瀏覽PTT八卦版的流程，並且打開開發者工具"
   ]
  },
  {
   "cell_type": "code",
   "execution_count": 75,
   "metadata": {},
   "outputs": [
    {
     "data": {
      "text/plain": [
       "'tn wide disabled\">下頁 &rsaquo;</a>\\n\\t\\t\\t\\t<a class=\"btn wide\" href=\"/bbs/Gossiping/index.html\">最新</a>\\n\\t\\t\\t</div>\\n\\t\\t</div>\\n\\t</div>\\n\\n\\t<div class=\"r-list-container action-bar-margin bbs-screen\">\\n\\t\\t\\n\\t\\t\\n            \\n        \\n        \\n\\t\\t<div class=\"r-ent\">\\n\\t\\t\\t<div class=\"nrec\"><span class=\"hl f2\">7</span></div>\\n\\t\\t\\t<div class=\"mark\"></div>\\n\\t\\t\\t<div class=\"title\">\\n\\t\\t\\t\\n\\t\\t\\t\\t<a href=\"/bbs/Gossiping/M.1514957382.A.'"
      ]
     },
     "execution_count": 75,
     "metadata": {},
     "output_type": "execute_result"
    }
   ],
   "source": [
    "import requests\n",
    "\n",
    "URL = \"https://www.ptt.cc/bbs/Gossiping/index.html\"\n",
    "\n",
    "custom_headers = {\n",
    "    \"cookie\": \"over18=1;\"\n",
    "}\n",
    "\n",
    "resp = requests.get(URL, headers=custom_headers)\n",
    "# resp.text\n",
    "resp.text[1500:1900]\n",
    "# 成功！"
   ]
  },
  {
   "cell_type": "markdown",
   "metadata": {},
   "source": [
    "## 思考一下PTT的換頁策略\n",
    "\n",
    "我們需要知道現在最新的頁面是多少\n",
    "\n",
    "![https://i.imgur.com/MBX0eET.png](https://i.imgur.com/MBX0eET.png)\n",
    "\n",
    "可以用上次的re模組撰寫regular express來取得"
   ]
  },
  {
   "cell_type": "code",
   "execution_count": 76,
   "metadata": {},
   "outputs": [
    {
     "data": {
      "text/plain": [
       "31224"
      ]
     },
     "execution_count": 76,
     "metadata": {},
     "output_type": "execute_result"
    }
   ],
   "source": [
    "import re\n",
    "\n",
    "import requests\n",
    "\n",
    "URL = \"https://www.ptt.cc/bbs/Gossiping/index.html\"\n",
    "\n",
    "custom_headers = {\n",
    "    \"cookie\": \"over18=1;\"\n",
    "}\n",
    "\n",
    "resp = requests.get(URL, headers=custom_headers)\n",
    "\n",
    "# 這個符號\n",
    "# ‹-> &lsaquo;\n",
    "total_page_cnt = int(re.findall('href=\"/bbs/Gossiping/index(\\d+).html\">&lsaquo; 上頁', resp.text)[0]) + 1\n",
    "\n",
    "total_page_cnt"
   ]
  },
  {
   "cell_type": "code",
   "execution_count": 77,
   "metadata": {},
   "outputs": [],
   "source": [
    "# 整理成function\n",
    "def get_total_page_cnt():\n",
    "    URL = \"https://www.ptt.cc/bbs/Gossiping/index.html\"\n",
    "\n",
    "    custom_headers = {\n",
    "        \"cookie\": \"over18=1;\"\n",
    "    }\n",
    "\n",
    "    resp = requests.get(URL, headers=custom_headers)\n",
    "\n",
    "    # 這個符號\n",
    "    # ‹-> &lsaquo;\n",
    "    total_page_cnt = int(re.findall('href=\"/bbs/Gossiping/index(\\d+).html\">&lsaquo; 上頁', resp.text)[0]) + 1\n",
    "    return total_page_cnt"
   ]
  },
  {
   "cell_type": "markdown",
   "metadata": {},
   "source": [
    "## 單頁爬蟲"
   ]
  },
  {
   "cell_type": "code",
   "execution_count": 78,
   "metadata": {},
   "outputs": [],
   "source": [
    "import re\n",
    "\n",
    "import requests\n",
    "\n",
    "def get_list_page(url):\n",
    "    \"\"\"爬取PTT列表頁面\n",
    "\n",
    "    Parameters\n",
    "    ----------\n",
    "    url : str\n",
    "        PTT列表頁UTL，\n",
    "        如：https://www.ptt.cc/bbs/Gossiping/index31063.html\n",
    "\n",
    "    Returns\n",
    "    -------\n",
    "    list\n",
    "        頁面上所有PTT內文URL\n",
    "    \"\"\"\n",
    "    HOST = \"https://www.ptt.cc\"\n",
    "    \n",
    "    custom_headers = {\n",
    "        \"cookie\": \"over18=1;\"\n",
    "    }\n",
    "\n",
    "    resp = requests.get(url, headers=custom_headers)\n",
    "    links = re.findall('<a href=\"(/bbs/Gossiping/M.+\\.html)\">.+</a>', resp.text)\n",
    "    detail_page_links = [HOST + link for link in links]\n",
    "    return detail_page_links"
   ]
  },
  {
   "cell_type": "code",
   "execution_count": 79,
   "metadata": {},
   "outputs": [
    {
     "data": {
      "text/plain": [
       "['https://www.ptt.cc/bbs/Gossiping/M.1514853038.A.F34.html',\n",
       " 'https://www.ptt.cc/bbs/Gossiping/M.1514853127.A.9F6.html',\n",
       " 'https://www.ptt.cc/bbs/Gossiping/M.1514853296.A.F08.html',\n",
       " 'https://www.ptt.cc/bbs/Gossiping/M.1514853353.A.8FF.html',\n",
       " 'https://www.ptt.cc/bbs/Gossiping/M.1514853368.A.FBF.html',\n",
       " 'https://www.ptt.cc/bbs/Gossiping/M.1514853479.A.935.html',\n",
       " 'https://www.ptt.cc/bbs/Gossiping/M.1514853502.A.C78.html',\n",
       " 'https://www.ptt.cc/bbs/Gossiping/M.1514853658.A.805.html',\n",
       " 'https://www.ptt.cc/bbs/Gossiping/M.1514853662.A.5A8.html',\n",
       " 'https://www.ptt.cc/bbs/Gossiping/M.1514853693.A.C78.html',\n",
       " 'https://www.ptt.cc/bbs/Gossiping/M.1514853705.A.6AA.html',\n",
       " 'https://www.ptt.cc/bbs/Gossiping/M.1514853820.A.24D.html',\n",
       " 'https://www.ptt.cc/bbs/Gossiping/M.1514853881.A.32E.html',\n",
       " 'https://www.ptt.cc/bbs/Gossiping/M.1514853900.A.4D2.html',\n",
       " 'https://www.ptt.cc/bbs/Gossiping/M.1514853914.A.8C3.html',\n",
       " 'https://www.ptt.cc/bbs/Gossiping/M.1514853941.A.CE8.html',\n",
       " 'https://www.ptt.cc/bbs/Gossiping/M.1514854082.A.608.html',\n",
       " 'https://www.ptt.cc/bbs/Gossiping/M.1514854089.A.4AB.html',\n",
       " 'https://www.ptt.cc/bbs/Gossiping/M.1514854105.A.DA6.html']"
      ]
     },
     "execution_count": 79,
     "metadata": {},
     "output_type": "execute_result"
    }
   ],
   "source": [
    "get_list_page(\"https://www.ptt.cc/bbs/Gossiping/index31063.html\")"
   ]
  },
  {
   "cell_type": "code",
   "execution_count": 80,
   "metadata": {},
   "outputs": [],
   "source": [
    "# import re\n",
    "\n",
    "# import requests\n",
    "\n",
    "# def get_list_page(url):\n",
    "#     HOST = \"https://www.ptt.cc\"\n",
    "    \n",
    "#     custom_headers = {\n",
    "#         \"cookie\": \"over18=1;\"\n",
    "#     }\n",
    "\n",
    "#     resp = requests.get(url, headers=custom_headers)\n",
    "#     links = re.findall('<a href=\"(/bbs/Gossiping/M.+\\.html)\">.+</a>', resp.text)\n",
    "#     for link in links:\n",
    "#         # Generator\n",
    "#         # https://wiki.python.org/moin/Generators\n",
    "#         yield HOST + link"
   ]
  },
  {
   "cell_type": "code",
   "execution_count": 81,
   "metadata": {
    "scrolled": true
   },
   "outputs": [],
   "source": [
    "# for link in get_list_page('https://www.ptt.cc/bbs/Gossiping/index31008.html'):\n",
    "#     print(link)"
   ]
  },
  {
   "cell_type": "code",
   "execution_count": 82,
   "metadata": {},
   "outputs": [
    {
     "data": {
      "text/plain": [
       "31224"
      ]
     },
     "execution_count": 82,
     "metadata": {},
     "output_type": "execute_result"
    }
   ],
   "source": [
    "total_page_cnt = get_total_page_cnt()\n",
    "total_page_cnt"
   ]
  },
  {
   "cell_type": "code",
   "execution_count": 83,
   "metadata": {},
   "outputs": [
    {
     "name": "stdout",
     "output_type": "stream",
     "text": [
      "31224\n",
      "31223\n",
      "31222\n",
      "31221\n",
      "31220\n",
      "31219\n",
      "31218\n",
      "31217\n",
      "31216\n",
      "31215\n"
     ]
    }
   ],
   "source": [
    "for page in range(total_page_cnt, total_page_cnt - 10, -1):\n",
    "    print(page)"
   ]
  },
  {
   "cell_type": "code",
   "execution_count": 84,
   "metadata": {},
   "outputs": [
    {
     "name": "stdout",
     "output_type": "stream",
     "text": [
      "https://www.ptt.cc/bbs/Gossiping/M.1514957382.A.B31.html\n",
      "https://www.ptt.cc/bbs/Gossiping/M.1514957425.A.28C.html\n",
      "https://www.ptt.cc/bbs/Gossiping/M.1514957445.A.5B3.html\n",
      "https://www.ptt.cc/bbs/Gossiping/M.1514957467.A.00F.html\n",
      "https://www.ptt.cc/bbs/Gossiping/M.1514957509.A.C2D.html\n",
      "https://www.ptt.cc/bbs/Gossiping/M.1514957570.A.4AE.html\n",
      "https://www.ptt.cc/bbs/Gossiping/M.1514957610.A.84F.html\n",
      "https://www.ptt.cc/bbs/Gossiping/M.1514957640.A.501.html\n",
      "https://www.ptt.cc/bbs/Gossiping/M.1510415718.A.D77.html\n",
      "https://www.ptt.cc/bbs/Gossiping/M.1514720863.A.84E.html\n",
      "https://www.ptt.cc/bbs/Gossiping/M.1514336396.A.B25.html\n",
      "https://www.ptt.cc/bbs/Gossiping/M.1514738804.A.4A0.html\n",
      "https://www.ptt.cc/bbs/Gossiping/M.1514956771.A.5D8.html\n",
      "https://www.ptt.cc/bbs/Gossiping/M.1514956790.A.CFE.html\n",
      "https://www.ptt.cc/bbs/Gossiping/M.1514956808.A.F18.html\n",
      "https://www.ptt.cc/bbs/Gossiping/M.1514956812.A.468.html\n",
      "https://www.ptt.cc/bbs/Gossiping/M.1514956875.A.97A.html\n",
      "https://www.ptt.cc/bbs/Gossiping/M.1514956879.A.6CF.html\n",
      "https://www.ptt.cc/bbs/Gossiping/M.1514956900.A.F73.html\n",
      "https://www.ptt.cc/bbs/Gossiping/M.1514956904.A.A50.html\n",
      "https://www.ptt.cc/bbs/Gossiping/M.1514956950.A.9CE.html\n",
      "https://www.ptt.cc/bbs/Gossiping/M.1514956982.A.DD3.html\n",
      "https://www.ptt.cc/bbs/Gossiping/M.1514956986.A.B96.html\n",
      "https://www.ptt.cc/bbs/Gossiping/M.1514956999.A.1AD.html\n",
      "https://www.ptt.cc/bbs/Gossiping/M.1514957041.A.0C4.html\n",
      "https://www.ptt.cc/bbs/Gossiping/M.1514957112.A.03C.html\n",
      "https://www.ptt.cc/bbs/Gossiping/M.1514957174.A.AEA.html\n",
      "https://www.ptt.cc/bbs/Gossiping/M.1514957193.A.F9E.html\n",
      "https://www.ptt.cc/bbs/Gossiping/M.1514957232.A.7EC.html\n",
      "https://www.ptt.cc/bbs/Gossiping/M.1514957259.A.67C.html\n",
      "https://www.ptt.cc/bbs/Gossiping/M.1514957329.A.B38.html\n",
      "https://www.ptt.cc/bbs/Gossiping/M.1514956367.A.3DF.html\n",
      "https://www.ptt.cc/bbs/Gossiping/M.1514956371.A.847.html\n",
      "https://www.ptt.cc/bbs/Gossiping/M.1514956374.A.FA8.html\n",
      "https://www.ptt.cc/bbs/Gossiping/M.1514956388.A.C26.html\n",
      "https://www.ptt.cc/bbs/Gossiping/M.1514956395.A.7B6.html\n",
      "https://www.ptt.cc/bbs/Gossiping/M.1514956399.A.FE7.html\n",
      "https://www.ptt.cc/bbs/Gossiping/M.1514956556.A.1A6.html\n",
      "https://www.ptt.cc/bbs/Gossiping/M.1514956574.A.5F1.html\n",
      "https://www.ptt.cc/bbs/Gossiping/M.1514956583.A.971.html\n",
      "https://www.ptt.cc/bbs/Gossiping/M.1514956588.A.BD6.html\n",
      "https://www.ptt.cc/bbs/Gossiping/M.1514956635.A.E69.html\n",
      "https://www.ptt.cc/bbs/Gossiping/M.1514956661.A.691.html\n",
      "https://www.ptt.cc/bbs/Gossiping/M.1514956679.A.E7B.html\n",
      "https://www.ptt.cc/bbs/Gossiping/M.1514956682.A.521.html\n",
      "https://www.ptt.cc/bbs/Gossiping/M.1514956685.A.711.html\n",
      "https://www.ptt.cc/bbs/Gossiping/M.1514956696.A.CC8.html\n",
      "https://www.ptt.cc/bbs/Gossiping/M.1514956746.A.04D.html\n",
      "https://www.ptt.cc/bbs/Gossiping/M.1514956753.A.A94.html\n",
      "https://www.ptt.cc/bbs/Gossiping/M.1514956756.A.0EE.html\n",
      "https://www.ptt.cc/bbs/Gossiping/M.1514955826.A.880.html\n",
      "https://www.ptt.cc/bbs/Gossiping/M.1514955905.A.F62.html\n",
      "https://www.ptt.cc/bbs/Gossiping/M.1514955916.A.B30.html\n",
      "https://www.ptt.cc/bbs/Gossiping/M.1514955942.A.DB4.html\n",
      "https://www.ptt.cc/bbs/Gossiping/M.1514955949.A.9F6.html\n",
      "https://www.ptt.cc/bbs/Gossiping/M.1514955982.A.CB1.html\n",
      "https://www.ptt.cc/bbs/Gossiping/M.1514955985.A.C60.html\n",
      "https://www.ptt.cc/bbs/Gossiping/M.1514956003.A.DE2.html\n",
      "https://www.ptt.cc/bbs/Gossiping/M.1514956003.A.B85.html\n",
      "https://www.ptt.cc/bbs/Gossiping/M.1514956014.A.C57.html\n",
      "https://www.ptt.cc/bbs/Gossiping/M.1514956015.A.78E.html\n",
      "https://www.ptt.cc/bbs/Gossiping/M.1514956018.A.39F.html\n",
      "https://www.ptt.cc/bbs/Gossiping/M.1514956071.A.60C.html\n",
      "https://www.ptt.cc/bbs/Gossiping/M.1514956092.A.5B3.html\n",
      "https://www.ptt.cc/bbs/Gossiping/M.1514956142.A.37A.html\n",
      "https://www.ptt.cc/bbs/Gossiping/M.1514956247.A.D1D.html\n",
      "https://www.ptt.cc/bbs/Gossiping/M.1514956308.A.898.html\n",
      "https://www.ptt.cc/bbs/Gossiping/M.1514956324.A.FB6.html\n",
      "https://www.ptt.cc/bbs/Gossiping/M.1514956336.A.C3C.html\n",
      "https://www.ptt.cc/bbs/Gossiping/M.1514956360.A.EF4.html\n",
      "https://www.ptt.cc/bbs/Gossiping/M.1514955321.A.B3C.html\n",
      "https://www.ptt.cc/bbs/Gossiping/M.1514955332.A.C63.html\n",
      "https://www.ptt.cc/bbs/Gossiping/M.1514955343.A.865.html\n",
      "https://www.ptt.cc/bbs/Gossiping/M.1514955349.A.CF7.html\n",
      "https://www.ptt.cc/bbs/Gossiping/M.1514955365.A.F46.html\n",
      "https://www.ptt.cc/bbs/Gossiping/M.1514955368.A.A11.html\n",
      "https://www.ptt.cc/bbs/Gossiping/M.1514955373.A.4D6.html\n",
      "https://www.ptt.cc/bbs/Gossiping/M.1514955390.A.3F9.html\n",
      "https://www.ptt.cc/bbs/Gossiping/M.1514955408.A.CE3.html\n",
      "https://www.ptt.cc/bbs/Gossiping/M.1514955427.A.FC9.html\n",
      "https://www.ptt.cc/bbs/Gossiping/M.1514955429.A.92A.html\n",
      "https://www.ptt.cc/bbs/Gossiping/M.1514955448.A.1FA.html\n",
      "https://www.ptt.cc/bbs/Gossiping/M.1514955474.A.A3D.html\n",
      "https://www.ptt.cc/bbs/Gossiping/M.1514955486.A.FBF.html\n",
      "https://www.ptt.cc/bbs/Gossiping/M.1514955512.A.0BF.html\n",
      "https://www.ptt.cc/bbs/Gossiping/M.1514955512.A.1DE.html\n",
      "https://www.ptt.cc/bbs/Gossiping/M.1514955543.A.BFA.html\n",
      "https://www.ptt.cc/bbs/Gossiping/M.1514955669.A.B7B.html\n",
      "https://www.ptt.cc/bbs/Gossiping/M.1514955680.A.CA6.html\n",
      "https://www.ptt.cc/bbs/Gossiping/M.1514955744.A.78E.html\n",
      "https://www.ptt.cc/bbs/Gossiping/M.1514954865.A.819.html\n",
      "https://www.ptt.cc/bbs/Gossiping/M.1514954869.A.F56.html\n",
      "https://www.ptt.cc/bbs/Gossiping/M.1514954876.A.346.html\n",
      "https://www.ptt.cc/bbs/Gossiping/M.1514954905.A.24F.html\n",
      "https://www.ptt.cc/bbs/Gossiping/M.1514954964.A.79F.html\n",
      "https://www.ptt.cc/bbs/Gossiping/M.1514954970.A.DE4.html\n",
      "https://www.ptt.cc/bbs/Gossiping/M.1514954972.A.C02.html\n",
      "https://www.ptt.cc/bbs/Gossiping/M.1514954973.A.D7D.html\n",
      "https://www.ptt.cc/bbs/Gossiping/M.1514954974.A.517.html\n",
      "https://www.ptt.cc/bbs/Gossiping/M.1514955010.A.B07.html\n",
      "https://www.ptt.cc/bbs/Gossiping/M.1514955020.A.279.html\n",
      "https://www.ptt.cc/bbs/Gossiping/M.1514955058.A.A6E.html\n",
      "https://www.ptt.cc/bbs/Gossiping/M.1514955132.A.70D.html\n",
      "https://www.ptt.cc/bbs/Gossiping/M.1514955165.A.6B0.html\n",
      "https://www.ptt.cc/bbs/Gossiping/M.1514955197.A.20E.html\n",
      "https://www.ptt.cc/bbs/Gossiping/M.1514955217.A.D09.html\n",
      "https://www.ptt.cc/bbs/Gossiping/M.1514955234.A.FDC.html\n",
      "https://www.ptt.cc/bbs/Gossiping/M.1514955237.A.58D.html\n",
      "https://www.ptt.cc/bbs/Gossiping/M.1514955292.A.C91.html\n",
      "https://www.ptt.cc/bbs/Gossiping/M.1514954275.A.7F6.html\n",
      "https://www.ptt.cc/bbs/Gossiping/M.1514954301.A.F10.html\n",
      "https://www.ptt.cc/bbs/Gossiping/M.1514954310.A.C59.html\n",
      "https://www.ptt.cc/bbs/Gossiping/M.1514954338.A.799.html\n",
      "https://www.ptt.cc/bbs/Gossiping/M.1514954430.A.142.html\n",
      "https://www.ptt.cc/bbs/Gossiping/M.1514954487.A.54C.html\n",
      "https://www.ptt.cc/bbs/Gossiping/M.1514954497.A.16B.html\n",
      "https://www.ptt.cc/bbs/Gossiping/M.1514954510.A.7A6.html\n",
      "https://www.ptt.cc/bbs/Gossiping/M.1514954536.A.BAB.html\n",
      "https://www.ptt.cc/bbs/Gossiping/M.1514954585.A.BBD.html\n",
      "https://www.ptt.cc/bbs/Gossiping/M.1514954629.A.93E.html\n",
      "https://www.ptt.cc/bbs/Gossiping/M.1514954676.A.12E.html\n",
      "https://www.ptt.cc/bbs/Gossiping/M.1514954720.A.A78.html\n",
      "https://www.ptt.cc/bbs/Gossiping/M.1514954742.A.6FB.html\n",
      "https://www.ptt.cc/bbs/Gossiping/M.1514954771.A.A7B.html\n",
      "https://www.ptt.cc/bbs/Gossiping/M.1514954812.A.8D8.html\n",
      "https://www.ptt.cc/bbs/Gossiping/M.1514954815.A.4CC.html\n",
      "https://www.ptt.cc/bbs/Gossiping/M.1514954835.A.07D.html\n",
      "https://www.ptt.cc/bbs/Gossiping/M.1514954856.A.A05.html\n",
      "https://www.ptt.cc/bbs/Gossiping/M.1514954858.A.EAC.html\n",
      "https://www.ptt.cc/bbs/Gossiping/M.1514953781.A.6D8.html\n",
      "https://www.ptt.cc/bbs/Gossiping/M.1514953876.A.69B.html\n",
      "https://www.ptt.cc/bbs/Gossiping/M.1514953881.A.662.html\n",
      "https://www.ptt.cc/bbs/Gossiping/M.1514953900.A.56D.html\n",
      "https://www.ptt.cc/bbs/Gossiping/M.1514953916.A.3A1.html\n",
      "https://www.ptt.cc/bbs/Gossiping/M.1514953954.A.A3E.html\n",
      "https://www.ptt.cc/bbs/Gossiping/M.1514954002.A.4B9.html\n",
      "https://www.ptt.cc/bbs/Gossiping/M.1514954016.A.1BF.html\n",
      "https://www.ptt.cc/bbs/Gossiping/M.1514954022.A.259.html\n",
      "https://www.ptt.cc/bbs/Gossiping/M.1514954044.A.B60.html\n",
      "https://www.ptt.cc/bbs/Gossiping/M.1514954060.A.EC0.html\n",
      "https://www.ptt.cc/bbs/Gossiping/M.1514954126.A.FCC.html\n",
      "https://www.ptt.cc/bbs/Gossiping/M.1514954162.A.E6E.html\n",
      "https://www.ptt.cc/bbs/Gossiping/M.1514954178.A.160.html\n",
      "https://www.ptt.cc/bbs/Gossiping/M.1514954202.A.111.html\n",
      "https://www.ptt.cc/bbs/Gossiping/M.1514954204.A.095.html\n",
      "https://www.ptt.cc/bbs/Gossiping/M.1514954236.A.083.html\n",
      "https://www.ptt.cc/bbs/Gossiping/M.1514954263.A.33B.html\n"
     ]
    },
    {
     "name": "stdout",
     "output_type": "stream",
     "text": [
      "https://www.ptt.cc/bbs/Gossiping/M.1514953379.A.E86.html\n",
      "https://www.ptt.cc/bbs/Gossiping/M.1514953396.A.9E0.html\n",
      "https://www.ptt.cc/bbs/Gossiping/M.1514953398.A.822.html\n",
      "https://www.ptt.cc/bbs/Gossiping/M.1514953407.A.EB2.html\n",
      "https://www.ptt.cc/bbs/Gossiping/M.1514953426.A.949.html\n",
      "https://www.ptt.cc/bbs/Gossiping/M.1514953436.A.AE3.html\n",
      "https://www.ptt.cc/bbs/Gossiping/M.1514953549.A.A24.html\n",
      "https://www.ptt.cc/bbs/Gossiping/M.1514953552.A.D28.html\n",
      "https://www.ptt.cc/bbs/Gossiping/M.1514953555.A.39D.html\n",
      "https://www.ptt.cc/bbs/Gossiping/M.1514953565.A.804.html\n",
      "https://www.ptt.cc/bbs/Gossiping/M.1514953578.A.D28.html\n",
      "https://www.ptt.cc/bbs/Gossiping/M.1514953617.A.4BA.html\n",
      "https://www.ptt.cc/bbs/Gossiping/M.1514953617.A.370.html\n",
      "https://www.ptt.cc/bbs/Gossiping/M.1514953655.A.E8A.html\n",
      "https://www.ptt.cc/bbs/Gossiping/M.1514953722.A.77C.html\n",
      "https://www.ptt.cc/bbs/Gossiping/M.1514953724.A.7E1.html\n",
      "https://www.ptt.cc/bbs/Gossiping/M.1514953725.A.E71.html\n",
      "https://www.ptt.cc/bbs/Gossiping/M.1514953740.A.966.html\n",
      "https://www.ptt.cc/bbs/Gossiping/M.1514953744.A.00E.html\n",
      "https://www.ptt.cc/bbs/Gossiping/M.1514953753.A.B0F.html\n",
      "https://www.ptt.cc/bbs/Gossiping/M.1514952822.A.33A.html\n",
      "https://www.ptt.cc/bbs/Gossiping/M.1514952831.A.2C7.html\n",
      "https://www.ptt.cc/bbs/Gossiping/M.1514952833.A.104.html\n",
      "https://www.ptt.cc/bbs/Gossiping/M.1514952890.A.4F8.html\n",
      "https://www.ptt.cc/bbs/Gossiping/M.1514952933.A.B3B.html\n",
      "https://www.ptt.cc/bbs/Gossiping/M.1514952934.A.4C6.html\n",
      "https://www.ptt.cc/bbs/Gossiping/M.1514952960.A.52A.html\n",
      "https://www.ptt.cc/bbs/Gossiping/M.1514952963.A.98A.html\n",
      "https://www.ptt.cc/bbs/Gossiping/M.1514952973.A.398.html\n",
      "https://www.ptt.cc/bbs/Gossiping/M.1514953006.A.7FA.html\n",
      "https://www.ptt.cc/bbs/Gossiping/M.1514953007.A.FF6.html\n",
      "https://www.ptt.cc/bbs/Gossiping/M.1514953068.A.8D2.html\n",
      "https://www.ptt.cc/bbs/Gossiping/M.1514953095.A.E9A.html\n",
      "https://www.ptt.cc/bbs/Gossiping/M.1514953172.A.592.html\n",
      "https://www.ptt.cc/bbs/Gossiping/M.1514953178.A.C7C.html\n",
      "https://www.ptt.cc/bbs/Gossiping/M.1514953189.A.C98.html\n",
      "https://www.ptt.cc/bbs/Gossiping/M.1514953200.A.86E.html\n",
      "https://www.ptt.cc/bbs/Gossiping/M.1514953221.A.5BE.html\n",
      "https://www.ptt.cc/bbs/Gossiping/M.1514953269.A.787.html\n",
      "https://www.ptt.cc/bbs/Gossiping/M.1514953281.A.82B.html\n"
     ]
    }
   ],
   "source": [
    "import re\n",
    "\n",
    "import requests\n",
    "\n",
    "# 一次爬10頁\n",
    "CRAWL_PAGE_CNT = 10\n",
    "URL_TEMPLATE = \"https://www.ptt.cc/bbs/Gossiping/index{}.html\"\n",
    "\n",
    "total_page_cnt = get_total_page_cnt()\n",
    "\n",
    "for pg in range(total_page_cnt, total_page_cnt - CRAWL_PAGE_CNT, -1):\n",
    "    url = URL_TEMPLATE.format(pg)\n",
    "    for link in get_list_page(url):\n",
    "        print(link)"
   ]
  },
  {
   "cell_type": "code",
   "execution_count": 85,
   "metadata": {},
   "outputs": [],
   "source": [
    "!mkdir /tmp/ptt_data"
   ]
  },
  {
   "cell_type": "code",
   "execution_count": 108,
   "metadata": {},
   "outputs": [
    {
     "data": {
      "text/plain": [
       "'M_1514855751_A_724.html'"
      ]
     },
     "execution_count": 108,
     "metadata": {},
     "output_type": "execute_result"
    }
   ],
   "source": [
    "url = \"https://www.ptt.cc/bbs/Gossiping/M.1514855751.A.724.html\"\n",
    "\n",
    "\"_\".join(url.split('/')[-1].split('.')[:-1]) + '.html'"
   ]
  },
  {
   "cell_type": "code",
   "execution_count": 115,
   "metadata": {},
   "outputs": [
    {
     "data": {
      "text/plain": [
       "'M_1514855751_A_724'"
      ]
     },
     "execution_count": 115,
     "metadata": {},
     "output_type": "execute_result"
    }
   ],
   "source": [
    "\"_\".join(url.split('/')[-1].split('.')[:-1]) "
   ]
  },
  {
   "cell_type": "code",
   "execution_count": 87,
   "metadata": {},
   "outputs": [],
   "source": [
    "import requests\n",
    "\n",
    "DATA_PATH = '/tmp/ptt_data'\n",
    "\n",
    "def dump_page(url):\n",
    "    \"\"\"爬取PTT列表頁面\n",
    "\n",
    "    Parameters\n",
    "    ----------\n",
    "    url : str\n",
    "        PTT內文頁URL，\n",
    "        如：https://www.ptt.cc/bbs/Gossiping/M.1514855751.A.724.html\n",
    "\n",
    "    Returns\n",
    "    -------\n",
    "    str\n",
    "        檔名filename\n",
    "    \"\"\"\n",
    "    filename = \"_\".join(url.split('/')[-1].split('.')[:-1]) + '.html'\n",
    "    \n",
    "    custom_headers = {\n",
    "        \"cookie\": \"over18=1;\"\n",
    "    }\n",
    "\n",
    "    resp = requests.get(url, headers=custom_headers)\n",
    "    with open(DATA_PATH + '/' + filename, 'w') as f:\n",
    "        f.write(resp.text)\n",
    "    return filename"
   ]
  },
  {
   "cell_type": "code",
   "execution_count": 88,
   "metadata": {},
   "outputs": [
    {
     "data": {
      "text/plain": [
       "'M_1514807718_A_FC3.html'"
      ]
     },
     "execution_count": 88,
     "metadata": {},
     "output_type": "execute_result"
    }
   ],
   "source": [
    "dump_page('https://www.ptt.cc/bbs/Gossiping/M.1514807718.A.FC3.html')"
   ]
  },
  {
   "cell_type": "code",
   "execution_count": 89,
   "metadata": {},
   "outputs": [
    {
     "name": "stdout",
     "output_type": "stream",
     "text": [
      "M_1514807718_A_FC3.html\r\n"
     ]
    }
   ],
   "source": [
    "!ls /tmp/ptt_data/"
   ]
  },
  {
   "cell_type": "code",
   "execution_count": 90,
   "metadata": {},
   "outputs": [
    {
     "name": "stdout",
     "output_type": "stream",
     "text": [
      "https://www.ptt.cc/bbs/Gossiping/M.1514957382.A.B31.html\n",
      "https://www.ptt.cc/bbs/Gossiping/M.1514957425.A.28C.html\n",
      "https://www.ptt.cc/bbs/Gossiping/M.1514957445.A.5B3.html\n",
      "https://www.ptt.cc/bbs/Gossiping/M.1514957467.A.00F.html\n",
      "https://www.ptt.cc/bbs/Gossiping/M.1514957509.A.C2D.html\n",
      "https://www.ptt.cc/bbs/Gossiping/M.1514957570.A.4AE.html\n",
      "https://www.ptt.cc/bbs/Gossiping/M.1514957610.A.84F.html\n",
      "https://www.ptt.cc/bbs/Gossiping/M.1514957640.A.501.html\n",
      "https://www.ptt.cc/bbs/Gossiping/M.1510415718.A.D77.html\n",
      "https://www.ptt.cc/bbs/Gossiping/M.1514720863.A.84E.html\n",
      "https://www.ptt.cc/bbs/Gossiping/M.1514336396.A.B25.html\n",
      "https://www.ptt.cc/bbs/Gossiping/M.1514738804.A.4A0.html\n",
      "https://www.ptt.cc/bbs/Gossiping/M.1514956771.A.5D8.html\n",
      "https://www.ptt.cc/bbs/Gossiping/M.1514956790.A.CFE.html\n"
     ]
    },
    {
     "ename": "KeyboardInterrupt",
     "evalue": "",
     "output_type": "error",
     "traceback": [
      "\u001b[0;31m---------------------------------------------------------------------------\u001b[0m",
      "\u001b[0;31mTypeError\u001b[0m                                 Traceback (most recent call last)",
      "\u001b[0;32m~/.pyenv/versions/3.6.1/lib/python3.6/site-packages/urllib3/connectionpool.py\u001b[0m in \u001b[0;36m_make_request\u001b[0;34m(self, conn, method, url, timeout, chunked, **httplib_request_kw)\u001b[0m\n\u001b[1;32m    379\u001b[0m             \u001b[0;32mtry\u001b[0m\u001b[0;34m:\u001b[0m  \u001b[0;31m# Python 2.7, use buffering of HTTP responses\u001b[0m\u001b[0;34m\u001b[0m\u001b[0m\n\u001b[0;32m--> 380\u001b[0;31m                 \u001b[0mhttplib_response\u001b[0m \u001b[0;34m=\u001b[0m \u001b[0mconn\u001b[0m\u001b[0;34m.\u001b[0m\u001b[0mgetresponse\u001b[0m\u001b[0;34m(\u001b[0m\u001b[0mbuffering\u001b[0m\u001b[0;34m=\u001b[0m\u001b[0;32mTrue\u001b[0m\u001b[0;34m)\u001b[0m\u001b[0;34m\u001b[0m\u001b[0m\n\u001b[0m\u001b[1;32m    381\u001b[0m             \u001b[0;32mexcept\u001b[0m \u001b[0mTypeError\u001b[0m\u001b[0;34m:\u001b[0m  \u001b[0;31m# Python 2.6 and older, Python 3\u001b[0m\u001b[0;34m\u001b[0m\u001b[0m\n",
      "\u001b[0;31mTypeError\u001b[0m: getresponse() got an unexpected keyword argument 'buffering'",
      "\nDuring handling of the above exception, another exception occurred:\n",
      "\u001b[0;31mKeyboardInterrupt\u001b[0m                         Traceback (most recent call last)",
      "\u001b[0;32m<ipython-input-90-27e8b9a5bd9c>\u001b[0m in \u001b[0;36m<module>\u001b[0;34m()\u001b[0m\n\u001b[1;32m     13\u001b[0m     \u001b[0;32mfor\u001b[0m \u001b[0mlink\u001b[0m \u001b[0;32min\u001b[0m \u001b[0mget_list_page\u001b[0m\u001b[0;34m(\u001b[0m\u001b[0murl\u001b[0m\u001b[0;34m)\u001b[0m\u001b[0;34m:\u001b[0m\u001b[0;34m\u001b[0m\u001b[0m\n\u001b[1;32m     14\u001b[0m         \u001b[0mprint\u001b[0m\u001b[0;34m(\u001b[0m\u001b[0mlink\u001b[0m\u001b[0;34m)\u001b[0m\u001b[0;34m\u001b[0m\u001b[0m\n\u001b[0;32m---> 15\u001b[0;31m         \u001b[0mdump_page\u001b[0m\u001b[0;34m(\u001b[0m\u001b[0mlink\u001b[0m\u001b[0;34m)\u001b[0m\u001b[0;34m\u001b[0m\u001b[0m\n\u001b[0m",
      "\u001b[0;32m<ipython-input-87-7fc27b637096>\u001b[0m in \u001b[0;36mdump_page\u001b[0;34m(url)\u001b[0m\n\u001b[1;32m     23\u001b[0m     }\n\u001b[1;32m     24\u001b[0m \u001b[0;34m\u001b[0m\u001b[0m\n\u001b[0;32m---> 25\u001b[0;31m     \u001b[0mresp\u001b[0m \u001b[0;34m=\u001b[0m \u001b[0mrequests\u001b[0m\u001b[0;34m.\u001b[0m\u001b[0mget\u001b[0m\u001b[0;34m(\u001b[0m\u001b[0murl\u001b[0m\u001b[0;34m,\u001b[0m \u001b[0mheaders\u001b[0m\u001b[0;34m=\u001b[0m\u001b[0mcustom_headers\u001b[0m\u001b[0;34m)\u001b[0m\u001b[0;34m\u001b[0m\u001b[0m\n\u001b[0m\u001b[1;32m     26\u001b[0m     \u001b[0;32mwith\u001b[0m \u001b[0mopen\u001b[0m\u001b[0;34m(\u001b[0m\u001b[0mDATA_PATH\u001b[0m \u001b[0;34m+\u001b[0m \u001b[0;34m'/'\u001b[0m \u001b[0;34m+\u001b[0m \u001b[0mfilename\u001b[0m\u001b[0;34m,\u001b[0m \u001b[0;34m'w'\u001b[0m\u001b[0;34m)\u001b[0m \u001b[0;32mas\u001b[0m \u001b[0mf\u001b[0m\u001b[0;34m:\u001b[0m\u001b[0;34m\u001b[0m\u001b[0m\n\u001b[1;32m     27\u001b[0m         \u001b[0mf\u001b[0m\u001b[0;34m.\u001b[0m\u001b[0mwrite\u001b[0m\u001b[0;34m(\u001b[0m\u001b[0mresp\u001b[0m\u001b[0;34m.\u001b[0m\u001b[0mtext\u001b[0m\u001b[0;34m)\u001b[0m\u001b[0;34m\u001b[0m\u001b[0m\n",
      "\u001b[0;32m~/.pyenv/versions/3.6.1/lib/python3.6/site-packages/requests/api.py\u001b[0m in \u001b[0;36mget\u001b[0;34m(url, params, **kwargs)\u001b[0m\n\u001b[1;32m     70\u001b[0m \u001b[0;34m\u001b[0m\u001b[0m\n\u001b[1;32m     71\u001b[0m     \u001b[0mkwargs\u001b[0m\u001b[0;34m.\u001b[0m\u001b[0msetdefault\u001b[0m\u001b[0;34m(\u001b[0m\u001b[0;34m'allow_redirects'\u001b[0m\u001b[0;34m,\u001b[0m \u001b[0;32mTrue\u001b[0m\u001b[0;34m)\u001b[0m\u001b[0;34m\u001b[0m\u001b[0m\n\u001b[0;32m---> 72\u001b[0;31m     \u001b[0;32mreturn\u001b[0m \u001b[0mrequest\u001b[0m\u001b[0;34m(\u001b[0m\u001b[0;34m'get'\u001b[0m\u001b[0;34m,\u001b[0m \u001b[0murl\u001b[0m\u001b[0;34m,\u001b[0m \u001b[0mparams\u001b[0m\u001b[0;34m=\u001b[0m\u001b[0mparams\u001b[0m\u001b[0;34m,\u001b[0m \u001b[0;34m**\u001b[0m\u001b[0mkwargs\u001b[0m\u001b[0;34m)\u001b[0m\u001b[0;34m\u001b[0m\u001b[0m\n\u001b[0m\u001b[1;32m     73\u001b[0m \u001b[0;34m\u001b[0m\u001b[0m\n\u001b[1;32m     74\u001b[0m \u001b[0;34m\u001b[0m\u001b[0m\n",
      "\u001b[0;32m~/.pyenv/versions/3.6.1/lib/python3.6/site-packages/requests/api.py\u001b[0m in \u001b[0;36mrequest\u001b[0;34m(method, url, **kwargs)\u001b[0m\n\u001b[1;32m     56\u001b[0m     \u001b[0;31m# cases, and look like a memory leak in others.\u001b[0m\u001b[0;34m\u001b[0m\u001b[0;34m\u001b[0m\u001b[0m\n\u001b[1;32m     57\u001b[0m     \u001b[0;32mwith\u001b[0m \u001b[0msessions\u001b[0m\u001b[0;34m.\u001b[0m\u001b[0mSession\u001b[0m\u001b[0;34m(\u001b[0m\u001b[0;34m)\u001b[0m \u001b[0;32mas\u001b[0m \u001b[0msession\u001b[0m\u001b[0;34m:\u001b[0m\u001b[0;34m\u001b[0m\u001b[0m\n\u001b[0;32m---> 58\u001b[0;31m         \u001b[0;32mreturn\u001b[0m \u001b[0msession\u001b[0m\u001b[0;34m.\u001b[0m\u001b[0mrequest\u001b[0m\u001b[0;34m(\u001b[0m\u001b[0mmethod\u001b[0m\u001b[0;34m=\u001b[0m\u001b[0mmethod\u001b[0m\u001b[0;34m,\u001b[0m \u001b[0murl\u001b[0m\u001b[0;34m=\u001b[0m\u001b[0murl\u001b[0m\u001b[0;34m,\u001b[0m \u001b[0;34m**\u001b[0m\u001b[0mkwargs\u001b[0m\u001b[0;34m)\u001b[0m\u001b[0;34m\u001b[0m\u001b[0m\n\u001b[0m\u001b[1;32m     59\u001b[0m \u001b[0;34m\u001b[0m\u001b[0m\n\u001b[1;32m     60\u001b[0m \u001b[0;34m\u001b[0m\u001b[0m\n",
      "\u001b[0;32m~/.pyenv/versions/3.6.1/lib/python3.6/site-packages/requests/sessions.py\u001b[0m in \u001b[0;36mrequest\u001b[0;34m(self, method, url, params, data, headers, cookies, files, auth, timeout, allow_redirects, proxies, hooks, stream, verify, cert, json)\u001b[0m\n\u001b[1;32m    506\u001b[0m         }\n\u001b[1;32m    507\u001b[0m         \u001b[0msend_kwargs\u001b[0m\u001b[0;34m.\u001b[0m\u001b[0mupdate\u001b[0m\u001b[0;34m(\u001b[0m\u001b[0msettings\u001b[0m\u001b[0;34m)\u001b[0m\u001b[0;34m\u001b[0m\u001b[0m\n\u001b[0;32m--> 508\u001b[0;31m         \u001b[0mresp\u001b[0m \u001b[0;34m=\u001b[0m \u001b[0mself\u001b[0m\u001b[0;34m.\u001b[0m\u001b[0msend\u001b[0m\u001b[0;34m(\u001b[0m\u001b[0mprep\u001b[0m\u001b[0;34m,\u001b[0m \u001b[0;34m**\u001b[0m\u001b[0msend_kwargs\u001b[0m\u001b[0;34m)\u001b[0m\u001b[0;34m\u001b[0m\u001b[0m\n\u001b[0m\u001b[1;32m    509\u001b[0m \u001b[0;34m\u001b[0m\u001b[0m\n\u001b[1;32m    510\u001b[0m         \u001b[0;32mreturn\u001b[0m \u001b[0mresp\u001b[0m\u001b[0;34m\u001b[0m\u001b[0m\n",
      "\u001b[0;32m~/.pyenv/versions/3.6.1/lib/python3.6/site-packages/requests/sessions.py\u001b[0m in \u001b[0;36msend\u001b[0;34m(self, request, **kwargs)\u001b[0m\n\u001b[1;32m    616\u001b[0m \u001b[0;34m\u001b[0m\u001b[0m\n\u001b[1;32m    617\u001b[0m         \u001b[0;31m# Send the request\u001b[0m\u001b[0;34m\u001b[0m\u001b[0;34m\u001b[0m\u001b[0m\n\u001b[0;32m--> 618\u001b[0;31m         \u001b[0mr\u001b[0m \u001b[0;34m=\u001b[0m \u001b[0madapter\u001b[0m\u001b[0;34m.\u001b[0m\u001b[0msend\u001b[0m\u001b[0;34m(\u001b[0m\u001b[0mrequest\u001b[0m\u001b[0;34m,\u001b[0m \u001b[0;34m**\u001b[0m\u001b[0mkwargs\u001b[0m\u001b[0;34m)\u001b[0m\u001b[0;34m\u001b[0m\u001b[0m\n\u001b[0m\u001b[1;32m    619\u001b[0m \u001b[0;34m\u001b[0m\u001b[0m\n\u001b[1;32m    620\u001b[0m         \u001b[0;31m# Total elapsed time of the request (approximately)\u001b[0m\u001b[0;34m\u001b[0m\u001b[0;34m\u001b[0m\u001b[0m\n",
      "\u001b[0;32m~/.pyenv/versions/3.6.1/lib/python3.6/site-packages/requests/adapters.py\u001b[0m in \u001b[0;36msend\u001b[0;34m(self, request, stream, timeout, verify, cert, proxies)\u001b[0m\n\u001b[1;32m    438\u001b[0m                     \u001b[0mdecode_content\u001b[0m\u001b[0;34m=\u001b[0m\u001b[0;32mFalse\u001b[0m\u001b[0;34m,\u001b[0m\u001b[0;34m\u001b[0m\u001b[0m\n\u001b[1;32m    439\u001b[0m                     \u001b[0mretries\u001b[0m\u001b[0;34m=\u001b[0m\u001b[0mself\u001b[0m\u001b[0;34m.\u001b[0m\u001b[0mmax_retries\u001b[0m\u001b[0;34m,\u001b[0m\u001b[0;34m\u001b[0m\u001b[0m\n\u001b[0;32m--> 440\u001b[0;31m                     \u001b[0mtimeout\u001b[0m\u001b[0;34m=\u001b[0m\u001b[0mtimeout\u001b[0m\u001b[0;34m\u001b[0m\u001b[0m\n\u001b[0m\u001b[1;32m    441\u001b[0m                 )\n\u001b[1;32m    442\u001b[0m \u001b[0;34m\u001b[0m\u001b[0m\n",
      "\u001b[0;32m~/.pyenv/versions/3.6.1/lib/python3.6/site-packages/urllib3/connectionpool.py\u001b[0m in \u001b[0;36murlopen\u001b[0;34m(self, method, url, body, headers, retries, redirect, assert_same_host, timeout, pool_timeout, release_conn, chunked, body_pos, **response_kw)\u001b[0m\n\u001b[1;32m    599\u001b[0m                                                   \u001b[0mtimeout\u001b[0m\u001b[0;34m=\u001b[0m\u001b[0mtimeout_obj\u001b[0m\u001b[0;34m,\u001b[0m\u001b[0;34m\u001b[0m\u001b[0m\n\u001b[1;32m    600\u001b[0m                                                   \u001b[0mbody\u001b[0m\u001b[0;34m=\u001b[0m\u001b[0mbody\u001b[0m\u001b[0;34m,\u001b[0m \u001b[0mheaders\u001b[0m\u001b[0;34m=\u001b[0m\u001b[0mheaders\u001b[0m\u001b[0;34m,\u001b[0m\u001b[0;34m\u001b[0m\u001b[0m\n\u001b[0;32m--> 601\u001b[0;31m                                                   chunked=chunked)\n\u001b[0m\u001b[1;32m    602\u001b[0m \u001b[0;34m\u001b[0m\u001b[0m\n\u001b[1;32m    603\u001b[0m             \u001b[0;31m# If we're going to release the connection in ``finally:``, then\u001b[0m\u001b[0;34m\u001b[0m\u001b[0;34m\u001b[0m\u001b[0m\n",
      "\u001b[0;32m~/.pyenv/versions/3.6.1/lib/python3.6/site-packages/urllib3/connectionpool.py\u001b[0m in \u001b[0;36m_make_request\u001b[0;34m(self, conn, method, url, timeout, chunked, **httplib_request_kw)\u001b[0m\n\u001b[1;32m    381\u001b[0m             \u001b[0;32mexcept\u001b[0m \u001b[0mTypeError\u001b[0m\u001b[0;34m:\u001b[0m  \u001b[0;31m# Python 2.6 and older, Python 3\u001b[0m\u001b[0;34m\u001b[0m\u001b[0m\n\u001b[1;32m    382\u001b[0m                 \u001b[0;32mtry\u001b[0m\u001b[0;34m:\u001b[0m\u001b[0;34m\u001b[0m\u001b[0m\n\u001b[0;32m--> 383\u001b[0;31m                     \u001b[0mhttplib_response\u001b[0m \u001b[0;34m=\u001b[0m \u001b[0mconn\u001b[0m\u001b[0;34m.\u001b[0m\u001b[0mgetresponse\u001b[0m\u001b[0;34m(\u001b[0m\u001b[0;34m)\u001b[0m\u001b[0;34m\u001b[0m\u001b[0m\n\u001b[0m\u001b[1;32m    384\u001b[0m                 \u001b[0;32mexcept\u001b[0m \u001b[0mException\u001b[0m \u001b[0;32mas\u001b[0m \u001b[0me\u001b[0m\u001b[0;34m:\u001b[0m\u001b[0;34m\u001b[0m\u001b[0m\n\u001b[1;32m    385\u001b[0m                     \u001b[0;31m# Remove the TypeError from the exception chain in Python 3;\u001b[0m\u001b[0;34m\u001b[0m\u001b[0;34m\u001b[0m\u001b[0m\n",
      "\u001b[0;32m~/.pyenv/versions/3.6.1/lib/python3.6/http/client.py\u001b[0m in \u001b[0;36mgetresponse\u001b[0;34m(self)\u001b[0m\n\u001b[1;32m   1329\u001b[0m         \u001b[0;32mtry\u001b[0m\u001b[0;34m:\u001b[0m\u001b[0;34m\u001b[0m\u001b[0m\n\u001b[1;32m   1330\u001b[0m             \u001b[0;32mtry\u001b[0m\u001b[0;34m:\u001b[0m\u001b[0;34m\u001b[0m\u001b[0m\n\u001b[0;32m-> 1331\u001b[0;31m                 \u001b[0mresponse\u001b[0m\u001b[0;34m.\u001b[0m\u001b[0mbegin\u001b[0m\u001b[0;34m(\u001b[0m\u001b[0;34m)\u001b[0m\u001b[0;34m\u001b[0m\u001b[0m\n\u001b[0m\u001b[1;32m   1332\u001b[0m             \u001b[0;32mexcept\u001b[0m \u001b[0mConnectionError\u001b[0m\u001b[0;34m:\u001b[0m\u001b[0;34m\u001b[0m\u001b[0m\n\u001b[1;32m   1333\u001b[0m                 \u001b[0mself\u001b[0m\u001b[0;34m.\u001b[0m\u001b[0mclose\u001b[0m\u001b[0;34m(\u001b[0m\u001b[0;34m)\u001b[0m\u001b[0;34m\u001b[0m\u001b[0m\n",
      "\u001b[0;32m~/.pyenv/versions/3.6.1/lib/python3.6/http/client.py\u001b[0m in \u001b[0;36mbegin\u001b[0;34m(self)\u001b[0m\n\u001b[1;32m    295\u001b[0m         \u001b[0;31m# read until we get a non-100 response\u001b[0m\u001b[0;34m\u001b[0m\u001b[0;34m\u001b[0m\u001b[0m\n\u001b[1;32m    296\u001b[0m         \u001b[0;32mwhile\u001b[0m \u001b[0;32mTrue\u001b[0m\u001b[0;34m:\u001b[0m\u001b[0;34m\u001b[0m\u001b[0m\n\u001b[0;32m--> 297\u001b[0;31m             \u001b[0mversion\u001b[0m\u001b[0;34m,\u001b[0m \u001b[0mstatus\u001b[0m\u001b[0;34m,\u001b[0m \u001b[0mreason\u001b[0m \u001b[0;34m=\u001b[0m \u001b[0mself\u001b[0m\u001b[0;34m.\u001b[0m\u001b[0m_read_status\u001b[0m\u001b[0;34m(\u001b[0m\u001b[0;34m)\u001b[0m\u001b[0;34m\u001b[0m\u001b[0m\n\u001b[0m\u001b[1;32m    298\u001b[0m             \u001b[0;32mif\u001b[0m \u001b[0mstatus\u001b[0m \u001b[0;34m!=\u001b[0m \u001b[0mCONTINUE\u001b[0m\u001b[0;34m:\u001b[0m\u001b[0;34m\u001b[0m\u001b[0m\n\u001b[1;32m    299\u001b[0m                 \u001b[0;32mbreak\u001b[0m\u001b[0;34m\u001b[0m\u001b[0m\n",
      "\u001b[0;32m~/.pyenv/versions/3.6.1/lib/python3.6/http/client.py\u001b[0m in \u001b[0;36m_read_status\u001b[0;34m(self)\u001b[0m\n\u001b[1;32m    256\u001b[0m \u001b[0;34m\u001b[0m\u001b[0m\n\u001b[1;32m    257\u001b[0m     \u001b[0;32mdef\u001b[0m \u001b[0m_read_status\u001b[0m\u001b[0;34m(\u001b[0m\u001b[0mself\u001b[0m\u001b[0;34m)\u001b[0m\u001b[0;34m:\u001b[0m\u001b[0;34m\u001b[0m\u001b[0m\n\u001b[0;32m--> 258\u001b[0;31m         \u001b[0mline\u001b[0m \u001b[0;34m=\u001b[0m \u001b[0mstr\u001b[0m\u001b[0;34m(\u001b[0m\u001b[0mself\u001b[0m\u001b[0;34m.\u001b[0m\u001b[0mfp\u001b[0m\u001b[0;34m.\u001b[0m\u001b[0mreadline\u001b[0m\u001b[0;34m(\u001b[0m\u001b[0m_MAXLINE\u001b[0m \u001b[0;34m+\u001b[0m \u001b[0;36m1\u001b[0m\u001b[0;34m)\u001b[0m\u001b[0;34m,\u001b[0m \u001b[0;34m\"iso-8859-1\"\u001b[0m\u001b[0;34m)\u001b[0m\u001b[0;34m\u001b[0m\u001b[0m\n\u001b[0m\u001b[1;32m    259\u001b[0m         \u001b[0;32mif\u001b[0m \u001b[0mlen\u001b[0m\u001b[0;34m(\u001b[0m\u001b[0mline\u001b[0m\u001b[0;34m)\u001b[0m \u001b[0;34m>\u001b[0m \u001b[0m_MAXLINE\u001b[0m\u001b[0;34m:\u001b[0m\u001b[0;34m\u001b[0m\u001b[0m\n\u001b[1;32m    260\u001b[0m             \u001b[0;32mraise\u001b[0m \u001b[0mLineTooLong\u001b[0m\u001b[0;34m(\u001b[0m\u001b[0;34m\"status line\"\u001b[0m\u001b[0;34m)\u001b[0m\u001b[0;34m\u001b[0m\u001b[0m\n",
      "\u001b[0;32m~/.pyenv/versions/3.6.1/lib/python3.6/socket.py\u001b[0m in \u001b[0;36mreadinto\u001b[0;34m(self, b)\u001b[0m\n\u001b[1;32m    584\u001b[0m         \u001b[0;32mwhile\u001b[0m \u001b[0;32mTrue\u001b[0m\u001b[0;34m:\u001b[0m\u001b[0;34m\u001b[0m\u001b[0m\n\u001b[1;32m    585\u001b[0m             \u001b[0;32mtry\u001b[0m\u001b[0;34m:\u001b[0m\u001b[0;34m\u001b[0m\u001b[0m\n\u001b[0;32m--> 586\u001b[0;31m                 \u001b[0;32mreturn\u001b[0m \u001b[0mself\u001b[0m\u001b[0;34m.\u001b[0m\u001b[0m_sock\u001b[0m\u001b[0;34m.\u001b[0m\u001b[0mrecv_into\u001b[0m\u001b[0;34m(\u001b[0m\u001b[0mb\u001b[0m\u001b[0;34m)\u001b[0m\u001b[0;34m\u001b[0m\u001b[0m\n\u001b[0m\u001b[1;32m    587\u001b[0m             \u001b[0;32mexcept\u001b[0m \u001b[0mtimeout\u001b[0m\u001b[0;34m:\u001b[0m\u001b[0;34m\u001b[0m\u001b[0m\n\u001b[1;32m    588\u001b[0m                 \u001b[0mself\u001b[0m\u001b[0;34m.\u001b[0m\u001b[0m_timeout_occurred\u001b[0m \u001b[0;34m=\u001b[0m \u001b[0;32mTrue\u001b[0m\u001b[0;34m\u001b[0m\u001b[0m\n",
      "\u001b[0;32m~/.pyenv/versions/3.6.1/lib/python3.6/ssl.py\u001b[0m in \u001b[0;36mrecv_into\u001b[0;34m(self, buffer, nbytes, flags)\u001b[0m\n\u001b[1;32m   1000\u001b[0m                   \u001b[0;34m\"non-zero flags not allowed in calls to recv_into() on %s\"\u001b[0m \u001b[0;34m%\u001b[0m\u001b[0;34m\u001b[0m\u001b[0m\n\u001b[1;32m   1001\u001b[0m                   self.__class__)\n\u001b[0;32m-> 1002\u001b[0;31m             \u001b[0;32mreturn\u001b[0m \u001b[0mself\u001b[0m\u001b[0;34m.\u001b[0m\u001b[0mread\u001b[0m\u001b[0;34m(\u001b[0m\u001b[0mnbytes\u001b[0m\u001b[0;34m,\u001b[0m \u001b[0mbuffer\u001b[0m\u001b[0;34m)\u001b[0m\u001b[0;34m\u001b[0m\u001b[0m\n\u001b[0m\u001b[1;32m   1003\u001b[0m         \u001b[0;32melse\u001b[0m\u001b[0;34m:\u001b[0m\u001b[0;34m\u001b[0m\u001b[0m\n\u001b[1;32m   1004\u001b[0m             \u001b[0;32mreturn\u001b[0m \u001b[0msocket\u001b[0m\u001b[0;34m.\u001b[0m\u001b[0mrecv_into\u001b[0m\u001b[0;34m(\u001b[0m\u001b[0mself\u001b[0m\u001b[0;34m,\u001b[0m \u001b[0mbuffer\u001b[0m\u001b[0;34m,\u001b[0m \u001b[0mnbytes\u001b[0m\u001b[0;34m,\u001b[0m \u001b[0mflags\u001b[0m\u001b[0;34m)\u001b[0m\u001b[0;34m\u001b[0m\u001b[0m\n",
      "\u001b[0;32m~/.pyenv/versions/3.6.1/lib/python3.6/ssl.py\u001b[0m in \u001b[0;36mread\u001b[0;34m(self, len, buffer)\u001b[0m\n\u001b[1;32m    863\u001b[0m             \u001b[0;32mraise\u001b[0m \u001b[0mValueError\u001b[0m\u001b[0;34m(\u001b[0m\u001b[0;34m\"Read on closed or unwrapped SSL socket.\"\u001b[0m\u001b[0;34m)\u001b[0m\u001b[0;34m\u001b[0m\u001b[0m\n\u001b[1;32m    864\u001b[0m         \u001b[0;32mtry\u001b[0m\u001b[0;34m:\u001b[0m\u001b[0;34m\u001b[0m\u001b[0m\n\u001b[0;32m--> 865\u001b[0;31m             \u001b[0;32mreturn\u001b[0m \u001b[0mself\u001b[0m\u001b[0;34m.\u001b[0m\u001b[0m_sslobj\u001b[0m\u001b[0;34m.\u001b[0m\u001b[0mread\u001b[0m\u001b[0;34m(\u001b[0m\u001b[0mlen\u001b[0m\u001b[0;34m,\u001b[0m \u001b[0mbuffer\u001b[0m\u001b[0;34m)\u001b[0m\u001b[0;34m\u001b[0m\u001b[0m\n\u001b[0m\u001b[1;32m    866\u001b[0m         \u001b[0;32mexcept\u001b[0m \u001b[0mSSLError\u001b[0m \u001b[0;32mas\u001b[0m \u001b[0mx\u001b[0m\u001b[0;34m:\u001b[0m\u001b[0;34m\u001b[0m\u001b[0m\n\u001b[1;32m    867\u001b[0m             \u001b[0;32mif\u001b[0m \u001b[0mx\u001b[0m\u001b[0;34m.\u001b[0m\u001b[0margs\u001b[0m\u001b[0;34m[\u001b[0m\u001b[0;36m0\u001b[0m\u001b[0;34m]\u001b[0m \u001b[0;34m==\u001b[0m \u001b[0mSSL_ERROR_EOF\u001b[0m \u001b[0;32mand\u001b[0m \u001b[0mself\u001b[0m\u001b[0;34m.\u001b[0m\u001b[0msuppress_ragged_eofs\u001b[0m\u001b[0;34m:\u001b[0m\u001b[0;34m\u001b[0m\u001b[0m\n",
      "\u001b[0;32m~/.pyenv/versions/3.6.1/lib/python3.6/ssl.py\u001b[0m in \u001b[0;36mread\u001b[0;34m(self, len, buffer)\u001b[0m\n\u001b[1;32m    623\u001b[0m         \"\"\"\n\u001b[1;32m    624\u001b[0m         \u001b[0;32mif\u001b[0m \u001b[0mbuffer\u001b[0m \u001b[0;32mis\u001b[0m \u001b[0;32mnot\u001b[0m \u001b[0;32mNone\u001b[0m\u001b[0;34m:\u001b[0m\u001b[0;34m\u001b[0m\u001b[0m\n\u001b[0;32m--> 625\u001b[0;31m             \u001b[0mv\u001b[0m \u001b[0;34m=\u001b[0m \u001b[0mself\u001b[0m\u001b[0;34m.\u001b[0m\u001b[0m_sslobj\u001b[0m\u001b[0;34m.\u001b[0m\u001b[0mread\u001b[0m\u001b[0;34m(\u001b[0m\u001b[0mlen\u001b[0m\u001b[0;34m,\u001b[0m \u001b[0mbuffer\u001b[0m\u001b[0;34m)\u001b[0m\u001b[0;34m\u001b[0m\u001b[0m\n\u001b[0m\u001b[1;32m    626\u001b[0m         \u001b[0;32melse\u001b[0m\u001b[0;34m:\u001b[0m\u001b[0;34m\u001b[0m\u001b[0m\n\u001b[1;32m    627\u001b[0m             \u001b[0mv\u001b[0m \u001b[0;34m=\u001b[0m \u001b[0mself\u001b[0m\u001b[0;34m.\u001b[0m\u001b[0m_sslobj\u001b[0m\u001b[0;34m.\u001b[0m\u001b[0mread\u001b[0m\u001b[0;34m(\u001b[0m\u001b[0mlen\u001b[0m\u001b[0;34m)\u001b[0m\u001b[0;34m\u001b[0m\u001b[0m\n",
      "\u001b[0;31mKeyboardInterrupt\u001b[0m: "
     ]
    }
   ],
   "source": [
    "import re\n",
    "\n",
    "import requests\n",
    "\n",
    "# 一次爬10頁\n",
    "CRAWL_PAGE_CNT = 10\n",
    "URL_TEMPLATE = \"https://www.ptt.cc/bbs/Gossiping/index{}.html\"\n",
    "\n",
    "total_page_cnt = get_total_page_cnt()\n",
    "\n",
    "for pg in range(total_page_cnt, total_page_cnt - CRAWL_PAGE_CNT, -1):\n",
    "    url = URL_TEMPLATE.format(pg)\n",
    "    for link in get_list_page(url):\n",
    "        print(link)\n",
    "        dump_page(link)"
   ]
  },
  {
   "cell_type": "markdown",
   "metadata": {},
   "source": [
    "# 以上為上次複習\n",
    "\n",
    "# 再來我們開看看怎麼將HTML的內文整理成稍微結構化的資料格式"
   ]
  },
  {
   "cell_type": "code",
   "execution_count": null,
   "metadata": {},
   "outputs": [],
   "source": [
    "page = {\n",
    "    \"title\": \"[問卦] 大尾鱸鰻 vs 與神同行？\",\n",
    "    \"content\": \"兩部我都看完了，覺得差不多好看！\",\n",
    "    \"author\": \"chiafann (NAZZZ)\",\n",
    "    \"pub_date\": \"Mon Jan  1 19:55:15 2018\",\n",
    "    \"board\": \"Gossiping\",\n",
    "    \"ip\": \"185.89.251.21\"\n",
    "}"
   ]
  },
  {
   "cell_type": "code",
   "execution_count": 116,
   "metadata": {},
   "outputs": [
    {
     "name": "stdout",
     "output_type": "stream",
     "text": [
      "Requirement already satisfied: beautifulsoup4 in ./.pyenv/versions/3.6.1/lib/python3.6/site-packages\r\n",
      "Requirement already satisfied: lxml in ./.pyenv/versions/3.6.1/lib/python3.6/site-packages\r\n"
     ]
    }
   ],
   "source": [
    "!pip install beautifulsoup4 lxml"
   ]
  },
  {
   "cell_type": "code",
   "execution_count": 122,
   "metadata": {},
   "outputs": [
    {
     "data": {
      "text/plain": [
       "bs4.BeautifulSoup"
      ]
     },
     "execution_count": 122,
     "metadata": {},
     "output_type": "execute_result"
    }
   ],
   "source": [
    "from bs4 import BeautifulSoup\n",
    "\n",
    "html = \"\"\"\n",
    "<!DOCTYPE html>\n",
    "<html>\n",
    "  <head>\n",
    "    <meta charset=\"utf-8\" />\n",
    "    <meta name=\"viewport\" content=\"width=device-width\" />\n",
    "    <title></title>\n",
    "\n",
    "  </head>\n",
    "  <body>\n",
    "    <h1>Hello world</h1>\n",
    "\n",
    "    <p class=\"welcome\">welcome to my python etl website</p>\n",
    "    <p class=\"author\">Ian Chen</p>\n",
    "    <p class=\"contact\">ianchen06@gmail.com</p>\n",
    "    \n",
    "    <p class=\"important\">Python is cool</p>\n",
    "    \n",
    "    <ul>\n",
    "    <li class=\"important\">Javascript is cool</p>\n",
    "    </ul>\n",
    "\n",
    "    <div class=\"container\">\n",
    "      <ul id=\"syllabus\">\n",
    "        <li class=\"odd important\">Python</li>\n",
    "        <li class=\"even\">爬蟲</li>\n",
    "        <li class=\"odd important\">爬蟲2</li>\n",
    "        <li class=\"even important\">資料庫</li>\n",
    "        <li class=\"odd\">高性能爬蟲</li>\n",
    "      </ul>\n",
    "    </div>\n",
    "  </body>\n",
    "</html>\n",
    "\"\"\"\n",
    "\n",
    "soup = BeautifulSoup(html, 'lxml') # Beautifulsoup Object\n",
    "type(soup)"
   ]
  },
  {
   "cell_type": "code",
   "execution_count": 120,
   "metadata": {},
   "outputs": [
    {
     "data": {
      "text/plain": [
       "<p class=\"welcome\">welcome to my python etl website</p>"
      ]
     },
     "execution_count": 120,
     "metadata": {},
     "output_type": "execute_result"
    }
   ],
   "source": [
    "author = soup.select_one('p.author') #bs4.element.Tag #select_one傳回Tag物件\n",
    "author"
   ]
  },
  {
   "cell_type": "code",
   "execution_count": 94,
   "metadata": {},
   "outputs": [
    {
     "data": {
      "text/plain": [
       "'Ian Chen'"
      ]
     },
     "execution_count": 94,
     "metadata": {},
     "output_type": "execute_result"
    }
   ],
   "source": [
    "author.text"
   ]
  },
  {
   "cell_type": "code",
   "execution_count": 95,
   "metadata": {},
   "outputs": [
    {
     "data": {
      "text/plain": [
       "<p class=\"author\">Ian Chen</p>"
      ]
     },
     "execution_count": 95,
     "metadata": {},
     "output_type": "execute_result"
    }
   ],
   "source": [
    "soup.select('p.author')[0]"
   ]
  },
  {
   "cell_type": "code",
   "execution_count": 96,
   "metadata": {},
   "outputs": [
    {
     "data": {
      "text/plain": [
       "[<li class=\"odd important\">Python</li>,\n",
       " <li class=\"odd important\">爬蟲2</li>,\n",
       " <li class=\"even important\">資料庫</li>]"
      ]
     },
     "execution_count": 96,
     "metadata": {},
     "output_type": "execute_result"
    }
   ],
   "source": [
    "soup.select('div.container')[0].select('ul')[0].select('li.important')"
   ]
  },
  {
   "cell_type": "code",
   "execution_count": 97,
   "metadata": {},
   "outputs": [
    {
     "data": {
      "text/plain": [
       "[<li class=\"important\">Javascript is cool\n",
       "     </li>,\n",
       " <li class=\"odd important\">Python</li>,\n",
       " <li class=\"odd important\">爬蟲2</li>,\n",
       " <li class=\"even important\">資料庫</li>]"
      ]
     },
     "execution_count": 97,
     "metadata": {},
     "output_type": "execute_result"
    }
   ],
   "source": [
    "soup.select('li.important')"
   ]
  },
  {
   "cell_type": "code",
   "execution_count": 98,
   "metadata": {},
   "outputs": [
    {
     "data": {
      "text/plain": [
       "[<li class=\"odd important\">Python</li>,\n",
       " <li class=\"odd important\">爬蟲2</li>,\n",
       " <li class=\"even important\">資料庫</li>]"
      ]
     },
     "execution_count": 98,
     "metadata": {},
     "output_type": "execute_result"
    }
   ],
   "source": [
    "soup.select('#syllabus > li.important')"
   ]
  },
  {
   "cell_type": "markdown",
   "metadata": {},
   "source": [
    "# 實際讀取一個ptt的html檔案進來"
   ]
  },
  {
   "cell_type": "code",
   "execution_count": 128,
   "metadata": {},
   "outputs": [],
   "source": [
    "from bs4 import BeautifulSoup\n",
    "\n",
    "with open('/tmp/ptt_data/M_1514336396_A_B25.html') as f:\n",
    "    html = f.read()\n",
    "\n",
    "soup = BeautifulSoup(html, 'lxml')"
   ]
  },
  {
   "cell_type": "code",
   "execution_count": 100,
   "metadata": {},
   "outputs": [
    {
     "data": {
      "text/plain": [
       "bs4.BeautifulSoup"
      ]
     },
     "execution_count": 100,
     "metadata": {},
     "output_type": "execute_result"
    }
   ],
   "source": [
    "type(soup)"
   ]
  },
  {
   "cell_type": "code",
   "execution_count": 129,
   "metadata": {},
   "outputs": [
    {
     "data": {
      "text/plain": [
       "[<span class=\"article-meta-value\">Kay731 (K少)</span>,\n",
       " <span class=\"article-meta-value\">Gossiping</span>,\n",
       " <span class=\"article-meta-value\">Fw: [協尋] 12/24下午新北耶誕城廣場遺失鑽石項鍊</span>,\n",
       " <span class=\"article-meta-value\">Wed Dec 27 08:59:55 2017</span>]"
      ]
     },
     "execution_count": 129,
     "metadata": {},
     "output_type": "execute_result"
    }
   ],
   "source": [
    "soup.select('.article-meta-value')"
   ]
  },
  {
   "cell_type": "code",
   "execution_count": 130,
   "metadata": {},
   "outputs": [
    {
     "data": {
      "text/plain": [
       "['Kay731 (K少)',\n",
       " 'Gossiping',\n",
       " 'Fw: [協尋] 12/24下午新北耶誕城廣場遺失鑽石項鍊',\n",
       " 'Wed Dec 27 08:59:55 2017']"
      ]
     },
     "execution_count": 130,
     "metadata": {},
     "output_type": "execute_result"
    }
   ],
   "source": [
    "metas = [tag.text for tag in soup.select('.article-meta-value')]\n",
    "metas"
   ]
  },
  {
   "cell_type": "code",
   "execution_count": 103,
   "metadata": {},
   "outputs": [],
   "source": [
    "page = {}\n",
    "page['author']   = metas[0]\n",
    "page['board']    = metas[1]\n",
    "page['title']    = metas[2]\n",
    "page['pub_date'] = metas[3]"
   ]
  },
  {
   "cell_type": "code",
   "execution_count": 131,
   "metadata": {},
   "outputs": [
    {
     "data": {
      "text/plain": [
       "{'author': 'Kay731 (K少)',\n",
       " 'board': 'Gossiping',\n",
       " 'pub_date': 'Wed Dec 27 08:59:55 2017',\n",
       " 'title': 'Fw: [協尋] 12/24下午新北耶誕城廣場遺失鑽石項鍊'}"
      ]
     },
     "execution_count": 131,
     "metadata": {},
     "output_type": "execute_result"
    }
   ],
   "source": [
    "page"
   ]
  },
  {
   "cell_type": "code",
   "execution_count": 124,
   "metadata": {},
   "outputs": [
    {
     "name": "stdout",
     "output_type": "stream",
     "text": [
      "author : Kay731 (K少)\n",
      "board : Gossiping\n",
      "title : Fw: [協尋] 12/24下午新北耶誕城廣場遺失鑽石項鍊\n",
      "pub_date : Wed Dec 27 08:59:55 2017\n"
     ]
    }
   ],
   "source": [
    "dict_key = ['author', 'board', 'title', 'pub_date']\n",
    "meta_list = ['Kay731 (K少)', 'Gossiping', 'Fw: [協尋] 12/24下午新北耶誕城廣場遺失鑽石項鍊', 'Wed Dec 27 08:59:55 2017']\n",
    "\n",
    "for k, v in zip(dict_key, meta_list):\n",
    "    print(\"%s : %s\"%(k,v))"
   ]
  },
  {
   "cell_type": "code",
   "execution_count": 125,
   "metadata": {},
   "outputs": [
    {
     "data": {
      "text/plain": [
       "{'author': 'Kay731 (K少)',\n",
       " 'board': 'Gossiping',\n",
       " 'pub_date': 'Wed Dec 27 08:59:55 2017',\n",
       " 'title': 'Fw: [協尋] 12/24下午新北耶誕城廣場遺失鑽石項鍊'}"
      ]
     },
     "execution_count": 125,
     "metadata": {},
     "output_type": "execute_result"
    }
   ],
   "source": [
    "dict_key = ['author', 'board', 'title', 'pub_date']\n",
    "meta_list = ['Kay731 (K少)', 'Gossiping', 'Fw: [協尋] 12/24下午新北耶誕城廣場遺失鑽石項鍊', 'Wed Dec 27 08:59:55 2017']\n",
    "\n",
    "page = {}\n",
    "for k, v in zip(dict_key, meta_list):\n",
    "    #print(\"%s : %s\"%(k,v))\n",
    "    page[k] = v\n",
    "page"
   ]
  },
  {
   "cell_type": "code",
   "execution_count": 132,
   "metadata": {},
   "outputs": [
    {
     "data": {
      "text/plain": [
       "['Kay731 (K少)',\n",
       " 'Gossiping',\n",
       " 'Fw: [協尋] 12/24下午新北耶誕城廣場遺失鑽石項鍊',\n",
       " 'Wed Dec 27 08:59:55 2017']"
      ]
     },
     "execution_count": 132,
     "metadata": {},
     "output_type": "execute_result"
    }
   ],
   "source": [
    "meta_list = [tag.text for tag in soup.select('span.article-meta-value')]\n",
    "meta_list"
   ]
  },
  {
   "cell_type": "code",
   "execution_count": 133,
   "metadata": {},
   "outputs": [
    {
     "data": {
      "text/plain": [
       "{'author': 'Kay731 (K少)',\n",
       " 'board': 'Gossiping',\n",
       " 'pub_date': 'Wed Dec 27 08:59:55 2017',\n",
       " 'title': 'Fw: [協尋] 12/24下午新北耶誕城廣場遺失鑽石項鍊'}"
      ]
     },
     "execution_count": 133,
     "metadata": {},
     "output_type": "execute_result"
    }
   ],
   "source": [
    "dict_key = ['author', 'board', 'title', 'pub_date']\n",
    "# meta_list = ['Kay731 (K少)', 'Gossiping', 'Fw: [協尋] 12/24下午新北耶誕城廣場遺失鑽石項鍊', 'Wed Dec 27 08:59:55 2017']\n",
    "\n",
    "# dictionary comprehension\n",
    "page = {k:v for k, v in zip(dict_key, meta_list)}\n",
    "page"
   ]
  },
  {
   "cell_type": "code",
   "execution_count": 134,
   "metadata": {},
   "outputs": [
    {
     "data": {
      "text/plain": [
       "{'author': 'Kay731 (K少)',\n",
       " 'board': 'Gossiping',\n",
       " 'ip': '42.72.160.231',\n",
       " 'pub_date': 'Wed Dec 27 08:59:55 2017',\n",
       " 'title': 'Fw: [協尋] 12/24下午新北耶誕城廣場遺失鑽石項鍊'}"
      ]
     },
     "execution_count": 134,
     "metadata": {},
     "output_type": "execute_result"
    }
   ],
   "source": [
    "import re\n",
    "\n",
    "page['ip'] = re.findall('來自: (\\d{1,3}\\.\\d{1,3}\\.\\d{1,3}\\.\\d{1,3})', html)[0]\n",
    "page"
   ]
  },
  {
   "cell_type": "markdown",
   "metadata": {},
   "source": [
    "# 內文比較複雜\n",
    "\n",
    "因為內文沒有被tag包住，可以直接select\n",
    "\n",
    "所以只能弄刪去法, 把不是內文的東西刪掉"
   ]
  },
  {
   "cell_type": "code",
   "execution_count": 144,
   "metadata": {},
   "outputs": [
    {
     "data": {
      "text/plain": [
       "'\\n\\n作者: nswitch (Nswitch) 看板: BigBanciao\\n標題: [協尋] 12/24下午新北耶誕城廣場遺失鑽石項鍊\\n時間: Wed Dec 27 08:42:37 2017\\n\\n\\n'"
      ]
     },
     "execution_count": 144,
     "metadata": {},
     "output_type": "execute_result"
    }
   ],
   "source": [
    "soup.select_one('#main-content').text[:100]"
   ]
  },
  {
   "cell_type": "code",
   "execution_count": 145,
   "metadata": {},
   "outputs": [],
   "source": [
    "for line in soup.select('.article-metaline'):\n",
    "    # extract就像list/dict的del，不會回傳東西，只會modify Object\n",
    "    line.extract()"
   ]
  },
  {
   "cell_type": "code",
   "execution_count": 146,
   "metadata": {},
   "outputs": [],
   "source": [
    "for line in soup.select('.article-metaline-right'):\n",
    "    # extract就像list/dict的del，不會回傳東西，只會modify Object\n",
    "    line.extract()"
   ]
  },
  {
   "cell_type": "code",
   "execution_count": 140,
   "metadata": {},
   "outputs": [
    {
     "data": {
      "text/plain": [
       "[]"
      ]
     },
     "execution_count": 140,
     "metadata": {},
     "output_type": "execute_result"
    }
   ],
   "source": [
    "soup.select('.article-metaline')"
   ]
  },
  {
   "cell_type": "code",
   "execution_count": 141,
   "metadata": {},
   "outputs": [
    {
     "data": {
      "text/plain": [
       "[]"
      ]
     },
     "execution_count": 141,
     "metadata": {},
     "output_type": "execute_result"
    }
   ],
   "source": [
    "soup.select('.article-metaline-right')"
   ]
  },
  {
   "cell_type": "code",
   "execution_count": 147,
   "metadata": {},
   "outputs": [
    {
     "data": {
      "text/plain": [
       "'\\n\\n作者: nswitch (Nswitch) 看板: BigBanciao\\n標題: [協尋] 12/24下午新北耶誕城廣場遺失鑽石項鍊\\n時間: Wed Dec 27 08:42:37 2017\\n\\n\\n'"
      ]
     },
     "execution_count": 147,
     "metadata": {},
     "output_type": "execute_result"
    }
   ],
   "source": [
    "soup.select('#main-content')[0].text[:100]"
   ]
  },
  {
   "cell_type": "code",
   "execution_count": 154,
   "metadata": {
    "scrolled": true
   },
   "outputs": [
    {
     "data": {
      "text/plain": [
       "<div class=\"bbs-screen bbs-content\" id=\"main-content\">\n",
       "\n",
       "作者: nswitch (Nswitch) 看板: BigBanciao\n",
       "標題: [協尋] 12/24下午新北耶誕城廣場遺失鑽石項鍊\n",
       "時間: Wed Dec 27 08:42:37 2017\n",
       "\n",
       "\n",
       "因朋友權限不足 是以代po\n",
       "並請友版版主轉文章並置底\n",
       "非常感謝您 真的很感謝\n",
       "\n",
       "內容\n",
       "請廣大的鄉民們幫忙或可轉至其他社群幫忙尋找\n",
       "\n",
       "時間: 12/24 星期日12:40～14:00這段時間遺失\n",
       "\n",
       "地點:新北市耶誕城市民廣場處\n",
       "\n",
       "因為家人那天帶小孩去新北耶誕城廣場玩\n",
       "在玩了旋轉木馬和飛椅之後\n",
       "發現脖子上的鑽石銀項鍊遺失了\n",
       "可能是鍊子斷掉了\n",
       "（特色是鑽石會自然晃動）\n",
       "後來有請大會廣播並再找了一天都沒找到\n",
       "甚至從縫隙看水溝蓋裡\n",
       "也至警局備案 但目前仍沒有找到\n",
       "\n",
       "鑽石重量十分不到 一般市價幾千元\n",
       "但那鑽石是由家人做成的生命寶石\n",
       "對我們意義重大 我們遺失非常的難過\n",
       "所以 真的能希望由廣大版友幫忙 能夠找回\n",
       "若有在那裡有撿到或是您的親友有看到拾得的話\n",
       "請Line: Nswitch\n",
       "或可交至耶誕城大會服務台\n",
       "也可送附近警察局再轉交給海山分局\n",
       "\n",
       "若是可能\n",
       "會用超放大鏡去看腰間刻的英文名和寶石編號\n",
       "經確定是我們遺失的\n",
       "我們會給您台幣一百萬元感謝您有好好地照顧與保護\n",
       "並在新北廣場發1000份雞排感謝ptt fb 或其他社群的朋友/恩人\n",
       "\n",
       "附上同款項鍊圖片和新北耶誕城遺失位置圖片連結\n",
       "<a href=\"https://imgur.com/gallery/KPuIH\" rel=\"nofollow\" target=\"_blank\">https://imgur.com/gallery/KPuIH</a>\n",
       "\n",
       "--\n",
       "\n",
       "</div>"
      ]
     },
     "execution_count": 154,
     "metadata": {},
     "output_type": "execute_result"
    }
   ],
   "source": [
    "content = soup.select_one('div#main-content')\n",
    "\n",
    "selectors_to_del = ['.article-metaline',\n",
    "                   '.article-metaline-right',\n",
    "                    'span.f2',\n",
    "                    'div.push'\n",
    "                   ]\n",
    "\n",
    "for selector in selectors_to_del:\n",
    "    [tag.extract() for tag in content.select(selector)]\n",
    "content"
   ]
  },
  {
   "cell_type": "code",
   "execution_count": 150,
   "metadata": {},
   "outputs": [
    {
     "data": {
      "text/plain": [
       "{'author': 'Kay731 (K少)',\n",
       " 'board': 'Gossiping',\n",
       " 'ip': '42.72.160.231',\n",
       " 'pub_date': 'Wed Dec 27 08:59:55 2017',\n",
       " 'title': 'Fw: [協尋] 12/24下午新北耶誕城廣場遺失鑽石項鍊'}"
      ]
     },
     "execution_count": 150,
     "metadata": {},
     "output_type": "execute_result"
    }
   ],
   "source": [
    "page"
   ]
  },
  {
   "cell_type": "code",
   "execution_count": 151,
   "metadata": {},
   "outputs": [],
   "source": [
    "page['content'] = content.text.strip()"
   ]
  },
  {
   "cell_type": "code",
   "execution_count": 152,
   "metadata": {},
   "outputs": [
    {
     "data": {
      "text/plain": [
       "{'author': 'Kay731 (K少)',\n",
       " 'board': 'Gossiping',\n",
       " 'content': '作者: nswitch (Nswitch) 看板: BigBanciao\\n標題: [協尋] 12/24下午新北耶誕城廣場遺失鑽石項鍊\\n時間: Wed Dec 27 08:42:37 2017\\n\\n\\n因朋友權限不足 是以代po\\n並請友版版主轉文章並置底\\n非常感謝您 真的很感謝\\n\\n內容\\n請廣大的鄉民們幫忙或可轉至其他社群幫忙尋找\\n\\n時間: 12/24 星期日12:40～14:00這段時間遺失\\n\\n地點:新北市耶誕城市民廣場處\\n\\n因為家人那天帶小孩去新北耶誕城廣場玩\\n在玩了旋轉木馬和飛椅之後\\n發現脖子上的鑽石銀項鍊遺失了\\n可能是鍊子斷掉了\\n（特色是鑽石會自然晃動）\\n後來有請大會廣播並再找了一天都沒找到\\n甚至從縫隙看水溝蓋裡\\n也至警局備案 但目前仍沒有找到\\n\\n鑽石重量十分不到 一般市價幾千元\\n但那鑽石是由家人做成的生命寶石\\n對我們意義重大 我們遺失非常的難過\\n所以 真的能希望由廣大版友幫忙 能夠找回\\n若有在那裡有撿到或是您的親友有看到拾得的話\\n請Line: Nswitch\\n或可交至耶誕城大會服務台\\n也可送附近警察局再轉交給海山分局\\n\\n若是可能\\n會用超放大鏡去看腰間刻的英文名和寶石編號\\n經確定是我們遺失的\\n我們會給您台幣一百萬元感謝您有好好地照顧與保護\\n並在新北廣場發1000份雞排感謝ptt fb 或其他社群的朋友/恩人\\n\\n附上同款項鍊圖片和新北耶誕城遺失位置圖片連結\\nhttps://imgur.com/gallery/KPuIH\\n\\n--',\n",
       " 'ip': '42.72.160.231',\n",
       " 'pub_date': 'Wed Dec 27 08:59:55 2017',\n",
       " 'title': 'Fw: [協尋] 12/24下午新北耶誕城廣場遺失鑽石項鍊'}"
      ]
     },
     "execution_count": 152,
     "metadata": {},
     "output_type": "execute_result"
    }
   ],
   "source": [
    "page"
   ]
  },
  {
   "cell_type": "markdown",
   "metadata": {},
   "source": [
    "# Youbike"
   ]
  },
  {
   "cell_type": "code",
   "execution_count": 155,
   "metadata": {},
   "outputs": [
    {
     "data": {
      "text/plain": [
       "'{\"retCode\":1,\"retVal\":{\"0001\":{\"sno\":\"0001\",\"sna\":\"捷運市政府站(3號出口)\",\"tot\":\"180\",\"sbi\":\"119\",\"sarea\":\"信義'"
      ]
     },
     "execution_count": 155,
     "metadata": {},
     "output_type": "execute_result"
    }
   ],
   "source": [
    "import requests\n",
    "\n",
    "URL = 'http://data.taipei/youbike'\n",
    "\n",
    "resp = requests.get(URL)\n",
    "resp.text[:100]"
   ]
  },
  {
   "cell_type": "code",
   "execution_count": 156,
   "metadata": {},
   "outputs": [],
   "source": [
    "import json"
   ]
  },
  {
   "cell_type": "code",
   "execution_count": 162,
   "metadata": {},
   "outputs": [],
   "source": [
    "youbike_dict = json.loads(resp.text)"
   ]
  },
  {
   "cell_type": "code",
   "execution_count": 158,
   "metadata": {},
   "outputs": [
    {
     "data": {
      "text/plain": [
       "dict_keys(['retCode', 'retVal'])"
      ]
     },
     "execution_count": 158,
     "metadata": {},
     "output_type": "execute_result"
    }
   ],
   "source": [
    "youbike_dict.keys()"
   ]
  },
  {
   "cell_type": "code",
   "execution_count": null,
   "metadata": {},
   "outputs": [],
   "source": [
    "youbike_dict['retVal']['0001']"
   ]
  },
  {
   "cell_type": "code",
   "execution_count": null,
   "metadata": {},
   "outputs": [],
   "source": [
    "import requests\n",
    "\n",
    "URL = 'http://data.taipei/youbike'\n",
    "\n",
    "resp = requests.get(URL)\n",
    "#resp.json()"
   ]
  },
  {
   "cell_type": "markdown",
   "metadata": {},
   "source": [
    "# Mobile01"
   ]
  },
  {
   "cell_type": "code",
   "execution_count": 169,
   "metadata": {},
   "outputs": [
    {
     "name": "stdout",
     "output_type": "stream",
     "text": [
      "mkdir: cannot create directory ‘/tmp/mobile01_data’: File exists\r\n"
     ]
    }
   ],
   "source": [
    "!mkdir /tmp/mobile01_data"
   ]
  },
  {
   "cell_type": "code",
   "execution_count": 193,
   "metadata": {},
   "outputs": [],
   "source": [
    "import re\n",
    "import time\n",
    "\n",
    "import requests\n",
    "\n",
    "DATA_PATH = '/tmp/mobile01_data'\n",
    "CRAWL_PAGE_CNT = 10\n",
    "#URL_TEMPLATE = \"https://www.ptt.cc/bbs/Gossiping/index{}.html\"\n",
    "URL_TEMPLATE = \"https://www.mobile01.com/topiclist.php?f=383&p={}\"\n",
    "HOST = \"https://www.mobile01.com\"\n",
    "\n",
    "\n",
    "def get_w_cookie(url):\n",
    "    \"\"\"GET HTTP url with custom header containing cookie info for PTT\n",
    "\n",
    "    Parameters\n",
    "    ----------\n",
    "    url : str\n",
    "        PTT八卦版需要驗證年齡的URL，\n",
    "        如：https://www.ptt.cc/bbs/Gossiping/index31063.html\n",
    "\n",
    "    Returns\n",
    "    -------\n",
    "    Response\n",
    "        Requestsµ模組的Response Object\n",
    "    \"\"\"\n",
    "    custom_headers = {\n",
    "        \"cookie\": \"over18=1;\"\n",
    "    }\n",
    "    resp = requests.get(url, headers=custom_headers)\n",
    "    return resp\n",
    "\n",
    "\n",
    "def get_total_page_cnt():\n",
    "    \"\"\"取得現在ptt板塊的總頁數\n",
    "\n",
    "    Parameters\n",
    "    ----------\n",
    "\n",
    "    Returns\n",
    "    -------\n",
    "    int\n",
    "       現在ptt板塊的總頁數\n",
    "    \"\"\"\n",
    "    url = URL_TEMPLATE.format('')\n",
    "    resp = get_w_cookie(url)\n",
    "\n",
    "    # 這個符號\n",
    "    # ‹-> &lsaquo;\n",
    "    total_page_cnt = int(re.findall('href=\"/bbs/Gossiping/index(\\d+).html\">&lsaquo; 上頁', resp.text)[0]) + 1\n",
    "    return total_page_cnt\n",
    "\n",
    "def get_list_page(url):\n",
    "    \"\"\"GET列表頁，取得內文頁的連結們\n",
    "\n",
    "    Parameters\n",
    "    ----------\n",
    "    url : str\n",
    "        PTT 列表頁URL\n",
    "\n",
    "    Returns\n",
    "    -------\n",
    "    list\n",
    "       PTT內文頁的links\n",
    "    \"\"\"\n",
    "    resp = get_w_cookie(url)\n",
    "    links = re.findall('<a href=\"(topicdetail.php\\?f=383&t=\\d+)\" class=\"topic_gen\" title=\"人氣: \\d+\">', resp.text)\n",
    "    detail_page_links = [\"%s/%s\"%(HOST, link) for link in links]\n",
    "    return detail_page_links\n",
    "\n",
    "def dump_page(url):\n",
    "    \"\"\"GET url的HTML並且寫到檔案裡\n",
    "\n",
    "    Parameters\n",
    "    ----------\n",
    "    url : str\n",
    "        PTT 內文頁URL\n",
    "\n",
    "    Returns\n",
    "    -------\n",
    "    str\n",
    "       儲存的檔案名稱\n",
    "    \"\"\"\n",
    "    filename = \"_\".join(re.findall('f=(\\d+)&t=(\\d+)&p=(\\d+)', url)[0]) + '.html'\n",
    "    resp = get_w_cookie(url)\n",
    "\n",
    "    with open(DATA_PATH + '/' + filename, 'w') as f:\n",
    "        f.write(resp.text)\n",
    "    return resp"
   ]
  },
  {
   "cell_type": "code",
   "execution_count": 210,
   "metadata": {},
   "outputs": [
    {
     "name": "stdout",
     "output_type": "stream",
     "text": [
      "https://www.mobile01.com/topicdetail.php?f=383&t=5357785&p=1\n",
      "https://www.mobile01.com/topicdetail.php?f=383&t=5357785&p=2\n",
      "https://www.mobile01.com/topicdetail.php?f=383&t=5357785&p=3\n",
      "https://www.mobile01.com/topicdetail.php?f=383&t=5357785&p=4\n",
      "https://www.mobile01.com/topicdetail.php?f=383&t=5357785&p=5\n",
      "https://www.mobile01.com/topicdetail.php?f=383&t=5357785&p=6\n"
     ]
    },
    {
     "ename": "KeyboardInterrupt",
     "evalue": "",
     "output_type": "error",
     "traceback": [
      "\u001b[0;31m---------------------------------------------------------------------------\u001b[0m",
      "\u001b[0;31mTypeError\u001b[0m                                 Traceback (most recent call last)",
      "\u001b[0;32m~/.pyenv/versions/3.6.1/lib/python3.6/site-packages/urllib3/connectionpool.py\u001b[0m in \u001b[0;36m_make_request\u001b[0;34m(self, conn, method, url, timeout, chunked, **httplib_request_kw)\u001b[0m\n\u001b[1;32m    379\u001b[0m             \u001b[0;32mtry\u001b[0m\u001b[0;34m:\u001b[0m  \u001b[0;31m# Python 2.7, use buffering of HTTP responses\u001b[0m\u001b[0;34m\u001b[0m\u001b[0m\n\u001b[0;32m--> 380\u001b[0;31m                 \u001b[0mhttplib_response\u001b[0m \u001b[0;34m=\u001b[0m \u001b[0mconn\u001b[0m\u001b[0;34m.\u001b[0m\u001b[0mgetresponse\u001b[0m\u001b[0;34m(\u001b[0m\u001b[0mbuffering\u001b[0m\u001b[0;34m=\u001b[0m\u001b[0;32mTrue\u001b[0m\u001b[0;34m)\u001b[0m\u001b[0;34m\u001b[0m\u001b[0m\n\u001b[0m\u001b[1;32m    381\u001b[0m             \u001b[0;32mexcept\u001b[0m \u001b[0mTypeError\u001b[0m\u001b[0;34m:\u001b[0m  \u001b[0;31m# Python 2.6 and older, Python 3\u001b[0m\u001b[0;34m\u001b[0m\u001b[0m\n",
      "\u001b[0;31mTypeError\u001b[0m: getresponse() got an unexpected keyword argument 'buffering'",
      "\nDuring handling of the above exception, another exception occurred:\n",
      "\u001b[0;31mKeyboardInterrupt\u001b[0m                         Traceback (most recent call last)",
      "\u001b[0;32m<ipython-input-210-19f347988e20>\u001b[0m in \u001b[0;36m<module>\u001b[0;34m()\u001b[0m\n\u001b[1;32m      9\u001b[0m             \u001b[0mlink_url\u001b[0m \u001b[0;34m=\u001b[0m \u001b[0mlink\u001b[0m \u001b[0;34m+\u001b[0m \u001b[0;34m\"&p=%s\"\u001b[0m\u001b[0;34m%\u001b[0m\u001b[0mlink_pg\u001b[0m\u001b[0;34m\u001b[0m\u001b[0m\n\u001b[1;32m     10\u001b[0m             \u001b[0mprint\u001b[0m\u001b[0;34m(\u001b[0m\u001b[0mlink_url\u001b[0m\u001b[0;34m)\u001b[0m\u001b[0;34m\u001b[0m\u001b[0m\n\u001b[0;32m---> 11\u001b[0;31m             \u001b[0mresp\u001b[0m \u001b[0;34m=\u001b[0m \u001b[0mdump_page\u001b[0m\u001b[0;34m(\u001b[0m\u001b[0mlink_url\u001b[0m\u001b[0;34m)\u001b[0m\u001b[0;34m\u001b[0m\u001b[0m\n\u001b[0m\u001b[1;32m     12\u001b[0m             \u001b[0mtime\u001b[0m\u001b[0;34m.\u001b[0m\u001b[0msleep\u001b[0m\u001b[0;34m(\u001b[0m\u001b[0;36m0.4\u001b[0m\u001b[0;34m)\u001b[0m\u001b[0;34m\u001b[0m\u001b[0m\n\u001b[1;32m     13\u001b[0m \u001b[0;34m\u001b[0m\u001b[0m\n",
      "\u001b[0;32m<ipython-input-193-f680d085a50e>\u001b[0m in \u001b[0;36mdump_page\u001b[0;34m(url)\u001b[0m\n\u001b[1;32m     83\u001b[0m     \"\"\"\n\u001b[1;32m     84\u001b[0m     \u001b[0mfilename\u001b[0m \u001b[0;34m=\u001b[0m \u001b[0;34m\"_\"\u001b[0m\u001b[0;34m.\u001b[0m\u001b[0mjoin\u001b[0m\u001b[0;34m(\u001b[0m\u001b[0mre\u001b[0m\u001b[0;34m.\u001b[0m\u001b[0mfindall\u001b[0m\u001b[0;34m(\u001b[0m\u001b[0;34m'f=(\\d+)&t=(\\d+)&p=(\\d+)'\u001b[0m\u001b[0;34m,\u001b[0m \u001b[0murl\u001b[0m\u001b[0;34m)\u001b[0m\u001b[0;34m[\u001b[0m\u001b[0;36m0\u001b[0m\u001b[0;34m]\u001b[0m\u001b[0;34m)\u001b[0m \u001b[0;34m+\u001b[0m \u001b[0;34m'.html'\u001b[0m\u001b[0;34m\u001b[0m\u001b[0m\n\u001b[0;32m---> 85\u001b[0;31m     \u001b[0mresp\u001b[0m \u001b[0;34m=\u001b[0m \u001b[0mget_w_cookie\u001b[0m\u001b[0;34m(\u001b[0m\u001b[0murl\u001b[0m\u001b[0;34m)\u001b[0m\u001b[0;34m\u001b[0m\u001b[0m\n\u001b[0m\u001b[1;32m     86\u001b[0m \u001b[0;34m\u001b[0m\u001b[0m\n\u001b[1;32m     87\u001b[0m     \u001b[0;32mwith\u001b[0m \u001b[0mopen\u001b[0m\u001b[0;34m(\u001b[0m\u001b[0mDATA_PATH\u001b[0m \u001b[0;34m+\u001b[0m \u001b[0;34m'/'\u001b[0m \u001b[0;34m+\u001b[0m \u001b[0mfilename\u001b[0m\u001b[0;34m,\u001b[0m \u001b[0;34m'w'\u001b[0m\u001b[0;34m)\u001b[0m \u001b[0;32mas\u001b[0m \u001b[0mf\u001b[0m\u001b[0;34m:\u001b[0m\u001b[0;34m\u001b[0m\u001b[0m\n",
      "\u001b[0;32m<ipython-input-193-f680d085a50e>\u001b[0m in \u001b[0;36mget_w_cookie\u001b[0;34m(url)\u001b[0m\n\u001b[1;32m     28\u001b[0m         \u001b[0;34m\"cookie\"\u001b[0m\u001b[0;34m:\u001b[0m \u001b[0;34m\"over18=1;\"\u001b[0m\u001b[0;34m\u001b[0m\u001b[0m\n\u001b[1;32m     29\u001b[0m     }\n\u001b[0;32m---> 30\u001b[0;31m     \u001b[0mresp\u001b[0m \u001b[0;34m=\u001b[0m \u001b[0mrequests\u001b[0m\u001b[0;34m.\u001b[0m\u001b[0mget\u001b[0m\u001b[0;34m(\u001b[0m\u001b[0murl\u001b[0m\u001b[0;34m,\u001b[0m \u001b[0mheaders\u001b[0m\u001b[0;34m=\u001b[0m\u001b[0mcustom_headers\u001b[0m\u001b[0;34m)\u001b[0m\u001b[0;34m\u001b[0m\u001b[0m\n\u001b[0m\u001b[1;32m     31\u001b[0m     \u001b[0;32mreturn\u001b[0m \u001b[0mresp\u001b[0m\u001b[0;34m\u001b[0m\u001b[0m\n\u001b[1;32m     32\u001b[0m \u001b[0;34m\u001b[0m\u001b[0m\n",
      "\u001b[0;32m~/.pyenv/versions/3.6.1/lib/python3.6/site-packages/requests/api.py\u001b[0m in \u001b[0;36mget\u001b[0;34m(url, params, **kwargs)\u001b[0m\n\u001b[1;32m     70\u001b[0m \u001b[0;34m\u001b[0m\u001b[0m\n\u001b[1;32m     71\u001b[0m     \u001b[0mkwargs\u001b[0m\u001b[0;34m.\u001b[0m\u001b[0msetdefault\u001b[0m\u001b[0;34m(\u001b[0m\u001b[0;34m'allow_redirects'\u001b[0m\u001b[0;34m,\u001b[0m \u001b[0;32mTrue\u001b[0m\u001b[0;34m)\u001b[0m\u001b[0;34m\u001b[0m\u001b[0m\n\u001b[0;32m---> 72\u001b[0;31m     \u001b[0;32mreturn\u001b[0m \u001b[0mrequest\u001b[0m\u001b[0;34m(\u001b[0m\u001b[0;34m'get'\u001b[0m\u001b[0;34m,\u001b[0m \u001b[0murl\u001b[0m\u001b[0;34m,\u001b[0m \u001b[0mparams\u001b[0m\u001b[0;34m=\u001b[0m\u001b[0mparams\u001b[0m\u001b[0;34m,\u001b[0m \u001b[0;34m**\u001b[0m\u001b[0mkwargs\u001b[0m\u001b[0;34m)\u001b[0m\u001b[0;34m\u001b[0m\u001b[0m\n\u001b[0m\u001b[1;32m     73\u001b[0m \u001b[0;34m\u001b[0m\u001b[0m\n\u001b[1;32m     74\u001b[0m \u001b[0;34m\u001b[0m\u001b[0m\n",
      "\u001b[0;32m~/.pyenv/versions/3.6.1/lib/python3.6/site-packages/requests/api.py\u001b[0m in \u001b[0;36mrequest\u001b[0;34m(method, url, **kwargs)\u001b[0m\n\u001b[1;32m     56\u001b[0m     \u001b[0;31m# cases, and look like a memory leak in others.\u001b[0m\u001b[0;34m\u001b[0m\u001b[0;34m\u001b[0m\u001b[0m\n\u001b[1;32m     57\u001b[0m     \u001b[0;32mwith\u001b[0m \u001b[0msessions\u001b[0m\u001b[0;34m.\u001b[0m\u001b[0mSession\u001b[0m\u001b[0;34m(\u001b[0m\u001b[0;34m)\u001b[0m \u001b[0;32mas\u001b[0m \u001b[0msession\u001b[0m\u001b[0;34m:\u001b[0m\u001b[0;34m\u001b[0m\u001b[0m\n\u001b[0;32m---> 58\u001b[0;31m         \u001b[0;32mreturn\u001b[0m \u001b[0msession\u001b[0m\u001b[0;34m.\u001b[0m\u001b[0mrequest\u001b[0m\u001b[0;34m(\u001b[0m\u001b[0mmethod\u001b[0m\u001b[0;34m=\u001b[0m\u001b[0mmethod\u001b[0m\u001b[0;34m,\u001b[0m \u001b[0murl\u001b[0m\u001b[0;34m=\u001b[0m\u001b[0murl\u001b[0m\u001b[0;34m,\u001b[0m \u001b[0;34m**\u001b[0m\u001b[0mkwargs\u001b[0m\u001b[0;34m)\u001b[0m\u001b[0;34m\u001b[0m\u001b[0m\n\u001b[0m\u001b[1;32m     59\u001b[0m \u001b[0;34m\u001b[0m\u001b[0m\n\u001b[1;32m     60\u001b[0m \u001b[0;34m\u001b[0m\u001b[0m\n",
      "\u001b[0;32m~/.pyenv/versions/3.6.1/lib/python3.6/site-packages/requests/sessions.py\u001b[0m in \u001b[0;36mrequest\u001b[0;34m(self, method, url, params, data, headers, cookies, files, auth, timeout, allow_redirects, proxies, hooks, stream, verify, cert, json)\u001b[0m\n\u001b[1;32m    506\u001b[0m         }\n\u001b[1;32m    507\u001b[0m         \u001b[0msend_kwargs\u001b[0m\u001b[0;34m.\u001b[0m\u001b[0mupdate\u001b[0m\u001b[0;34m(\u001b[0m\u001b[0msettings\u001b[0m\u001b[0;34m)\u001b[0m\u001b[0;34m\u001b[0m\u001b[0m\n\u001b[0;32m--> 508\u001b[0;31m         \u001b[0mresp\u001b[0m \u001b[0;34m=\u001b[0m \u001b[0mself\u001b[0m\u001b[0;34m.\u001b[0m\u001b[0msend\u001b[0m\u001b[0;34m(\u001b[0m\u001b[0mprep\u001b[0m\u001b[0;34m,\u001b[0m \u001b[0;34m**\u001b[0m\u001b[0msend_kwargs\u001b[0m\u001b[0;34m)\u001b[0m\u001b[0;34m\u001b[0m\u001b[0m\n\u001b[0m\u001b[1;32m    509\u001b[0m \u001b[0;34m\u001b[0m\u001b[0m\n\u001b[1;32m    510\u001b[0m         \u001b[0;32mreturn\u001b[0m \u001b[0mresp\u001b[0m\u001b[0;34m\u001b[0m\u001b[0m\n",
      "\u001b[0;32m~/.pyenv/versions/3.6.1/lib/python3.6/site-packages/requests/sessions.py\u001b[0m in \u001b[0;36msend\u001b[0;34m(self, request, **kwargs)\u001b[0m\n\u001b[1;32m    616\u001b[0m \u001b[0;34m\u001b[0m\u001b[0m\n\u001b[1;32m    617\u001b[0m         \u001b[0;31m# Send the request\u001b[0m\u001b[0;34m\u001b[0m\u001b[0;34m\u001b[0m\u001b[0m\n\u001b[0;32m--> 618\u001b[0;31m         \u001b[0mr\u001b[0m \u001b[0;34m=\u001b[0m \u001b[0madapter\u001b[0m\u001b[0;34m.\u001b[0m\u001b[0msend\u001b[0m\u001b[0;34m(\u001b[0m\u001b[0mrequest\u001b[0m\u001b[0;34m,\u001b[0m \u001b[0;34m**\u001b[0m\u001b[0mkwargs\u001b[0m\u001b[0;34m)\u001b[0m\u001b[0;34m\u001b[0m\u001b[0m\n\u001b[0m\u001b[1;32m    619\u001b[0m \u001b[0;34m\u001b[0m\u001b[0m\n\u001b[1;32m    620\u001b[0m         \u001b[0;31m# Total elapsed time of the request (approximately)\u001b[0m\u001b[0;34m\u001b[0m\u001b[0;34m\u001b[0m\u001b[0m\n",
      "\u001b[0;32m~/.pyenv/versions/3.6.1/lib/python3.6/site-packages/requests/adapters.py\u001b[0m in \u001b[0;36msend\u001b[0;34m(self, request, stream, timeout, verify, cert, proxies)\u001b[0m\n\u001b[1;32m    438\u001b[0m                     \u001b[0mdecode_content\u001b[0m\u001b[0;34m=\u001b[0m\u001b[0;32mFalse\u001b[0m\u001b[0;34m,\u001b[0m\u001b[0;34m\u001b[0m\u001b[0m\n\u001b[1;32m    439\u001b[0m                     \u001b[0mretries\u001b[0m\u001b[0;34m=\u001b[0m\u001b[0mself\u001b[0m\u001b[0;34m.\u001b[0m\u001b[0mmax_retries\u001b[0m\u001b[0;34m,\u001b[0m\u001b[0;34m\u001b[0m\u001b[0m\n\u001b[0;32m--> 440\u001b[0;31m                     \u001b[0mtimeout\u001b[0m\u001b[0;34m=\u001b[0m\u001b[0mtimeout\u001b[0m\u001b[0;34m\u001b[0m\u001b[0m\n\u001b[0m\u001b[1;32m    441\u001b[0m                 )\n\u001b[1;32m    442\u001b[0m \u001b[0;34m\u001b[0m\u001b[0m\n",
      "\u001b[0;32m~/.pyenv/versions/3.6.1/lib/python3.6/site-packages/urllib3/connectionpool.py\u001b[0m in \u001b[0;36murlopen\u001b[0;34m(self, method, url, body, headers, retries, redirect, assert_same_host, timeout, pool_timeout, release_conn, chunked, body_pos, **response_kw)\u001b[0m\n\u001b[1;32m    599\u001b[0m                                                   \u001b[0mtimeout\u001b[0m\u001b[0;34m=\u001b[0m\u001b[0mtimeout_obj\u001b[0m\u001b[0;34m,\u001b[0m\u001b[0;34m\u001b[0m\u001b[0m\n\u001b[1;32m    600\u001b[0m                                                   \u001b[0mbody\u001b[0m\u001b[0;34m=\u001b[0m\u001b[0mbody\u001b[0m\u001b[0;34m,\u001b[0m \u001b[0mheaders\u001b[0m\u001b[0;34m=\u001b[0m\u001b[0mheaders\u001b[0m\u001b[0;34m,\u001b[0m\u001b[0;34m\u001b[0m\u001b[0m\n\u001b[0;32m--> 601\u001b[0;31m                                                   chunked=chunked)\n\u001b[0m\u001b[1;32m    602\u001b[0m \u001b[0;34m\u001b[0m\u001b[0m\n\u001b[1;32m    603\u001b[0m             \u001b[0;31m# If we're going to release the connection in ``finally:``, then\u001b[0m\u001b[0;34m\u001b[0m\u001b[0;34m\u001b[0m\u001b[0m\n",
      "\u001b[0;32m~/.pyenv/versions/3.6.1/lib/python3.6/site-packages/urllib3/connectionpool.py\u001b[0m in \u001b[0;36m_make_request\u001b[0;34m(self, conn, method, url, timeout, chunked, **httplib_request_kw)\u001b[0m\n\u001b[1;32m    381\u001b[0m             \u001b[0;32mexcept\u001b[0m \u001b[0mTypeError\u001b[0m\u001b[0;34m:\u001b[0m  \u001b[0;31m# Python 2.6 and older, Python 3\u001b[0m\u001b[0;34m\u001b[0m\u001b[0m\n\u001b[1;32m    382\u001b[0m                 \u001b[0;32mtry\u001b[0m\u001b[0;34m:\u001b[0m\u001b[0;34m\u001b[0m\u001b[0m\n\u001b[0;32m--> 383\u001b[0;31m                     \u001b[0mhttplib_response\u001b[0m \u001b[0;34m=\u001b[0m \u001b[0mconn\u001b[0m\u001b[0;34m.\u001b[0m\u001b[0mgetresponse\u001b[0m\u001b[0;34m(\u001b[0m\u001b[0;34m)\u001b[0m\u001b[0;34m\u001b[0m\u001b[0m\n\u001b[0m\u001b[1;32m    384\u001b[0m                 \u001b[0;32mexcept\u001b[0m \u001b[0mException\u001b[0m \u001b[0;32mas\u001b[0m \u001b[0me\u001b[0m\u001b[0;34m:\u001b[0m\u001b[0;34m\u001b[0m\u001b[0m\n\u001b[1;32m    385\u001b[0m                     \u001b[0;31m# Remove the TypeError from the exception chain in Python 3;\u001b[0m\u001b[0;34m\u001b[0m\u001b[0;34m\u001b[0m\u001b[0m\n",
      "\u001b[0;32m~/.pyenv/versions/3.6.1/lib/python3.6/http/client.py\u001b[0m in \u001b[0;36mgetresponse\u001b[0;34m(self)\u001b[0m\n\u001b[1;32m   1329\u001b[0m         \u001b[0;32mtry\u001b[0m\u001b[0;34m:\u001b[0m\u001b[0;34m\u001b[0m\u001b[0m\n\u001b[1;32m   1330\u001b[0m             \u001b[0;32mtry\u001b[0m\u001b[0;34m:\u001b[0m\u001b[0;34m\u001b[0m\u001b[0m\n\u001b[0;32m-> 1331\u001b[0;31m                 \u001b[0mresponse\u001b[0m\u001b[0;34m.\u001b[0m\u001b[0mbegin\u001b[0m\u001b[0;34m(\u001b[0m\u001b[0;34m)\u001b[0m\u001b[0;34m\u001b[0m\u001b[0m\n\u001b[0m\u001b[1;32m   1332\u001b[0m             \u001b[0;32mexcept\u001b[0m \u001b[0mConnectionError\u001b[0m\u001b[0;34m:\u001b[0m\u001b[0;34m\u001b[0m\u001b[0m\n\u001b[1;32m   1333\u001b[0m                 \u001b[0mself\u001b[0m\u001b[0;34m.\u001b[0m\u001b[0mclose\u001b[0m\u001b[0;34m(\u001b[0m\u001b[0;34m)\u001b[0m\u001b[0;34m\u001b[0m\u001b[0m\n",
      "\u001b[0;32m~/.pyenv/versions/3.6.1/lib/python3.6/http/client.py\u001b[0m in \u001b[0;36mbegin\u001b[0;34m(self)\u001b[0m\n\u001b[1;32m    295\u001b[0m         \u001b[0;31m# read until we get a non-100 response\u001b[0m\u001b[0;34m\u001b[0m\u001b[0;34m\u001b[0m\u001b[0m\n\u001b[1;32m    296\u001b[0m         \u001b[0;32mwhile\u001b[0m \u001b[0;32mTrue\u001b[0m\u001b[0;34m:\u001b[0m\u001b[0;34m\u001b[0m\u001b[0m\n\u001b[0;32m--> 297\u001b[0;31m             \u001b[0mversion\u001b[0m\u001b[0;34m,\u001b[0m \u001b[0mstatus\u001b[0m\u001b[0;34m,\u001b[0m \u001b[0mreason\u001b[0m \u001b[0;34m=\u001b[0m \u001b[0mself\u001b[0m\u001b[0;34m.\u001b[0m\u001b[0m_read_status\u001b[0m\u001b[0;34m(\u001b[0m\u001b[0;34m)\u001b[0m\u001b[0;34m\u001b[0m\u001b[0m\n\u001b[0m\u001b[1;32m    298\u001b[0m             \u001b[0;32mif\u001b[0m \u001b[0mstatus\u001b[0m \u001b[0;34m!=\u001b[0m \u001b[0mCONTINUE\u001b[0m\u001b[0;34m:\u001b[0m\u001b[0;34m\u001b[0m\u001b[0m\n\u001b[1;32m    299\u001b[0m                 \u001b[0;32mbreak\u001b[0m\u001b[0;34m\u001b[0m\u001b[0m\n",
      "\u001b[0;32m~/.pyenv/versions/3.6.1/lib/python3.6/http/client.py\u001b[0m in \u001b[0;36m_read_status\u001b[0;34m(self)\u001b[0m\n\u001b[1;32m    256\u001b[0m \u001b[0;34m\u001b[0m\u001b[0m\n\u001b[1;32m    257\u001b[0m     \u001b[0;32mdef\u001b[0m \u001b[0m_read_status\u001b[0m\u001b[0;34m(\u001b[0m\u001b[0mself\u001b[0m\u001b[0;34m)\u001b[0m\u001b[0;34m:\u001b[0m\u001b[0;34m\u001b[0m\u001b[0m\n\u001b[0;32m--> 258\u001b[0;31m         \u001b[0mline\u001b[0m \u001b[0;34m=\u001b[0m \u001b[0mstr\u001b[0m\u001b[0;34m(\u001b[0m\u001b[0mself\u001b[0m\u001b[0;34m.\u001b[0m\u001b[0mfp\u001b[0m\u001b[0;34m.\u001b[0m\u001b[0mreadline\u001b[0m\u001b[0;34m(\u001b[0m\u001b[0m_MAXLINE\u001b[0m \u001b[0;34m+\u001b[0m \u001b[0;36m1\u001b[0m\u001b[0;34m)\u001b[0m\u001b[0;34m,\u001b[0m \u001b[0;34m\"iso-8859-1\"\u001b[0m\u001b[0;34m)\u001b[0m\u001b[0;34m\u001b[0m\u001b[0m\n\u001b[0m\u001b[1;32m    259\u001b[0m         \u001b[0;32mif\u001b[0m \u001b[0mlen\u001b[0m\u001b[0;34m(\u001b[0m\u001b[0mline\u001b[0m\u001b[0;34m)\u001b[0m \u001b[0;34m>\u001b[0m \u001b[0m_MAXLINE\u001b[0m\u001b[0;34m:\u001b[0m\u001b[0;34m\u001b[0m\u001b[0m\n\u001b[1;32m    260\u001b[0m             \u001b[0;32mraise\u001b[0m \u001b[0mLineTooLong\u001b[0m\u001b[0;34m(\u001b[0m\u001b[0;34m\"status line\"\u001b[0m\u001b[0;34m)\u001b[0m\u001b[0;34m\u001b[0m\u001b[0m\n",
      "\u001b[0;32m~/.pyenv/versions/3.6.1/lib/python3.6/socket.py\u001b[0m in \u001b[0;36mreadinto\u001b[0;34m(self, b)\u001b[0m\n\u001b[1;32m    584\u001b[0m         \u001b[0;32mwhile\u001b[0m \u001b[0;32mTrue\u001b[0m\u001b[0;34m:\u001b[0m\u001b[0;34m\u001b[0m\u001b[0m\n\u001b[1;32m    585\u001b[0m             \u001b[0;32mtry\u001b[0m\u001b[0;34m:\u001b[0m\u001b[0;34m\u001b[0m\u001b[0m\n\u001b[0;32m--> 586\u001b[0;31m                 \u001b[0;32mreturn\u001b[0m \u001b[0mself\u001b[0m\u001b[0;34m.\u001b[0m\u001b[0m_sock\u001b[0m\u001b[0;34m.\u001b[0m\u001b[0mrecv_into\u001b[0m\u001b[0;34m(\u001b[0m\u001b[0mb\u001b[0m\u001b[0;34m)\u001b[0m\u001b[0;34m\u001b[0m\u001b[0m\n\u001b[0m\u001b[1;32m    587\u001b[0m             \u001b[0;32mexcept\u001b[0m \u001b[0mtimeout\u001b[0m\u001b[0;34m:\u001b[0m\u001b[0;34m\u001b[0m\u001b[0m\n\u001b[1;32m    588\u001b[0m                 \u001b[0mself\u001b[0m\u001b[0;34m.\u001b[0m\u001b[0m_timeout_occurred\u001b[0m \u001b[0;34m=\u001b[0m \u001b[0;32mTrue\u001b[0m\u001b[0;34m\u001b[0m\u001b[0m\n",
      "\u001b[0;32m~/.pyenv/versions/3.6.1/lib/python3.6/ssl.py\u001b[0m in \u001b[0;36mrecv_into\u001b[0;34m(self, buffer, nbytes, flags)\u001b[0m\n\u001b[1;32m   1000\u001b[0m                   \u001b[0;34m\"non-zero flags not allowed in calls to recv_into() on %s\"\u001b[0m \u001b[0;34m%\u001b[0m\u001b[0;34m\u001b[0m\u001b[0m\n\u001b[1;32m   1001\u001b[0m                   self.__class__)\n\u001b[0;32m-> 1002\u001b[0;31m             \u001b[0;32mreturn\u001b[0m \u001b[0mself\u001b[0m\u001b[0;34m.\u001b[0m\u001b[0mread\u001b[0m\u001b[0;34m(\u001b[0m\u001b[0mnbytes\u001b[0m\u001b[0;34m,\u001b[0m \u001b[0mbuffer\u001b[0m\u001b[0;34m)\u001b[0m\u001b[0;34m\u001b[0m\u001b[0m\n\u001b[0m\u001b[1;32m   1003\u001b[0m         \u001b[0;32melse\u001b[0m\u001b[0;34m:\u001b[0m\u001b[0;34m\u001b[0m\u001b[0m\n\u001b[1;32m   1004\u001b[0m             \u001b[0;32mreturn\u001b[0m \u001b[0msocket\u001b[0m\u001b[0;34m.\u001b[0m\u001b[0mrecv_into\u001b[0m\u001b[0;34m(\u001b[0m\u001b[0mself\u001b[0m\u001b[0;34m,\u001b[0m \u001b[0mbuffer\u001b[0m\u001b[0;34m,\u001b[0m \u001b[0mnbytes\u001b[0m\u001b[0;34m,\u001b[0m \u001b[0mflags\u001b[0m\u001b[0;34m)\u001b[0m\u001b[0;34m\u001b[0m\u001b[0m\n",
      "\u001b[0;32m~/.pyenv/versions/3.6.1/lib/python3.6/ssl.py\u001b[0m in \u001b[0;36mread\u001b[0;34m(self, len, buffer)\u001b[0m\n\u001b[1;32m    863\u001b[0m             \u001b[0;32mraise\u001b[0m \u001b[0mValueError\u001b[0m\u001b[0;34m(\u001b[0m\u001b[0;34m\"Read on closed or unwrapped SSL socket.\"\u001b[0m\u001b[0;34m)\u001b[0m\u001b[0;34m\u001b[0m\u001b[0m\n\u001b[1;32m    864\u001b[0m         \u001b[0;32mtry\u001b[0m\u001b[0;34m:\u001b[0m\u001b[0;34m\u001b[0m\u001b[0m\n\u001b[0;32m--> 865\u001b[0;31m             \u001b[0;32mreturn\u001b[0m \u001b[0mself\u001b[0m\u001b[0;34m.\u001b[0m\u001b[0m_sslobj\u001b[0m\u001b[0;34m.\u001b[0m\u001b[0mread\u001b[0m\u001b[0;34m(\u001b[0m\u001b[0mlen\u001b[0m\u001b[0;34m,\u001b[0m \u001b[0mbuffer\u001b[0m\u001b[0;34m)\u001b[0m\u001b[0;34m\u001b[0m\u001b[0m\n\u001b[0m\u001b[1;32m    866\u001b[0m         \u001b[0;32mexcept\u001b[0m \u001b[0mSSLError\u001b[0m \u001b[0;32mas\u001b[0m \u001b[0mx\u001b[0m\u001b[0;34m:\u001b[0m\u001b[0;34m\u001b[0m\u001b[0m\n\u001b[1;32m    867\u001b[0m             \u001b[0;32mif\u001b[0m \u001b[0mx\u001b[0m\u001b[0;34m.\u001b[0m\u001b[0margs\u001b[0m\u001b[0;34m[\u001b[0m\u001b[0;36m0\u001b[0m\u001b[0;34m]\u001b[0m \u001b[0;34m==\u001b[0m \u001b[0mSSL_ERROR_EOF\u001b[0m \u001b[0;32mand\u001b[0m \u001b[0mself\u001b[0m\u001b[0;34m.\u001b[0m\u001b[0msuppress_ragged_eofs\u001b[0m\u001b[0;34m:\u001b[0m\u001b[0;34m\u001b[0m\u001b[0m\n",
      "\u001b[0;32m~/.pyenv/versions/3.6.1/lib/python3.6/ssl.py\u001b[0m in \u001b[0;36mread\u001b[0;34m(self, len, buffer)\u001b[0m\n\u001b[1;32m    623\u001b[0m         \"\"\"\n\u001b[1;32m    624\u001b[0m         \u001b[0;32mif\u001b[0m \u001b[0mbuffer\u001b[0m \u001b[0;32mis\u001b[0m \u001b[0;32mnot\u001b[0m \u001b[0;32mNone\u001b[0m\u001b[0;34m:\u001b[0m\u001b[0;34m\u001b[0m\u001b[0m\n\u001b[0;32m--> 625\u001b[0;31m             \u001b[0mv\u001b[0m \u001b[0;34m=\u001b[0m \u001b[0mself\u001b[0m\u001b[0;34m.\u001b[0m\u001b[0m_sslobj\u001b[0m\u001b[0;34m.\u001b[0m\u001b[0mread\u001b[0m\u001b[0;34m(\u001b[0m\u001b[0mlen\u001b[0m\u001b[0;34m,\u001b[0m \u001b[0mbuffer\u001b[0m\u001b[0;34m)\u001b[0m\u001b[0;34m\u001b[0m\u001b[0m\n\u001b[0m\u001b[1;32m    626\u001b[0m         \u001b[0;32melse\u001b[0m\u001b[0;34m:\u001b[0m\u001b[0;34m\u001b[0m\u001b[0m\n\u001b[1;32m    627\u001b[0m             \u001b[0mv\u001b[0m \u001b[0;34m=\u001b[0m \u001b[0mself\u001b[0m\u001b[0;34m.\u001b[0m\u001b[0m_sslobj\u001b[0m\u001b[0;34m.\u001b[0m\u001b[0mread\u001b[0m\u001b[0;34m(\u001b[0m\u001b[0mlen\u001b[0m\u001b[0;34m)\u001b[0m\u001b[0;34m\u001b[0m\u001b[0m\n",
      "\u001b[0;31mKeyboardInterrupt\u001b[0m: "
     ]
    }
   ],
   "source": [
    "for pg in range(1,2):\n",
    "    url = URL_TEMPLATE.format(pg)\n",
    "    for link in get_list_page(url):\n",
    "        link_pg = 1\n",
    "        while True:\n",
    "            \"\"\"\n",
    "            內文頁換頁邏輯\n",
    "            \"\"\"\n",
    "            link_url = link + \"&p=%s\"%link_pg\n",
    "            print(link_url)\n",
    "            resp = dump_page(link_url)\n",
    "            time.sleep(0.4)\n",
    "            \n",
    "            \"\"\"\n",
    "            問老師\n",
    "            用canonical address來做判斷是否爬到最後一頁\n",
    "            \"\"\"\n",
    "            canonical = re.findall('<link rel=\"canonical\" href=\"(.+)\" />', resp.text)[0]\n",
    "            if link_pg == 1: #第一頁的特別處理，拿掉p=1\n",
    "                link_url = link_url[:-4]\n",
    "            if canonical != link_url:\n",
    "                break\n",
    "            link_pg += 1"
   ]
  },
  {
   "cell_type": "markdown",
   "metadata": {},
   "source": [
    "# Facebook GraphAPI"
   ]
  },
  {
   "cell_type": "code",
   "execution_count": 1,
   "metadata": {},
   "outputs": [
    {
     "ename": "ValueError",
     "evalue": "unsupported format character 'B' (0x42) at index 63",
     "output_type": "error",
     "traceback": [
      "\u001b[0;31m---------------------------------------------------------------------------\u001b[0m",
      "\u001b[0;31mValueError\u001b[0m                                Traceback (most recent call last)",
      "\u001b[0;32m<ipython-input-1-8decba924694>\u001b[0m in \u001b[0;36m<module>\u001b[0;34m()\u001b[0m\n\u001b[1;32m      3\u001b[0m \u001b[0mACCESS_TOKEN\u001b[0m \u001b[0;34m=\u001b[0m \u001b[0;34m\"\"\u001b[0m \u001b[0;31m# developers.facebook.com -> Tools & Support -> Get token\u001b[0m\u001b[0;34m\u001b[0m\u001b[0m\n\u001b[1;32m      4\u001b[0m \u001b[0;34m\u001b[0m\u001b[0m\n\u001b[0;32m----> 5\u001b[0;31m \u001b[0mresp\u001b[0m \u001b[0;34m=\u001b[0m \u001b[0mrequests\u001b[0m\u001b[0;34m.\u001b[0m\u001b[0mget\u001b[0m\u001b[0;34m(\u001b[0m\u001b[0;34m\"https://graph.facebook.com/v2.11/1068531466501015?fields=feed%7Bcomments%2Cmessage%7D&access_token=%s\"\u001b[0m\u001b[0;34m%\u001b[0m\u001b[0;34m(\u001b[0m\u001b[0mACCESS_TOKEN\u001b[0m\u001b[0;34m)\u001b[0m\u001b[0;34m)\u001b[0m\u001b[0;34m\u001b[0m\u001b[0m\n\u001b[0m",
      "\u001b[0;31mValueError\u001b[0m: unsupported format character 'B' (0x42) at index 63"
     ]
    }
   ],
   "source": [
    "import requests\n",
    "\n",
    "ACCESS_TOKEN = \"\" # developers.facebook.com -> Tools & Support -> Get token\n",
    "\n",
    "resp = requests.get(\"https://graph.facebook.com/v2.11/1068531466501015?fields=feed%7Bcomments%2Cmessage%7D&access_token=%s\"%(ACCESS_TOKEN))"
   ]
  },
  {
   "cell_type": "code",
   "execution_count": null,
   "metadata": {},
   "outputs": [],
   "source": [
    "resp.json()"
   ]
  },
  {
   "cell_type": "markdown",
   "metadata": {},
   "source": [
    "# 瀏覽器自動化\n",
    "\n",
    "chromedriver\n",
    "\n",
    "https://chromedriver.storage.googleapis.com/index.html?path=2.34/\n",
    "\n",
    "打開Terminal\n",
    "```bash\n",
    "cp Downloads/chromedriver /usr/local/bin/\n",
    "```"
   ]
  },
  {
   "cell_type": "code",
   "execution_count": null,
   "metadata": {},
   "outputs": [],
   "source": [
    "!pip install splinter"
   ]
  },
  {
   "cell_type": "code",
   "execution_count": null,
   "metadata": {},
   "outputs": [],
   "source": [
    "import splinter\n",
    "\n",
    "b = splinter.Browser('chrome')"
   ]
  },
  {
   "cell_type": "code",
   "execution_count": null,
   "metadata": {},
   "outputs": [],
   "source": [
    "b.visit(\"https://airbnb.com\")"
   ]
  },
  {
   "cell_type": "code",
   "execution_count": null,
   "metadata": {},
   "outputs": [],
   "source": [
    "button = b.find_by_xpath('//*[@id=\"site-content\"]/div[1]/div/div/div/div[2]/div/div/div/div/button')[0]"
   ]
  },
  {
   "cell_type": "code",
   "execution_count": null,
   "metadata": {},
   "outputs": [],
   "source": [
    "button.click()"
   ]
  },
  {
   "cell_type": "code",
   "execution_count": null,
   "metadata": {},
   "outputs": [],
   "source": [
    "b.fill('location', 'Paris\\n')"
   ]
  },
  {
   "cell_type": "code",
   "execution_count": null,
   "metadata": {},
   "outputs": [],
   "source": [
    "homes = b.find_by_xpath('//*[@id=\"site-content\"]/div/div/div[2]/div/div/div[1]/div/div/div[2]/div/div/div/div[1]/div/button/div/div/div[2]/div/div/span')[0]"
   ]
  },
  {
   "cell_type": "code",
   "execution_count": null,
   "metadata": {},
   "outputs": [],
   "source": [
    "homes.click()"
   ]
  },
  {
   "cell_type": "code",
   "execution_count": null,
   "metadata": {},
   "outputs": [],
   "source": [
    "b.execute_script(\"console.log('hi bb105')\")"
   ]
  },
  {
   "cell_type": "code",
   "execution_count": null,
   "metadata": {},
   "outputs": [],
   "source": [
    "b.execute_script(\"window.scrollBy(0,100)\")"
   ]
  },
  {
   "cell_type": "code",
   "execution_count": null,
   "metadata": {},
   "outputs": [],
   "source": [
    "b.quit()"
   ]
  }
 ],
 "metadata": {
  "kernelspec": {
   "display_name": "Python 3",
   "language": "python",
   "name": "python3"
  },
  "language_info": {
   "codemirror_mode": {
    "name": "ipython",
    "version": 3
   },
   "file_extension": ".py",
   "mimetype": "text/x-python",
   "name": "python",
   "nbconvert_exporter": "python",
   "pygments_lexer": "ipython3",
   "version": "3.6.1"
  }
 },
 "nbformat": 4,
 "nbformat_minor": 2
}
