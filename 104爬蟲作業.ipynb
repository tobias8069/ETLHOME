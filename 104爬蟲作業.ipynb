{
 "cells": [
  {
   "cell_type": "code",
   "execution_count": 56,
   "metadata": {},
   "outputs": [],
   "source": [
    "import requests\n",
    "import re\n",
    "from bs4 import BeautifulSoup\n",
    "import json\n",
    "\n",
    "\n",
    "def find_job(keyword):\n",
    "    \n",
    "    url = 'https://www.1111.com.tw/job-bank/job-index.asp?si=1&ss=s&ks={}&ps=50'.format(keyword)\n",
    "    \n",
    "    page = 1\n",
    "    \n",
    "    lists = []\n",
    "    count = 0\n",
    "    \n",
    "    while True:\n",
    "        url_page = url + '&page=' + str(page)\n",
    "        \n",
    "        joblist = job_url_list(url_page)  \n",
    "        \n",
    "        if joblist == []:\n",
    "            break\n",
    "        \n",
    "        for row in joblist:\n",
    "            lists.append(job_content(row))\n",
    "            \n",
    "            \n",
    "            with open('1111JOB/{}page{}.json'.format(keyword,str(page)),'w') as f:  #存入json檔 用json.dump()\n",
    "                      json.dump(lists,f)                                            #讀取json檔 用json.load()\n",
    "                      #f.write(str(joblist))\n",
    "        \n",
    "        count += len(lists)    \n",
    "        print('page' + str(page))\n",
    "        print('總共輸入了' + str(count)+ '筆資料')       \n",
    "              \n",
    "        lists = []\n",
    "        page += 1\n",
    "             \n",
    "                  \n",
    "    \n",
    "                        \n",
    "def job_url_list(url):                                                     #每一頁工作列表的url \n",
    "    \n",
    "    HOST = 'https://www.1111.com.tw/job/'\n",
    "    \n",
    "    resp = requests.get(url)\n",
    "    joblist = re.findall('<a href=\"//www.1111.com.tw/job/(\\d+/)\"',resp.text) #看正規表達式\n",
    "    \n",
    "    \n",
    "    \n",
    "    return [ HOST + s for s in joblist]\n",
    "\n",
    "def job_content(url):\n",
    "    \n",
    "    resp =requests.get(url)\n",
    "\n",
    "    soup = BeautifulSoup(resp.text,'lxml')\n",
    "    content = {}\n",
    "    content['url']  = url                                                                        #1111工作網址\n",
    "    #content['job'] = soup.select('#menu > div > div.logoTitle > h1')[0].text                    #工作名稱？\n",
    "    content['job']  = soup.select('#menu > div > div.logoTitle > h1')[0].text.split('面議')[0].split('月薪')[0]\n",
    "    content['area'] = soup.select('div.listContent')[0].text.replace('地圖','')                   #工作地點\n",
    "    \n",
    "    \n",
    "    '''\n",
    "    分清楚 nth-of-type 和 nth-of-child的差別\n",
    "    content['skill'] = soup.select(\"\"\"                                    \n",
    "                                    article:nth-of-type(2) >             \n",
    "                                    ul > li:nth-of-type(5) \n",
    "                                    > div.listContent\n",
    "                                  \"\"\"\n",
    "                                  )[0].text.split('、')\n",
    "    每個網頁的 li:nth-of-type(5) 不一定是電腦技能,或是沒有電腦技能\n",
    "    '''\n",
    "    #為要求條件的block\n",
    "    a = soup.select(\"\"\"                                    \n",
    "                        article:nth-of-type(2) > \n",
    "                        ul > li\n",
    "                    \"\"\")\n",
    "    for row in a:\n",
    "        if re.findall('電腦專長',row.text) != []:\n",
    "            content['skill'] = row.text.split('：')[1].split('、')\n",
    "        else: \n",
    "            content['skill'] = ''\n",
    "            \n",
    "    content['update_date'] = re.findall('更新日期：(\\d+/\\d+/\\d+)',resp.text)[0]                                  \n",
    "    \n",
    "    return content\n",
    "    \n",
    "    \n",
    "    \n"
   ]
  },
  {
   "cell_type": "code",
   "execution_count": 57,
   "metadata": {},
   "outputs": [
    {
     "name": "stdout",
     "output_type": "stream",
     "text": [
      "page1\n",
      "總共輸入了50筆資料\n",
      "page2\n",
      "總共輸入了100筆資料\n",
      "page3\n",
      "總共輸入了150筆資料\n",
      "page4\n",
      "總共輸入了200筆資料\n",
      "page5\n",
      "總共輸入了250筆資料\n",
      "page6\n",
      "總共輸入了300筆資料\n",
      "page7\n",
      "總共輸入了350筆資料\n",
      "page8\n",
      "總共輸入了400筆資料\n",
      "page9\n",
      "總共輸入了450筆資料\n",
      "page10\n",
      "總共輸入了500筆資料\n",
      "page11\n",
      "總共輸入了550筆資料\n",
      "page12\n",
      "總共輸入了600筆資料\n",
      "page13\n",
      "總共輸入了650筆資料\n",
      "page14\n",
      "總共輸入了700筆資料\n",
      "page15\n",
      "總共輸入了750筆資料\n",
      "page16\n",
      "總共輸入了800筆資料\n",
      "page17\n",
      "總共輸入了850筆資料\n",
      "page18\n",
      "總共輸入了900筆資料\n",
      "page19\n",
      "總共輸入了950筆資料\n",
      "page20\n",
      "總共輸入了999筆資料\n"
     ]
    }
   ],
   "source": [
    "find_job('JAVA')"
   ]
  },
  {
   "cell_type": "code",
   "execution_count": 30,
   "metadata": {},
   "outputs": [
    {
     "name": "stdout",
     "output_type": "stream",
     "text": [
      "[{'url': 'https://www.1111.com.tw/job/80057790/', 'job': 'Java Developer', 'area': '新北市板橋區 雙十路二段10之1號8樓', 'skill': '', 'update_date': '2018/1/20'}, {'url': 'https://www.1111.com.tw/job/79828717/', 'job': 'Java Engineer', 'area': '台北市中山區 ', 'skill': '', 'update_date': '2018/1/19'}, {'url': 'https://www.1111.com.tw/job/55576904/', 'job': 'Java講師', 'area': '新竹市東區 民族路31號11樓', 'skill': '', 'update_date': '2018/1/21'}, {'url': 'https://www.1111.com.tw/job/76821519/', 'job': 'Java Engineer ( Java程式設計 )', 'area': '台北市信義區 基隆路二段51號3樓', 'skill': '', 'update_date': '2018/1/18'}, {'url': 'https://www.1111.com.tw/job/80231208/', 'job': 'JAVA Developer(3000961)', 'area': '東南亞菲律賓 ', 'skill': '', 'update_date': '2017/12/20'}, {'url': 'https://www.1111.com.tw/job/76812185/', 'job': 'Java Internet工程師 ', 'area': '台北市內湖區 ', 'skill': '', 'update_date': '2018/1/19'}, {'url': 'https://www.1111.com.tw/job/76812146/', 'job': 'Sr. Java Web Engineer ', 'area': '台北市內湖區 ', 'skill': '', 'update_date': '2018/1/19'}, {'url': 'https://www.1111.com.tw/job/76812082/', 'job': 'Jr. Java Web Engineer ', 'area': '台北市內湖區 ', 'skill': '', 'update_date': '2018/1/19'}, {'url': 'https://www.1111.com.tw/job/76812156/', 'job': 'Java SW Engineer ', 'area': '台北市松山區 ', 'skill': '', 'update_date': '2018/1/19'}, {'url': 'https://www.1111.com.tw/job/80108214/', 'job': '後端Java工程師', 'area': '東南亞馬來西亞 ', 'skill': '', 'update_date': '2018/1/21'}, {'url': 'https://www.1111.com.tw/job/76812071/', 'job': 'Java Tibco SW Engineer ', 'area': '台北市松山區 ', 'skill': '', 'update_date': '2018/1/19'}, {'url': 'https://www.1111.com.tw/job/76812055/', 'job': 'Java (Taipei) 工程師 ', 'area': '台北市內湖區 ', 'skill': '', 'update_date': '2018/1/19'}, {'url': 'https://www.1111.com.tw/job/78573375/', 'job': 'Android Java 工程師年薪 600,000元 至 1,000,000元 / 1年以上工作經驗 / 專科 以上', 'area': '桃園市八德區 建德路508號11樓', 'skill': '', 'update_date': '2018/1/19'}, {'url': 'https://www.1111.com.tw/job/79932614/', 'job': 'JAVA工程師(3000458)', 'area': '東南亞菲律賓 ', 'skill': '', 'update_date': '2017/6/5'}, {'url': 'https://www.1111.com.tw/job/80120936/', 'job': 'JAVA工程師', 'area': '台北市松山區 (依公司分派)', 'skill': '', 'update_date': '2018/1/19'}, {'url': 'https://www.1111.com.tw/job/80078480/', 'job': 'Sr. Java Developer', 'area': '台北市內湖區 基湖路1號3樓(內湖科技園區)', 'skill': '', 'update_date': '2018/1/15'}, {'url': 'https://www.1111.com.tw/job/78356616/', 'job': 'JAVA工程師(上海)', 'area': '上海市 ', 'skill': '', 'update_date': '2018/1/19'}, {'url': 'https://www.1111.com.tw/job/77332886/', 'job': 'BI Java Devloper', 'area': '台北市內湖區 ', 'skill': '', 'update_date': '2018/1/19'}, {'url': 'https://www.1111.com.tw/job/79908415/', 'job': 'JAVA 程式開發', 'area': '台北市內湖區 瑞光路66巷27號4樓', 'skill': '', 'update_date': '2018/1/17'}, {'url': 'https://www.1111.com.tw/job/79720258/', 'job': 'Java工程師', 'area': '台北市內湖區 民權東路六段262號7樓', 'skill': ['Word', 'Excel', 'PowerPoint', 'Vmware', 'JAVA', 'Java Script', 'JSP', 'XML', 'AJAX', 'Servlets', 'Tomcat', 'jQuery', 'HTML', 'CSS'], 'update_date': '2017/11/3'}, {'url': 'https://www.1111.com.tw/job/79839490/', 'job': 'Senior JAVA Developer', 'area': '台北市內湖區 ', 'skill': '', 'update_date': '2018/1/19'}, {'url': 'https://www.1111.com.tw/job/59308016/', 'job': 'R-Java SD/PG', 'area': '台北市內湖區 ', 'skill': '', 'update_date': '2018/1/15'}, {'url': 'https://www.1111.com.tw/job/79958667/', 'job': 'JAVA工程師', 'area': '高雄市苓雅區 廣州一街163號6樓之2', 'skill': '', 'update_date': '2018/1/18'}, {'url': 'https://www.1111.com.tw/job/80260768/', 'job': 'Java programming engineer ', 'area': '台北市松山區 民生東路五段36巷4弄31號4樓', 'skill': ['LINUX', 'JAVA'], 'update_date': '2018/1/20'}, {'url': 'https://www.1111.com.tw/job/80088716/', 'job': 'Java工程師', 'area': '台北市中山區 復興南路一段36之10號12樓之1', 'skill': ['JAVA', 'Java Script', 'JSP'], 'update_date': '2018/1/15'}, {'url': 'https://www.1111.com.tw/job/80241327/', 'job': 'Java工程師', 'area': '台北市內湖區 ', 'skill': '', 'update_date': '2018/1/19'}, {'url': 'https://www.1111.com.tw/job/79523972/', 'job': 'Java程式設計', 'area': '台中市北屯區 文心路三段447號15樓之C', 'skill': '', 'update_date': '2018/1/18'}, {'url': 'https://www.1111.com.tw/job/80215087/', 'job': 'Java架構師', 'area': '台北市內湖區 瑞光路633號8樓', 'skill': '', 'update_date': '2018/1/15'}, {'url': 'https://www.1111.com.tw/job/79857526/', 'job': 'Java架構師', 'area': '台北市內湖區 基湖路1號3樓(內湖科技園區)', 'skill': '', 'update_date': '2018/1/15'}, {'url': 'https://www.1111.com.tw/job/80163357/', 'job': 'Java技術經理', 'area': '台北市士林區 後港街100號3樓', 'skill': '', 'update_date': '2018/1/16'}, {'url': 'https://www.1111.com.tw/job/79906054/', 'job': 'JAVA專案顧問', 'area': '台北市中正區 忠孝西路一段100號10樓', 'skill': '', 'update_date': '2018/1/17'}, {'url': 'https://www.1111.com.tw/job/79428755/', 'job': 'Java軟體工程師', 'area': '台北市信義區 (依公司規定)', 'skill': ['JAVA', 'Hibernate', 'Struts'], 'update_date': '2018/1/20'}, {'url': 'https://www.1111.com.tw/job/76812187/', 'job': 'Jr. Java Internet工程師', 'area': '台北市內湖區 ', 'skill': '', 'update_date': '2018/1/19'}, {'url': 'https://www.1111.com.tw/job/76812180/', 'job': 'Sr. Java Internet工程師 ', 'area': '台北市內湖區 ', 'skill': '', 'update_date': '2018/1/19'}, {'url': 'https://www.1111.com.tw/job/76812167/', 'job': 'Java 軟體工程師 ', 'area': '台北市內湖區 ', 'skill': '', 'update_date': '2018/1/19'}, {'url': 'https://www.1111.com.tw/job/80184456/', 'job': '徵聘  JAVA Developer * 2名 ', 'area': '東南亞菲律賓 ', 'skill': '', 'update_date': '2018/1/19'}, {'url': 'https://www.1111.com.tw/job/80167056/', 'job': 'Java 程式設計師', 'area': '高雄市前鎮區 復興四路2號4樓A09室', 'skill': ['要求條件:\\xa0工作經驗: 1年以上\\xa0電腦專長: Java', 'Tomcat', 'MySQL', 'HTML', 'CSS', 'Javascript', 'Android\\xa0其他條件'], 'update_date': '2018/1/17'}, {'url': 'https://www.1111.com.tw/job/77262132/', 'job': 'JAVA程式設計師', 'area': '台北市大安區 忠孝東路三段263號10樓', 'skill': ['LINUX', 'JAVA', 'Java Script', 'JSP', 'Struts', 'Tomcat', 'jQuery'], 'update_date': '2018/1/13'}, {'url': 'https://www.1111.com.tw/job/71048923/', 'job': 'JAVA&JSP工程師', 'area': '台北市中山區 南京東路三段14巷8號1樓', 'skill': ['JAVA', 'Java Script', 'JSP', 'Servlets', 'jQuery', 'MS SQL', 'HTML'], 'update_date': '2018/1/17'}, {'url': 'https://www.1111.com.tw/job/80248376/', 'job': 'Java 軟體工程師', 'area': '新北市中和區 (依公司規定)', 'skill': ['JAVA'], 'update_date': '2018/1/20'}, {'url': 'https://www.1111.com.tw/job/80120949/', 'job': 'JAVA程式設計師', 'area': '台北市內湖區 瑞光路', 'skill': '', 'update_date': '2018/1/19'}, {'url': 'https://www.1111.com.tw/job/80236767/', 'job': 'JAVA開發工程師', 'area': '台北市信義區 ', 'skill': '', 'update_date': '2018/1/16'}, {'url': 'https://www.1111.com.tw/job/80111026/', 'job': 'JAVA工程師（台北市）', 'area': '台北市大安區 敦化南路二段333號7樓', 'skill': '', 'update_date': '2018/1/16'}, {'url': 'https://www.1111.com.tw/job/75465772/', 'job': 'JAVA程式設計師', 'area': '新北市中和區 中正路891號', 'skill': '', 'update_date': '2018/1/15'}, {'url': 'https://www.1111.com.tw/job/77136480/', 'job': 'Java研發工程師', 'area': '台北市內湖區 瑞光路68號3樓', 'skill': '', 'update_date': '2018/1/17'}, {'url': 'https://www.1111.com.tw/job/77284396/', 'job': 'JAVA軟體工程師', 'area': '台北市南港區 三重路19之6號7樓', 'skill': '', 'update_date': '2018/1/19'}, {'url': 'https://www.1111.com.tw/job/80199049/', 'job': 'JAVA 系統設計師', 'area': '台北市內湖區 行愛路151號3樓之3', 'skill': '', 'update_date': '2018/1/8'}, {'url': 'https://www.1111.com.tw/job/76814866/', 'job': '程式設計師(JAVA)', 'area': '台北市大安區 金山南路', 'skill': '', 'update_date': '2018/1/15'}, {'url': 'https://www.1111.com.tw/job/56338207/', 'job': 'Java軟體工程師', 'area': '新北市新店區 北新路一段293號4樓之3', 'skill': '', 'update_date': '2018/1/17'}, {'url': 'https://www.1111.com.tw/job/80199075/', 'job': 'JAVA 系統架構師', 'area': '台北市內湖區 行愛路151號3樓之3', 'skill': '', 'update_date': '2018/1/8'}, {'url': 'https://www.1111.com.tw/job/76985957/', 'job': 'Java 程式設計師', 'area': '台北市松山區 民生東路四段133號3樓之5', 'skill': ['LINUX', 'UNIX', 'Windows Server 2000-2012', 'JAVA', 'Java Script'], 'update_date': '2018/1/18'}, {'url': 'https://www.1111.com.tw/job/80251364/', 'job': 'Java工程師-駐點Acer', 'area': '台北市大安區 ', 'skill': '', 'update_date': '2018/1/19'}, {'url': 'https://www.1111.com.tw/job/80163341/', 'job': 'Java系統工程師', 'area': '台北市士林區 後港街100號3樓', 'skill': '', 'update_date': '2018/1/16'}, {'url': 'https://www.1111.com.tw/job/78495747/', 'job': 'Java程式設計師', 'area': '台北市內湖區 ', 'skill': '', 'update_date': '2018/1/20'}, {'url': 'https://www.1111.com.tw/job/79837342/', 'job': 'JAVA系統設計師', 'area': '新北市三重區 ', 'skill': '', 'update_date': '2018/1/18'}, {'url': 'https://www.1111.com.tw/job/79765281/', 'job': 'JAVA軟體工程師-RD1', 'area': '台北市萬華區 峨嵋街115號6樓', 'skill': '', 'update_date': '2018/1/19'}, {'url': 'https://www.1111.com.tw/job/79903644/', 'job': '【中區處】JAVA程式設計師', 'area': '南投縣南投市 1. 數據擷取：熟Java、SOL或類似工具能由指定網頁或是客戶資料庫中自動化提取指定數據。 2. 數據分析：熟統計或data mining方法或類似工具能由指定資料庫中尋找出數據特徵值與脈絡。 3. 系統開發：具系統規劃與分析技能，能評估與拆解系統建置所需元件，並逐步實作成型。 4. 文件彙整：負', 'skill': '', 'update_date': '2018/1/16'}, {'url': 'https://www.1111.com.tw/job/80052924/', 'job': '(資深)JAVA軟體工程師(3000552)', 'area': '台北市內湖區 ', 'skill': ['JAVA', 'Hibernate'], 'update_date': '2017/10/18'}, {'url': 'https://www.1111.com.tw/job/80233951/', 'job': 'JAVA工程師 (支付服務)(E0804)', 'area': '台北市大安區 敦化南路二段105號12樓', 'skill': '', 'update_date': '2018/1/15'}, {'url': 'https://www.1111.com.tw/job/80121052/', 'job': 'Java程式設計師-1', 'area': '台北市內湖區 (依公司分派)', 'skill': '', 'update_date': '2018/1/19'}, {'url': 'https://www.1111.com.tw/job/77311025/', 'job': 'JAVA軟體工程師(深圳)', 'area': '廣東省深圳市 ', 'skill': '', 'update_date': '2018/1/19'}, {'url': 'https://www.1111.com.tw/job/76812163/', 'job': 'Sr. Java 軟體工程師 ', 'area': '台北市內湖區 ', 'skill': '', 'update_date': '2018/1/19'}, {'url': 'https://www.1111.com.tw/job/80224357/', 'job': '資訊部-資深Java工程師', 'area': '台中市北屯區 崇德九路287號', 'skill': '', 'update_date': '2018/1/15'}, {'url': 'https://www.1111.com.tw/job/79428743/', 'job': '資深java 軟體工程師', 'area': '台北市信義區 (依公司規定)', 'skill': ['JAVA'], 'update_date': '2018/1/20'}, {'url': 'https://www.1111.com.tw/job/77163957/', 'job': 'JAVA軟體工程師(上海)', 'area': '上海市 ', 'skill': '', 'update_date': '2018/1/19'}, {'url': 'https://www.1111.com.tw/job/76812021/', 'job': 'Java J2EE 軟體工程師 ', 'area': '台北市中正區 林森南路4之2號7樓', 'skill': '', 'update_date': '2018/1/19'}, {'url': 'https://www.1111.com.tw/job/76188345/', 'job': '.net / JAVA程式設計師', 'area': '台北市內湖區 文湖街18號2樓', 'skill': '', 'update_date': '2018/1/15'}, {'url': 'https://www.1111.com.tw/job/80208025/', 'job': '【RD】Java程式設計師 - 1702194', 'area': '台北市大安區 ', 'skill': '', 'update_date': '2018/1/21'}, {'url': 'https://www.1111.com.tw/job/80250317/', 'job': 'Java系統設計師 System Designer', 'area': '台北市內湖區 民權東路六段123巷28號4樓之2', 'skill': '', 'update_date': '2018/1/17'}, {'url': 'https://www.1111.com.tw/job/79883141/', 'job': 'C3811 Java開發 技術副理(內湖)', 'area': '台北市內湖區 港墘路220號', 'skill': '', 'update_date': '2018/1/17'}, {'url': 'https://www.1111.com.tw/job/80233838/', 'job': 'Java軟體工程師(LT)', 'area': '台北市大安區 敦化南路二段105號12樓', 'skill': '', 'update_date': '2018/1/15'}, {'url': 'https://www.1111.com.tw/job/80196184/', 'job': '(內湖)資深Java軟體工程師', 'area': '台北市內湖區 ', 'skill': '', 'update_date': '2018/1/17'}, {'url': 'https://www.1111.com.tw/job/80153060/', 'job': '(內湖)Java軟體工程師', 'area': '台北市內湖區 ', 'skill': '', 'update_date': '2018/1/17'}, {'url': 'https://www.1111.com.tw/job/79843806/', 'job': 'C3111 Java開發 資深工程師', 'area': '台北市內湖區 港墘路220號 (內湖科技園區)', 'skill': '', 'update_date': '2018/1/17'}, {'url': 'https://www.1111.com.tw/job/79772278/', 'job': '(大安)Java軟體工程師', 'area': '台北市大安區 ', 'skill': '', 'update_date': '2018/1/17'}, {'url': 'https://www.1111.com.tw/job/79905238/', 'job': 'JAVA資深工程師(3000373)', 'area': '東南亞菲律賓 ', 'skill': '', 'update_date': '2017/5/8'}, {'url': 'https://www.1111.com.tw/job/76811901/', 'job': '資深 JAVA 工程師（PG＋SD） ', 'area': '台北市中正區 林森南路4之2號7樓', 'skill': '', 'update_date': '2018/1/19'}, {'url': 'https://www.1111.com.tw/job/80259978/', 'job': '【RD】Java程式設計師 - 1800044', 'area': '新北市汐止區 新台五路一段88號8樓(221)', 'skill': '', 'update_date': '2018/1/20'}, {'url': 'https://www.1111.com.tw/job/76811872/', 'job': 'Java程式設計師 (兼職) ', 'area': '台北市中正區 林森南路4之2號7樓', 'skill': '', 'update_date': '2018/1/19'}, {'url': 'https://www.1111.com.tw/job/78593971/', 'job': 'Java開發工程師(台北)', 'area': '台北市中山區 南京東路三段131號6樓', 'skill': '', 'update_date': '2018/1/17'}, {'url': 'https://www.1111.com.tw/job/80039724/', 'job': 'Java資深工程師(5473)', 'area': '新北市新店區 中正路533號6樓', 'skill': '', 'update_date': '2018/1/20'}, {'url': 'https://www.1111.com.tw/job/80153090/', 'job': 'JAVA軟體工程師(管理部)', 'area': '台北市萬華區 峨嵋街115號6樓', 'skill': '', 'update_date': '2018/1/17'}, {'url': 'https://www.1111.com.tw/job/80039708/', 'job': 'Java開發工程師(5478)', 'area': '新北市新店區 中正路531號2樓', 'skill': '', 'update_date': '2018/1/20'}, {'url': 'https://www.1111.com.tw/job/79860155/', 'job': 'Java工程師(高雄左營區)', 'area': '高雄市左營區 博愛三路12號11樓', 'skill': ['JAVA', 'Struts', 'Tomcat', 'jQuery', 'MySQL'], 'update_date': '2018/1/16'}, {'url': 'https://www.1111.com.tw/job/80246209/', 'job': 'iOS/Android/java 程式設計 全職', 'area': '台北市南港區 ', 'skill': '', 'update_date': '2018/1/19'}, {'url': 'https://www.1111.com.tw/job/80196187/', 'job': '(大安)資深Java軟體工程師', 'area': '台北市大安區 ', 'skill': '', 'update_date': '2018/1/17'}, {'url': 'https://www.1111.com.tw/job/79888562/', 'job': 'Java 軟體工程師(618)', 'area': '台北市內湖區 ', 'skill': '', 'update_date': '2018/1/18'}, {'url': 'https://www.1111.com.tw/job/79404234/', 'job': 'Java 軟體工程師(S21)', 'area': '台北市內湖區 ', 'skill': '', 'update_date': '2018/1/18'}, {'url': 'https://www.1111.com.tw/job/76811882/', 'job': 'Java EE 顧問工程師（SD） ', 'area': '台北市中正區 林森南路4之2號7樓', 'skill': '', 'update_date': '2018/1/19'}, {'url': 'https://www.1111.com.tw/job/80253938/', 'job': 'ExtJS/Java/React 軟體工程師', 'area': '台北市大安區 敦化南路二段77號16樓之1', 'skill': '', 'update_date': '2018/1/19'}, {'url': 'https://www.1111.com.tw/job/80215078/', 'job': 'Java系統設計師 (System Designer)', 'area': '台北市內湖區 瑞光路633號8樓', 'skill': '', 'update_date': '2018/1/15'}, {'url': 'https://www.1111.com.tw/job/80199056/', 'job': 'Java 程式開發工程師', 'area': '台北市內湖區 行愛路151號3樓之3', 'skill': '', 'update_date': '2018/1/8'}, {'url': 'https://www.1111.com.tw/job/80197329/', 'job': 'Java系統設計師 (System Designer)', 'area': '台北市內湖區 基湖路1號3樓', 'skill': '', 'update_date': '2018/1/15'}, {'url': 'https://www.1111.com.tw/job/80101629/', 'job': 'Java高級工程師(S16)', 'area': '台北市內湖區 ', 'skill': '', 'update_date': '2018/1/12'}, {'url': 'https://www.1111.com.tw/job/79816977/', 'job': 'JAVA軟體工程師(SN01)', 'area': '台北市內湖區 ', 'skill': '', 'update_date': '2018/1/18'}, {'url': 'https://www.1111.com.tw/job/79584643/', 'job': 'SA 系統分析師(Java)', 'area': '台北市中正區 林森南路4之2號7樓', 'skill': '', 'update_date': '2018/1/19'}, {'url': 'https://www.1111.com.tw/job/79395276/', 'job': 'JAVA軟體工程師(605)', 'area': '台北市內湖區 ', 'skill': '', 'update_date': '2018/1/18'}, {'url': 'https://www.1111.com.tw/job/80240219/', 'job': '專案駐點Java工程師', 'area': '台北市內湖區 ', 'skill': '', 'update_date': '2018/1/19'}, {'url': 'https://www.1111.com.tw/job/78573920/', 'job': '高級Java開發工程師', 'area': '東南亞菲律賓 22 FLOOR,RCBC PLAZA AVENUE, MAKATI CITA, PHILIPPINES', 'skill': '', 'update_date': '2018/1/21'}, {'url': 'https://www.1111.com.tw/job/80201017/', 'job': '遊戲後端工程師 (Java)', 'area': '台北市中山區 中山北路一段11號12樓', 'skill': '', 'update_date': '2018/1/21'}]\n"
     ]
    }
   ],
   "source": [
    "lists = []\n",
    "joblist = job_url_list('https://www.1111.com.tw/job-bank/job-index.asp?si=1&ss=s&ks=JAVA&ps=100')\n",
    "for row in joblist:\n",
    "    #print(job_content(row))\n",
    "    lists.append(job_content(row))\n",
    "print(lists)"
   ]
  },
  {
   "cell_type": "code",
   "execution_count": 41,
   "metadata": {},
   "outputs": [],
   "source": [
    "with open('1111JOB/page.json','w',) as f:\n",
    "    json.dump(lists,f)\n",
    "\n"
   ]
  },
  {
   "cell_type": "code",
   "execution_count": 42,
   "metadata": {},
   "outputs": [
    {
     "name": "stdout",
     "output_type": "stream",
     "text": [
      "[{'url': 'https://www.1111.com.tw/job/80057790/', 'job': 'Java Developer', 'area': '新北市板橋區 雙十路二段10之1號8樓', 'skill': '', 'update_date': '2018/1/20'}, {'url': 'https://www.1111.com.tw/job/79828717/', 'job': 'Java Engineer', 'area': '台北市中山區 ', 'skill': '', 'update_date': '2018/1/19'}, {'url': 'https://www.1111.com.tw/job/55576904/', 'job': 'Java講師', 'area': '新竹市東區 民族路31號11樓', 'skill': '', 'update_date': '2018/1/21'}, {'url': 'https://www.1111.com.tw/job/76821519/', 'job': 'Java Engineer ( Java程式設計 )', 'area': '台北市信義區 基隆路二段51號3樓', 'skill': '', 'update_date': '2018/1/18'}, {'url': 'https://www.1111.com.tw/job/80231208/', 'job': 'JAVA Developer(3000961)', 'area': '東南亞菲律賓 ', 'skill': '', 'update_date': '2017/12/20'}, {'url': 'https://www.1111.com.tw/job/76812185/', 'job': 'Java Internet工程師 ', 'area': '台北市內湖區 ', 'skill': '', 'update_date': '2018/1/19'}, {'url': 'https://www.1111.com.tw/job/76812146/', 'job': 'Sr. Java Web Engineer ', 'area': '台北市內湖區 ', 'skill': '', 'update_date': '2018/1/19'}, {'url': 'https://www.1111.com.tw/job/76812082/', 'job': 'Jr. Java Web Engineer ', 'area': '台北市內湖區 ', 'skill': '', 'update_date': '2018/1/19'}, {'url': 'https://www.1111.com.tw/job/76812156/', 'job': 'Java SW Engineer ', 'area': '台北市松山區 ', 'skill': '', 'update_date': '2018/1/19'}, {'url': 'https://www.1111.com.tw/job/80108214/', 'job': '後端Java工程師', 'area': '東南亞馬來西亞 ', 'skill': '', 'update_date': '2018/1/21'}, {'url': 'https://www.1111.com.tw/job/76812071/', 'job': 'Java Tibco SW Engineer ', 'area': '台北市松山區 ', 'skill': '', 'update_date': '2018/1/19'}, {'url': 'https://www.1111.com.tw/job/76812055/', 'job': 'Java (Taipei) 工程師 ', 'area': '台北市內湖區 ', 'skill': '', 'update_date': '2018/1/19'}, {'url': 'https://www.1111.com.tw/job/78573375/', 'job': 'Android Java 工程師年薪 600,000元 至 1,000,000元 / 1年以上工作經驗 / 專科 以上', 'area': '桃園市八德區 建德路508號11樓', 'skill': '', 'update_date': '2018/1/19'}, {'url': 'https://www.1111.com.tw/job/79932614/', 'job': 'JAVA工程師(3000458)', 'area': '東南亞菲律賓 ', 'skill': '', 'update_date': '2017/6/5'}, {'url': 'https://www.1111.com.tw/job/80120936/', 'job': 'JAVA工程師', 'area': '台北市松山區 (依公司分派)', 'skill': '', 'update_date': '2018/1/19'}, {'url': 'https://www.1111.com.tw/job/80078480/', 'job': 'Sr. Java Developer', 'area': '台北市內湖區 基湖路1號3樓(內湖科技園區)', 'skill': '', 'update_date': '2018/1/15'}, {'url': 'https://www.1111.com.tw/job/78356616/', 'job': 'JAVA工程師(上海)', 'area': '上海市 ', 'skill': '', 'update_date': '2018/1/19'}, {'url': 'https://www.1111.com.tw/job/77332886/', 'job': 'BI Java Devloper', 'area': '台北市內湖區 ', 'skill': '', 'update_date': '2018/1/19'}, {'url': 'https://www.1111.com.tw/job/79908415/', 'job': 'JAVA 程式開發', 'area': '台北市內湖區 瑞光路66巷27號4樓', 'skill': '', 'update_date': '2018/1/17'}, {'url': 'https://www.1111.com.tw/job/79720258/', 'job': 'Java工程師', 'area': '台北市內湖區 民權東路六段262號7樓', 'skill': ['Word', 'Excel', 'PowerPoint', 'Vmware', 'JAVA', 'Java Script', 'JSP', 'XML', 'AJAX', 'Servlets', 'Tomcat', 'jQuery', 'HTML', 'CSS'], 'update_date': '2017/11/3'}, {'url': 'https://www.1111.com.tw/job/79839490/', 'job': 'Senior JAVA Developer', 'area': '台北市內湖區 ', 'skill': '', 'update_date': '2018/1/19'}, {'url': 'https://www.1111.com.tw/job/59308016/', 'job': 'R-Java SD/PG', 'area': '台北市內湖區 ', 'skill': '', 'update_date': '2018/1/15'}, {'url': 'https://www.1111.com.tw/job/79958667/', 'job': 'JAVA工程師', 'area': '高雄市苓雅區 廣州一街163號6樓之2', 'skill': '', 'update_date': '2018/1/18'}, {'url': 'https://www.1111.com.tw/job/80260768/', 'job': 'Java programming engineer ', 'area': '台北市松山區 民生東路五段36巷4弄31號4樓', 'skill': ['LINUX', 'JAVA'], 'update_date': '2018/1/20'}, {'url': 'https://www.1111.com.tw/job/80088716/', 'job': 'Java工程師', 'area': '台北市中山區 復興南路一段36之10號12樓之1', 'skill': ['JAVA', 'Java Script', 'JSP'], 'update_date': '2018/1/15'}, {'url': 'https://www.1111.com.tw/job/80241327/', 'job': 'Java工程師', 'area': '台北市內湖區 ', 'skill': '', 'update_date': '2018/1/19'}, {'url': 'https://www.1111.com.tw/job/79523972/', 'job': 'Java程式設計', 'area': '台中市北屯區 文心路三段447號15樓之C', 'skill': '', 'update_date': '2018/1/18'}, {'url': 'https://www.1111.com.tw/job/80215087/', 'job': 'Java架構師', 'area': '台北市內湖區 瑞光路633號8樓', 'skill': '', 'update_date': '2018/1/15'}, {'url': 'https://www.1111.com.tw/job/79857526/', 'job': 'Java架構師', 'area': '台北市內湖區 基湖路1號3樓(內湖科技園區)', 'skill': '', 'update_date': '2018/1/15'}, {'url': 'https://www.1111.com.tw/job/80163357/', 'job': 'Java技術經理', 'area': '台北市士林區 後港街100號3樓', 'skill': '', 'update_date': '2018/1/16'}, {'url': 'https://www.1111.com.tw/job/79906054/', 'job': 'JAVA專案顧問', 'area': '台北市中正區 忠孝西路一段100號10樓', 'skill': '', 'update_date': '2018/1/17'}, {'url': 'https://www.1111.com.tw/job/79428755/', 'job': 'Java軟體工程師', 'area': '台北市信義區 (依公司規定)', 'skill': ['JAVA', 'Hibernate', 'Struts'], 'update_date': '2018/1/20'}, {'url': 'https://www.1111.com.tw/job/76812187/', 'job': 'Jr. Java Internet工程師', 'area': '台北市內湖區 ', 'skill': '', 'update_date': '2018/1/19'}, {'url': 'https://www.1111.com.tw/job/76812180/', 'job': 'Sr. Java Internet工程師 ', 'area': '台北市內湖區 ', 'skill': '', 'update_date': '2018/1/19'}, {'url': 'https://www.1111.com.tw/job/76812167/', 'job': 'Java 軟體工程師 ', 'area': '台北市內湖區 ', 'skill': '', 'update_date': '2018/1/19'}, {'url': 'https://www.1111.com.tw/job/80184456/', 'job': '徵聘  JAVA Developer * 2名 ', 'area': '東南亞菲律賓 ', 'skill': '', 'update_date': '2018/1/19'}, {'url': 'https://www.1111.com.tw/job/80167056/', 'job': 'Java 程式設計師', 'area': '高雄市前鎮區 復興四路2號4樓A09室', 'skill': ['要求條件:\\xa0工作經驗: 1年以上\\xa0電腦專長: Java', 'Tomcat', 'MySQL', 'HTML', 'CSS', 'Javascript', 'Android\\xa0其他條件'], 'update_date': '2018/1/17'}, {'url': 'https://www.1111.com.tw/job/77262132/', 'job': 'JAVA程式設計師', 'area': '台北市大安區 忠孝東路三段263號10樓', 'skill': ['LINUX', 'JAVA', 'Java Script', 'JSP', 'Struts', 'Tomcat', 'jQuery'], 'update_date': '2018/1/13'}, {'url': 'https://www.1111.com.tw/job/71048923/', 'job': 'JAVA&JSP工程師', 'area': '台北市中山區 南京東路三段14巷8號1樓', 'skill': ['JAVA', 'Java Script', 'JSP', 'Servlets', 'jQuery', 'MS SQL', 'HTML'], 'update_date': '2018/1/17'}, {'url': 'https://www.1111.com.tw/job/80248376/', 'job': 'Java 軟體工程師', 'area': '新北市中和區 (依公司規定)', 'skill': ['JAVA'], 'update_date': '2018/1/20'}, {'url': 'https://www.1111.com.tw/job/80120949/', 'job': 'JAVA程式設計師', 'area': '台北市內湖區 瑞光路', 'skill': '', 'update_date': '2018/1/19'}, {'url': 'https://www.1111.com.tw/job/80236767/', 'job': 'JAVA開發工程師', 'area': '台北市信義區 ', 'skill': '', 'update_date': '2018/1/16'}, {'url': 'https://www.1111.com.tw/job/80111026/', 'job': 'JAVA工程師（台北市）', 'area': '台北市大安區 敦化南路二段333號7樓', 'skill': '', 'update_date': '2018/1/16'}, {'url': 'https://www.1111.com.tw/job/75465772/', 'job': 'JAVA程式設計師', 'area': '新北市中和區 中正路891號', 'skill': '', 'update_date': '2018/1/15'}, {'url': 'https://www.1111.com.tw/job/77136480/', 'job': 'Java研發工程師', 'area': '台北市內湖區 瑞光路68號3樓', 'skill': '', 'update_date': '2018/1/17'}, {'url': 'https://www.1111.com.tw/job/77284396/', 'job': 'JAVA軟體工程師', 'area': '台北市南港區 三重路19之6號7樓', 'skill': '', 'update_date': '2018/1/19'}, {'url': 'https://www.1111.com.tw/job/80199049/', 'job': 'JAVA 系統設計師', 'area': '台北市內湖區 行愛路151號3樓之3', 'skill': '', 'update_date': '2018/1/8'}, {'url': 'https://www.1111.com.tw/job/76814866/', 'job': '程式設計師(JAVA)', 'area': '台北市大安區 金山南路', 'skill': '', 'update_date': '2018/1/15'}, {'url': 'https://www.1111.com.tw/job/56338207/', 'job': 'Java軟體工程師', 'area': '新北市新店區 北新路一段293號4樓之3', 'skill': '', 'update_date': '2018/1/17'}, {'url': 'https://www.1111.com.tw/job/80199075/', 'job': 'JAVA 系統架構師', 'area': '台北市內湖區 行愛路151號3樓之3', 'skill': '', 'update_date': '2018/1/8'}, {'url': 'https://www.1111.com.tw/job/76985957/', 'job': 'Java 程式設計師', 'area': '台北市松山區 民生東路四段133號3樓之5', 'skill': ['LINUX', 'UNIX', 'Windows Server 2000-2012', 'JAVA', 'Java Script'], 'update_date': '2018/1/18'}, {'url': 'https://www.1111.com.tw/job/80251364/', 'job': 'Java工程師-駐點Acer', 'area': '台北市大安區 ', 'skill': '', 'update_date': '2018/1/19'}, {'url': 'https://www.1111.com.tw/job/80163341/', 'job': 'Java系統工程師', 'area': '台北市士林區 後港街100號3樓', 'skill': '', 'update_date': '2018/1/16'}, {'url': 'https://www.1111.com.tw/job/78495747/', 'job': 'Java程式設計師', 'area': '台北市內湖區 ', 'skill': '', 'update_date': '2018/1/20'}, {'url': 'https://www.1111.com.tw/job/79837342/', 'job': 'JAVA系統設計師', 'area': '新北市三重區 ', 'skill': '', 'update_date': '2018/1/18'}, {'url': 'https://www.1111.com.tw/job/79765281/', 'job': 'JAVA軟體工程師-RD1', 'area': '台北市萬華區 峨嵋街115號6樓', 'skill': '', 'update_date': '2018/1/19'}, {'url': 'https://www.1111.com.tw/job/79903644/', 'job': '【中區處】JAVA程式設計師', 'area': '南投縣南投市 1. 數據擷取：熟Java、SOL或類似工具能由指定網頁或是客戶資料庫中自動化提取指定數據。 2. 數據分析：熟統計或data mining方法或類似工具能由指定資料庫中尋找出數據特徵值與脈絡。 3. 系統開發：具系統規劃與分析技能，能評估與拆解系統建置所需元件，並逐步實作成型。 4. 文件彙整：負', 'skill': '', 'update_date': '2018/1/16'}, {'url': 'https://www.1111.com.tw/job/80052924/', 'job': '(資深)JAVA軟體工程師(3000552)', 'area': '台北市內湖區 ', 'skill': ['JAVA', 'Hibernate'], 'update_date': '2017/10/18'}, {'url': 'https://www.1111.com.tw/job/80233951/', 'job': 'JAVA工程師 (支付服務)(E0804)', 'area': '台北市大安區 敦化南路二段105號12樓', 'skill': '', 'update_date': '2018/1/15'}, {'url': 'https://www.1111.com.tw/job/80121052/', 'job': 'Java程式設計師-1', 'area': '台北市內湖區 (依公司分派)', 'skill': '', 'update_date': '2018/1/19'}, {'url': 'https://www.1111.com.tw/job/77311025/', 'job': 'JAVA軟體工程師(深圳)', 'area': '廣東省深圳市 ', 'skill': '', 'update_date': '2018/1/19'}, {'url': 'https://www.1111.com.tw/job/76812163/', 'job': 'Sr. Java 軟體工程師 ', 'area': '台北市內湖區 ', 'skill': '', 'update_date': '2018/1/19'}, {'url': 'https://www.1111.com.tw/job/80224357/', 'job': '資訊部-資深Java工程師', 'area': '台中市北屯區 崇德九路287號', 'skill': '', 'update_date': '2018/1/15'}, {'url': 'https://www.1111.com.tw/job/79428743/', 'job': '資深java 軟體工程師', 'area': '台北市信義區 (依公司規定)', 'skill': ['JAVA'], 'update_date': '2018/1/20'}, {'url': 'https://www.1111.com.tw/job/77163957/', 'job': 'JAVA軟體工程師(上海)', 'area': '上海市 ', 'skill': '', 'update_date': '2018/1/19'}, {'url': 'https://www.1111.com.tw/job/76812021/', 'job': 'Java J2EE 軟體工程師 ', 'area': '台北市中正區 林森南路4之2號7樓', 'skill': '', 'update_date': '2018/1/19'}, {'url': 'https://www.1111.com.tw/job/76188345/', 'job': '.net / JAVA程式設計師', 'area': '台北市內湖區 文湖街18號2樓', 'skill': '', 'update_date': '2018/1/15'}, {'url': 'https://www.1111.com.tw/job/80208025/', 'job': '【RD】Java程式設計師 - 1702194', 'area': '台北市大安區 ', 'skill': '', 'update_date': '2018/1/21'}, {'url': 'https://www.1111.com.tw/job/80250317/', 'job': 'Java系統設計師 System Designer', 'area': '台北市內湖區 民權東路六段123巷28號4樓之2', 'skill': '', 'update_date': '2018/1/17'}, {'url': 'https://www.1111.com.tw/job/79883141/', 'job': 'C3811 Java開發 技術副理(內湖)', 'area': '台北市內湖區 港墘路220號', 'skill': '', 'update_date': '2018/1/17'}, {'url': 'https://www.1111.com.tw/job/80233838/', 'job': 'Java軟體工程師(LT)', 'area': '台北市大安區 敦化南路二段105號12樓', 'skill': '', 'update_date': '2018/1/15'}, {'url': 'https://www.1111.com.tw/job/80196184/', 'job': '(內湖)資深Java軟體工程師', 'area': '台北市內湖區 ', 'skill': '', 'update_date': '2018/1/17'}, {'url': 'https://www.1111.com.tw/job/80153060/', 'job': '(內湖)Java軟體工程師', 'area': '台北市內湖區 ', 'skill': '', 'update_date': '2018/1/17'}, {'url': 'https://www.1111.com.tw/job/79843806/', 'job': 'C3111 Java開發 資深工程師', 'area': '台北市內湖區 港墘路220號 (內湖科技園區)', 'skill': '', 'update_date': '2018/1/17'}, {'url': 'https://www.1111.com.tw/job/79772278/', 'job': '(大安)Java軟體工程師', 'area': '台北市大安區 ', 'skill': '', 'update_date': '2018/1/17'}, {'url': 'https://www.1111.com.tw/job/79905238/', 'job': 'JAVA資深工程師(3000373)', 'area': '東南亞菲律賓 ', 'skill': '', 'update_date': '2017/5/8'}, {'url': 'https://www.1111.com.tw/job/76811901/', 'job': '資深 JAVA 工程師（PG＋SD） ', 'area': '台北市中正區 林森南路4之2號7樓', 'skill': '', 'update_date': '2018/1/19'}, {'url': 'https://www.1111.com.tw/job/80259978/', 'job': '【RD】Java程式設計師 - 1800044', 'area': '新北市汐止區 新台五路一段88號8樓(221)', 'skill': '', 'update_date': '2018/1/20'}, {'url': 'https://www.1111.com.tw/job/76811872/', 'job': 'Java程式設計師 (兼職) ', 'area': '台北市中正區 林森南路4之2號7樓', 'skill': '', 'update_date': '2018/1/19'}, {'url': 'https://www.1111.com.tw/job/78593971/', 'job': 'Java開發工程師(台北)', 'area': '台北市中山區 南京東路三段131號6樓', 'skill': '', 'update_date': '2018/1/17'}, {'url': 'https://www.1111.com.tw/job/80039724/', 'job': 'Java資深工程師(5473)', 'area': '新北市新店區 中正路533號6樓', 'skill': '', 'update_date': '2018/1/20'}, {'url': 'https://www.1111.com.tw/job/80153090/', 'job': 'JAVA軟體工程師(管理部)', 'area': '台北市萬華區 峨嵋街115號6樓', 'skill': '', 'update_date': '2018/1/17'}, {'url': 'https://www.1111.com.tw/job/80039708/', 'job': 'Java開發工程師(5478)', 'area': '新北市新店區 中正路531號2樓', 'skill': '', 'update_date': '2018/1/20'}, {'url': 'https://www.1111.com.tw/job/79860155/', 'job': 'Java工程師(高雄左營區)', 'area': '高雄市左營區 博愛三路12號11樓', 'skill': ['JAVA', 'Struts', 'Tomcat', 'jQuery', 'MySQL'], 'update_date': '2018/1/16'}, {'url': 'https://www.1111.com.tw/job/80246209/', 'job': 'iOS/Android/java 程式設計 全職', 'area': '台北市南港區 ', 'skill': '', 'update_date': '2018/1/19'}, {'url': 'https://www.1111.com.tw/job/80196187/', 'job': '(大安)資深Java軟體工程師', 'area': '台北市大安區 ', 'skill': '', 'update_date': '2018/1/17'}, {'url': 'https://www.1111.com.tw/job/79888562/', 'job': 'Java 軟體工程師(618)', 'area': '台北市內湖區 ', 'skill': '', 'update_date': '2018/1/18'}, {'url': 'https://www.1111.com.tw/job/79404234/', 'job': 'Java 軟體工程師(S21)', 'area': '台北市內湖區 ', 'skill': '', 'update_date': '2018/1/18'}, {'url': 'https://www.1111.com.tw/job/76811882/', 'job': 'Java EE 顧問工程師（SD） ', 'area': '台北市中正區 林森南路4之2號7樓', 'skill': '', 'update_date': '2018/1/19'}, {'url': 'https://www.1111.com.tw/job/80253938/', 'job': 'ExtJS/Java/React 軟體工程師', 'area': '台北市大安區 敦化南路二段77號16樓之1', 'skill': '', 'update_date': '2018/1/19'}, {'url': 'https://www.1111.com.tw/job/80215078/', 'job': 'Java系統設計師 (System Designer)', 'area': '台北市內湖區 瑞光路633號8樓', 'skill': '', 'update_date': '2018/1/15'}, {'url': 'https://www.1111.com.tw/job/80199056/', 'job': 'Java 程式開發工程師', 'area': '台北市內湖區 行愛路151號3樓之3', 'skill': '', 'update_date': '2018/1/8'}, {'url': 'https://www.1111.com.tw/job/80197329/', 'job': 'Java系統設計師 (System Designer)', 'area': '台北市內湖區 基湖路1號3樓', 'skill': '', 'update_date': '2018/1/15'}, {'url': 'https://www.1111.com.tw/job/80101629/', 'job': 'Java高級工程師(S16)', 'area': '台北市內湖區 ', 'skill': '', 'update_date': '2018/1/12'}, {'url': 'https://www.1111.com.tw/job/79816977/', 'job': 'JAVA軟體工程師(SN01)', 'area': '台北市內湖區 ', 'skill': '', 'update_date': '2018/1/18'}, {'url': 'https://www.1111.com.tw/job/79584643/', 'job': 'SA 系統分析師(Java)', 'area': '台北市中正區 林森南路4之2號7樓', 'skill': '', 'update_date': '2018/1/19'}, {'url': 'https://www.1111.com.tw/job/79395276/', 'job': 'JAVA軟體工程師(605)', 'area': '台北市內湖區 ', 'skill': '', 'update_date': '2018/1/18'}, {'url': 'https://www.1111.com.tw/job/80240219/', 'job': '專案駐點Java工程師', 'area': '台北市內湖區 ', 'skill': '', 'update_date': '2018/1/19'}, {'url': 'https://www.1111.com.tw/job/78573920/', 'job': '高級Java開發工程師', 'area': '東南亞菲律賓 22 FLOOR,RCBC PLAZA AVENUE, MAKATI CITA, PHILIPPINES', 'skill': '', 'update_date': '2018/1/21'}, {'url': 'https://www.1111.com.tw/job/80201017/', 'job': '遊戲後端工程師 (Java)', 'area': '台北市中山區 中山北路一段11號12樓', 'skill': '', 'update_date': '2018/1/21'}]\n"
     ]
    }
   ],
   "source": [
    "with open('1111JOB/page.json','r',) as f:\n",
    "        print(json.load(f))"
   ]
  },
  {
   "cell_type": "code",
   "execution_count": 20,
   "metadata": {},
   "outputs": [
    {
     "ename": "AttributeError",
     "evalue": "'str' object has no attribute 'content'",
     "output_type": "error",
     "traceback": [
      "\u001b[0;31m---------------------------------------------------------------------------\u001b[0m",
      "\u001b[0;31mAttributeError\u001b[0m                            Traceback (most recent call last)",
      "\u001b[0;32m<ipython-input-20-69ffe974652e>\u001b[0m in \u001b[0;36m<module>\u001b[0;34m()\u001b[0m\n\u001b[1;32m      1\u001b[0m \u001b[0;32mwith\u001b[0m \u001b[0mopen\u001b[0m\u001b[0;34m(\u001b[0m\u001b[0;34m'1111JOB/page.json'\u001b[0m\u001b[0;34m,\u001b[0m\u001b[0;34m'r'\u001b[0m\u001b[0;34m,\u001b[0m\u001b[0;34m)\u001b[0m \u001b[0;32mas\u001b[0m \u001b[0mf\u001b[0m\u001b[0;34m:\u001b[0m\u001b[0;34m\u001b[0m\u001b[0m\n\u001b[0;32m----> 2\u001b[0;31m     \u001b[0mprint\u001b[0m\u001b[0;34m(\u001b[0m\u001b[0mf\u001b[0m\u001b[0;34m.\u001b[0m\u001b[0mread\u001b[0m\u001b[0;34m(\u001b[0m\u001b[0;34m)\u001b[0m\u001b[0;34m.\u001b[0m\u001b[0mcontent\u001b[0m\u001b[0;34m.\u001b[0m\u001b[0mdecode\u001b[0m\u001b[0;34m(\u001b[0m\u001b[0;34m'utf-8'\u001b[0m\u001b[0;34m)\u001b[0m\u001b[0;34m)\u001b[0m\u001b[0;34m\u001b[0m\u001b[0m\n\u001b[0m\u001b[1;32m      3\u001b[0m \u001b[0;34m\u001b[0m\u001b[0m\n",
      "\u001b[0;31mAttributeError\u001b[0m: 'str' object has no attribute 'content'"
     ]
    }
   ],
   "source": [
    "\n",
    "    "
   ]
  },
  {
   "cell_type": "code",
   "execution_count": 11,
   "metadata": {},
   "outputs": [
    {
     "ename": "ValueError",
     "evalue": "I/O operation on closed file.",
     "output_type": "error",
     "traceback": [
      "\u001b[0;31m---------------------------------------------------------------------------\u001b[0m",
      "\u001b[0;31mValueError\u001b[0m                                Traceback (most recent call last)",
      "\u001b[0;32m<ipython-input-11-571e9fb02258>\u001b[0m in \u001b[0;36m<module>\u001b[0;34m()\u001b[0m\n\u001b[0;32m----> 1\u001b[0;31m \u001b[0mf\u001b[0m\u001b[0;34m.\u001b[0m\u001b[0mread\u001b[0m\u001b[0;34m(\u001b[0m\u001b[0;34m)\u001b[0m\u001b[0;34m\u001b[0m\u001b[0m\n\u001b[0m",
      "\u001b[0;31mValueError\u001b[0m: I/O operation on closed file."
     ]
    }
   ],
   "source": []
  },
  {
   "cell_type": "code",
   "execution_count": 163,
   "metadata": {},
   "outputs": [
    {
     "data": {
      "text/plain": [
       "\"{'url': 'https://www.1111.com.tw/job/80057790/', 'job': 'Java Developer', 'area': '新北市板橋區 雙十路二段10之1號8樓', 'skill': ''}\""
      ]
     },
     "execution_count": 163,
     "metadata": {},
     "output_type": "execute_result"
    }
   ],
   "source": [
    "\n"
   ]
  },
  {
   "cell_type": "code",
   "execution_count": 10,
   "metadata": {},
   "outputs": [
    {
     "data": {
      "text/plain": [
       "['2年以上工作經驗']"
      ]
     },
     "execution_count": 10,
     "metadata": {},
     "output_type": "execute_result"
    }
   ],
   "source": [
    "resp =requests.get('https://www.1111.com.tw/job/79828717/')\n",
    "    \n",
    "soup = BeautifulSoup(resp.text,'lxml')\n",
    "soup.select('div.listContent')[0].text.replace('地圖','')\n",
    "#soup.select('article:nth-of-type(2) > ul > li:nth-of-type(5) > div.listContent')[0].text.split('、')\n"
   ]
  },
  {
   "cell_type": "code",
   "execution_count": 5,
   "metadata": {},
   "outputs": [
    {
     "data": {
      "text/plain": [
       "['Java', 'Developer面議', '/', '1年以上工作經驗', '/', '大學', '以上']"
      ]
     },
     "execution_count": 5,
     "metadata": {},
     "output_type": "execute_result"
    }
   ],
   "source": [
    "resp =requests.get('https://www.1111.com.tw/job/80057790/')\n",
    "    \n",
    "soup = BeautifulSoup(resp.text,'lxml')\n",
    "content = {}\n",
    "    \n",
    "soup.select('#menu > div > div.logoTitle > h1')[0].text.split()"
   ]
  },
  {
   "cell_type": "code",
   "execution_count": 17,
   "metadata": {},
   "outputs": [
    {
     "data": {
      "text/plain": [
       "['2018/1/16']"
      ]
     },
     "execution_count": 17,
     "metadata": {},
     "output_type": "execute_result"
    }
   ],
   "source": [
    "resp =requests.get('https://www.1111.com.tw/job/80195386/?agent=sticktop_71956064_80195386')\n",
    "    \n",
    "soup = BeautifulSoup(resp.text,'lxml')\n",
    "content = {}\n",
    "    \n",
    "soup.select('#menu > div > div.logoTitle > h1')[0].text.split()\n",
    "re.findall('更新日期：(\\d+/\\d+/\\d+)',resp.text)"
   ]
  },
  {
   "cell_type": "code",
   "execution_count": 4,
   "metadata": {},
   "outputs": [
    {
     "data": {
      "text/plain": [
       "'Java程式設計師-1'"
      ]
     },
     "execution_count": 4,
     "metadata": {},
     "output_type": "execute_result"
    }
   ],
   "source": [
    "resp =requests.get('https://www.1111.com.tw/job/80121052/')\n",
    "    \n",
    "soup = BeautifulSoup(resp.text,'lxml')\n",
    "content = {}\n",
    "'''\n",
    "'''    \n",
    "soup.select('#menu > div > div.logoTitle > h1')[0].text.split()\n",
    "a = soup.select(\"\"\"                                    \n",
    "                                    article:nth-of-type(2) > \n",
    "                                    ul > li\n",
    "                                   \"\"\"\n",
    "                                  )\n",
    "a\n",
    "for row in a:\n",
    "    if re.findall('電腦專長',row.text) != []  :\n",
    "        print(row.text.split('：')[1].split('、'))\n",
    " \n",
    "    #re.findall('電腦專長', a[5].text)\n",
    "soup.select('#menu > div > div.logoTitle > h1')[0].text.split('面議')[0].split('月薪')[0]\n"
   ]
  },
  {
   "cell_type": "code",
   "execution_count": 123,
   "metadata": {
    "scrolled": true
   },
   "outputs": [
    {
     "data": {
      "text/plain": [
       "{'area': '台北市士林區 後港街100號3樓',\n",
       " 'job': 'Java技術經理',\n",
       " 'skill': '',\n",
       " 'url': 'https://www.1111.com.tw/job/80163357/'}"
      ]
     },
     "execution_count": 123,
     "metadata": {},
     "output_type": "execute_result"
    }
   ],
   "source": [
    "job_content('https://www.1111.com.tw/job/80163357/')\n"
   ]
  },
  {
   "cell_type": "code",
   "execution_count": 147,
   "metadata": {},
   "outputs": [
    {
     "name": "stdout",
     "output_type": "stream",
     "text": [
      "[{'url': 'https://www.1111.com.tw/job/80057790/', 'job': 'Java Developer', 'area': '新北市板橋區 雙十路二段10之1號8樓', 'skill': ''}, {'url': 'https://www.1111.com.tw/job/79828717/', 'job': 'Java Engineer', 'area': '台北市中山區 ', 'skill': ''}, {'url': 'https://www.1111.com.tw/job/55576904/', 'job': 'Java講師', 'area': '新竹市東區 民族路31號11樓', 'skill': ''}, {'url': 'https://www.1111.com.tw/job/76821519/', 'job': 'Java Engineer ( Java程式設計 )', 'area': '台北市信義區 基隆路二段51號3樓', 'skill': ''}, {'url': 'https://www.1111.com.tw/job/80231208/', 'job': 'JAVA Developer(3000961)', 'area': '東南亞菲律賓 ', 'skill': ''}, {'url': 'https://www.1111.com.tw/job/76812185/', 'job': 'Java Internet工程師 ', 'area': '台北市內湖區 ', 'skill': ''}, {'url': 'https://www.1111.com.tw/job/76812146/', 'job': 'Sr. Java Web Engineer ', 'area': '台北市內湖區 ', 'skill': ''}, {'url': 'https://www.1111.com.tw/job/76812082/', 'job': 'Jr. Java Web Engineer ', 'area': '台北市內湖區 ', 'skill': ''}, {'url': 'https://www.1111.com.tw/job/76812156/', 'job': 'Java SW Engineer ', 'area': '台北市松山區 ', 'skill': ''}, {'url': 'https://www.1111.com.tw/job/80108214/', 'job': '後端Java工程師', 'area': '東南亞馬來西亞 ', 'skill': ''}, {'url': 'https://www.1111.com.tw/job/76812071/', 'job': 'Java Tibco SW Engineer ', 'area': '台北市松山區 ', 'skill': ''}, {'url': 'https://www.1111.com.tw/job/76812055/', 'job': 'Java (Taipei) 工程師 ', 'area': '台北市內湖區 ', 'skill': ''}, {'url': 'https://www.1111.com.tw/job/78573375/', 'job': 'Android Java 工程師年薪 600,000元 至 1,000,000元 / 1年以上工作經驗 / 專科 以上', 'area': '桃園市八德區 建德路508號11樓', 'skill': ''}, {'url': 'https://www.1111.com.tw/job/79932614/', 'job': 'JAVA工程師(3000458)', 'area': '東南亞菲律賓 ', 'skill': ''}, {'url': 'https://www.1111.com.tw/job/80120936/', 'job': 'JAVA工程師', 'area': '台北市松山區 (依公司分派)', 'skill': ''}, {'url': 'https://www.1111.com.tw/job/80078480/', 'job': 'Sr. Java Developer', 'area': '台北市內湖區 基湖路1號3樓(內湖科技園區)', 'skill': ''}, {'url': 'https://www.1111.com.tw/job/78356616/', 'job': 'JAVA工程師(上海)', 'area': '上海市 ', 'skill': ''}, {'url': 'https://www.1111.com.tw/job/77332886/', 'job': 'BI Java Devloper', 'area': '台北市內湖區 ', 'skill': ''}, {'url': 'https://www.1111.com.tw/job/79908415/', 'job': 'JAVA 程式開發', 'area': '台北市內湖區 瑞光路66巷27號4樓', 'skill': ''}, {'url': 'https://www.1111.com.tw/job/79720258/', 'job': 'Java工程師', 'area': '台北市內湖區 民權東路六段262號7樓', 'skill': ['Word', 'Excel', 'PowerPoint', 'Vmware', 'JAVA', 'Java Script', 'JSP', 'XML', 'AJAX', 'Servlets', 'Tomcat', 'jQuery', 'HTML', 'CSS']}]\n",
      "page1\n",
      "輸入了20筆資料\n",
      "[{'url': 'https://www.1111.com.tw/job/79839490/', 'job': 'Senior JAVA Developer', 'area': '台北市內湖區 ', 'skill': ''}, {'url': 'https://www.1111.com.tw/job/59308016/', 'job': 'R-Java SD/PG', 'area': '台北市內湖區 ', 'skill': ''}, {'url': 'https://www.1111.com.tw/job/79958667/', 'job': 'JAVA工程師', 'area': '高雄市苓雅區 廣州一街163號6樓之2', 'skill': ''}, {'url': 'https://www.1111.com.tw/job/80088716/', 'job': 'Java工程師', 'area': '台北市中山區 復興南路一段36之10號12樓之1', 'skill': ['JAVA', 'Java Script', 'JSP']}, {'url': 'https://www.1111.com.tw/job/80241327/', 'job': 'Java工程師', 'area': '台北市內湖區 ', 'skill': ''}, {'url': 'https://www.1111.com.tw/job/79523972/', 'job': 'Java程式設計', 'area': '台中市北屯區 文心路三段447號15樓之C', 'skill': ''}, {'url': 'https://www.1111.com.tw/job/80215087/', 'job': 'Java架構師', 'area': '台北市內湖區 瑞光路633號8樓', 'skill': ''}, {'url': 'https://www.1111.com.tw/job/79857526/', 'job': 'Java架構師', 'area': '台北市內湖區 基湖路1號3樓(內湖科技園區)', 'skill': ''}, {'url': 'https://www.1111.com.tw/job/80163357/', 'job': 'Java技術經理', 'area': '台北市士林區 後港街100號3樓', 'skill': ''}, {'url': 'https://www.1111.com.tw/job/79906054/', 'job': 'JAVA專案顧問', 'area': '台北市中正區 忠孝西路一段100號10樓', 'skill': ''}, {'url': 'https://www.1111.com.tw/job/80172370/', 'job': 'Java Software Engineer Java 軟體工程師', 'area': '台北市內湖區 ', 'skill': ''}, {'url': 'https://www.1111.com.tw/job/80127110/', 'job': 'Sr. Java Software Engineer 資深 Java軟體工程師', 'area': '台北市內湖區 ', 'skill': ''}, {'url': 'https://www.1111.com.tw/job/79428755/', 'job': 'Java軟體工程師', 'area': '台北市信義區 (依公司規定)', 'skill': ['JAVA', 'Hibernate', 'Struts']}, {'url': 'https://www.1111.com.tw/job/76812187/', 'job': 'Jr. Java Internet工程師', 'area': '台北市內湖區 ', 'skill': ''}, {'url': 'https://www.1111.com.tw/job/76812180/', 'job': 'Sr. Java Internet工程師 ', 'area': '台北市內湖區 ', 'skill': ''}, {'url': 'https://www.1111.com.tw/job/76812167/', 'job': 'Java 軟體工程師 ', 'area': '台北市內湖區 ', 'skill': ''}, {'url': 'https://www.1111.com.tw/job/80184456/', 'job': '徵聘  JAVA Developer * 2名 ', 'area': '東南亞菲律賓 ', 'skill': ''}, {'url': 'https://www.1111.com.tw/job/80167056/', 'job': 'Java 程式設計師', 'area': '高雄市前鎮區 復興四路2號4樓A09室', 'skill': ['要求條件:\\xa0工作經驗: 1年以上\\xa0電腦專長: Java', 'Tomcat', 'MySQL', 'HTML', 'CSS', 'Javascript', 'Android\\xa0其他條件']}, {'url': 'https://www.1111.com.tw/job/77262132/', 'job': 'JAVA程式設計師', 'area': '台北市大安區 忠孝東路三段263號10樓', 'skill': ['LINUX', 'JAVA', 'Java Script', 'JSP', 'Struts', 'Tomcat', 'jQuery']}, {'url': 'https://www.1111.com.tw/job/71048923/', 'job': 'JAVA&JSP工程師', 'area': '台北市中山區 南京東路三段14巷8號1樓', 'skill': ['JAVA', 'Java Script', 'JSP', 'Servlets', 'jQuery', 'MS SQL', 'HTML']}]\n",
      "page2\n",
      "輸入了20筆資料\n",
      "[{'url': 'https://www.1111.com.tw/job/80248376/', 'job': 'Java 軟體工程師', 'area': '新北市中和區 (依公司規定)', 'skill': ['JAVA']}, {'url': 'https://www.1111.com.tw/job/80120949/', 'job': 'JAVA程式設計師', 'area': '台北市內湖區 瑞光路', 'skill': ''}, {'url': 'https://www.1111.com.tw/job/80236767/', 'job': 'JAVA開發工程師', 'area': '台北市信義區 ', 'skill': ''}, {'url': 'https://www.1111.com.tw/job/80111026/', 'job': 'JAVA工程師（台北市）', 'area': '台北市大安區 敦化南路二段333號7樓', 'skill': ''}, {'url': 'https://www.1111.com.tw/job/75465772/', 'job': 'JAVA程式設計師', 'area': '新北市中和區 中正路891號', 'skill': ''}, {'url': 'https://www.1111.com.tw/job/77136480/', 'job': 'Java研發工程師', 'area': '台北市內湖區 瑞光路68號3樓', 'skill': ''}, {'url': 'https://www.1111.com.tw/job/77284396/', 'job': 'JAVA軟體工程師', 'area': '台北市南港區 三重路19之6號7樓', 'skill': ''}, {'url': 'https://www.1111.com.tw/job/80199049/', 'job': 'JAVA 系統設計師', 'area': '台北市內湖區 行愛路151號3樓之3', 'skill': ''}, {'url': 'https://www.1111.com.tw/job/76814866/', 'job': '程式設計師(JAVA)', 'area': '台北市大安區 金山南路', 'skill': ''}, {'url': 'https://www.1111.com.tw/job/56338207/', 'job': 'Java軟體工程師', 'area': '新北市新店區 北新路一段293號4樓之3', 'skill': ''}, {'url': 'https://www.1111.com.tw/job/80199075/', 'job': 'JAVA 系統架構師', 'area': '台北市內湖區 行愛路151號3樓之3', 'skill': ''}, {'url': 'https://www.1111.com.tw/job/76985957/', 'job': 'Java 程式設計師', 'area': '台北市松山區 民生東路四段133號3樓之5', 'skill': ['LINUX', 'UNIX', 'Windows Server 2000-2012', 'JAVA', 'Java Script']}, {'url': 'https://www.1111.com.tw/job/80251364/', 'job': 'Java工程師-駐點Acer', 'area': '台北市大安區 ', 'skill': ''}, {'url': 'https://www.1111.com.tw/job/80163341/', 'job': 'Java系統工程師', 'area': '台北市士林區 後港街100號3樓', 'skill': ''}, {'url': 'https://www.1111.com.tw/job/78495747/', 'job': 'Java程式設計師', 'area': '台北市內湖區 ', 'skill': ''}, {'url': 'https://www.1111.com.tw/job/79837342/', 'job': 'JAVA系統設計師', 'area': '新北市三重區 ', 'skill': ''}, {'url': 'https://www.1111.com.tw/job/79765281/', 'job': 'JAVA軟體工程師-RD1', 'area': '台北市萬華區 峨嵋街115號6樓', 'skill': ''}, {'url': 'https://www.1111.com.tw/job/79903644/', 'job': '【中區處】JAVA程式設計師', 'area': '南投縣南投市 1. 數據擷取：熟Java、SOL或類似工具能由指定網頁或是客戶資料庫中自動化提取指定數據。 2. 數據分析：熟統計或data mining方法或類似工具能由指定資料庫中尋找出數據特徵值與脈絡。 3. 系統開發：具系統規劃與分析技能，能評估與拆解系統建置所需元件，並逐步實作成型。 4. 文件彙整：負', 'skill': ''}, {'url': 'https://www.1111.com.tw/job/80052924/', 'job': '(資深)JAVA軟體工程師(3000552)', 'area': '台北市內湖區 ', 'skill': ['JAVA', 'Hibernate']}, {'url': 'https://www.1111.com.tw/job/80233951/', 'job': 'JAVA工程師 (支付服務)(E0804)', 'area': '台北市大安區 敦化南路二段105號12樓', 'skill': ''}]\n",
      "page3\n",
      "輸入了20筆資料\n",
      "[{'url': 'https://www.1111.com.tw/job/80121052/', 'job': 'Java程式設計師-1', 'area': '台北市內湖區 (依公司分派)', 'skill': ''}, {'url': 'https://www.1111.com.tw/job/77311025/', 'job': 'JAVA軟體工程師(深圳)', 'area': '廣東省深圳市 ', 'skill': ''}, {'url': 'https://www.1111.com.tw/job/76812163/', 'job': 'Sr. Java 軟體工程師 ', 'area': '台北市內湖區 ', 'skill': ''}, {'url': 'https://www.1111.com.tw/job/80224357/', 'job': '資訊部-資深Java工程師', 'area': '台中市北屯區 崇德九路287號', 'skill': ''}, {'url': 'https://www.1111.com.tw/job/79428743/', 'job': '資深java 軟體工程師', 'area': '台北市信義區 (依公司規定)', 'skill': ['JAVA']}, {'url': 'https://www.1111.com.tw/job/77163957/', 'job': 'JAVA軟體工程師(上海)', 'area': '上海市 ', 'skill': ''}, {'url': 'https://www.1111.com.tw/job/76812021/', 'job': 'Java J2EE 軟體工程師 ', 'area': '台北市中正區 林森南路4之2號7樓', 'skill': ''}, {'url': 'https://www.1111.com.tw/job/76188345/', 'job': '.net / JAVA程式設計師', 'area': '台北市內湖區 文湖街18號2樓', 'skill': ''}, {'url': 'https://www.1111.com.tw/job/80208025/', 'job': '【RD】Java程式設計師 - 1702194', 'area': '台北市大安區 ', 'skill': ''}, {'url': 'https://www.1111.com.tw/job/80250317/', 'job': 'Java系統設計師 System Designer', 'area': '台北市內湖區 民權東路六段123巷28號4樓之2', 'skill': ''}, {'url': 'https://www.1111.com.tw/job/79883141/', 'job': 'C3811 Java開發 技術副理(內湖)', 'area': '台北市內湖區 港墘路220號', 'skill': ''}, {'url': 'https://www.1111.com.tw/job/80233838/', 'job': 'Java軟體工程師(LT)', 'area': '台北市大安區 敦化南路二段105號12樓', 'skill': ''}, {'url': 'https://www.1111.com.tw/job/80196184/', 'job': '(內湖)資深Java軟體工程師', 'area': '台北市內湖區 ', 'skill': ''}, {'url': 'https://www.1111.com.tw/job/80153060/', 'job': '(內湖)Java軟體工程師', 'area': '台北市內湖區 ', 'skill': ''}, {'url': 'https://www.1111.com.tw/job/79843806/', 'job': 'C3111 Java開發 資深工程師', 'area': '台北市內湖區 港墘路220號 (內湖科技園區)', 'skill': ''}, {'url': 'https://www.1111.com.tw/job/79772278/', 'job': '(大安)Java軟體工程師', 'area': '台北市大安區 ', 'skill': ''}, {'url': 'https://www.1111.com.tw/job/79905238/', 'job': 'JAVA資深工程師(3000373)', 'area': '東南亞菲律賓 ', 'skill': ''}, {'url': 'https://www.1111.com.tw/job/76811901/', 'job': '資深 JAVA 工程師（PG＋SD） ', 'area': '台北市中正區 林森南路4之2號7樓', 'skill': ''}, {'url': 'https://www.1111.com.tw/job/76811872/', 'job': 'Java程式設計師 (兼職) ', 'area': '台北市中正區 林森南路4之2號7樓', 'skill': ''}, {'url': 'https://www.1111.com.tw/job/78593971/', 'job': 'Java開發工程師(台北)', 'area': '台北市中山區 南京東路三段131號6樓', 'skill': ''}]\n",
      "page4\n",
      "輸入了20筆資料\n"
     ]
    },
    {
     "name": "stdout",
     "output_type": "stream",
     "text": [
      "[{'url': 'https://www.1111.com.tw/job/80039724/', 'job': 'Java資深工程師(5473)', 'area': '新北市新店區 中正路533號6樓', 'skill': ''}, {'url': 'https://www.1111.com.tw/job/80153090/', 'job': 'JAVA軟體工程師(管理部)', 'area': '台北市萬華區 峨嵋街115號6樓', 'skill': ''}, {'url': 'https://www.1111.com.tw/job/80039708/', 'job': 'Java開發工程師(5478)', 'area': '新北市新店區 中正路531號2樓', 'skill': ''}, {'url': 'https://www.1111.com.tw/job/79860155/', 'job': 'Java工程師(高雄左營區)', 'area': '高雄市左營區 博愛三路12號11樓', 'skill': ['JAVA', 'Struts', 'Tomcat', 'jQuery', 'MySQL']}, {'url': 'https://www.1111.com.tw/job/80246209/', 'job': 'iOS/Android/java 程式設計 全職', 'area': '台北市南港區 ', 'skill': ''}, {'url': 'https://www.1111.com.tw/job/80196187/', 'job': '(大安)資深Java軟體工程師', 'area': '台北市大安區 ', 'skill': ''}, {'url': 'https://www.1111.com.tw/job/79888562/', 'job': 'Java 軟體工程師(618)', 'area': '台北市內湖區 ', 'skill': ''}, {'url': 'https://www.1111.com.tw/job/79404234/', 'job': 'Java 軟體工程師(S21)', 'area': '台北市內湖區 ', 'skill': ''}, {'url': 'https://www.1111.com.tw/job/76811882/', 'job': 'Java EE 顧問工程師（SD） ', 'area': '台北市中正區 林森南路4之2號7樓', 'skill': ''}, {'url': 'https://www.1111.com.tw/job/80253938/', 'job': 'ExtJS/Java/React 軟體工程師', 'area': '台北市大安區 敦化南路二段77號16樓之1', 'skill': ''}, {'url': 'https://www.1111.com.tw/job/80215078/', 'job': 'Java系統設計師 (System Designer)', 'area': '台北市內湖區 瑞光路633號8樓', 'skill': ''}, {'url': 'https://www.1111.com.tw/job/80199056/', 'job': 'Java 程式開發工程師', 'area': '台北市內湖區 行愛路151號3樓之3', 'skill': ''}, {'url': 'https://www.1111.com.tw/job/80197329/', 'job': 'Java系統設計師 (System Designer)', 'area': '台北市內湖區 基湖路1號3樓', 'skill': ''}, {'url': 'https://www.1111.com.tw/job/80101629/', 'job': 'Java高級工程師(S16)', 'area': '台北市內湖區 ', 'skill': ''}, {'url': 'https://www.1111.com.tw/job/79816977/', 'job': 'JAVA軟體工程師(SN01)', 'area': '台北市內湖區 ', 'skill': ''}, {'url': 'https://www.1111.com.tw/job/79584643/', 'job': 'SA 系統分析師(Java)', 'area': '台北市中正區 林森南路4之2號7樓', 'skill': ''}, {'url': 'https://www.1111.com.tw/job/79395276/', 'job': 'JAVA軟體工程師(605)', 'area': '台北市內湖區 ', 'skill': ''}, {'url': 'https://www.1111.com.tw/job/80240219/', 'job': '專案駐點Java工程師', 'area': '台北市內湖區 ', 'skill': ''}, {'url': 'https://www.1111.com.tw/job/78573920/', 'job': '高級Java開發工程師', 'area': '東南亞菲律賓 22 FLOOR,RCBC PLAZA AVENUE, MAKATI CITA, PHILIPPINES', 'skill': ''}, {'url': 'https://www.1111.com.tw/job/80201017/', 'job': '遊戲後端工程師 (Java)', 'area': '台北市中山區 中山北路一段11號12樓', 'skill': ''}]\n",
      "page5\n",
      "輸入了20筆資料\n",
      "[{'url': 'https://www.1111.com.tw/job/76811906/', 'job': 'Java 程式設計師（PG） ', 'area': '台北市中正區 林森南路4之2號7樓', 'skill': ''}, {'url': 'https://www.1111.com.tw/job/78587748/', 'job': 'JAVA軟體工程師(T04)', 'area': '台北市內湖區 ', 'skill': ''}, {'url': 'https://www.1111.com.tw/job/80236348/', 'job': 'JAVA  PG (工作地點:內湖區)', 'area': '台北市內湖區 ', 'skill': ''}, {'url': 'https://www.1111.com.tw/job/80163358/', 'job': 'Bank3.0 - Java軟體工程師', 'area': '台北市士林區 後港街100號3樓', 'skill': ''}, {'url': 'https://www.1111.com.tw/job/80115192/', 'job': 'Java 資深後端工程師', 'area': '台北市中山區 中山北路一段11號12樓', 'skill': ''}, {'url': 'https://www.1111.com.tw/job/79957861/', 'job': 'R-Java Full Stack Dev Lead', 'area': '台北市內湖區 瑞光路302號6樓', 'skill': ''}, {'url': 'https://www.1111.com.tw/job/79658766/', 'job': '流通-JAVA工程師(新竹新豐)', 'area': '新竹縣新豐鄉 松柏村德昌街228號', 'skill': ''}, {'url': 'https://www.1111.com.tw/job/79789634/', 'job': '銀行_行政_系統分析師(JAVA)', 'area': '台北市南港區 經貿二路168號', 'skill': ''}, {'url': 'https://www.1111.com.tw/job/79658945/', 'job': 'Java Leader/SD(儲備幹部)', 'area': '台北市大安區 忠孝東路四段295號5樓', 'skill': ''}, {'url': 'https://www.1111.com.tw/job/78507082/', 'job': 'Sr. Java Engineer(SA/SD/PG)', 'area': '台北市大安區 忠孝東路四段295號5樓', 'skill': ''}, {'url': 'https://www.1111.com.tw/job/77254886/', 'job': 'JAVA Engineer(工作地點:台北市)', 'area': '台北市大安區 忠孝東路四段295號5樓', 'skill': ''}, {'url': 'https://www.1111.com.tw/job/79562466/', 'job': '研發部主管(JAVA)(765101)', 'area': '台北市中山區 ', 'skill': ''}, {'url': 'https://www.1111.com.tw/job/80163354/', 'job': 'FinTech系統工程師 - Java', 'area': '台北市士林區 後港街100號3樓', 'skill': ''}, {'url': 'https://www.1111.com.tw/job/79893880/', 'job': 'Java/app軟體工程師', 'area': '台北市中山區 松江路136號5樓', 'skill': ''}, {'url': 'https://www.1111.com.tw/job/78501370/', 'job': '資訊處-程式設計師(Java)', 'area': '台北市北投區 石牌路一段88號5樓', 'skill': ''}, {'url': 'https://www.1111.com.tw/job/79904127/', 'job': '【中區處】Java Web工程師', 'area': '南投縣南投市 中興新村', 'skill': ''}, {'url': 'https://www.1111.com.tw/job/79944816/', 'job': 'Java程式設計教學講師', 'area': '高雄市苓雅區 ', 'skill': ''}, {'url': 'https://www.1111.com.tw/job/79547092/', 'job': 'Java程式設計教學講師', 'area': '台南市中西區 ', 'skill': ''}, {'url': 'https://www.1111.com.tw/job/80127102/', 'job': '【新創軟體開發公司】Java Senior Developer', 'area': '台北市中山區 ', 'skill': ''}, {'url': 'https://www.1111.com.tw/job/79836922/', 'job': '【國產手遊公司】JAVA Server工程師', 'area': '新北市板橋區 ', 'skill': ''}]\n",
      "page6\n",
      "輸入了20筆資料\n",
      "[{'url': 'https://www.1111.com.tw/job/80121002/', 'job': '急徵~ JAVA工程師 程式設計師', 'area': '台北市內湖區 瑞光路', 'skill': ''}, {'url': 'https://www.1111.com.tw/job/80160489/', 'job': 'C3811 電子錢包 Java(資深)開發工程師', 'area': '台北市內湖區 港墘路220號', 'skill': ''}, {'url': 'https://www.1111.com.tw/job/79706721/', 'job': 'Android/IOS/JAVA程式設計工程師', 'area': '新北市新店區 北新路三段213號6樓', 'skill': ['LINUX', 'Android', 'JAVA', 'PHP', 'MySQL']}, {'url': 'https://www.1111.com.tw/job/79903541/', 'job': '【數位所】Java軟體工程師 (定期契約)', 'area': '台北市松山區 105民生東路四段133號7樓', 'skill': ''}, {'url': 'https://www.1111.com.tw/job/76645270/', 'job': 'Java應用系統開發工程師 ', 'area': '新竹市 力行三路5號', 'skill': ''}, {'url': 'https://www.1111.com.tw/job/80258682/', 'job': 'JAVA資深工程師-專案約聘職', 'area': '台北市松山區 敦化北路 (臨捷運站)', 'skill': ['JAVA', 'Java Script', 'Hibernate', 'MS SQL']}, {'url': 'https://www.1111.com.tw/job/80258396/', 'job': 'JAVA資深工程師-專案約聘職', 'area': '台北市松山區 敦化北路 (臨捷運站)', 'skill': ['JAVA', 'Java Script', 'Hibernate', 'MS SQL']}, {'url': 'https://www.1111.com.tw/job/80224963/', 'job': 'RX-Java Backend 工程師(工作地點：台南市)', 'area': '台南市中西區 ', 'skill': ''}, {'url': 'https://www.1111.com.tw/job/79876545/', 'job': 'RX-Java Backend 工程師(工作地點：松山區)', 'area': '台北市松山區 南京東路五段', 'skill': ''}, {'url': 'https://www.1111.com.tw/job/79111660/', 'job': 'D4000 系統開發架構師(JAVA)', 'area': '台北市內湖區 洲子街96號4樓', 'skill': ''}, {'url': 'https://www.1111.com.tw/job/77302582/', 'job': 'JAVA 資深程式開發工程師 ', 'area': '台北市內湖區 行愛路151號3樓之3', 'skill': ''}, {'url': 'https://www.1111.com.tw/job/77803120/', 'job': 'VOD 影音軟體工程師 （Java）', 'area': '台北市內湖區 ', 'skill': ''}, {'url': 'https://www.1111.com.tw/job/80201104/', 'job': '研發-資深JAVA服務端開發工程師', 'area': '新北市中和區 中正路738號11樓之8（遠東世紀廣場 B棟）', 'skill': ''}, {'url': 'https://www.1111.com.tw/job/77168635/', 'job': '440-Java程式設計師(新竹縣)', 'area': '新竹縣湖口鄉 文化路2號(303)', 'skill': ''}, {'url': 'https://www.1111.com.tw/job/79401821/', 'job': 'JAVA人工智慧研發工程師', 'area': '新北市新店區 中正路533號8樓', 'skill': ''}, {'url': 'https://www.1111.com.tw/job/80258139/', 'job': 'Java系統分析師/專案經理(南港)- IIC', 'area': '台北市南港區 ', 'skill': ''}, {'url': 'https://www.1111.com.tw/job/80173817/', 'job': 'D4000 網站開發工程師 (Java)-台中', 'area': '台中市南屯區 ', 'skill': ''}, {'url': 'https://www.1111.com.tw/job/80132572/', 'job': 'D4000 MIS程式開發工程師(JAVA)', 'area': '台北市內湖區 洲子街96號4樓', 'skill': ''}, {'url': 'https://www.1111.com.tw/job/79799571/', 'job': 'D4000 大數據平台工程師(Java)', 'area': '台北市內湖區 洲子街96號4樓', 'skill': ''}, {'url': 'https://www.1111.com.tw/job/79515980/', 'job': '系統分析規劃師(Java)(5289)', 'area': '新北市新店區 中正路', 'skill': ''}]\n",
      "page7\n",
      "輸入了20筆資料\n",
      "[{'url': 'https://www.1111.com.tw/job/79109643/', 'job': 'JAVA工程師(', 'area': '台北市中正區 重慶南路一段57號5樓之1', 'skill': ['JAVA', 'Java Script', 'AJAX', 'jQuery', 'HTML', 'CSS']}, {'url': 'https://www.1111.com.tw/job/78518748/', 'job': 'JAVA程式設計師,保障年薪14個月', 'area': '台北市中正區 重慶南路一段57號5樓之1', 'skill': ['JAVA', 'Java Script', 'AJAX', 'jQuery', 'HTML', 'CSS']}, {'url': 'https://www.1111.com.tw/job/76575862/', 'job': 'D4000 網站開發工程師 (Java)', 'area': '台北市內湖區 洲子街96號4樓', 'skill': ''}, {'url': 'https://www.1111.com.tw/job/80253475/', 'job': 'Java軟體工程師(', 'area': '東北亞日本 東京都品川区西五反田2-14-2 五反田YNビル１F', 'skill': ''}, {'url': 'https://www.1111.com.tw/job/80224695/', 'job': 'AA-java開發工程師-App（柬埔寨）', 'area': '東南亞柬埔寨 ', 'skill': ''}, {'url': 'https://www.1111.com.tw/job/80224616/', 'job': 'AA-java web開發工程師（柬埔寨）', 'area': '東南亞柬埔寨 ', 'skill': ''}, {'url': 'https://www.1111.com.tw/job/80163477/', 'job': '流程開發工程師(Java)(0118)', 'area': '新北市新店區 中正路531號2樓', 'skill': ''}, {'url': 'https://www.1111.com.tw/job/79793911/', 'job': '資深-JAVA後端開發工程師', 'area': '台北市內湖區 湖元里舊宗路二段105號4樓', 'skill': ''}, {'url': 'https://www.1111.com.tw/job/80236351/', 'job': 'Senior JAVA  SA/SD (工作地點:內湖區)', 'area': '台北市內湖區 ', 'skill': ''}, {'url': 'https://www.1111.com.tw/job/80103677/', 'job': 'Sr. JAVA Engineer (工作地點:台北市)', 'area': '台北市大安區 忠孝東路四段295號5樓', 'skill': ''}, {'url': 'https://www.1111.com.tw/job/79904476/', 'job': '【智通所】Java程式開發人員', 'area': '台北市松山區 民生東路四段', 'skill': ''}, {'url': 'https://www.1111.com.tw/job/79857331/', 'job': 'Java/Android 軟體研發工程師 (新竹)', 'area': '新竹縣湖口鄉 光復北路20-1號', 'skill': ''}, {'url': 'https://www.1111.com.tw/job/79840345/', 'job': '資深軟體工程師 (Java or C#)', 'area': '台北市信義區 信義路五段5號7樓7F02室', 'skill': ''}, {'url': 'https://www.1111.com.tw/job/78501374/', 'job': '資訊處-資深程式設計師(Java)', 'area': '台北市北投區 石牌路一段88號5樓', 'skill': ''}, {'url': 'https://www.1111.com.tw/job/80216815/', 'job': 'JAVA Engineer(工作地點:台中市西區)', 'area': '台中市西區 ', 'skill': ''}, {'url': 'https://www.1111.com.tw/job/78397394/', 'job': '【107年度研發替代役】Java J2EE 軟體工程師', 'area': '台北市內湖區 ', 'skill': ''}, {'url': 'https://www.1111.com.tw/job/80137894/', 'job': 'JAVA資深工程師-需有金融或財務系統經驗 ', 'area': '台北市信義區 松高路 (臨市府捷運站)', 'skill': ['JAVA', 'Java Script', 'Struts']}, {'url': 'https://www.1111.com.tw/job/80173294/', 'job': '【數位所】Java軟體工程師 (定期契約)-1', 'area': '台北市松山區 105民生東路四段133號7樓', 'skill': ''}, {'url': 'https://www.1111.com.tw/job/80204214/', 'job': 'I3101 應收管理系統工程師 (板橋,熟Java)', 'area': '新北市板橋區 ', 'skill': ''}, {'url': 'https://www.1111.com.tw/job/80099481/', 'job': 'Java 系統架構師-擔任Ericsson/FET 系統開發工作', 'area': '新北市板橋區 ', 'skill': ''}]\n",
      "page8\n",
      "輸入了20筆資料\n"
     ]
    },
    {
     "name": "stdout",
     "output_type": "stream",
     "text": [
      "[{'url': 'https://www.1111.com.tw/job/79782241/', 'job': '【107年度研發替代役】Java網路工程師', 'area': '台北市中正區 博愛路38號4樓', 'skill': ''}, {'url': 'https://www.1111.com.tw/job/80233700/', 'job': '(研發設計類)-Java程式設計師-電腦與機電事業部.', 'area': '台北市中山區 ', 'skill': ''}, {'url': 'https://www.1111.com.tw/job/80139904/', 'job': '(研發設計類)-Java程式設計師-電腦與機電事業部', 'area': '台北市中山區 ', 'skill': ''}, {'url': 'https://www.1111.com.tw/job/80224672/', 'job': 'AA-java遊戲開發工程師-伺服器（柬埔寨）', 'area': '東南亞柬埔寨 ', 'skill': ''}, {'url': 'https://www.1111.com.tw/job/79399328/', 'job': '金融軟體JAVA程式設計師（base臺北或者上海）', 'area': '上海市 ', 'skill': ''}, {'url': 'https://www.1111.com.tw/job/80252384/', 'job': 'java系統工程師．軟體事業部軟體服務四處 ', 'area': '台北市信義區 ', 'skill': ''}, {'url': 'https://www.1111.com.tw/job/80160499/', 'job': 'C3811 Java開發 工程師(內湖)_電子金流平台', 'area': '台北市內湖區 港墘路220號', 'skill': ''}, {'url': 'https://www.1111.com.tw/job/79883133/', 'job': 'C3811 Java開發 (資深)工程師(內湖)_電子金流平台', 'area': '台北市內湖區 港墘路220號', 'skill': ''}, {'url': 'https://www.1111.com.tw/job/79879596/', 'job': '板信銀行-資訊部Java系統&主機程式設計員', 'area': '新北市板橋區 新北市板橋區中正路330號', 'skill': ''}, {'url': 'https://www.1111.com.tw/job/79857186/', 'job': '布列德麵包相關企業/軟體應用開發主管(Java)', 'area': '台北市中山區 松江路125號8樓', 'skill': ''}, {'url': 'https://www.1111.com.tw/job/78518754/', 'job': '資深JAVA程式設計師,保障年薪14個月', 'area': '台北市中正區 重慶南路一段57號5樓之1', 'skill': ['JAVA', 'Java Script', 'AJAX', 'jQuery', 'HTML', 'CSS']}, {'url': 'https://www.1111.com.tw/job/80215744/', 'job': '網站平台(全)後端工程師 PHP/JAVA/Nodejs日薪 2,000元 至 5,000元 / 3年以上工作經驗 / 大學 以上', 'area': '桃園市大園區 興德路38-3號', 'skill': ''}, {'url': 'https://www.1111.com.tw/job/80215742/', 'job': '網站平台 後/全端工程師 PHP/JAVA/Nodejs', 'area': '桃園市大園區 興德路38-3號', 'skill': ''}, {'url': 'https://www.1111.com.tw/job/80215741/', 'job': '網站平台 後/全端工程師 PHP/JAVA/Nodejs日薪 2,000元 至 5,000元 / 3年以上工作經驗 / 大學 以上', 'area': '台北市中山區 松江路2號6樓之1', 'skill': ''}, {'url': 'https://www.1111.com.tw/job/80215738/', 'job': '網站平台後/全端工程師 PHP/JAVA/Nodejs', 'area': '台北市中山區 松江路2號6樓之1', 'skill': ''}, {'url': 'https://www.1111.com.tw/job/80232855/', 'job': '【關係企業(軟體開發處)】JAVA/C# 程式設計師/技術經理', 'area': '台北市松山區 ', 'skill': ''}, {'url': 'https://www.1111.com.tw/job/80182199/', 'job': '【知名電子通訊/電腦週邊零售業】Java開發工程師', 'area': '新北市新店區 ', 'skill': ''}, {'url': 'https://www.1111.com.tw/job/80231023/', 'job': '【EC雲】-Java/JSP網站系統程式設計師', 'area': '台北市中正區 開封街', 'skill': ''}, {'url': 'https://www.1111.com.tw/job/80134911/', 'job': 'Java 軟體工程師 (圖書館自動化系統) (SN02)', 'area': '台北市內湖區 ', 'skill': ''}, {'url': 'https://www.1111.com.tw/job/80099472/', 'job': 'Java專案資深工程師-擔任HP/FET電信系統開發工作', 'area': '新北市板橋區 ', 'skill': ''}]\n",
      "page9\n",
      "輸入了20筆資料\n"
     ]
    }
   ],
   "source": [
    "\n",
    "    \n",
    "url = 'https://www.1111.com.tw/job-bank/job-index.asp?si=1&ss=s&ks=JAVA'\n",
    "    \n",
    "    \n",
    "lists = []\n",
    "page = 1\n",
    "while True:\n",
    "    if page == 10:\n",
    "        break\n",
    "\n",
    "    url_page = url + '&page=' + str(page)\n",
    "        \n",
    "    joblist = job_url_list(url_page)  \n",
    "    \n",
    "        \n",
    "    for row in joblist:\n",
    "        lists.append(job_content(row))\n",
    "        \n",
    "            \n",
    "            \n",
    "    print(lists)    \n",
    "    print('page' + str(page))\n",
    "    print('輸入了' + str(len(lists))+ '筆資料')\n",
    "        \n",
    "    time.sleep(1)\n",
    "              \n",
    "    lists = []\n",
    "    page += 1\n",
    "        \n",
    "             "
   ]
  }
 ],
 "metadata": {
  "kernelspec": {
   "display_name": "Python 3",
   "language": "python",
   "name": "python3"
  },
  "language_info": {
   "codemirror_mode": {
    "name": "ipython",
    "version": 3
   },
   "file_extension": ".py",
   "mimetype": "text/x-python",
   "name": "python",
   "nbconvert_exporter": "python",
   "pygments_lexer": "ipython3",
   "version": "3.6.1"
  }
 },
 "nbformat": 4,
 "nbformat_minor": 2
}
