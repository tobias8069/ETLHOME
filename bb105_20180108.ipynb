{
 "cells": [
  {
   "cell_type": "markdown",
   "metadata": {},
   "source": [
    "# Coindesk"
   ]
  },
  {
   "cell_type": "code",
   "execution_count": 1,
   "metadata": {},
   "outputs": [],
   "source": [
    "import requests\n",
    "import json\n",
    "\n",
    "# 這邊URL的最後面3的頁碼可以自己挖空並且for loop\n",
    "url = \"https://www.coindesk.com/category/markets-news/page/3/\"\n",
    "data = ''\n",
    "headers = json.loads(r'''{\n",
    "    \"accept\": \"*/*\",\n",
    "    \"accept-encoding\": \"gzip, deflate, br\",\n",
    "    \"accept-language\": \"en-US,en;q=0.9,zh-TW;q=0.8,zh;q=0.7\",\n",
    "    \"cache-control\": \"no-cache\",\n",
    "    \"content-length\": \"0\",\n",
    "    \"cookie\": \"__cfduid=d74410f7123a4853ad481087c6fa8f4101515374059; optimizelyEndUserId=oeu1515374061033r0.27525016115651213; optimizelySegments=%7B%7D; optimizelyBuckets=%7B%7D; _omappvp=7oszqQFzfN9uvEpNgLEhGW5g2Hg3YEIaXpRn0vQxYm9IiSOPXKxVfxSQPZdfHfFCzIf0b58KkL1RiFMyVBxjPyWASs9bMJXk; _omappvs=true; __utma=204792322.880087977.1515374062.1515374062.1515374062.1; __utmc=204792322; __utmz=204792322.1515374062.1.1.utmcsr=google|utmccn=(organic)|utmcmd=organic|utmctr=(not%20provided); cX_S=jc5ilby51jxrsbfh; cX_P=jc5ilby8omwby2wj; bm_monthly_unique=true; bm_daily_unique=true; bm_sample_frequency=100; PHPSESSID=nb8eppf8kno8gcc2v2c70r7hb0; _ga=GA1.2.880087977.1515374062; _gid=GA1.2.2032193535.1515376054; om-449398=true; __utmt=1; __utmb=204792322.9.10.1515374062; bm_last_load_status=BLOCKING\",\n",
    "    \"origin\": \"https://www.coindesk.com\",\n",
    "    \"pragma\": \"no-cache\",\n",
    "    \"referer\": \"https://www.coindesk.com/category/markets-news/\",\n",
    "    \"user-agent\": \"Mozilla/5.0 (Macintosh; Intel Mac OS X 10_13_2) AppleWebKit/537.36 (KHTML, like Gecko) Chrome/63.0.3239.108 Safari/537.36\",\n",
    "    \"x-requested-with\": \"XMLHttpRequest\"\n",
    "}''')\n",
    "\n",
    "resp = requests.post(url, data=data, headers=headers)"
   ]
  },
  {
   "cell_type": "code",
   "execution_count": 2,
   "metadata": {},
   "outputs": [],
   "source": [
    "from bs4 import BeautifulSoup\n",
    "\n",
    "soup = BeautifulSoup(resp.text, 'lxml')"
   ]
  },
  {
   "cell_type": "code",
   "execution_count": 3,
   "metadata": {},
   "outputs": [
    {
     "name": "stdout",
     "output_type": "stream",
     "text": [
      "https://www.coindesk.com/japan-new-heart-bitcoin/\n",
      "https://www.coindesk.com/2017s-crypto-revolution-just-beginning/\n",
      "https://www.coindesk.com/sec-publishes-cboe-etf-filing-for-public-comment/\n",
      "https://www.coindesk.com/crypto-blockchain-create-10-trillion-market-rbc-analyst-says/\n",
      "https://www.coindesk.com/ripples-xrp-token-hits-time-high-3/\n",
      "https://www.coindesk.com/bitcoin-cash-is-up-but-correction-may-be-on-cards/\n",
      "https://www.coindesk.com/bitcoin-eyes-18000-as-tide-turns-in-bulls-favor/\n",
      "https://www.coindesk.com/wealth-effect-from-bitcoin-trading-could-boost-japans-gdp-say-analysts/\n",
      "https://www.coindesk.com/e-trade-financial-launches-cme-bitcoin-futures-trading/\n",
      "https://www.coindesk.com/video-two-bubbles-shapeshift-ceo-talks-crypto-asset-prices/\n"
     ]
    }
   ],
   "source": [
    "for row in soup.select('h3 > a.fade'):\n",
    "    print(row['href'])"
   ]
  },
  {
   "cell_type": "markdown",
   "metadata": {},
   "source": [
    "# Dcard\n",
    "\n",
    "ajax為json"
   ]
  },
  {
   "cell_type": "code",
   "execution_count": 4,
   "metadata": {},
   "outputs": [],
   "source": [
    "import requests\n",
    "import json\n",
    "\n",
    "url = \"https://www.dcard.tw/_api/posts?popular=false\"\n",
    "headers = json.loads(r'''{\n",
    "    \"accept\": \"application/json\",\n",
    "    \"accept-encoding\": \"gzip, deflate, br\",\n",
    "    \"accept-language\": \"en-US,en;q=0.9,zh-TW;q=0.8,zh;q=0.7\",\n",
    "    \"cache-control\": \"no-cache\",\n",
    "    \"cookie\": \"__cfduid=d7372f6f0647b6aba1b8994ed0a21e1d61514882527; __auc=57256b71160b608f4a625e04e91; _ga=GA1.2.1136753538.1514882529; appier_utmz=%7B%22csr%22%3A%22google%22%2C%22timestamp%22%3A1514882529%7D; _atrk_sync_cookie=true; _atrk_siteuid=l3penS6gIBOEbVmQ; __gads=ID=d85e88ae4db1dc96:T=1514882531:S=ALNI_MYDSoIZV5sQCXhAcwnb_arovgpVyA; __asc=dd119cb6160d3827e0877b287fc; _gid=GA1.2.1606189784.1515377034; _atrk_ssid=8erSNVU5zebUXp79iuv6x1; _atrk_sessidx=3; dcard-web=eyJjc3JmU2VjcmV0IjoiX2RHVFo5YWR5SzljNHBaX2UwaG5XOFA1In0=; dcard-web.sig=w24Ft2ZmvkNnBrruT3MUUKQ-VjY\",\n",
    "    \"pragma\": \"no-cache\",\n",
    "    \"referer\": \"https://www.dcard.tw/f\",\n",
    "    \"user-agent\": \"Mozilla/5.0 (Macintosh; Intel Mac OS X 10_13_2) AppleWebKit/537.36 (KHTML, like Gecko) Chrome/63.0.3239.108 Safari/537.36\",\n",
    "    \"x-csrf-token\": \"dtwUKmqA-l-qH8ebE07qkf6dbV2ccLm8ci3I\"\n",
    "}''')\n",
    "\n",
    "resp = requests.get(url, headers=headers)"
   ]
  },
  {
   "cell_type": "code",
   "execution_count": 5,
   "metadata": {},
   "outputs": [
    {
     "data": {
      "text/plain": [
       "[228085906,\n",
       " 228085904,\n",
       " 228085902,\n",
       " 228085901,\n",
       " 228085900,\n",
       " 228085898,\n",
       " 228085894,\n",
       " 228085893,\n",
       " 228085889,\n",
       " 228085886,\n",
       " 228085880,\n",
       " 228085877,\n",
       " 228085876,\n",
       " 228085873,\n",
       " 228085871,\n",
       " 228085870,\n",
       " 228085868,\n",
       " 228085864,\n",
       " 228085862,\n",
       " 228085856,\n",
       " 228085849,\n",
       " 228085848,\n",
       " 228085844,\n",
       " 228085840,\n",
       " 228085836,\n",
       " 228085833,\n",
       " 228085825,\n",
       " 228085821,\n",
       " 228085815,\n",
       " 228085811]"
      ]
     },
     "execution_count": 5,
     "metadata": {},
     "output_type": "execute_result"
    }
   ],
   "source": [
    "[doc['id'] for doc in resp.json()]"
   ]
  },
  {
   "cell_type": "code",
   "execution_count": 6,
   "metadata": {},
   "outputs": [],
   "source": [
    "import requests\n",
    "import json\n",
    "\n",
    "url = \"https://www.dcard.tw/_api/posts?popular=false&before=228084271\"\n",
    "headers = json.loads(r'''{\n",
    "    \"accept\": \"application/json\",\n",
    "    \"accept-encoding\": \"gzip, deflate, br\",\n",
    "    \"accept-language\": \"en-US,en;q=0.9,zh-TW;q=0.8,zh;q=0.7\",\n",
    "    \"cache-control\": \"no-cache\",\n",
    "    \"cookie\": \"__cfduid=d7372f6f0647b6aba1b8994ed0a21e1d61514882527; __auc=57256b71160b608f4a625e04e91; _ga=GA1.2.1136753538.1514882529; appier_utmz=%7B%22csr%22%3A%22google%22%2C%22timestamp%22%3A1514882529%7D; _atrk_sync_cookie=true; _atrk_siteuid=l3penS6gIBOEbVmQ; __gads=ID=d85e88ae4db1dc96:T=1514882531:S=ALNI_MYDSoIZV5sQCXhAcwnb_arovgpVyA; __asc=dd119cb6160d3827e0877b287fc; _gid=GA1.2.1606189784.1515377034; _atrk_ssid=8erSNVU5zebUXp79iuv6x1; _atrk_sessidx=3; dcard-web=eyJjc3JmU2VjcmV0IjoiX2RHVFo5YWR5SzljNHBaX2UwaG5XOFA1In0=; dcard-web.sig=w24Ft2ZmvkNnBrruT3MUUKQ-VjY\",\n",
    "    \"pragma\": \"no-cache\",\n",
    "    \"referer\": \"https://www.dcard.tw/f\",\n",
    "    \"user-agent\": \"Mozilla/5.0 (Macintosh; Intel Mac OS X 10_13_2) AppleWebKit/537.36 (KHTML, like Gecko) Chrome/63.0.3239.108 Safari/537.36\",\n",
    "    \"x-csrf-token\": \"dtwUKmqA-l-qH8ebE07qkf6dbV2ccLm8ci3I\"\n",
    "}''')\n",
    "\n",
    "resp = requests.get(url, headers=headers)"
   ]
  },
  {
   "cell_type": "code",
   "execution_count": 7,
   "metadata": {},
   "outputs": [
    {
     "data": {
      "text/plain": [
       "30"
      ]
     },
     "execution_count": 7,
     "metadata": {},
     "output_type": "execute_result"
    }
   ],
   "source": [
    "len([doc['id'] for doc in resp.json()])"
   ]
  },
  {
   "cell_type": "markdown",
   "metadata": {},
   "source": [
    "# skyscanner\n",
    "\n",
    "這是一個demo，展示有些網站會購買專業的防爬蟲服務，如distil network"
   ]
  },
  {
   "cell_type": "code",
   "execution_count": 14,
   "metadata": {},
   "outputs": [],
   "source": [
    "import requests\n",
    "\n",
    "res = requests.get(\"https://www.skyscanner.net/transport/flights/tpet/cts/180118/180130?adults=1&children=0&adultsv2=1&childrenv2=&infants=0&cabinclass=economy&rtn=1&preferdirects=false&outboundaltsenabled=false&inboundaltsenabled=false&qp_prevProvider=ins_month&qp_prevCurrency=GBP&qp_prevPrice=178&pricesourceid=b3ms-SG1-2#results\")"
   ]
  },
  {
   "cell_type": "code",
   "execution_count": 15,
   "metadata": {
    "scrolled": true
   },
   "outputs": [
    {
     "data": {
      "text/plain": [
       "'<!DOCTYPE html>\\n<html>\\n\\n<head>\\n  <title>Pardon Our Interruption</title>\\n  <link rel=\"stylesheet\" type=\"text/css\" href=\"//cdn.distilnetworks.com/css/distil.css\" media=\"all\">\\n  <meta http-equiv=\"content-type\" content=\"text/html; charset=UTF-8\" />\\n  <meta name=\"viewport\" content=\"width=1000\" />\\n  <META NAME=\"robots\" CONTENT=\"noindex, nofollow\">\\n  <meta http-equiv=\"cache-control\" content=\"max-age=0\" />\\n  <meta http-equiv=\"cache-control\" content=\"no-cache\" />\\n  <meta http-equiv=\"expires\" content=\"0\" />\\n  <meta http-equiv=\"expires\" content=\"Tue, 01 Jan 1980 1:00:00 GMT\" />\\n  <meta http-equiv=\"pragma\" content=\"no-cache\" />\\n</head>\\n\\n<body class=\\'block-page\\'>\\n  <div class=\\'container\\'>\\n    <div class=\\'row\\'>\\n      <div class=\\'sidebar col-lg-4 col-sm-5\\'>\\n        <img src=\"//cdn.distilnetworks.com/images/anomaly-detected.png\" alt=\"0\">\\n      </div>\\n      <div class=\\'content col-lg-8 col-sm-7\\'>\\n        <h1>Pardon Our Interruption...</h1>\\n        <p>\\n          As you were browsing <strong>www.skyscanner.net</strong> something about your browser made us think you were a bot. There are a few reasons this might happen:\\n        </p>\\n        <ul>\\n          <li>You\\'re a power user moving through this website with super-human speed.</li>\\n          <li>You\\'ve disabled JavaScript in your web browser.</li>\\n          <li>A third-party browser plugin, such as Ghostery or  NoScript, is preventing JavaScript from running. Additional information is available in this <a title=\\'Third party browser plugins that block javascript\\' href=\\'http://ds.tl/help-third-party-plugins\\' target=\\'_blank\\'>support article</a>.</li>\\n        </ul>\\n        <p>\\n          To request an unblock, please fill out the form below and we will review it as soon as possible.\\n        </p>\\n\\n                <form id=\"yutwzzarwxtrzq\" method=\"POST\" action=\"rvzdwaecewzdxsdusbtvzyzqrzebafbzfru.html\" style=\"display:none\"><label>Ignore: <input type=\"text\" name=\"name\" /></label><label>Ignore: <input type=\"text\" name=\"email\" /></label><label>Ignore: <input type=\"submit\" value=\"Submit\" /></label></form><form id=\"distilUnblockForm\" method=\"post\" action=\"https://unblock.distilnetworks.com/\">\\n            <div id=\"dUF_first_name\">\\n                <label for=\"dUF_input_first_name\">First Name:</label>\\n                <input type=\"text\" id=\"dUF_input_first_name\" name=\"first_name\" value=\"\" />\\n            </div>\\n            <div id=\"dUF_last_name\">\\n                <label for=\"dUF_input_last_name\">Last Name:</label>\\n                <input type=\"text\" id=\"dUF_input_last_name\" name=\"last_name\" value=\"\" />\\n            </div>\\n            <div id=\"dUF_email\">\\n                <label for=\"dUF_input_email\">E-mail:</label>\\n                <input type=\"text\" id=\"dUF_input_email\" name=\"email\" value=\"\" />\\n            </div>\\n            <div id=\"dUF_city\" style=\"display: none\">\\n                <label for=\"dUF_input_city\">City (Leave Blank):</label>\\n                <input type=\"text\" id=\"dUF_input_city\" name=\"city\" value=\"\" />\\n            </div>\\n            <div id=\"dUF_unblock\">\\n                <input  id=\"dUF_input_unblock\" name=\"unblock\" type=\"submit\" value=\"Request Unblock\" />\\n            </div>\\n            <div id=\"dUF_unblock_text\">\\n                You reached this page when attempting to access http://www.skyscanner.net/transport/flights/tpet/cts/180118/180130?adults=1&children=0&adultsv2=1&childrenv2=&infants=0&cabinclass=economy&rtn=1&preferdirects=false&outboundaltsenabled=false&inboundaltsenabled=false&qp_prevProvider=ins_month&qp_prevCurrency=GBP&qp_prevPrice=178&pricesourceid=b3ms-SG1-2 from 114.25.149.48 on 2018-01-08 07:46:15 UTC.<br />\\n                Trace: 13a209b7-ebd7-4d69-ba00-87eb83c27d74 via cfa67dc0-9a23-451d-b7c3-fcde5b32311c\\n            </div>\\n            <div id=\"dUF_form_fields\" style=\"display: none\">\\n                <input type=\"hidden\" name=\"Q\" value=\"13a209b7-ebd7-4d69-ba00-87eb83c27d74\" />\\n                <input type=\"hidden\" name=\"P\" value=\"6D4E4D1D-7094-375D-A439-0568A6A70836\" />\\n                <input type=\"hidden\" name=\"I\" value=\"\" />\\n                <input type=\"hidden\" name=\"U\" value=\"\" />\\n                <input type=\"hidden\" name=\"SF\" value=\"\" />\\n                <input type=\"hidden\" name=\"F\" value=\"\" />\\n                <input type=\"hidden\" name=\"V\" value=\"13\" />\\n                <input type=\"hidden\" name=\"D\" value=\"3950\" />\\n                <input type=\"hidden\" name=\"A\" value=\"1363\" />\\n                <input type=\"hidden\" name=\"LOADED\" value=\"2018-01-08 07:46:15\" />\\n                <input type=\"hidden\" name=\"H\" value=\\'www.skyscanner.net\\' />\\n            </div>\\n        </form>\\n    \\n\\n      </div>\\n    </div>\\n  </div>\\n</body>\\n\\n</html>\\n'"
      ]
     },
     "execution_count": 15,
     "metadata": {},
     "output_type": "execute_result"
    }
   ],
   "source": [
    "res.text"
   ]
  },
  {
   "cell_type": "code",
   "execution_count": 10,
   "metadata": {},
   "outputs": [],
   "source": [
    "import splinter"
   ]
  },
  {
   "cell_type": "code",
   "execution_count": 11,
   "metadata": {},
   "outputs": [],
   "source": [
    "b = splinter.Browser('chrome')"
   ]
  },
  {
   "cell_type": "code",
   "execution_count": 12,
   "metadata": {},
   "outputs": [],
   "source": [
    "b.visit(\"https://www.skyscanner.net/transport/flights/tpet/cts/180118/180130?adults=1&children=0&adultsv2=1&childrenv2=&infants=0&cabinclass=economy&rtn=1&preferdirects=false&outboundaltsenabled=false&inboundaltsenabled=false&qp_prevProvider=ins_month&qp_prevCurrency=GBP&qp_prevPrice=178&pricesourceid=b3ms-SG1-2#results\")"
   ]
  },
  {
   "cell_type": "code",
   "execution_count": 13,
   "metadata": {},
   "outputs": [
    {
     "ename": "NoSuchWindowException",
     "evalue": "Message: no such window: target window already closed\nfrom unknown error: web view not found\n  (Session info: chrome=63.0.3239.108)\n  (Driver info: chromedriver=2.34.522913 (36222509aa6e819815938cbf2709b4849735537c),platform=Linux 4.10.0-42-generic x86_64)\n",
     "output_type": "error",
     "traceback": [
      "\u001b[0;31m---------------------------------------------------------------------------\u001b[0m",
      "\u001b[0;31mNoSuchWindowException\u001b[0m                     Traceback (most recent call last)",
      "\u001b[0;32m<ipython-input-13-24e5838e585b>\u001b[0m in \u001b[0;36m<module>\u001b[0;34m()\u001b[0m\n\u001b[0;32m----> 1\u001b[0;31m \u001b[0mb\u001b[0m\u001b[0;34m.\u001b[0m\u001b[0mfind_by_xpath\u001b[0m\u001b[0;34m(\u001b[0m\u001b[0;34m'//*[@id=\"day-section\"]/div/div[3]/div[8]/div[2]/ul/li[2]/button'\u001b[0m\u001b[0;34m)\u001b[0m\u001b[0;34m.\u001b[0m\u001b[0mclick\u001b[0m\u001b[0;34m(\u001b[0m\u001b[0;34m)\u001b[0m\u001b[0;34m\u001b[0m\u001b[0m\n\u001b[0m",
      "\u001b[0;32m~/.pyenv/versions/3.6.1/lib/python3.6/site-packages/splinter/driver/webdriver/__init__.py\u001b[0m in \u001b[0;36mfind_by_xpath\u001b[0;34m(self, xpath, original_find, original_query)\u001b[0m\n\u001b[1;32m    394\u001b[0m         return self.find_by(\n\u001b[1;32m    395\u001b[0m             \u001b[0mself\u001b[0m\u001b[0;34m.\u001b[0m\u001b[0mdriver\u001b[0m\u001b[0;34m.\u001b[0m\u001b[0mfind_elements_by_xpath\u001b[0m\u001b[0;34m,\u001b[0m \u001b[0mxpath\u001b[0m\u001b[0;34m,\u001b[0m \u001b[0moriginal_find\u001b[0m\u001b[0;34m=\u001b[0m\u001b[0moriginal_find\u001b[0m\u001b[0;34m,\u001b[0m\u001b[0;34m\u001b[0m\u001b[0m\n\u001b[0;32m--> 396\u001b[0;31m             original_query=original_query)\n\u001b[0m\u001b[1;32m    397\u001b[0m \u001b[0;34m\u001b[0m\u001b[0m\n\u001b[1;32m    398\u001b[0m     \u001b[0;32mdef\u001b[0m \u001b[0mfind_by_name\u001b[0m\u001b[0;34m(\u001b[0m\u001b[0mself\u001b[0m\u001b[0;34m,\u001b[0m \u001b[0mname\u001b[0m\u001b[0;34m)\u001b[0m\u001b[0;34m:\u001b[0m\u001b[0;34m\u001b[0m\u001b[0m\n",
      "\u001b[0;32m~/.pyenv/versions/3.6.1/lib/python3.6/site-packages/splinter/driver/webdriver/__init__.py\u001b[0m in \u001b[0;36mfind_by\u001b[0;34m(self, finder, selector, original_find, original_query)\u001b[0m\n\u001b[1;32m    372\u001b[0m         \u001b[0;32mwhile\u001b[0m \u001b[0mtime\u001b[0m\u001b[0;34m.\u001b[0m\u001b[0mtime\u001b[0m\u001b[0;34m(\u001b[0m\u001b[0;34m)\u001b[0m \u001b[0;34m<\u001b[0m \u001b[0mend_time\u001b[0m\u001b[0;34m:\u001b[0m\u001b[0;34m\u001b[0m\u001b[0m\n\u001b[1;32m    373\u001b[0m             \u001b[0;32mtry\u001b[0m\u001b[0;34m:\u001b[0m\u001b[0;34m\u001b[0m\u001b[0m\n\u001b[0;32m--> 374\u001b[0;31m                 \u001b[0melements\u001b[0m \u001b[0;34m=\u001b[0m \u001b[0mfinder\u001b[0m\u001b[0;34m(\u001b[0m\u001b[0mselector\u001b[0m\u001b[0;34m)\u001b[0m\u001b[0;34m\u001b[0m\u001b[0m\n\u001b[0m\u001b[1;32m    375\u001b[0m                 \u001b[0;32mif\u001b[0m \u001b[0;32mnot\u001b[0m \u001b[0misinstance\u001b[0m\u001b[0;34m(\u001b[0m\u001b[0melements\u001b[0m\u001b[0;34m,\u001b[0m \u001b[0mlist\u001b[0m\u001b[0;34m)\u001b[0m\u001b[0;34m:\u001b[0m\u001b[0;34m\u001b[0m\u001b[0m\n\u001b[1;32m    376\u001b[0m                     \u001b[0melements\u001b[0m \u001b[0;34m=\u001b[0m \u001b[0;34m[\u001b[0m\u001b[0melements\u001b[0m\u001b[0;34m]\u001b[0m\u001b[0;34m\u001b[0m\u001b[0m\n",
      "\u001b[0;32m~/.pyenv/versions/3.6.1/lib/python3.6/site-packages/selenium/webdriver/remote/webdriver.py\u001b[0m in \u001b[0;36mfind_elements_by_xpath\u001b[0;34m(self, xpath)\u001b[0m\n\u001b[1;32m    378\u001b[0m             \u001b[0mdriver\u001b[0m\u001b[0;34m.\u001b[0m\u001b[0mfind_elements_by_xpath\u001b[0m\u001b[0;34m(\u001b[0m\u001b[0;34m\"//div[contains(@class, 'foo')]\"\u001b[0m\u001b[0;34m)\u001b[0m\u001b[0;34m\u001b[0m\u001b[0m\n\u001b[1;32m    379\u001b[0m         \"\"\"\n\u001b[0;32m--> 380\u001b[0;31m         \u001b[0;32mreturn\u001b[0m \u001b[0mself\u001b[0m\u001b[0;34m.\u001b[0m\u001b[0mfind_elements\u001b[0m\u001b[0;34m(\u001b[0m\u001b[0mby\u001b[0m\u001b[0;34m=\u001b[0m\u001b[0mBy\u001b[0m\u001b[0;34m.\u001b[0m\u001b[0mXPATH\u001b[0m\u001b[0;34m,\u001b[0m \u001b[0mvalue\u001b[0m\u001b[0;34m=\u001b[0m\u001b[0mxpath\u001b[0m\u001b[0;34m)\u001b[0m\u001b[0;34m\u001b[0m\u001b[0m\n\u001b[0m\u001b[1;32m    381\u001b[0m \u001b[0;34m\u001b[0m\u001b[0m\n\u001b[1;32m    382\u001b[0m     \u001b[0;32mdef\u001b[0m \u001b[0mfind_element_by_link_text\u001b[0m\u001b[0;34m(\u001b[0m\u001b[0mself\u001b[0m\u001b[0;34m,\u001b[0m \u001b[0mlink_text\u001b[0m\u001b[0;34m)\u001b[0m\u001b[0;34m:\u001b[0m\u001b[0;34m\u001b[0m\u001b[0m\n",
      "\u001b[0;32m~/.pyenv/versions/3.6.1/lib/python3.6/site-packages/selenium/webdriver/remote/webdriver.py\u001b[0m in \u001b[0;36mfind_elements\u001b[0;34m(self, by, value)\u001b[0m\n\u001b[1;32m    884\u001b[0m         return self.execute(Command.FIND_ELEMENTS, {\n\u001b[1;32m    885\u001b[0m             \u001b[0;34m'using'\u001b[0m\u001b[0;34m:\u001b[0m \u001b[0mby\u001b[0m\u001b[0;34m,\u001b[0m\u001b[0;34m\u001b[0m\u001b[0m\n\u001b[0;32m--> 886\u001b[0;31m             'value': value})['value'] or []\n\u001b[0m\u001b[1;32m    887\u001b[0m \u001b[0;34m\u001b[0m\u001b[0m\n\u001b[1;32m    888\u001b[0m     \u001b[0;34m@\u001b[0m\u001b[0mproperty\u001b[0m\u001b[0;34m\u001b[0m\u001b[0m\n",
      "\u001b[0;32m~/.pyenv/versions/3.6.1/lib/python3.6/site-packages/selenium/webdriver/remote/webdriver.py\u001b[0m in \u001b[0;36mexecute\u001b[0;34m(self, driver_command, params)\u001b[0m\n\u001b[1;32m    309\u001b[0m         \u001b[0mresponse\u001b[0m \u001b[0;34m=\u001b[0m \u001b[0mself\u001b[0m\u001b[0;34m.\u001b[0m\u001b[0mcommand_executor\u001b[0m\u001b[0;34m.\u001b[0m\u001b[0mexecute\u001b[0m\u001b[0;34m(\u001b[0m\u001b[0mdriver_command\u001b[0m\u001b[0;34m,\u001b[0m \u001b[0mparams\u001b[0m\u001b[0;34m)\u001b[0m\u001b[0;34m\u001b[0m\u001b[0m\n\u001b[1;32m    310\u001b[0m         \u001b[0;32mif\u001b[0m \u001b[0mresponse\u001b[0m\u001b[0;34m:\u001b[0m\u001b[0;34m\u001b[0m\u001b[0m\n\u001b[0;32m--> 311\u001b[0;31m             \u001b[0mself\u001b[0m\u001b[0;34m.\u001b[0m\u001b[0merror_handler\u001b[0m\u001b[0;34m.\u001b[0m\u001b[0mcheck_response\u001b[0m\u001b[0;34m(\u001b[0m\u001b[0mresponse\u001b[0m\u001b[0;34m)\u001b[0m\u001b[0;34m\u001b[0m\u001b[0m\n\u001b[0m\u001b[1;32m    312\u001b[0m             response['value'] = self._unwrap_value(\n\u001b[1;32m    313\u001b[0m                 response.get('value', None))\n",
      "\u001b[0;32m~/.pyenv/versions/3.6.1/lib/python3.6/site-packages/selenium/webdriver/remote/errorhandler.py\u001b[0m in \u001b[0;36mcheck_response\u001b[0;34m(self, response)\u001b[0m\n\u001b[1;32m    235\u001b[0m         \u001b[0;32melif\u001b[0m \u001b[0mexception_class\u001b[0m \u001b[0;34m==\u001b[0m \u001b[0mUnexpectedAlertPresentException\u001b[0m \u001b[0;32mand\u001b[0m \u001b[0;34m'alert'\u001b[0m \u001b[0;32min\u001b[0m \u001b[0mvalue\u001b[0m\u001b[0;34m:\u001b[0m\u001b[0;34m\u001b[0m\u001b[0m\n\u001b[1;32m    236\u001b[0m             \u001b[0;32mraise\u001b[0m \u001b[0mexception_class\u001b[0m\u001b[0;34m(\u001b[0m\u001b[0mmessage\u001b[0m\u001b[0;34m,\u001b[0m \u001b[0mscreen\u001b[0m\u001b[0;34m,\u001b[0m \u001b[0mstacktrace\u001b[0m\u001b[0;34m,\u001b[0m \u001b[0mvalue\u001b[0m\u001b[0;34m[\u001b[0m\u001b[0;34m'alert'\u001b[0m\u001b[0;34m]\u001b[0m\u001b[0;34m.\u001b[0m\u001b[0mget\u001b[0m\u001b[0;34m(\u001b[0m\u001b[0;34m'text'\u001b[0m\u001b[0;34m)\u001b[0m\u001b[0;34m)\u001b[0m\u001b[0;34m\u001b[0m\u001b[0m\n\u001b[0;32m--> 237\u001b[0;31m         \u001b[0;32mraise\u001b[0m \u001b[0mexception_class\u001b[0m\u001b[0;34m(\u001b[0m\u001b[0mmessage\u001b[0m\u001b[0;34m,\u001b[0m \u001b[0mscreen\u001b[0m\u001b[0;34m,\u001b[0m \u001b[0mstacktrace\u001b[0m\u001b[0;34m)\u001b[0m\u001b[0;34m\u001b[0m\u001b[0m\n\u001b[0m\u001b[1;32m    238\u001b[0m \u001b[0;34m\u001b[0m\u001b[0m\n\u001b[1;32m    239\u001b[0m     \u001b[0;32mdef\u001b[0m \u001b[0m_value_or_default\u001b[0m\u001b[0;34m(\u001b[0m\u001b[0mself\u001b[0m\u001b[0;34m,\u001b[0m \u001b[0mobj\u001b[0m\u001b[0;34m,\u001b[0m \u001b[0mkey\u001b[0m\u001b[0;34m,\u001b[0m \u001b[0mdefault\u001b[0m\u001b[0;34m)\u001b[0m\u001b[0;34m:\u001b[0m\u001b[0;34m\u001b[0m\u001b[0m\n",
      "\u001b[0;31mNoSuchWindowException\u001b[0m: Message: no such window: target window already closed\nfrom unknown error: web view not found\n  (Session info: chrome=63.0.3239.108)\n  (Driver info: chromedriver=2.34.522913 (36222509aa6e819815938cbf2709b4849735537c),platform=Linux 4.10.0-42-generic x86_64)\n"
     ]
    }
   ],
   "source": [
    "b.find_by_xpath('//*[@id=\"day-section\"]/div/div[3]/div[8]/div[2]/ul/li[2]/button').click()"
   ]
  },
  {
   "cell_type": "code",
   "execution_count": null,
   "metadata": {},
   "outputs": [],
   "source": [
    "b.find_by_xpath('//*[@id=\"day-section\"]/div/div[3]/div[8]/div[2]/ul/li[4]/button').click()"
   ]
  },
  {
   "cell_type": "code",
   "execution_count": null,
   "metadata": {},
   "outputs": [],
   "source": [
    "b.find_by_xpath('//*[@id=\"day-section\"]/div/div[3]/div[1]/div/ul/li[5]/button').click()"
   ]
  },
  {
   "cell_type": "code",
   "execution_count": null,
   "metadata": {},
   "outputs": [],
   "source": [
    "b.find_by_xpath('//*[@id=\"day-section\"]/div/div[3]/div[8]/div[2]/ul/li[6]/button').click()"
   ]
  },
  {
   "cell_type": "code",
   "execution_count": null,
   "metadata": {},
   "outputs": [],
   "source": [
    "b.quit()"
   ]
  },
  {
   "cell_type": "markdown",
   "metadata": {},
   "source": [
    "# Coindesk"
   ]
  },
  {
   "cell_type": "code",
   "execution_count": 1,
   "metadata": {},
   "outputs": [],
   "source": [
    "import re\n",
    "import datetime\n",
    "\n",
    "import requests\n",
    "from bs4 import BeautifulSoup\n",
    "import bs4\n",
    "\n",
    "URL = \"https://www.coindesk.com/category/markets-news/page/{}/\"\n",
    "HOST = \"https://www.coindesk.com\"\n",
    "UTC = datetime.timezone(datetime.timedelta(hours=0))\n",
    "\n",
    "def make_request(url):\n",
    "    soup = BeautifulSoup(requests.get(url).text, 'lxml')\n",
    "    return soup\n",
    "\n",
    "def get_list(url):\n",
    "    soup = make_request(url)\n",
    "    return [row['href'] for row in soup.select(\"h3 > a.fade\")]\n",
    "\n",
    "def get_detail(url):\n",
    "    data = {}\n",
    "    soup = make_request(url)\n",
    "    data['url'] = url\n",
    "    data['title'] = soup.select_one(\"h3.article-top-title\").text.strip()\n",
    "    data['author'] = soup.select_one(\"a.article-container-lab-name\").text.strip()\n",
    "    t_str = soup.select_one(\"span.article-container-left-timestamp\").text.strip()\n",
    "    data['tstamp'] = datetime.datetime.strptime(t_str, \"%b %d, %Y at %H:%M UTC\").replace(tzinfo=UTC)\n",
    "    content = soup.select_one('div.article-content-container')\n",
    "    res = []\n",
    "    \n",
    "    # 清理content，把script tag還有換行符號拿掉\n",
    "    for ch in content.children:\n",
    "        if isinstance(ch, bs4.element.NavigableString):\n",
    "            continue\n",
    "        elif ch.name == 'script':\n",
    "            continue\n",
    "        else:\n",
    "            res.append(ch.text)\n",
    "    data['content'] = ''.join(res).strip()\n",
    "    return data"
   ]
  },
  {
   "cell_type": "code",
   "execution_count": 2,
   "metadata": {},
   "outputs": [],
   "source": [
    "urls = get_list(URL.format(1))"
   ]
  },
  {
   "cell_type": "code",
   "execution_count": 3,
   "metadata": {},
   "outputs": [],
   "source": [
    "res = []\n",
    "for url in urls:\n",
    "    res.append(get_detail(url))"
   ]
  },
  {
   "cell_type": "code",
   "execution_count": 5,
   "metadata": {
    "scrolled": true
   },
   "outputs": [
    {
     "data": {
      "text/plain": [
       "{'author': 'Omkar Godbole',\n",
       " 'content': 'Cryptocurrency exchange OKCoin is reportedly moving to launch in South Korea –\\xa0possibly as soon as next month.According to The Korea Times, the Beijing-based firm is eyeing a partnership with NHN Entertainment, a Korean developer, publisher, and distributor of mobile and PC games, for the venture.The news source suggests that NHN is considering the partnership and an equity investment, though the move has apparently not been finalizedOKCoin was established in China in 2013, but had to shutter its domestic exchange operations in October 2017, following Chinese regulators\\' crackdown on cryptocurrency exchanges. Since then, the company has shifted to an over-the-counter model, and turned its attention to international markets. The exchange has already put in place the OKCoin Korea website and is accepting pre-orders for cryptocurrencies before the official launch. It aims to offer more than 60 digital currencies to be traded against the Korean won, according to the site.The timing of the launch comes at a time when the nation\\'s government has issued restrictions on cryptocurrency trading activities and is mulling a harsher crackdown on exchange-based trading.Cho Jung-hwan, CEO of OKCoin Korea, told The Investor that OKCoin is compliant with all the Korean regulatory requirements, and said, \"there won’t be any problems.\"Market graph image via Shutterstock\\nThe leader in blockchain news, CoinDesk is an independent media outlet that strives for the highest journalistic standards and abides by a strict set of editorial policies. Have breaking news or a story tip to send to our journalists? Contact us at news@coindesk.com.\\nDisclaimer: This article should not be taken as, and is not intended to provide, investment advice. Please conduct your own thorough research before investing in any cryptocurrency.',\n",
       " 'title': 'OKCoin Eyes Cryptocurrency Exchange Launch in South Korea',\n",
       " 'tstamp': datetime.datetime(2018, 1, 19, 17, 20, tzinfo=datetime.timezone.utc),\n",
       " 'url': 'https://www.coindesk.com/okcoin-to-launch-cryptocurrency-exchange-service-in-south-korea/'}"
      ]
     },
     "execution_count": 5,
     "metadata": {},
     "output_type": "execute_result"
    }
   ],
   "source": [
    "res[0]"
   ]
  },
  {
   "cell_type": "markdown",
   "metadata": {},
   "source": [
    "# Database\n",
    "\n",
    "```bash\n",
    "docker run --name some-mysql -p 3306:3306 -v $(pwd)/mysql_data:/var/lib/mysql -e MYSQL_ROOT_PASSWORD=pythonetl -e MYSQL_DATABASE=pythonetl -d mysql:5.7.20\n",
    "```"
   ]
  },
  {
   "cell_type": "code",
   "execution_count": 1,
   "metadata": {},
   "outputs": [
    {
     "name": "stdout",
     "output_type": "stream",
     "text": [
      "Requirement already satisfied: PyMySQL in /home/ubuntu/.pyenv/versions/3.6.1/lib/python3.6/site-packages\r\n"
     ]
    }
   ],
   "source": [
    "!pip install PyMySQL"
   ]
  },
  {
   "cell_type": "code",
   "execution_count": null,
   "metadata": {},
   "outputs": [],
   "source": [
    "import sqlite3 # 連sqlite的python套件\n",
    "import pymysql # 連Mysql的python套件"
   ]
  },
  {
   "cell_type": "code",
   "execution_count": 1,
   "metadata": {},
   "outputs": [
    {
     "ename": "NameError",
     "evalue": "name 'pymysql' is not defined",
     "output_type": "error",
     "traceback": [
      "\u001b[0;31m---------------------------------------------------------------------------\u001b[0m",
      "\u001b[0;31mNameError\u001b[0m                                 Traceback (most recent call last)",
      "\u001b[0;32m<ipython-input-1-f6731adc0bf0>\u001b[0m in \u001b[0;36m<module>\u001b[0;34m()\u001b[0m\n\u001b[1;32m      1\u001b[0m \u001b[0;31m#conn = sqlite3.connect(\"/tmp/coindesk.sqlite3\")\u001b[0m\u001b[0;34m\u001b[0m\u001b[0;34m\u001b[0m\u001b[0m\n\u001b[0;32m----> 2\u001b[0;31m \u001b[0mconn\u001b[0m \u001b[0;34m=\u001b[0m \u001b[0mpymysql\u001b[0m\u001b[0;34m.\u001b[0m\u001b[0mconnect\u001b[0m\u001b[0;34m(\u001b[0m\u001b[0mhost\u001b[0m\u001b[0;34m=\u001b[0m\u001b[0;34m'localhost'\u001b[0m\u001b[0;34m,\u001b[0m \u001b[0mport\u001b[0m\u001b[0;34m=\u001b[0m\u001b[0;36m3306\u001b[0m\u001b[0;34m,\u001b[0m \u001b[0muser\u001b[0m\u001b[0;34m=\u001b[0m\u001b[0;34m'root'\u001b[0m\u001b[0;34m,\u001b[0m \u001b[0mpassword\u001b[0m\u001b[0;34m=\u001b[0m\u001b[0;34m'pythonetl'\u001b[0m\u001b[0;34m)\u001b[0m\u001b[0;34m\u001b[0m\u001b[0m\n\u001b[0m",
      "\u001b[0;31mNameError\u001b[0m: name 'pymysql' is not defined"
     ]
    }
   ],
   "source": [
    "#conn = sqlite3.connect(\"/tmp/coindesk.sqlite3\")\n",
    "conn = pymysql.connect(host='localhost', port=3306, user='root', password='pythonetl', db='pythonetl')"
   ]
  },
  {
   "cell_type": "code",
   "execution_count": null,
   "metadata": {},
   "outputs": [],
   "source": [
    "cur = conn.cursor()"
   ]
  },
  {
   "cell_type": "code",
   "execution_count": null,
   "metadata": {},
   "outputs": [],
   "source": [
    "cur.execute(\"\"\"CREATE TABLE coindesk (\n",
    "url VARCHAR(255),\n",
    "title VARCHAR(255),\n",
    "author VARCHAR(255),\n",
    "tstamp DATETIME,\n",
    "PRIMARY KEY (url)\n",
    ")\"\"\")\n",
    "conn.commit()"
   ]
  },
  {
   "cell_type": "code",
   "execution_count": null,
   "metadata": {},
   "outputs": [],
   "source": [
    "cur.execute(\"\"\"DROP TABLE coindesk\"\"\")\n",
    "conn.commit()"
   ]
  },
  {
   "cell_type": "code",
   "execution_count": null,
   "metadata": {
    "scrolled": true
   },
   "outputs": [],
   "source": [
    "cur.execute(\"\"\"INSERT INTO coindesk VALUES ('http://google.com', 'google', 'Ian Chen', '2018-11-11 11:11:11')\"\"\")\n",
    "conn.commit()"
   ]
  },
  {
   "cell_type": "code",
   "execution_count": null,
   "metadata": {
    "scrolled": true
   },
   "outputs": [],
   "source": [
    "# 錯誤示範，python內建string formatting不會escape SQL的string，如'或是;\n",
    "# 容易造成sql injection\n",
    "for row in res:\n",
    "    cur.execute((\"\"\"INSERT INTO coindesk VALUES ('{}', '{}', '{}', '{}')\"\"\".format(\n",
    "                         row['url'],\n",
    "                         row['title'],\n",
    "                         row['author'],\n",
    "                         row['tstamp'].strftime('%Y-%m-%d %H:%M:%S'))\n",
    "                        ))"
   ]
  },
  {
   "cell_type": "code",
   "execution_count": null,
   "metadata": {},
   "outputs": [],
   "source": [
    "cur.execute(\"\"\"DELETE FROM coindesk;\"\"\")\n",
    "conn.commit()"
   ]
  },
  {
   "cell_type": "code",
   "execution_count": null,
   "metadata": {},
   "outputs": [],
   "source": [
    "datetime.datetime.now().strftime(\"%Y-%m-%d %H:%M:%S\")"
   ]
  },
  {
   "cell_type": "code",
   "execution_count": null,
   "metadata": {},
   "outputs": [],
   "source": [
    "datetime.date.today()"
   ]
  },
  {
   "cell_type": "code",
   "execution_count": null,
   "metadata": {},
   "outputs": [],
   "source": [
    "import time\n",
    "time.time()"
   ]
  },
  {
   "cell_type": "code",
   "execution_count": null,
   "metadata": {
    "scrolled": true
   },
   "outputs": [],
   "source": [
    "for row in res:\n",
    "    #print(row)\n",
    "    #cur.execute(\"\"\"INSERT INTO tablename VALUES (?, ?, ?, ?)\"\"\", (val1, val2, val3, val4))\n",
    "    cur.execute(\"\"\"INSERT INTO coindesk VALUES (%s, %s, %s, %s)\"\"\",\n",
    "                         (row['url'],\n",
    "                         row['title'],\n",
    "                         row['author'],\n",
    "                         row['tstamp'])\n",
    "                        )\n",
    "conn.commit()"
   ]
  },
  {
   "cell_type": "code",
   "execution_count": null,
   "metadata": {},
   "outputs": [],
   "source": [
    "cur.execute(\"\"\"DELETE FROM coindesk;\"\"\")\n",
    "conn.commit()"
   ]
  },
  {
   "cell_type": "code",
   "execution_count": null,
   "metadata": {
    "scrolled": true
   },
   "outputs": [],
   "source": [
    "bulk_data = [(row['url'],row['title'],row['author'],row['tstamp']) for row in res]\n",
    "cur.executemany(\"\"\"INSERT INTO coindesk VALUES (%s, %s, %s, %s)\"\"\", bulk_data)\n",
    "conn.commit()"
   ]
  },
  {
   "cell_type": "code",
   "execution_count": null,
   "metadata": {},
   "outputs": [],
   "source": [
    "cur.execute(\"\"\"DELETE FROM coindesk;\"\"\")\n",
    "conn.commit()"
   ]
  },
  {
   "cell_type": "code",
   "execution_count": null,
   "metadata": {},
   "outputs": [],
   "source": [
    "cur.execute(\"\"\"SELECT * FROM coindesk\"\"\")"
   ]
  },
  {
   "cell_type": "code",
   "execution_count": null,
   "metadata": {
    "scrolled": false
   },
   "outputs": [],
   "source": [
    "for row in cur:\n",
    "    print(row)"
   ]
  },
  {
   "cell_type": "code",
   "execution_count": null,
   "metadata": {},
   "outputs": [],
   "source": []
  }
 ],
 "metadata": {
  "kernelspec": {
   "display_name": "Python 3",
   "language": "python",
   "name": "python3"
  },
  "language_info": {
   "codemirror_mode": {
    "name": "ipython",
    "version": 3
   },
   "file_extension": ".py",
   "mimetype": "text/x-python",
   "name": "python",
   "nbconvert_exporter": "python",
   "pygments_lexer": "ipython3",
   "version": "3.6.1"
  }
 },
 "nbformat": 4,
 "nbformat_minor": 2
}
