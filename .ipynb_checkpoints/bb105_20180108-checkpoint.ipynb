{
 "cells": [
  {
   "cell_type": "markdown",
   "metadata": {},
   "source": [
    "# Coindesk"
   ]
  },
  {
   "cell_type": "code",
   "execution_count": 1,
   "metadata": {},
   "outputs": [],
   "source": [
    "import requests\n",
    "import json\n",
    "\n",
    "# 這邊URL的最後面3的頁碼可以自己挖空並且for loop\n",
    "url = \"https://www.coindesk.com/category/markets-news/page/3/\"\n",
    "data = ''\n",
    "headers = json.loads(r'''{\n",
    "    \"accept\": \"*/*\",\n",
    "    \"accept-encoding\": \"gzip, deflate, br\",\n",
    "    \"accept-language\": \"en-US,en;q=0.9,zh-TW;q=0.8,zh;q=0.7\",\n",
    "    \"cache-control\": \"no-cache\",\n",
    "    \"content-length\": \"0\",\n",
    "    \"cookie\": \"__cfduid=d74410f7123a4853ad481087c6fa8f4101515374059; optimizelyEndUserId=oeu1515374061033r0.27525016115651213; optimizelySegments=%7B%7D; optimizelyBuckets=%7B%7D; _omappvp=7oszqQFzfN9uvEpNgLEhGW5g2Hg3YEIaXpRn0vQxYm9IiSOPXKxVfxSQPZdfHfFCzIf0b58KkL1RiFMyVBxjPyWASs9bMJXk; _omappvs=true; __utma=204792322.880087977.1515374062.1515374062.1515374062.1; __utmc=204792322; __utmz=204792322.1515374062.1.1.utmcsr=google|utmccn=(organic)|utmcmd=organic|utmctr=(not%20provided); cX_S=jc5ilby51jxrsbfh; cX_P=jc5ilby8omwby2wj; bm_monthly_unique=true; bm_daily_unique=true; bm_sample_frequency=100; PHPSESSID=nb8eppf8kno8gcc2v2c70r7hb0; _ga=GA1.2.880087977.1515374062; _gid=GA1.2.2032193535.1515376054; om-449398=true; __utmt=1; __utmb=204792322.9.10.1515374062; bm_last_load_status=BLOCKING\",\n",
    "    \"origin\": \"https://www.coindesk.com\",\n",
    "    \"pragma\": \"no-cache\",\n",
    "    \"referer\": \"https://www.coindesk.com/category/markets-news/\",\n",
    "    \"user-agent\": \"Mozilla/5.0 (Macintosh; Intel Mac OS X 10_13_2) AppleWebKit/537.36 (KHTML, like Gecko) Chrome/63.0.3239.108 Safari/537.36\",\n",
    "    \"x-requested-with\": \"XMLHttpRequest\"\n",
    "}''')\n",
    "\n",
    "resp = requests.post(url, data=data, headers=headers)"
   ]
  },
  {
   "cell_type": "code",
   "execution_count": 2,
   "metadata": {},
   "outputs": [],
   "source": [
    "from bs4 import BeautifulSoup\n",
    "\n",
    "soup = BeautifulSoup(resp.text, 'lxml')"
   ]
  },
  {
   "cell_type": "code",
   "execution_count": 3,
   "metadata": {},
   "outputs": [
    {
     "name": "stdout",
     "output_type": "stream",
     "text": [
      "https://www.coindesk.com/japan-new-heart-bitcoin/\n",
      "https://www.coindesk.com/2017s-crypto-revolution-just-beginning/\n",
      "https://www.coindesk.com/sec-publishes-cboe-etf-filing-for-public-comment/\n",
      "https://www.coindesk.com/crypto-blockchain-create-10-trillion-market-rbc-analyst-says/\n",
      "https://www.coindesk.com/ripples-xrp-token-hits-time-high-3/\n",
      "https://www.coindesk.com/bitcoin-cash-is-up-but-correction-may-be-on-cards/\n",
      "https://www.coindesk.com/bitcoin-eyes-18000-as-tide-turns-in-bulls-favor/\n",
      "https://www.coindesk.com/wealth-effect-from-bitcoin-trading-could-boost-japans-gdp-say-analysts/\n",
      "https://www.coindesk.com/e-trade-financial-launches-cme-bitcoin-futures-trading/\n",
      "https://www.coindesk.com/video-two-bubbles-shapeshift-ceo-talks-crypto-asset-prices/\n"
     ]
    }
   ],
   "source": [
    "for row in soup.select('h3 > a.fade'):\n",
    "    print(row['href'])"
   ]
  },
  {
   "cell_type": "markdown",
   "metadata": {},
   "source": [
    "# Dcard\n",
    "\n",
    "ajax為json"
   ]
  },
  {
   "cell_type": "code",
   "execution_count": 4,
   "metadata": {},
   "outputs": [],
   "source": [
    "import requests\n",
    "import json\n",
    "\n",
    "url = \"https://www.dcard.tw/_api/posts?popular=false\"\n",
    "headers = json.loads(r'''{\n",
    "    \"accept\": \"application/json\",\n",
    "    \"accept-encoding\": \"gzip, deflate, br\",\n",
    "    \"accept-language\": \"en-US,en;q=0.9,zh-TW;q=0.8,zh;q=0.7\",\n",
    "    \"cache-control\": \"no-cache\",\n",
    "    \"cookie\": \"__cfduid=d7372f6f0647b6aba1b8994ed0a21e1d61514882527; __auc=57256b71160b608f4a625e04e91; _ga=GA1.2.1136753538.1514882529; appier_utmz=%7B%22csr%22%3A%22google%22%2C%22timestamp%22%3A1514882529%7D; _atrk_sync_cookie=true; _atrk_siteuid=l3penS6gIBOEbVmQ; __gads=ID=d85e88ae4db1dc96:T=1514882531:S=ALNI_MYDSoIZV5sQCXhAcwnb_arovgpVyA; __asc=dd119cb6160d3827e0877b287fc; _gid=GA1.2.1606189784.1515377034; _atrk_ssid=8erSNVU5zebUXp79iuv6x1; _atrk_sessidx=3; dcard-web=eyJjc3JmU2VjcmV0IjoiX2RHVFo5YWR5SzljNHBaX2UwaG5XOFA1In0=; dcard-web.sig=w24Ft2ZmvkNnBrruT3MUUKQ-VjY\",\n",
    "    \"pragma\": \"no-cache\",\n",
    "    \"referer\": \"https://www.dcard.tw/f\",\n",
    "    \"user-agent\": \"Mozilla/5.0 (Macintosh; Intel Mac OS X 10_13_2) AppleWebKit/537.36 (KHTML, like Gecko) Chrome/63.0.3239.108 Safari/537.36\",\n",
    "    \"x-csrf-token\": \"dtwUKmqA-l-qH8ebE07qkf6dbV2ccLm8ci3I\"\n",
    "}''')\n",
    "\n",
    "resp = requests.get(url, headers=headers)"
   ]
  },
  {
   "cell_type": "code",
   "execution_count": 5,
   "metadata": {},
   "outputs": [
    {
     "data": {
      "text/plain": [
       "[228085906,\n",
       " 228085904,\n",
       " 228085902,\n",
       " 228085901,\n",
       " 228085900,\n",
       " 228085898,\n",
       " 228085894,\n",
       " 228085893,\n",
       " 228085889,\n",
       " 228085886,\n",
       " 228085880,\n",
       " 228085877,\n",
       " 228085876,\n",
       " 228085873,\n",
       " 228085871,\n",
       " 228085870,\n",
       " 228085868,\n",
       " 228085864,\n",
       " 228085862,\n",
       " 228085856,\n",
       " 228085849,\n",
       " 228085848,\n",
       " 228085844,\n",
       " 228085840,\n",
       " 228085836,\n",
       " 228085833,\n",
       " 228085825,\n",
       " 228085821,\n",
       " 228085815,\n",
       " 228085811]"
      ]
     },
     "execution_count": 5,
     "metadata": {},
     "output_type": "execute_result"
    }
   ],
   "source": [
    "[doc['id'] for doc in resp.json()]"
   ]
  },
  {
   "cell_type": "code",
   "execution_count": 6,
   "metadata": {},
   "outputs": [],
   "source": [
    "import requests\n",
    "import json\n",
    "\n",
    "url = \"https://www.dcard.tw/_api/posts?popular=false&before=228084271\"\n",
    "headers = json.loads(r'''{\n",
    "    \"accept\": \"application/json\",\n",
    "    \"accept-encoding\": \"gzip, deflate, br\",\n",
    "    \"accept-language\": \"en-US,en;q=0.9,zh-TW;q=0.8,zh;q=0.7\",\n",
    "    \"cache-control\": \"no-cache\",\n",
    "    \"cookie\": \"__cfduid=d7372f6f0647b6aba1b8994ed0a21e1d61514882527; __auc=57256b71160b608f4a625e04e91; _ga=GA1.2.1136753538.1514882529; appier_utmz=%7B%22csr%22%3A%22google%22%2C%22timestamp%22%3A1514882529%7D; _atrk_sync_cookie=true; _atrk_siteuid=l3penS6gIBOEbVmQ; __gads=ID=d85e88ae4db1dc96:T=1514882531:S=ALNI_MYDSoIZV5sQCXhAcwnb_arovgpVyA; __asc=dd119cb6160d3827e0877b287fc; _gid=GA1.2.1606189784.1515377034; _atrk_ssid=8erSNVU5zebUXp79iuv6x1; _atrk_sessidx=3; dcard-web=eyJjc3JmU2VjcmV0IjoiX2RHVFo5YWR5SzljNHBaX2UwaG5XOFA1In0=; dcard-web.sig=w24Ft2ZmvkNnBrruT3MUUKQ-VjY\",\n",
    "    \"pragma\": \"no-cache\",\n",
    "    \"referer\": \"https://www.dcard.tw/f\",\n",
    "    \"user-agent\": \"Mozilla/5.0 (Macintosh; Intel Mac OS X 10_13_2) AppleWebKit/537.36 (KHTML, like Gecko) Chrome/63.0.3239.108 Safari/537.36\",\n",
    "    \"x-csrf-token\": \"dtwUKmqA-l-qH8ebE07qkf6dbV2ccLm8ci3I\"\n",
    "}''')\n",
    "\n",
    "resp = requests.get(url, headers=headers)"
   ]
  },
  {
   "cell_type": "code",
   "execution_count": 7,
   "metadata": {},
   "outputs": [
    {
     "data": {
      "text/plain": [
       "30"
      ]
     },
     "execution_count": 7,
     "metadata": {},
     "output_type": "execute_result"
    }
   ],
   "source": [
    "len([doc['id'] for doc in resp.json()])"
   ]
  },
  {
   "cell_type": "markdown",
   "metadata": {},
   "source": [
    "# skyscanner\n",
    "\n",
    "這是一個demo，展示有些網站會購買專業的防爬蟲服務，如distil network"
   ]
  },
  {
   "cell_type": "code",
   "execution_count": 14,
   "metadata": {},
   "outputs": [],
   "source": [
    "import requests\n",
    "\n",
    "res = requests.get(\"https://www.skyscanner.net/transport/flights/tpet/cts/180118/180130?adults=1&children=0&adultsv2=1&childrenv2=&infants=0&cabinclass=economy&rtn=1&preferdirects=false&outboundaltsenabled=false&inboundaltsenabled=false&qp_prevProvider=ins_month&qp_prevCurrency=GBP&qp_prevPrice=178&pricesourceid=b3ms-SG1-2#results\")"
   ]
  },
  {
   "cell_type": "code",
   "execution_count": 15,
   "metadata": {
    "scrolled": true
   },
   "outputs": [
    {
     "data": {
      "text/plain": [
       "'<!DOCTYPE html>\\n<html>\\n\\n<head>\\n  <title>Pardon Our Interruption</title>\\n  <link rel=\"stylesheet\" type=\"text/css\" href=\"//cdn.distilnetworks.com/css/distil.css\" media=\"all\">\\n  <meta http-equiv=\"content-type\" content=\"text/html; charset=UTF-8\" />\\n  <meta name=\"viewport\" content=\"width=1000\" />\\n  <META NAME=\"robots\" CONTENT=\"noindex, nofollow\">\\n  <meta http-equiv=\"cache-control\" content=\"max-age=0\" />\\n  <meta http-equiv=\"cache-control\" content=\"no-cache\" />\\n  <meta http-equiv=\"expires\" content=\"0\" />\\n  <meta http-equiv=\"expires\" content=\"Tue, 01 Jan 1980 1:00:00 GMT\" />\\n  <meta http-equiv=\"pragma\" content=\"no-cache\" />\\n</head>\\n\\n<body class=\\'block-page\\'>\\n  <div class=\\'container\\'>\\n    <div class=\\'row\\'>\\n      <div class=\\'sidebar col-lg-4 col-sm-5\\'>\\n        <img src=\"//cdn.distilnetworks.com/images/anomaly-detected.png\" alt=\"0\">\\n      </div>\\n      <div class=\\'content col-lg-8 col-sm-7\\'>\\n        <h1>Pardon Our Interruption...</h1>\\n        <p>\\n          As you were browsing <strong>www.skyscanner.net</strong> something about your browser made us think you were a bot. There are a few reasons this might happen:\\n        </p>\\n        <ul>\\n          <li>You\\'re a power user moving through this website with super-human speed.</li>\\n          <li>You\\'ve disabled JavaScript in your web browser.</li>\\n          <li>A third-party browser plugin, such as Ghostery or  NoScript, is preventing JavaScript from running. Additional information is available in this <a title=\\'Third party browser plugins that block javascript\\' href=\\'http://ds.tl/help-third-party-plugins\\' target=\\'_blank\\'>support article</a>.</li>\\n        </ul>\\n        <p>\\n          To request an unblock, please fill out the form below and we will review it as soon as possible.\\n        </p>\\n\\n                <form id=\"yutwzzarwxtrzq\" method=\"POST\" action=\"rvzdwaecewzdxsdusbtvzyzqrzebafbzfru.html\" style=\"display:none\"><label>Ignore: <input type=\"text\" name=\"name\" /></label><label>Ignore: <input type=\"text\" name=\"email\" /></label><label>Ignore: <input type=\"submit\" value=\"Submit\" /></label></form><form id=\"distilUnblockForm\" method=\"post\" action=\"https://unblock.distilnetworks.com/\">\\n            <div id=\"dUF_first_name\">\\n                <label for=\"dUF_input_first_name\">First Name:</label>\\n                <input type=\"text\" id=\"dUF_input_first_name\" name=\"first_name\" value=\"\" />\\n            </div>\\n            <div id=\"dUF_last_name\">\\n                <label for=\"dUF_input_last_name\">Last Name:</label>\\n                <input type=\"text\" id=\"dUF_input_last_name\" name=\"last_name\" value=\"\" />\\n            </div>\\n            <div id=\"dUF_email\">\\n                <label for=\"dUF_input_email\">E-mail:</label>\\n                <input type=\"text\" id=\"dUF_input_email\" name=\"email\" value=\"\" />\\n            </div>\\n            <div id=\"dUF_city\" style=\"display: none\">\\n                <label for=\"dUF_input_city\">City (Leave Blank):</label>\\n                <input type=\"text\" id=\"dUF_input_city\" name=\"city\" value=\"\" />\\n            </div>\\n            <div id=\"dUF_unblock\">\\n                <input  id=\"dUF_input_unblock\" name=\"unblock\" type=\"submit\" value=\"Request Unblock\" />\\n            </div>\\n            <div id=\"dUF_unblock_text\">\\n                You reached this page when attempting to access http://www.skyscanner.net/transport/flights/tpet/cts/180118/180130?adults=1&children=0&adultsv2=1&childrenv2=&infants=0&cabinclass=economy&rtn=1&preferdirects=false&outboundaltsenabled=false&inboundaltsenabled=false&qp_prevProvider=ins_month&qp_prevCurrency=GBP&qp_prevPrice=178&pricesourceid=b3ms-SG1-2 from 114.25.149.48 on 2018-01-08 07:46:15 UTC.<br />\\n                Trace: 13a209b7-ebd7-4d69-ba00-87eb83c27d74 via cfa67dc0-9a23-451d-b7c3-fcde5b32311c\\n            </div>\\n            <div id=\"dUF_form_fields\" style=\"display: none\">\\n                <input type=\"hidden\" name=\"Q\" value=\"13a209b7-ebd7-4d69-ba00-87eb83c27d74\" />\\n                <input type=\"hidden\" name=\"P\" value=\"6D4E4D1D-7094-375D-A439-0568A6A70836\" />\\n                <input type=\"hidden\" name=\"I\" value=\"\" />\\n                <input type=\"hidden\" name=\"U\" value=\"\" />\\n                <input type=\"hidden\" name=\"SF\" value=\"\" />\\n                <input type=\"hidden\" name=\"F\" value=\"\" />\\n                <input type=\"hidden\" name=\"V\" value=\"13\" />\\n                <input type=\"hidden\" name=\"D\" value=\"3950\" />\\n                <input type=\"hidden\" name=\"A\" value=\"1363\" />\\n                <input type=\"hidden\" name=\"LOADED\" value=\"2018-01-08 07:46:15\" />\\n                <input type=\"hidden\" name=\"H\" value=\\'www.skyscanner.net\\' />\\n            </div>\\n        </form>\\n    \\n\\n      </div>\\n    </div>\\n  </div>\\n</body>\\n\\n</html>\\n'"
      ]
     },
     "execution_count": 15,
     "metadata": {},
     "output_type": "execute_result"
    }
   ],
   "source": [
    "res.text"
   ]
  },
  {
   "cell_type": "code",
   "execution_count": 10,
   "metadata": {},
   "outputs": [],
   "source": [
    "import splinter"
   ]
  },
  {
   "cell_type": "code",
   "execution_count": 11,
   "metadata": {},
   "outputs": [],
   "source": [
    "b = splinter.Browser('chrome')"
   ]
  },
  {
   "cell_type": "code",
   "execution_count": 12,
   "metadata": {},
   "outputs": [],
   "source": [
    "b.visit(\"https://www.skyscanner.net/transport/flights/tpet/cts/180118/180130?adults=1&children=0&adultsv2=1&childrenv2=&infants=0&cabinclass=economy&rtn=1&preferdirects=false&outboundaltsenabled=false&inboundaltsenabled=false&qp_prevProvider=ins_month&qp_prevCurrency=GBP&qp_prevPrice=178&pricesourceid=b3ms-SG1-2#results\")"
   ]
  },
  {
   "cell_type": "code",
   "execution_count": 13,
   "metadata": {},
   "outputs": [
    {
     "ename": "NoSuchWindowException",
     "evalue": "Message: no such window: target window already closed\nfrom unknown error: web view not found\n  (Session info: chrome=63.0.3239.108)\n  (Driver info: chromedriver=2.34.522913 (36222509aa6e819815938cbf2709b4849735537c),platform=Linux 4.10.0-42-generic x86_64)\n",
     "output_type": "error",
     "traceback": [
      "\u001b[0;31m---------------------------------------------------------------------------\u001b[0m",
      "\u001b[0;31mNoSuchWindowException\u001b[0m                     Traceback (most recent call last)",
      "\u001b[0;32m<ipython-input-13-24e5838e585b>\u001b[0m in \u001b[0;36m<module>\u001b[0;34m()\u001b[0m\n\u001b[0;32m----> 1\u001b[0;31m \u001b[0mb\u001b[0m\u001b[0;34m.\u001b[0m\u001b[0mfind_by_xpath\u001b[0m\u001b[0;34m(\u001b[0m\u001b[0;34m'//*[@id=\"day-section\"]/div/div[3]/div[8]/div[2]/ul/li[2]/button'\u001b[0m\u001b[0;34m)\u001b[0m\u001b[0;34m.\u001b[0m\u001b[0mclick\u001b[0m\u001b[0;34m(\u001b[0m\u001b[0;34m)\u001b[0m\u001b[0;34m\u001b[0m\u001b[0m\n\u001b[0m",
      "\u001b[0;32m~/.pyenv/versions/3.6.1/lib/python3.6/site-packages/splinter/driver/webdriver/__init__.py\u001b[0m in \u001b[0;36mfind_by_xpath\u001b[0;34m(self, xpath, original_find, original_query)\u001b[0m\n\u001b[1;32m    394\u001b[0m         return self.find_by(\n\u001b[1;32m    395\u001b[0m             \u001b[0mself\u001b[0m\u001b[0;34m.\u001b[0m\u001b[0mdriver\u001b[0m\u001b[0;34m.\u001b[0m\u001b[0mfind_elements_by_xpath\u001b[0m\u001b[0;34m,\u001b[0m \u001b[0mxpath\u001b[0m\u001b[0;34m,\u001b[0m \u001b[0moriginal_find\u001b[0m\u001b[0;34m=\u001b[0m\u001b[0moriginal_find\u001b[0m\u001b[0;34m,\u001b[0m\u001b[0;34m\u001b[0m\u001b[0m\n\u001b[0;32m--> 396\u001b[0;31m             original_query=original_query)\n\u001b[0m\u001b[1;32m    397\u001b[0m \u001b[0;34m\u001b[0m\u001b[0m\n\u001b[1;32m    398\u001b[0m     \u001b[0;32mdef\u001b[0m \u001b[0mfind_by_name\u001b[0m\u001b[0;34m(\u001b[0m\u001b[0mself\u001b[0m\u001b[0;34m,\u001b[0m \u001b[0mname\u001b[0m\u001b[0;34m)\u001b[0m\u001b[0;34m:\u001b[0m\u001b[0;34m\u001b[0m\u001b[0m\n",
      "\u001b[0;32m~/.pyenv/versions/3.6.1/lib/python3.6/site-packages/splinter/driver/webdriver/__init__.py\u001b[0m in \u001b[0;36mfind_by\u001b[0;34m(self, finder, selector, original_find, original_query)\u001b[0m\n\u001b[1;32m    372\u001b[0m         \u001b[0;32mwhile\u001b[0m \u001b[0mtime\u001b[0m\u001b[0;34m.\u001b[0m\u001b[0mtime\u001b[0m\u001b[0;34m(\u001b[0m\u001b[0;34m)\u001b[0m \u001b[0;34m<\u001b[0m \u001b[0mend_time\u001b[0m\u001b[0;34m:\u001b[0m\u001b[0;34m\u001b[0m\u001b[0m\n\u001b[1;32m    373\u001b[0m             \u001b[0;32mtry\u001b[0m\u001b[0;34m:\u001b[0m\u001b[0;34m\u001b[0m\u001b[0m\n\u001b[0;32m--> 374\u001b[0;31m                 \u001b[0melements\u001b[0m \u001b[0;34m=\u001b[0m \u001b[0mfinder\u001b[0m\u001b[0;34m(\u001b[0m\u001b[0mselector\u001b[0m\u001b[0;34m)\u001b[0m\u001b[0;34m\u001b[0m\u001b[0m\n\u001b[0m\u001b[1;32m    375\u001b[0m                 \u001b[0;32mif\u001b[0m \u001b[0;32mnot\u001b[0m \u001b[0misinstance\u001b[0m\u001b[0;34m(\u001b[0m\u001b[0melements\u001b[0m\u001b[0;34m,\u001b[0m \u001b[0mlist\u001b[0m\u001b[0;34m)\u001b[0m\u001b[0;34m:\u001b[0m\u001b[0;34m\u001b[0m\u001b[0m\n\u001b[1;32m    376\u001b[0m                     \u001b[0melements\u001b[0m \u001b[0;34m=\u001b[0m \u001b[0;34m[\u001b[0m\u001b[0melements\u001b[0m\u001b[0;34m]\u001b[0m\u001b[0;34m\u001b[0m\u001b[0m\n",
      "\u001b[0;32m~/.pyenv/versions/3.6.1/lib/python3.6/site-packages/selenium/webdriver/remote/webdriver.py\u001b[0m in \u001b[0;36mfind_elements_by_xpath\u001b[0;34m(self, xpath)\u001b[0m\n\u001b[1;32m    378\u001b[0m             \u001b[0mdriver\u001b[0m\u001b[0;34m.\u001b[0m\u001b[0mfind_elements_by_xpath\u001b[0m\u001b[0;34m(\u001b[0m\u001b[0;34m\"//div[contains(@class, 'foo')]\"\u001b[0m\u001b[0;34m)\u001b[0m\u001b[0;34m\u001b[0m\u001b[0m\n\u001b[1;32m    379\u001b[0m         \"\"\"\n\u001b[0;32m--> 380\u001b[0;31m         \u001b[0;32mreturn\u001b[0m \u001b[0mself\u001b[0m\u001b[0;34m.\u001b[0m\u001b[0mfind_elements\u001b[0m\u001b[0;34m(\u001b[0m\u001b[0mby\u001b[0m\u001b[0;34m=\u001b[0m\u001b[0mBy\u001b[0m\u001b[0;34m.\u001b[0m\u001b[0mXPATH\u001b[0m\u001b[0;34m,\u001b[0m \u001b[0mvalue\u001b[0m\u001b[0;34m=\u001b[0m\u001b[0mxpath\u001b[0m\u001b[0;34m)\u001b[0m\u001b[0;34m\u001b[0m\u001b[0m\n\u001b[0m\u001b[1;32m    381\u001b[0m \u001b[0;34m\u001b[0m\u001b[0m\n\u001b[1;32m    382\u001b[0m     \u001b[0;32mdef\u001b[0m \u001b[0mfind_element_by_link_text\u001b[0m\u001b[0;34m(\u001b[0m\u001b[0mself\u001b[0m\u001b[0;34m,\u001b[0m \u001b[0mlink_text\u001b[0m\u001b[0;34m)\u001b[0m\u001b[0;34m:\u001b[0m\u001b[0;34m\u001b[0m\u001b[0m\n",
      "\u001b[0;32m~/.pyenv/versions/3.6.1/lib/python3.6/site-packages/selenium/webdriver/remote/webdriver.py\u001b[0m in \u001b[0;36mfind_elements\u001b[0;34m(self, by, value)\u001b[0m\n\u001b[1;32m    884\u001b[0m         return self.execute(Command.FIND_ELEMENTS, {\n\u001b[1;32m    885\u001b[0m             \u001b[0;34m'using'\u001b[0m\u001b[0;34m:\u001b[0m \u001b[0mby\u001b[0m\u001b[0;34m,\u001b[0m\u001b[0;34m\u001b[0m\u001b[0m\n\u001b[0;32m--> 886\u001b[0;31m             'value': value})['value'] or []\n\u001b[0m\u001b[1;32m    887\u001b[0m \u001b[0;34m\u001b[0m\u001b[0m\n\u001b[1;32m    888\u001b[0m     \u001b[0;34m@\u001b[0m\u001b[0mproperty\u001b[0m\u001b[0;34m\u001b[0m\u001b[0m\n",
      "\u001b[0;32m~/.pyenv/versions/3.6.1/lib/python3.6/site-packages/selenium/webdriver/remote/webdriver.py\u001b[0m in \u001b[0;36mexecute\u001b[0;34m(self, driver_command, params)\u001b[0m\n\u001b[1;32m    309\u001b[0m         \u001b[0mresponse\u001b[0m \u001b[0;34m=\u001b[0m \u001b[0mself\u001b[0m\u001b[0;34m.\u001b[0m\u001b[0mcommand_executor\u001b[0m\u001b[0;34m.\u001b[0m\u001b[0mexecute\u001b[0m\u001b[0;34m(\u001b[0m\u001b[0mdriver_command\u001b[0m\u001b[0;34m,\u001b[0m \u001b[0mparams\u001b[0m\u001b[0;34m)\u001b[0m\u001b[0;34m\u001b[0m\u001b[0m\n\u001b[1;32m    310\u001b[0m         \u001b[0;32mif\u001b[0m \u001b[0mresponse\u001b[0m\u001b[0;34m:\u001b[0m\u001b[0;34m\u001b[0m\u001b[0m\n\u001b[0;32m--> 311\u001b[0;31m             \u001b[0mself\u001b[0m\u001b[0;34m.\u001b[0m\u001b[0merror_handler\u001b[0m\u001b[0;34m.\u001b[0m\u001b[0mcheck_response\u001b[0m\u001b[0;34m(\u001b[0m\u001b[0mresponse\u001b[0m\u001b[0;34m)\u001b[0m\u001b[0;34m\u001b[0m\u001b[0m\n\u001b[0m\u001b[1;32m    312\u001b[0m             response['value'] = self._unwrap_value(\n\u001b[1;32m    313\u001b[0m                 response.get('value', None))\n",
      "\u001b[0;32m~/.pyenv/versions/3.6.1/lib/python3.6/site-packages/selenium/webdriver/remote/errorhandler.py\u001b[0m in \u001b[0;36mcheck_response\u001b[0;34m(self, response)\u001b[0m\n\u001b[1;32m    235\u001b[0m         \u001b[0;32melif\u001b[0m \u001b[0mexception_class\u001b[0m \u001b[0;34m==\u001b[0m \u001b[0mUnexpectedAlertPresentException\u001b[0m \u001b[0;32mand\u001b[0m \u001b[0;34m'alert'\u001b[0m \u001b[0;32min\u001b[0m \u001b[0mvalue\u001b[0m\u001b[0;34m:\u001b[0m\u001b[0;34m\u001b[0m\u001b[0m\n\u001b[1;32m    236\u001b[0m             \u001b[0;32mraise\u001b[0m \u001b[0mexception_class\u001b[0m\u001b[0;34m(\u001b[0m\u001b[0mmessage\u001b[0m\u001b[0;34m,\u001b[0m \u001b[0mscreen\u001b[0m\u001b[0;34m,\u001b[0m \u001b[0mstacktrace\u001b[0m\u001b[0;34m,\u001b[0m \u001b[0mvalue\u001b[0m\u001b[0;34m[\u001b[0m\u001b[0;34m'alert'\u001b[0m\u001b[0;34m]\u001b[0m\u001b[0;34m.\u001b[0m\u001b[0mget\u001b[0m\u001b[0;34m(\u001b[0m\u001b[0;34m'text'\u001b[0m\u001b[0;34m)\u001b[0m\u001b[0;34m)\u001b[0m\u001b[0;34m\u001b[0m\u001b[0m\n\u001b[0;32m--> 237\u001b[0;31m         \u001b[0;32mraise\u001b[0m \u001b[0mexception_class\u001b[0m\u001b[0;34m(\u001b[0m\u001b[0mmessage\u001b[0m\u001b[0;34m,\u001b[0m \u001b[0mscreen\u001b[0m\u001b[0;34m,\u001b[0m \u001b[0mstacktrace\u001b[0m\u001b[0;34m)\u001b[0m\u001b[0;34m\u001b[0m\u001b[0m\n\u001b[0m\u001b[1;32m    238\u001b[0m \u001b[0;34m\u001b[0m\u001b[0m\n\u001b[1;32m    239\u001b[0m     \u001b[0;32mdef\u001b[0m \u001b[0m_value_or_default\u001b[0m\u001b[0;34m(\u001b[0m\u001b[0mself\u001b[0m\u001b[0;34m,\u001b[0m \u001b[0mobj\u001b[0m\u001b[0;34m,\u001b[0m \u001b[0mkey\u001b[0m\u001b[0;34m,\u001b[0m \u001b[0mdefault\u001b[0m\u001b[0;34m)\u001b[0m\u001b[0;34m:\u001b[0m\u001b[0;34m\u001b[0m\u001b[0m\n",
      "\u001b[0;31mNoSuchWindowException\u001b[0m: Message: no such window: target window already closed\nfrom unknown error: web view not found\n  (Session info: chrome=63.0.3239.108)\n  (Driver info: chromedriver=2.34.522913 (36222509aa6e819815938cbf2709b4849735537c),platform=Linux 4.10.0-42-generic x86_64)\n"
     ]
    }
   ],
   "source": [
    "b.find_by_xpath('//*[@id=\"day-section\"]/div/div[3]/div[8]/div[2]/ul/li[2]/button').click()"
   ]
  },
  {
   "cell_type": "code",
   "execution_count": null,
   "metadata": {},
   "outputs": [],
   "source": [
    "b.find_by_xpath('//*[@id=\"day-section\"]/div/div[3]/div[8]/div[2]/ul/li[4]/button').click()"
   ]
  },
  {
   "cell_type": "code",
   "execution_count": null,
   "metadata": {},
   "outputs": [],
   "source": [
    "b.find_by_xpath('//*[@id=\"day-section\"]/div/div[3]/div[1]/div/ul/li[5]/button').click()"
   ]
  },
  {
   "cell_type": "code",
   "execution_count": null,
   "metadata": {},
   "outputs": [],
   "source": [
    "b.find_by_xpath('//*[@id=\"day-section\"]/div/div[3]/div[8]/div[2]/ul/li[6]/button').click()"
   ]
  },
  {
   "cell_type": "code",
   "execution_count": null,
   "metadata": {},
   "outputs": [],
   "source": [
    "b.quit()"
   ]
  },
  {
   "cell_type": "markdown",
   "metadata": {},
   "source": [
    "# Coindesk"
   ]
  },
  {
   "cell_type": "code",
   "execution_count": 16,
   "metadata": {},
   "outputs": [],
   "source": [
    "import re\n",
    "import datetime\n",
    "\n",
    "import requests\n",
    "from bs4 import BeautifulSoup\n",
    "import bs4\n",
    "\n",
    "URL = \"https://www.coindesk.com/category/markets-news/page/{}/\"\n",
    "HOST = \"https://www.coindesk.com\"\n",
    "UTC = datetime.timezone(datetime.timedelta(hours=0))\n",
    "\n",
    "def make_request(url):\n",
    "    soup = BeautifulSoup(requests.get(url).text, 'lxml')\n",
    "    return soup\n",
    "\n",
    "def get_list(url):\n",
    "    soup = make_request(url)\n",
    "    return [row['href'] for row in soup.select(\"h3 > a.fade\")]\n",
    "\n",
    "def get_detail(url):\n",
    "    data = {}\n",
    "    soup = make_request(url)\n",
    "    data['url'] = url\n",
    "    data['title'] = soup.select_one(\"h3.article-top-title\").text.strip()\n",
    "    data['author'] = soup.select_one(\"a.article-container-lab-name\").text.strip()\n",
    "    t_str = soup.select_one(\"span.article-container-left-timestamp\").text.strip()\n",
    "    data['tstamp'] = datetime.datetime.strptime(t_str, \"%b %d, %Y at %H:%M UTC\").replace(tzinfo=UTC)\n",
    "    content = soup.select_one('div.article-content-container')\n",
    "    res = []\n",
    "    \n",
    "    # 清理content，把script tag還有換行符號拿掉\n",
    "    for ch in content.children:\n",
    "        if isinstance(ch, bs4.element.NavigableString):\n",
    "            continue\n",
    "        elif ch.name == 'script':\n",
    "            continue\n",
    "        else:\n",
    "            res.append(ch.text)\n",
    "    data['content'] = ''.join(res).strip()\n",
    "    return data"
   ]
  },
  {
   "cell_type": "code",
   "execution_count": 17,
   "metadata": {},
   "outputs": [],
   "source": [
    "urls = get_list(URL.format(1))"
   ]
  },
  {
   "cell_type": "code",
   "execution_count": 18,
   "metadata": {},
   "outputs": [],
   "source": [
    "res = []\n",
    "for url in urls:\n",
    "    res.append(get_detail(url))"
   ]
  },
  {
   "cell_type": "code",
   "execution_count": 19,
   "metadata": {
    "scrolled": true
   },
   "outputs": [
    {
     "data": {
      "text/plain": [
       "{'author': 'Brendan Bernstein',\n",
       " 'content': 'Brendan Bernstein is a founding member of\\xa0Tetras Capital Partners, LLC, an investment manager focused on investing in cryptocurrencies and blockchain assets.The crypto market moves in cycles – and understanding these cycles is key to profiting, managing risk and keeping sane.Howard Marks describes two ways to profit from markets: (1) Hold more of the things that rise and less of the things that fall, and (2) cycle adjustment, or trying to have more risk exposure when markets rise and less when they fall.Most people ignore the second part. Yet the key to cycle adjustment is understanding where you are in the cycle and calibrating the risks and rewards to account for it. Similar to the broader economy, we have both short and long-term cycles. Short-term cycles are driven by the capital flows, investor composition and market sentiment. Long-term cycles result from the aggregate effects of the short-term cycles and ultimately are driven by long-term fundamentals.The past few months in contextOver the last few months, the market has been driven by new capital entering the space and a psychological acceptance of bitcoin. The capital — both retail and institutional (i.e., new crypto hedge funds) — entered initially through the most liquid crypto assets and fiat currency onramps.Bitcoin, being the most liquid fiat onramp, has performed well. It was also the first asset many investors became comfortable with during that time.From July 1st to Dec. 10th, bitcoin dominance (or its percentage of total cryptocurrency market capitalization) increased from 41% to 66% – even as the overall market cap of all cryptocurrencies was increasing outside of bitcoin. BTC\\'s price increased from $2,492 to almost $20,000.I\\'ll stress that this was not driven by fundamentals, but rather the capital flows and accessibility premium of bitcoin. New capital had a bias for bitcoin because it was the easiest to understand, custody and purchase.The short-term cycle moved in BTC\\'s favor.The short-term crypto cycle in actionMoving toward December, the market started to become more and more dominated by retail and – let\\'s be honest – less crypto-educated capital. Coinbase is a great proxy for this phenomenon. From June to October, Coinbase signups were relatively constant at\\xa0 about30,000 per day.However, starting in early November, this number started to increase dramatically, exceeding 100,000 on some days.Initially, this capital continued to pour into bitcoin, putting fuel on the short-term cycle and building new investor sentiment in favor of BTC.BTC was going to $100,000, and by the time CNBC debuted its coveted \"BTC Ticker,\" the pendulum had swung too far in BTC\\'s direction.Larger investors started to take profits, bitcoin began to falter. It was time to find the next new shiny object…As capital moved out of bitcoin and into other assets, we saw the end of one short-term cycle and beginning of the next. Starting in early December, a new cycle began and the \"cheaper\" Coinbase assets stole the show.Capital that initially entered the crypto markets through BTC was finally comfortable with the crypto space and willing to move out on the risk curve. In other words, it was time to play with house money.The newer retail entrants cared less about fundamental protocol strength and were easily lured into a protocol\\'s marketing pitch. These were not cypherpunks.BTC is archaic and overpriced to these investors. There is no EEA of bitcoin. No marketing team is pushing it. Why buy a $17,000 digital gold when you could buy a $100, faster alternative? In the first three weeks of December alone, litecoin increased 3.7x from $100 to $371 while BTC continued to lose ground.LTC, too, would have a fall from grace when longer-term LTC holders began to sell (ahem Charlie) and returns started to stagnate. These restless investors moved on once again with more house money to play with. Their attention moved from the roulette table that is Coinbase to the craps table that is Bittrex, Poloniex and Binance. As a result, signups on those exchanges skyrocketed, and Bittrex even had to close new user accounts.\"Holy shit, even cheaper versions of BTC.\" Their marketing budgets lured them in with the siren call of lambos.It seems ridiculous to say, but the cheaper the asset, the greater the chance of a return. And when I said cheap, I\\'m not referring to a fundamental measure of value like a value investor would (P/BV, P/E, etc). I\\'m referring to its price.A chart of returns over the past seven days paints this picture. There\\'s a direct negative correlation between the\\xa0price of the token and return. It\\'s scary, but it\\'s unfortunately true.TRX, XRP, XLM, ADA, you name it. \"Bitcoin 3.0.\" Faster, cheaper and more upside. Right? It became a self-fulfilling prophecy. BTC retreated 40% and overall dominance fell from 65% down to 37% this week. The fire was already smoldering.New retail investors were the gasoline. Preston Byrne said it best – cryptocurrencies have become the worlds largest penny stock casino.How to weather the shitcoin stormInvestors trying to find fundamental value are ripping their eyes out. XRP, with legitimately zero fundamental usage (see below), just passed BTC in diluted market cap.\\nOver the last day I’ve asked several people close to banks if banks are indeed planning to begin using Ripple’s token, XRP, in a serious way, which is what investors seem to assume when they buy in at the current XRP prices. This is a sampling of what I heard back: pic.twitter.com/zbfMqg4TpD\\n— Nathaniel Popper (@nathanielpopper) January 5, 2018IOTA has proven cryptographic flaws. What the hell is TRON? RaiBlocks went from a market cap of $30 million to $4 billion in a week. What. The. Fuck.Meanwhile, assets with real usage, actual code and strong development communities, like monero for example, have not moved. Are investors supposed to recognize the reality of the situation that, for the current market regime, fundamental protocol strength — adoption, code quality, tech talent, etc. — means less than the price of the asset and marketing budget.Should you go all-in on coins less than $1? Or do you stick to your guns, find value and weather the shitcoin storm?The answer comes down to understanding where we are the cryptocurrency cycle.Where we are – and how to profitThe answer to investing is rarely black and white. It’s not \"get in\" or \"get out.\" It\\'s usually somewhere in the middle.When people are increasingly willing to take risk and fear of missing out (FOMO) is prevailing over any sense of security and analytical discipline, that\\'s the time to be worried. When the fundamentally weakest assets are rallying the most and people are proclaiming BTC is dead, we\\'re starting to near the end of a short-term, altcoin-dominated cycle.The problem is that investors tend to think of themselves as analytical, disciplined and contrarian, but the fact of the matter is that most tend to magnify cyclical moves. They cannot stomach the possibility they may miss out on gains.That is why predicting the exact top and bottom is so challenging. But doing so with exact precision is not necessary…\\nDoes anyone still talk about Bitcoin?\\n— Ran Neuner (@cryptomanran) January 5, 2018Howard Marks describes the strategy well:\"No one can ascertain when we’re at the exact top or bottom, a key to successful investing lies in selling – or lightening up – when we’re closer to the top, and buying\\u200a—\\u200aor, hopefully, loading up\\u200a—\\u200awhen we’re closer to the bottom.\"Profiting from the short-term market cycles is not predicated on owning 0 bitcoin at peak alt and 0 alts at peak BTC. The key is that when investor euphoria is widespread, we should lighten up on those assets which are expensive and be more aggressive with those that are cheap. The time to be overweight alts is at the beginning and middle of the altcoin cycle. Not towards the end. And the same generally holds true for bitcoin.It\\'s about calibrating and balancing your allocation of capital in accordance with the current cycle and how aggressive or defensive you want to be.Meanwhile, amid the small-cap and altcoin euphoria, we\\'re on the precipice of a major entrance of institutional capital to the space and the one place it is going is BTC. Family offices, large hedge funds and endowments will not be investing in Bcash. A BTC ETF will launch sooner than people think. A TRON one will not.To profit from these cycles, you need to first understand where we stand in it and then be able to act counter to it at the peaks and troughs. It\\'s not easy. The only reason it\\'s profitable is that because it\\'s so hard. At first, you\\'re bound to lose money as the cycle continues in its march to irrationality. But the cycle will always turn, and in crypto, we know it won\\'t be long until it does.Those with large altcoin positions should be worried. When the cycle reaches its peak and begins to turn, smaller-cap, illiquid tokens will fall as fast as they\\'ve gone up. Liquidity will dry up fast and you will not be able to sell anywhere close to the quoted price.The market in altcoin terms is getting expensive and in BTC terms it\\'s getting cheaper. It\\'s time to start using altcoin gains to build up core, fundamentally strong positions.A alk down memory laneI\\'m not making this up. We\\'ve seen it happen before.This period is eerily similar to March 2017. \"Bitcoin 2.0,\" ethereum, had recently launched on Coinbase, the EEA was getting cemented and a slew of conferences were created to promote etheruem. Why invest in digital gold when you could own a world computer?For three months, ETH dramatically increased in price as new retail investors poured into the space and quit their jobs to day trade after massive gains. ETH increased in price from $7 in December of 2016 to $391 by June of 2017. BTC dominance fell from 86% to 40%. We were on the precipice of \"the flippening,\" after which many thought BTC would subsequently fall to zero.Until the music stopped. Investors were tapped out. ICOs slowed down and ETH started having scaling issues just as the price got ahead of itself. Institutional capital began to enter BTC. The BTC dominance cycle began to revert.Illiquid altcoins, some of the same ones the new retail investors have made their money from, fell dramatically. XVG fell from a peak of $0.006 down to $0.002, a 67% decline. XRP fell from $0.31 to $0.15, a 50% decline.This year isn’t the first time it\\'s happened. Investors have been lured out of bitcoin into altcoins since the first ones launched.Since 2013, we’ve been seeing BTC dominance fall, only to regain most of the lost ground shortly thereafter. This cycle,\\xa0too, will revert.What causes each cycle?Each aforementioned BTC cycle has a common thread: The investor base, partially driven by new capital, becomes enamored by an alternative asset or market narrative.The cycle is usually triggered by a legitimate change in fundamentals. And then, subsequently, it\\'s taken to the extreme by investor behavior. Earlier in 2017, it was smart contract functionality and ICOs. Now, as BTC fees creep up and ETH is facing scaling issues, most of the coins that have increased in price are aiming to be cheaper, faster or more scalable.What we\\'re actually seeing is a mini-Gartner hype cycle play out around a new market theme or narrative.New technology captures investor attention. Emotional influences cause investors to follow the herd and fear of missing out predominates. The cycle gets taken to its extreme until it can go no further.\\nAt one Point in the 1989 Japanese real estate bubble, the Imperial Palace in Japan was said to be worth more than the entire state of California,, things that don\\'t make sense don\\'t last....be careful out there\\n— Michael Novogratz (@novogratz) January 4, 2018How to prepare for the next altcoin cycleIt goes without saying, but the current market regime is not fundamentally driven whatsoever, but is instead driven by narrative and investor sentiment.The market is a Keynesian beauty contest. It\\'s crucial to practice second-level thinking— the question isn\\'t just why a protocol is interesting, but why and when\\xa0the market\\xa0will find it interesting.The most profitable trades come from synthesizing views on the macro liquidity cycle, narrative and capital flows with micro-analysis into the crypto-economic tradeoffs and qualities of each protocol.Towards the end of each short-term cycle, instead of doubling down on what\\'s been working — i.e. doubling down on altcoins right now — prepare for the turn of the next.When in a BTC cycle, the question to ask is: what narrative will be the crux of the next Gartner hype cycle? Where will the capital flow when the BTC cycle peaks, and what will be the catalyst?Fundamentally analyze each protocol and determine which will benefit most from a shift in narrative. Do your diligence. Make sure the code and underlying infrastructure is sound and protect your capital.When you inevitably find yourself thinking that BTC or [INSERT PROTOCOL HERE] can\\'t be stopped, remember that we\\'ve been evolutionarily programmed to think pro-cyclically. It will be stopped. And the cycle will turn.The comments, views, opinions and any forecasts of future events reflect the opinion of the quoted author or speaker, do not necessarily reflect the views of Tetras Capital Partners, LLC (“Tetras”) or other professionals at Tetras, are not guarantees of future events, returns or results and are not intended to provide financial planning or investment advice.Umbrella image via ShutterstockDisclosure:\\xa0CoinDesk is a subsidiary of Digital Currency Group, which has an ownership stake in Coinbase.\\xa0\\nThe leader in blockchain news, CoinDesk strives to offer an open platform for dialogue and discussion on all things blockchain by encouraging contributed articles. As such, the opinions expressed in this article are the author\\'s own and do not necessarily reflect the view of CoinDesk.For more details on how you can submit an opinion or analysis article, view our Editorial Collaboration Guide or email news@coindesk.com.\\nDisclaimer: This article should not be taken as, and is not intended to provide, investment advice. Please conduct your own thorough research before investing in any cryptocurrency.',\n",
       " 'title': 'Weathering the Altcoin Shitstorm (And Investing for the Next One)',\n",
       " 'tstamp': datetime.datetime(2018, 1, 8, 6, 30, tzinfo=datetime.timezone.utc),\n",
       " 'url': 'https://www.coindesk.com/weathering-altcoin-shitstorm-investing-next-one/'}"
      ]
     },
     "execution_count": 19,
     "metadata": {},
     "output_type": "execute_result"
    }
   ],
   "source": [
    "res[0]"
   ]
  },
  {
   "cell_type": "markdown",
   "metadata": {},
   "source": [
    "# Database\n",
    "\n",
    "```bash\n",
    "docker run --name some-mysql -p 3306:3306 -v $(pwd)/mysql_data:/var/lib/mysql -e MYSQL_ROOT_PASSWORD=pythonetl -e MYSQL_DATABASE=pythonetl -d mysql:5.7.20\n",
    "```"
   ]
  },
  {
   "cell_type": "code",
   "execution_count": 1,
   "metadata": {},
   "outputs": [
    {
     "name": "stdout",
     "output_type": "stream",
     "text": [
      "Requirement already satisfied: PyMySQL in /home/ubuntu/.pyenv/versions/3.6.1/lib/python3.6/site-packages\r\n"
     ]
    }
   ],
   "source": [
    "!pip install PyMySQL"
   ]
  },
  {
   "cell_type": "code",
   "execution_count": null,
   "metadata": {},
   "outputs": [],
   "source": [
    "import sqlite3 # 連sqlite的python套件\n",
    "import pymysql # 連Mysql的python套件"
   ]
  },
  {
   "cell_type": "code",
   "execution_count": null,
   "metadata": {},
   "outputs": [],
   "source": [
    "#conn = sqlite3.connect(\"/tmp/coindesk.sqlite3\")\n",
    "conn = pymysql.connect(host='localhost', port=3306, user='root', password='pythonetl', db='pythonetl')"
   ]
  },
  {
   "cell_type": "code",
   "execution_count": null,
   "metadata": {},
   "outputs": [],
   "source": [
    "cur = conn.cursor()"
   ]
  },
  {
   "cell_type": "code",
   "execution_count": null,
   "metadata": {},
   "outputs": [],
   "source": [
    "cur.execute(\"\"\"CREATE TABLE coindesk (\n",
    "url VARCHAR(255),\n",
    "title VARCHAR(255),\n",
    "author VARCHAR(255),\n",
    "tstamp DATETIME,\n",
    "PRIMARY KEY (url)\n",
    ")\"\"\")\n",
    "conn.commit()"
   ]
  },
  {
   "cell_type": "code",
   "execution_count": null,
   "metadata": {},
   "outputs": [],
   "source": [
    "cur.execute(\"\"\"DROP TABLE coindesk\"\"\")\n",
    "conn.commit()"
   ]
  },
  {
   "cell_type": "code",
   "execution_count": null,
   "metadata": {
    "scrolled": true
   },
   "outputs": [],
   "source": [
    "cur.execute(\"\"\"INSERT INTO coindesk VALUES ('http://google.com', 'google', 'Ian Chen', '2018-11-11 11:11:11')\"\"\")\n",
    "conn.commit()"
   ]
  },
  {
   "cell_type": "code",
   "execution_count": null,
   "metadata": {
    "scrolled": true
   },
   "outputs": [],
   "source": [
    "# 錯誤示範，python內建string formatting不會escape SQL的string，如'或是;\n",
    "# 容易造成sql injection\n",
    "for row in res:\n",
    "    cur.execute((\"\"\"INSERT INTO coindesk VALUES ('{}', '{}', '{}', '{}')\"\"\".format(\n",
    "                         row['url'],\n",
    "                         row['title'],\n",
    "                         row['author'],\n",
    "                         row['tstamp'].strftime('%Y-%m-%d %H:%M:%S'))\n",
    "                        ))"
   ]
  },
  {
   "cell_type": "code",
   "execution_count": null,
   "metadata": {},
   "outputs": [],
   "source": [
    "cur.execute(\"\"\"DELETE FROM coindesk;\"\"\")\n",
    "conn.commit()"
   ]
  },
  {
   "cell_type": "code",
   "execution_count": null,
   "metadata": {},
   "outputs": [],
   "source": [
    "datetime.datetime.now().strftime(\"%Y-%m-%d %H:%M:%S\")"
   ]
  },
  {
   "cell_type": "code",
   "execution_count": null,
   "metadata": {},
   "outputs": [],
   "source": [
    "datetime.date.today()"
   ]
  },
  {
   "cell_type": "code",
   "execution_count": null,
   "metadata": {},
   "outputs": [],
   "source": [
    "import time\n",
    "time.time()"
   ]
  },
  {
   "cell_type": "code",
   "execution_count": null,
   "metadata": {
    "scrolled": true
   },
   "outputs": [],
   "source": [
    "for row in res:\n",
    "    #print(row)\n",
    "    #cur.execute(\"\"\"INSERT INTO tablename VALUES (?, ?, ?, ?)\"\"\", (val1, val2, val3, val4))\n",
    "    cur.execute(\"\"\"INSERT INTO coindesk VALUES (%s, %s, %s, %s)\"\"\",\n",
    "                         (row['url'],\n",
    "                         row['title'],\n",
    "                         row['author'],\n",
    "                         row['tstamp'])\n",
    "                        )\n",
    "conn.commit()"
   ]
  },
  {
   "cell_type": "code",
   "execution_count": null,
   "metadata": {},
   "outputs": [],
   "source": [
    "cur.execute(\"\"\"DELETE FROM coindesk;\"\"\")\n",
    "conn.commit()"
   ]
  },
  {
   "cell_type": "code",
   "execution_count": null,
   "metadata": {
    "scrolled": true
   },
   "outputs": [],
   "source": [
    "bulk_data = [(row['url'],row['title'],row['author'],row['tstamp']) for row in res]\n",
    "cur.executemany(\"\"\"INSERT INTO coindesk VALUES (%s, %s, %s, %s)\"\"\", bulk_data)\n",
    "conn.commit()"
   ]
  },
  {
   "cell_type": "code",
   "execution_count": null,
   "metadata": {},
   "outputs": [],
   "source": [
    "cur.execute(\"\"\"DELETE FROM coindesk;\"\"\")\n",
    "conn.commit()"
   ]
  },
  {
   "cell_type": "code",
   "execution_count": null,
   "metadata": {},
   "outputs": [],
   "source": [
    "cur.execute(\"\"\"SELECT * FROM coindesk\"\"\")"
   ]
  },
  {
   "cell_type": "code",
   "execution_count": null,
   "metadata": {
    "scrolled": false
   },
   "outputs": [],
   "source": [
    "for row in cur:\n",
    "    print(row)"
   ]
  },
  {
   "cell_type": "code",
   "execution_count": null,
   "metadata": {},
   "outputs": [],
   "source": []
  }
 ],
 "metadata": {
  "kernelspec": {
   "display_name": "Python 3",
   "language": "python",
   "name": "python3"
  },
  "language_info": {
   "codemirror_mode": {
    "name": "ipython",
    "version": 3
   },
   "file_extension": ".py",
   "mimetype": "text/x-python",
   "name": "python",
   "nbconvert_exporter": "python",
   "pygments_lexer": "ipython3",
   "version": "3.6.1"
  }
 },
 "nbformat": 4,
 "nbformat_minor": 2
}
