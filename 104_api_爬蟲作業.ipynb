{
 "cells": [
  {
   "cell_type": "markdown",
   "metadata": {},
   "source": [
    "# 104 api 爬蟲作業"
   ]
  },
  {
   "cell_type": "code",
   "execution_count": 3,
   "metadata": {
    "scrolled": false
   },
   "outputs": [
    {
     "name": "stdout",
     "output_type": "stream",
     "text": [
      "page1\n",
      "總共輸入了20筆資料\n",
      "page2\n",
      "總共輸入了40筆資料\n"
     ]
    },
    {
     "ename": "KeyboardInterrupt",
     "evalue": "",
     "output_type": "error",
     "traceback": [
      "\u001b[0;31m---------------------------------------------------------------------------\u001b[0m",
      "\u001b[0;31mKeyboardInterrupt\u001b[0m                         Traceback (most recent call last)",
      "\u001b[0;32m<ipython-input-3-8f755fedf7ac>\u001b[0m in \u001b[0;36m<module>\u001b[0;34m()\u001b[0m\n\u001b[1;32m     15\u001b[0m     \u001b[0mjob_list\u001b[0m \u001b[0;34m=\u001b[0m \u001b[0mjob_page\u001b[0m\u001b[0;34m.\u001b[0m\u001b[0mjson\u001b[0m\u001b[0;34m(\u001b[0m\u001b[0;34m)\u001b[0m\u001b[0;34m[\u001b[0m\u001b[0;34m'data'\u001b[0m\u001b[0;34m]\u001b[0m                  \u001b[0;31m# 轉成json檔,找出job資料\u001b[0m\u001b[0;34m\u001b[0m\u001b[0m\n\u001b[1;32m     16\u001b[0m     \u001b[0mjobs\u001b[0m\u001b[0;34m.\u001b[0m\u001b[0mextend\u001b[0m\u001b[0;34m(\u001b[0m\u001b[0mjob_list\u001b[0m\u001b[0;34m)\u001b[0m                               \u001b[0;31m# list + list 用extend\u001b[0m\u001b[0;34m\u001b[0m\u001b[0m\n\u001b[0;32m---> 17\u001b[0;31m     \u001b[0mtime\u001b[0m\u001b[0;34m.\u001b[0m\u001b[0msleep\u001b[0m\u001b[0;34m(\u001b[0m\u001b[0;36m1.5\u001b[0m\u001b[0;34m)\u001b[0m                                       \u001b[0;31m# 爬蟲速度太快 設1秒停留時間\u001b[0m\u001b[0;34m\u001b[0m\u001b[0m\n\u001b[0m\u001b[1;32m     18\u001b[0m \u001b[0;34m\u001b[0m\u001b[0m\n\u001b[1;32m     19\u001b[0m     \u001b[0;31m#if page % 20 == 0 or page == job_totalpage :\u001b[0m\u001b[0;34m\u001b[0m\u001b[0;34m\u001b[0m\u001b[0m\n",
      "\u001b[0;31mKeyboardInterrupt\u001b[0m: "
     ]
    }
   ],
   "source": [
    "import requests\n",
    "import json\n",
    "import re\n",
    "import time\n",
    "\n",
    "url = 'http://www.104.com.tw/i/apis/jobsearch.cfm?kws=JAVA&kwop=3&fmt=8&cols=JOB,JOB_ADDR_NO_DESCRIPT,DESCRIPTION,JOBSKILL_ALL_DESC,PCSKILL_ALL_DESC,APPEAR_DATE,NAME'\n",
    "job_totalpage = int(re.findall('\"TOTALPAGE\":\"(\\d+)\"',requests.get(url).text)[0]) #總共幾頁列表\n",
    " \n",
    "\n",
    "count = 0\n",
    "jobs = []\n",
    "for page in range(1,job_totalpage + 1 ):\n",
    "    job_page = requests.get(url + '&page=' + str(page)) # 每一頁的requests\n",
    "    \n",
    "    job_list = job_page.json()['data']                  # 轉成json檔,找出job資料\n",
    "    jobs.extend(job_list)                               # list + list 用extend\n",
    "    time.sleep(1.5)                                       # 爬蟲速度太快 設1秒停留時間\n",
    "                               \n",
    "    #if page % 20 == 0 or page == job_totalpage :\n",
    "    #    with open('/home/ubuntu/ETL/104job/job{}page.txt'.format(page),'w',encoding='utf-8') as f:   #encoding 可不寫\n",
    "    for row in jobs:\n",
    "        if 'JOBSKILL_ALL_DESC' not in row:\n",
    "            row['JOBSKILL_ALL_DESC'] =''\n",
    "        if 'PCSKILL_ALL_DESC' not in row:\n",
    "            row['PCSKILL_ALL_DESC'] = ''\n",
    "        #cur.execute(\"\"\"INSERT INTO tablename VALUES (?, ?, ?, ?)\"\"\", (val1, val2, val3, val4))\n",
    "        cur.execute(\"\"\"INSERT INTO job104api VALUES (%s, %s, %s, %s, %s, %s)\"\"\",\n",
    "                             (row['JOB'],\n",
    "                             row['NAME'],\n",
    "                             row['JOB_ADDR_NO_DESCRIPT'],\n",
    "                             row['JOBSKILL_ALL_DESC'],\n",
    "                             row['PCSKILL_ALL_DESC'],\n",
    "                             row['APPEAR_DATE']\n",
    "                            )\n",
    "                    )\n",
    "    conn.commit()\n",
    "    \n",
    "    count += len(jobs)\n",
    "    print('page' + str(page))\n",
    "    print('總共輸入了' + str(count)+ '筆資料') \n",
    "    jobs = []\n",
    "    \n",
    "              \n",
    "  \n",
    "   \n",
    "    \n"
   ]
  },
  {
   "cell_type": "markdown",
   "metadata": {},
   "source": [
    "# 安裝　ｄｏｃｋｅｒ　Ｍｙｓｑｌ　\n",
    "#docker pull mysql\n",
    "#docker run -it --name some-mysql -e MYSQL_ROOT_PASSWORD=1234 -d mysql　\n",
    "#docker inspect 看　ｃｏｎｔａｉｎｅｒ　ｉｐ　>> ｐ ＝ 172.17.0.2\n",
    "\n",
    "\n",
    "\n",
    "\n"
   ]
  },
  {
   "cell_type": "code",
   "execution_count": 1,
   "metadata": {},
   "outputs": [],
   "source": [
    "#!pip install pyMysql\n",
    "import pymysql\n",
    "\n",
    "\n",
    "conn = pymysql.connect(host='172.17.0.2', port=3306, user='root', password='1234', use_unicode=True, charset='utf8')\n",
    "cur = conn.cursor()\n",
    "#cur.execute(\"\"\"ALTER TABLE 104JOB.job104api CONVERT TO CHARACTER SET utf8mb4 COLLATE utf8mb4_bin;\"\"\")"
   ]
  },
  {
   "cell_type": "code",
   "execution_count": 2,
   "metadata": {},
   "outputs": [],
   "source": [
    "cur.execute('CREATE DATABASE 104JOB ')\n",
    "cur.execute('USE 104JOB')\n",
    "cur.execute(\"\"\"CREATE TABLE job104api (\n",
    "JOB VARCHAR(500),\n",
    "COMPANY VARCHAR(500),\n",
    "JOB_AREA VARCHAR(500),\n",
    "JOBSKILL VARCHAR(500),\n",
    "PCSKILL_ALL_DESC VARCHAR(500),\n",
    "APPEAR_DATE VARCHAR(500)\n",
    "\n",
    ")\"\"\")\n",
    "conn.commit()"
   ]
  },
  {
   "cell_type": "code",
   "execution_count": 4,
   "metadata": {},
   "outputs": [
    {
     "name": "stdout",
     "output_type": "stream",
     "text": [
      "('軟體工程師 (台北研發處)', '台北市中山區')\n",
      "('軟體工程師 (高雄研發處)', '高雄市鼓山區')\n",
      "('(約聘)系統開發工程師【板橋】', '新北市板橋區')\n",
      "('工業乙太網路產品-軟體研發高級工程師 (18000N)', '新北市新店區')\n",
      "('資料庫工程師', '新北市中和區')\n",
      "('.net軟體工程師/電商網站開發工程師', '新北市泰山區')\n",
      "('軟體工程師/Software Engineer', '台北市中山區')\n",
      "('Q0250-機器學習研發工程師', '新竹市')\n",
      "('W0300-系統開發工程師', '新竹市')\n",
      "('M10110-軟體工程師', '新竹市')\n",
      "('W0321-資訊工程師', '新竹市')\n",
      "('JAVA軟體工程師', '菲律賓')\n",
      "('技術支援工程師', '菲律賓')\n",
      "('AS技術支援工程師', '菲律賓')\n",
      "('運維工程師', '台北市內湖區')\n",
      "('生產支持工程師', '菲律賓')\n",
      "('網頁開發工程師', '菲律賓')\n",
      "('Web Developer 資深網站系統設計工程師', '台北市中正區')\n",
      "('算法工程師', '台北市中正區')\n",
      "('資料工程師', '台北市中正區')\n",
      "('兼-資料工程師(實習生計劃)', '台北市中正區')\n",
      "('Android APP工程師', '嘉義市')\n",
      "('【2018年度研發替代役】Python (DevOps)工程師', '新北市新店區')\n",
      "('助理應用程式資安工程師', '台北市內湖區')\n",
      "('前端工程師', '高雄市前鎮區')\n",
      "('資深後端軟體工程師 Senior Back-End Engineer', '台北市南港區')\n",
      "('資深軟體測試工程師 Senior Test Engineer', '台北市南港區')\n",
      "('T502-開發工程師', '台北市中山區')\n",
      "('前端工程師', '新北市新店區')\n",
      "('Android 軟體工程師', '新北市三重區')\n",
      "('Java 開發工程師', '高雄市三民區')\n"
     ]
    }
   ],
   "source": [
    "#cur.execute('Truncate job104api')\n",
    "#cur.execute('Drop Table job104api')\n",
    "cur.execute('USE 104JOB')\n",
    "cur.execute('Select JOB,JOB_AREA from job104api where JOB like \"%工程師%\"')\n",
    "for row in cur:\n",
    "    print(row)"
   ]
  },
  {
   "cell_type": "code",
   "execution_count": 3,
   "metadata": {},
   "outputs": [
    {
     "data": {
      "text/plain": [
       "2684"
      ]
     },
     "execution_count": 3,
     "metadata": {},
     "output_type": "execute_result"
    }
   ],
   "source": [
    "cur.execute('Select * from job104api where JOB like \"%工程師%\"')"
   ]
  }
 ],
 "metadata": {
  "kernelspec": {
   "display_name": "Python 3",
   "language": "python",
   "name": "python3"
  },
  "language_info": {
   "codemirror_mode": {
    "name": "ipython",
    "version": 3
   },
   "file_extension": ".py",
   "mimetype": "text/x-python",
   "name": "python",
   "nbconvert_exporter": "python",
   "pygments_lexer": "ipython3",
   "version": "3.6.1"
  }
 },
 "nbformat": 4,
 "nbformat_minor": 2
}
